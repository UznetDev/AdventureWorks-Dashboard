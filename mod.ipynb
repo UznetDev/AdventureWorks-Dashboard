{
 "cells": [
  {
   "cell_type": "code",
   "execution_count": null,
   "metadata": {},
   "outputs": [],
   "source": [
    "import pandas as pd\n",
    "from sqlalchemy import create_engine\n",
    "\n",
    "user = 'project'\n",
    "password = 'myproject'\n",
    "host = 'localhost'\n",
    "database = 'stat-uz'\n",
    "\n",
    "engine = create_engine(f\"mysql+mysqlconnector://{user}:{password}@{host}/{database}\")\n",
    "\n",
    "csv_file_path = 'main_df.csv'\n",
    "df = pd.read_csv(csv_file_path)\n",
    "\n",
    "df.to_sql('uz-data', con=engine, if_exists='replace', index=False)"
   ]
  },
  {
   "cell_type": "code",
   "execution_count": 3,
   "metadata": {},
   "outputs": [
    {
     "ename": "ModuleNotFoundError",
     "evalue": "No module named 'pandas'",
     "output_type": "error",
     "traceback": [
      "\u001b[0;31m---------------------------------------------------------------------------\u001b[0m",
      "\u001b[0;31mModuleNotFoundError\u001b[0m                       Traceback (most recent call last)",
      "Cell \u001b[0;32mIn[3], line 2\u001b[0m\n\u001b[1;32m      1\u001b[0m \u001b[38;5;28;01mimport\u001b[39;00m \u001b[38;5;21;01mos\u001b[39;00m\n\u001b[0;32m----> 2\u001b[0m \u001b[38;5;28;01mimport\u001b[39;00m \u001b[38;5;21;01mpandas\u001b[39;00m \u001b[38;5;28;01mas\u001b[39;00m \u001b[38;5;21;01mpd\u001b[39;00m\n\u001b[1;32m      3\u001b[0m \u001b[38;5;28;01mimport\u001b[39;00m \u001b[38;5;21;01mmysql\u001b[39;00m\u001b[38;5;21;01m.\u001b[39;00m\u001b[38;5;21;01mconnector\u001b[39;00m\n\u001b[1;32m      4\u001b[0m \u001b[38;5;28;01mfrom\u001b[39;00m \u001b[38;5;21;01msqlalchemy\u001b[39;00m \u001b[38;5;28;01mimport\u001b[39;00m create_engine\n",
      "\u001b[0;31mModuleNotFoundError\u001b[0m: No module named 'pandas'"
     ]
    }
   ],
   "source": [
    "import os\n",
    "import pandas as pd\n",
    "import mysql.connector\n",
    "from sqlalchemy import create_engine\n",
    "\n",
    "# MySQLga ulanish uchun sozlamalar\n",
    "def mysql_ulanis(db_host, db_user, db_password, db_name):\n",
    "    try:\n",
    "        # SQLAlchemy motorini yaratish\n",
    "        engine = create_engine(f\"mysql+mysqlconnector://{db_user}:{db_password}@{db_host}/{db_name}\")\n",
    "        return engine\n",
    "    except Exception as e:\n",
    "        print(f\"MySQL ulanishida xatolik: {e}\")\n",
    "        return None\n",
    "\n",
    "# CSV fayllarni o'qish va ularni MySQL ga kiritish\n",
    "def csvdan_mysqlga(folder_path, engine):\n",
    "    try:\n",
    "        # Papkadagi barcha fayllarni olish\n",
    "        fayllar = os.listdir(folder_path)\n",
    "        # Faqat .csv fayllarni tanlab olish\n",
    "        csv_fayllar = [fayl for fayl in fayllar if fayl.endswith('.csv')]\n",
    "        \n",
    "        for fayl in csv_fayllar:\n",
    "            file_path = os.path.join(folder_path, fayl)\n",
    "            # Fayl nomidan jadval nomini olish (\".csv\" qismini olib tashlash)\n",
    "            table_name = os.path.splitext(fayl)[0]\n",
    "            \n",
    "            # CSV faylni Pandas yordamida o'qish\n",
    "            df = pd.read_csv(file_path)\n",
    "            \n",
    "            # Jadvalni MySQL ga yozish\n",
    "            df.to_sql(name=table_name, con=engine, if_exists='replace', index=False)\n",
    "            print(f\"Fayl '{fayl}' jadvalga '{table_name}' nomi bilan saqlandi.\")\n",
    "    except Exception as e:\n",
    "        print(f\"Xatolik: {e}\")\n",
    "\n",
    "# Foydalanish\n",
    "if __name__ == \"__main__\":\n",
    "    folder_path = '/home/uznetdev/Desktop/project/AdventureWorks Dashboard/sql-server-samples-master/samples/databases/adventure-works/data-warehouse-install-script'\n",
    "    \n",
    "    # MySQL ulanish sozlamalari\n",
    "    db_host = 'localhost'        # Yoki server IP manzili\n",
    "    db_user = 'project'             # MySQL foydalanuvchi nomi\n",
    "    db_password = 'myproject'        # MySQL paroli\n",
    "    db_name = 'adventure-works'    # MySQL database nomi\n",
    "\n",
    "    engine = mysql_ulanis(db_host, db_user, db_password, db_name)\n",
    "    \n",
    "    if engine:\n",
    "        csvdan_mysqlga(folder_path, engine)\n"
   ]
  }
 ],
 "metadata": {
  "kernelspec": {
   "display_name": "env",
   "language": "python",
   "name": "python3"
  },
  "language_info": {
   "codemirror_mode": {
    "name": "ipython",
    "version": 3
   },
   "file_extension": ".py",
   "mimetype": "text/x-python",
   "name": "python",
   "nbconvert_exporter": "python",
   "pygments_lexer": "ipython3",
   "version": "3.10.12"
  }
 },
 "nbformat": 4,
 "nbformat_minor": 2
}
