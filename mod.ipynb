{
 "cells": [
  {
   "cell_type": "code",
   "execution_count": null,
   "metadata": {},
   "outputs": [],
   "source": [
    "import pandas as pd\n",
    "from sqlalchemy import create_engine\n",
    "\n",
    "user = 'project'\n",
    "password = 'myproject'\n",
    "host = 'localhost'\n",
    "database = 'stat-uz'\n",
    "\n",
    "engine = create_engine(f\"mysql+mysqlconnector://{user}:{password}@{host}/{database}\")\n",
    "\n",
    "csv_file_path = 'main_df.csv'\n",
    "df = pd.read_csv(csv_file_path)\n",
    "\n",
    "df.to_sql('uz-data', con=engine, if_exists='replace', index=False)"
   ]
  }
 ],
 "metadata": {
  "language_info": {
   "name": "python"
  }
 },
 "nbformat": 4,
 "nbformat_minor": 2
}
