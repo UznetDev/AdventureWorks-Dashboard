{
    "metadata": {
        "kernelspec": {
            "name": "SQL",
            "display_name": "SQL",
            "language": "sql"
        },
        "language_info": {
            "name": "sql",
            "version": ""
        }
    },
    "nbformat_minor": 2,
    "nbformat": 4,
    "cells": [
        {
            "cell_type": "markdown",
            "source": [
                "# Accelerated Database Recovery - Speed up Recovery\r\n",
                "In this example you will learn how Accelerated Database Recovery will speed up recovery\r\n",
                "\r\n",
                ""
            ],
            "metadata": {
                "azdata_cell_guid": "f712b665-b4bc-49df-9767-cf67a3ffa193"
            }
        },
        {
            "cell_type": "markdown",
            "source": [
                "## Step 1: Setup the database\r\n",
                "This demo uses the WideWorldImportersDW database. You can get the WideWorldImportersDW-Full.bak database backup file from https://github.com/Microsoft/sql-server-samples/releases/tag/wide-world-importers-v1.0.\r\n",
                "\r\n",
                "The log file is enlarged to 4GB to avoid any autogrow.\r\n",
                "\r\n",
                "The database assumes a path for a standard SQL Server Windows installation. \r\n",
                "\r\n",
                "Depending on the speed of your server, enlarging the database and data could take several minutes.\r\n",
                "\r\n",
                "**Note**: *For Linux installations the default path to use is /var/opt/mssql*"
            ],
            "metadata": {
                "azdata_cell_guid": "897fd54d-e5ce-43da-b2eb-dad84d6bcfec"
            }
        },
        {
            "cell_type": "code",
            "source": [
                "USE [master]\r\n",
                "GO\r\n",
                "IF EXISTS (SELECT [database_id] FROM sys.databases WHERE [name] = 'WideWorldImportersDW')\r\n",
                "ALTER DATABASE [WideWorldImportersDW] SET SINGLE_USER WITH ROLLBACK IMMEDIATE\r\n",
                "GO\r\n",
                "\r\n",
                "DECLARE @datafilepath VARCHAR(8000) = CAST(SERVERPROPERTY('InstanceDefaultDataPath') AS VARCHAR(4000)) + 'WideWorldImportersDW.mdf'\r\n",
                "DECLARE @logfilepath VARCHAR(8000) = CAST(SERVERPROPERTY('InstanceDefaultLogPath') AS VARCHAR(4000)) + 'WideWorldImportersDW.ldf'\r\n",
                "DECLARE @inmemfilepath VARCHAR(8000) = CAST(SERVERPROPERTY('InstanceDefaultDataPath') AS VARCHAR(4000)) + 'WideWorldImportersDW_InMemory_Data_1'\r\n",
                "DECLARE @secondaryfilepath VARCHAR(8000) = CAST(SERVERPROPERTY('InstanceDefaultDataPath') AS VARCHAR(4000))+ 'WideWorldImportersDW_2.ndf'\r\n",
                "\r\n",
                "-- Change @backupfile file path as needed\r\n",
                "DECLARE @backupfile VARCHAR(8000) = 'E:\\SampleDBs\\WideWorldImportersDW-Full.bak'\r\n",
                "RESTORE DATABASE WideWorldImportersDW\r\n",
                "FROM DISK = @backupfile \r\n",
                "WITH MOVE 'WWI_Primary' TO @datafilepath,\r\n",
                "    MOVE 'WWI_UserData' TO @secondaryfilepath,\r\n",
                "    MOVE 'WWIDW_InMemory_Data_1' TO @inmemfilepath,\r\n",
                "    MOVE 'WWI_Log' TO @logfilepath, NOUNLOAD, REPLACE, STATS = 10\r\n",
                "GO\r\n",
                "\r\n",
                "USE [master]\r\n",
                "GO\r\n",
                "ALTER DATABASE [WideWorldImportersDW] MODIFY FILE ( NAME = N'WWI_Log', SIZE = 4GB )\r\n",
                "GO"
            ],
            "metadata": {
                "azdata_cell_guid": "b8c90418-a023-4f14-82d1-45abb5c01000"
            },
            "outputs": [
                {
                    "output_type": "display_data",
                    "data": {
                        "text/html": "Commands completed successfully."
                    },
                    "metadata": {}
                },
                {
                    "output_type": "display_data",
                    "data": {
                        "text/html": "Nonqualified transactions are being rolled back. Estimated rollback completion: 0%."
                    },
                    "metadata": {}
                },
                {
                    "output_type": "display_data",
                    "data": {
                        "text/html": "Nonqualified transactions are being rolled back. Estimated rollback completion: 100%."
                    },
                    "metadata": {}
                },
                {
                    "output_type": "display_data",
                    "data": {
                        "text/html": "10 percent processed."
                    },
                    "metadata": {}
                },
                {
                    "output_type": "display_data",
                    "data": {
                        "text/html": "Processed 1192 pages for database 'WideWorldImportersDW', file 'WWI_Primary' on file 1."
                    },
                    "metadata": {}
                },
                {
                    "output_type": "display_data",
                    "data": {
                        "text/html": "Processed 28184 pages for database 'WideWorldImportersDW', file 'WWI_UserData' on file 1."
                    },
                    "metadata": {}
                },
                {
                    "output_type": "display_data",
                    "data": {
                        "text/html": "Processed 26 pages for database 'WideWorldImportersDW', file 'WWI_Log' on file 1."
                    },
                    "metadata": {}
                },
                {
                    "output_type": "display_data",
                    "data": {
                        "text/html": "Processed 24 pages for database 'WideWorldImportersDW', file 'WWIDW_InMemory_Data_1' on file 1."
                    },
                    "metadata": {}
                },
                {
                    "output_type": "display_data",
                    "data": {
                        "text/html": "Converting database 'WideWorldImportersDW' from version 852 to the current version 904."
                    },
                    "metadata": {}
                },
                {
                    "output_type": "display_data",
                    "data": {
                        "text/html": "Database 'WideWorldImportersDW' running the upgrade step from version 852 to version 853."
                    },
                    "metadata": {}
                },
                {
                    "output_type": "display_data",
                    "data": {
                        "text/html": "Database 'WideWorldImportersDW' running the upgrade step from version 853 to version 854."
                    },
                    "metadata": {}
                },
                {
                    "output_type": "display_data",
                    "data": {
                        "text/html": "Database 'WideWorldImportersDW' running the upgrade step from version 854 to version 855."
                    },
                    "metadata": {}
                },
                {
                    "output_type": "display_data",
                    "data": {
                        "text/html": "Database 'WideWorldImportersDW' running the upgrade step from version 855 to version 856."
                    },
                    "metadata": {}
                },
                {
                    "output_type": "display_data",
                    "data": {
                        "text/html": "Database 'WideWorldImportersDW' running the upgrade step from version 856 to version 857."
                    },
                    "metadata": {}
                },
                {
                    "output_type": "display_data",
                    "data": {
                        "text/html": "Database 'WideWorldImportersDW' running the upgrade step from version 857 to version 858."
                    },
                    "metadata": {}
                },
                {
                    "output_type": "display_data",
                    "data": {
                        "text/html": "Database 'WideWorldImportersDW' running the upgrade step from version 858 to version 859."
                    },
                    "metadata": {}
                },
                {
                    "output_type": "display_data",
                    "data": {
                        "text/html": "Database 'WideWorldImportersDW' running the upgrade step from version 859 to version 860."
                    },
                    "metadata": {}
                },
                {
                    "output_type": "display_data",
                    "data": {
                        "text/html": "Database 'WideWorldImportersDW' running the upgrade step from version 860 to version 861."
                    },
                    "metadata": {}
                },
                {
                    "output_type": "display_data",
                    "data": {
                        "text/html": "Database 'WideWorldImportersDW' running the upgrade step from version 861 to version 862."
                    },
                    "metadata": {}
                },
                {
                    "output_type": "display_data",
                    "data": {
                        "text/html": "Database 'WideWorldImportersDW' running the upgrade step from version 862 to version 863."
                    },
                    "metadata": {}
                },
                {
                    "output_type": "display_data",
                    "data": {
                        "text/html": "Database 'WideWorldImportersDW' running the upgrade step from version 863 to version 864."
                    },
                    "metadata": {}
                },
                {
                    "output_type": "display_data",
                    "data": {
                        "text/html": "Database 'WideWorldImportersDW' running the upgrade step from version 864 to version 865."
                    },
                    "metadata": {}
                },
                {
                    "output_type": "display_data",
                    "data": {
                        "text/html": "Database 'WideWorldImportersDW' running the upgrade step from version 865 to version 866."
                    },
                    "metadata": {}
                },
                {
                    "output_type": "display_data",
                    "data": {
                        "text/html": "Database 'WideWorldImportersDW' running the upgrade step from version 866 to version 867."
                    },
                    "metadata": {}
                },
                {
                    "output_type": "display_data",
                    "data": {
                        "text/html": "Database 'WideWorldImportersDW' running the upgrade step from version 867 to version 868."
                    },
                    "metadata": {}
                },
                {
                    "output_type": "display_data",
                    "data": {
                        "text/html": "Database 'WideWorldImportersDW' running the upgrade step from version 868 to version 869."
                    },
                    "metadata": {}
                },
                {
                    "output_type": "display_data",
                    "data": {
                        "text/html": "Database 'WideWorldImportersDW' running the upgrade step from version 869 to version 875."
                    },
                    "metadata": {}
                },
                {
                    "output_type": "display_data",
                    "data": {
                        "text/html": "Database 'WideWorldImportersDW' running the upgrade step from version 875 to version 876."
                    },
                    "metadata": {}
                },
                {
                    "output_type": "display_data",
                    "data": {
                        "text/html": "Database 'WideWorldImportersDW' running the upgrade step from version 876 to version 877."
                    },
                    "metadata": {}
                },
                {
                    "output_type": "display_data",
                    "data": {
                        "text/html": "Database 'WideWorldImportersDW' running the upgrade step from version 877 to version 878."
                    },
                    "metadata": {}
                },
                {
                    "output_type": "display_data",
                    "data": {
                        "text/html": "Database 'WideWorldImportersDW' running the upgrade step from version 878 to version 879."
                    },
                    "metadata": {}
                },
                {
                    "output_type": "display_data",
                    "data": {
                        "text/html": "Database 'WideWorldImportersDW' running the upgrade step from version 879 to version 880."
                    },
                    "metadata": {}
                },
                {
                    "output_type": "display_data",
                    "data": {
                        "text/html": "Database 'WideWorldImportersDW' running the upgrade step from version 880 to version 881."
                    },
                    "metadata": {}
                },
                {
                    "output_type": "display_data",
                    "data": {
                        "text/html": "Database 'WideWorldImportersDW' running the upgrade step from version 881 to version 882."
                    },
                    "metadata": {}
                },
                {
                    "output_type": "display_data",
                    "data": {
                        "text/html": "Database 'WideWorldImportersDW' running the upgrade step from version 882 to version 883."
                    },
                    "metadata": {}
                },
                {
                    "output_type": "display_data",
                    "data": {
                        "text/html": "Database 'WideWorldImportersDW' running the upgrade step from version 883 to version 884."
                    },
                    "metadata": {}
                },
                {
                    "output_type": "display_data",
                    "data": {
                        "text/html": "Database 'WideWorldImportersDW' running the upgrade step from version 884 to version 885."
                    },
                    "metadata": {}
                },
                {
                    "output_type": "display_data",
                    "data": {
                        "text/html": "Database 'WideWorldImportersDW' running the upgrade step from version 885 to version 886."
                    },
                    "metadata": {}
                },
                {
                    "output_type": "display_data",
                    "data": {
                        "text/html": "Database 'WideWorldImportersDW' running the upgrade step from version 886 to version 887."
                    },
                    "metadata": {}
                },
                {
                    "output_type": "display_data",
                    "data": {
                        "text/html": "Database 'WideWorldImportersDW' running the upgrade step from version 887 to version 888."
                    },
                    "metadata": {}
                },
                {
                    "output_type": "display_data",
                    "data": {
                        "text/html": "Database 'WideWorldImportersDW' running the upgrade step from version 888 to version 889."
                    },
                    "metadata": {}
                },
                {
                    "output_type": "display_data",
                    "data": {
                        "text/html": "Database 'WideWorldImportersDW' running the upgrade step from version 889 to version 890."
                    },
                    "metadata": {}
                },
                {
                    "output_type": "display_data",
                    "data": {
                        "text/html": "Database 'WideWorldImportersDW' running the upgrade step from version 890 to version 891."
                    },
                    "metadata": {}
                },
                {
                    "output_type": "display_data",
                    "data": {
                        "text/html": "Database 'WideWorldImportersDW' running the upgrade step from version 891 to version 892."
                    },
                    "metadata": {}
                },
                {
                    "output_type": "display_data",
                    "data": {
                        "text/html": "Database 'WideWorldImportersDW' running the upgrade step from version 892 to version 893."
                    },
                    "metadata": {}
                },
                {
                    "output_type": "display_data",
                    "data": {
                        "text/html": "Database 'WideWorldImportersDW' running the upgrade step from version 893 to version 894."
                    },
                    "metadata": {}
                },
                {
                    "output_type": "display_data",
                    "data": {
                        "text/html": "Database 'WideWorldImportersDW' running the upgrade step from version 894 to version 895."
                    },
                    "metadata": {}
                },
                {
                    "output_type": "display_data",
                    "data": {
                        "text/html": "Database 'WideWorldImportersDW' running the upgrade step from version 895 to version 896."
                    },
                    "metadata": {}
                },
                {
                    "output_type": "display_data",
                    "data": {
                        "text/html": "Database 'WideWorldImportersDW' running the upgrade step from version 896 to version 897."
                    },
                    "metadata": {}
                },
                {
                    "output_type": "display_data",
                    "data": {
                        "text/html": "Database 'WideWorldImportersDW' running the upgrade step from version 897 to version 898."
                    },
                    "metadata": {}
                },
                {
                    "output_type": "display_data",
                    "data": {
                        "text/html": "Database 'WideWorldImportersDW' running the upgrade step from version 898 to version 899."
                    },
                    "metadata": {}
                },
                {
                    "output_type": "display_data",
                    "data": {
                        "text/html": "Database 'WideWorldImportersDW' running the upgrade step from version 899 to version 900."
                    },
                    "metadata": {}
                },
                {
                    "output_type": "display_data",
                    "data": {
                        "text/html": "Database 'WideWorldImportersDW' running the upgrade step from version 900 to version 901."
                    },
                    "metadata": {}
                },
                {
                    "output_type": "display_data",
                    "data": {
                        "text/html": "Database 'WideWorldImportersDW' running the upgrade step from version 901 to version 902."
                    },
                    "metadata": {}
                },
                {
                    "output_type": "display_data",
                    "data": {
                        "text/html": "Database 'WideWorldImportersDW' running the upgrade step from version 902 to version 903."
                    },
                    "metadata": {}
                },
                {
                    "output_type": "display_data",
                    "data": {
                        "text/html": "Database 'WideWorldImportersDW' running the upgrade step from version 903 to version 904."
                    },
                    "metadata": {}
                },
                {
                    "output_type": "display_data",
                    "data": {
                        "text/html": "100 percent processed."
                    },
                    "metadata": {}
                },
                {
                    "output_type": "display_data",
                    "data": {
                        "text/html": "RESTORE DATABASE successfully processed 29426 pages in 4.707 seconds (48.839 MB/sec)."
                    },
                    "metadata": {}
                },
                {
                    "output_type": "display_data",
                    "data": {
                        "text/html": "Commands completed successfully."
                    },
                    "metadata": {}
                },
                {
                    "output_type": "display_data",
                    "data": {
                        "text/html": "Commands completed successfully."
                    },
                    "metadata": {}
                },
                {
                    "output_type": "display_data",
                    "data": {
                        "text/html": "Total execution time: 00:01:18.619"
                    },
                    "metadata": {}
                }
            ],
            "execution_count": 6
        },
        {
            "cell_type": "markdown",
            "source": [
                "## Step 2: Create the table\r\n",
                "Create a table with 1.8 million rows so that when we delete them all recovery will take a long time"
            ],
            "metadata": {
                "azdata_cell_guid": "aa98f08d-1f89-494e-839c-2a7941825605"
            }
        },
        {
            "cell_type": "code",
            "source": [
                "IF DB_NAME() != 'WideWorldImportersDW' \r\n",
                "USE WideWorldImportersDW\r\n",
                "SET NOCOUNT ON\r\n",
                "GO\r\n",
                "\r\n",
                "IF EXISTS (SELECT [object_id] FROM sys.objects (NOLOCK) WHERE [object_id] = OBJECT_ID(N'[Fact].[OrderHistory]') AND [type] IN (N'U'))\r\n",
                "DROP TABLE [Fact].[OrderHistory];\r\n",
                "GO\r\n",
                "\r\n",
                "IF NOT EXISTS (SELECT [object_id] FROM sys.objects (NOLOCK) WHERE [object_id] = OBJECT_ID(N'[Fact].[OrderHistory]') AND [type] IN (N'U'))\r\n",
                "BEGIN\r\n",
                "    SELECT [Order Key], [City Key], [Customer Key], [Stock Item Key], [Order Date Key], [Picked Date Key], [Salesperson Key], [Picker Key], [WWI Order ID], [WWI Backorder ID], [Description], Package, Quantity, [Unit Price], [Tax Rate], [Total Excluding Tax], [Tax Amount], [Total Including Tax], [Lineage Key]\r\n",
                "    INTO [Fact].[OrderHistory]\r\n",
                "    FROM [Fact].[Order];\r\n",
                "END;\r\n",
                "\r\n",
                "ALTER TABLE [Fact].[OrderHistory]\r\n",
                "ADD CONSTRAINT PK_Fact_OrderHistory PRIMARY KEY CLUSTERED([Order Key] ASC, [Order Date Key] ASC) WITH (DATA_COMPRESSION = PAGE);\r\n",
                "GO\r\n",
                "\r\n",
                "-- Enlarge Table\r\n",
                "IF (SELECT COUNT(*) FROM [Fact].[OrderHistory]) < 1851296\r\n",
                "BEGIN\r\n",
                "\tDECLARE @i smallint\r\n",
                "\tSET @i = 0\r\n",
                "\tWHILE @i < 3\r\n",
                "\tBEGIN\r\n",
                "\t\tINSERT INTO [Fact].[OrderHistory] ([City Key], [Customer Key], [Stock Item Key], [Order Date Key], [Picked Date Key], [Salesperson Key], [Picker Key], [WWI Order ID], [WWI Backorder ID], Description, Package, Quantity, [Unit Price], [Tax Rate], [Total Excluding Tax], [Tax Amount], [Total Including Tax], [Lineage Key])\r\n",
                "\t\tSELECT [City Key], [Customer Key], [Stock Item Key], [Order Date Key], [Picked Date Key], [Salesperson Key], [Picker Key], [WWI Order ID], [WWI Backorder ID], Description, Package, Quantity, [Unit Price], [Tax Rate], [Total Excluding Tax], [Tax Amount], [Total Including Tax], [Lineage Key]\r\n",
                "\t\tFROM [Fact].[OrderHistory];\r\n",
                "\r\n",
                "\t\tSET @i = @i +1\r\n",
                "\tEND;\r\n",
                "END\r\n",
                "GO"
            ],
            "metadata": {
                "azdata_cell_guid": "21bed16c-702b-4449-8e58-d7a787c54457"
            },
            "outputs": [
                {
                    "output_type": "display_data",
                    "data": {
                        "text/html": "Commands completed successfully."
                    },
                    "metadata": {}
                },
                {
                    "output_type": "display_data",
                    "data": {
                        "text/html": "Commands completed successfully."
                    },
                    "metadata": {}
                },
                {
                    "output_type": "display_data",
                    "data": {
                        "text/html": "Commands completed successfully."
                    },
                    "metadata": {}
                },
                {
                    "output_type": "display_data",
                    "data": {
                        "text/html": "Commands completed successfully."
                    },
                    "metadata": {}
                },
                {
                    "output_type": "display_data",
                    "data": {
                        "text/html": "Total execution time: 00:00:39.966"
                    },
                    "metadata": {}
                }
            ],
            "execution_count": 7
        },
        {
            "cell_type": "markdown",
            "source": [
                "## Step 3: Delete all the rows in the table\r\n",
                "Delete all the rows in the table in a user defined transaction"
            ],
            "metadata": {
                "azdata_cell_guid": "97da6f29-b0bb-447b-9405-4080a1b51c99"
            }
        },
        {
            "cell_type": "code",
            "source": [
                "USE master\r\n",
                "GO\r\n",
                "ALTER DATABASE WideWorldImportersDW SET ACCELERATED_DATABASE_RECOVERY = OFF\r\n",
                "GO\r\n",
                "-- Try to delete a bunch of rows\r\n",
                "USE WideWorldImportersDW\r\n",
                "GO\r\n",
                "BEGIN TRAN\r\n",
                "DELETE FROM [Fact].[OrderHistory]\r\n",
                "GO"
            ],
            "metadata": {
                "azdata_cell_guid": "869d259e-37db-4c03-b712-9f60bf171564",
                "tags": []
            },
            "outputs": [
                {
                    "output_type": "display_data",
                    "data": {
                        "text/html": "Commands completed successfully."
                    },
                    "metadata": {}
                },
                {
                    "output_type": "display_data",
                    "data": {
                        "text/html": "Commands completed successfully."
                    },
                    "metadata": {}
                },
                {
                    "output_type": "display_data",
                    "data": {
                        "text/html": "Commands completed successfully."
                    },
                    "metadata": {}
                },
                {
                    "output_type": "display_data",
                    "data": {
                        "text/html": "Commands completed successfully."
                    },
                    "metadata": {}
                },
                {
                    "output_type": "display_data",
                    "data": {
                        "text/html": "Total execution time: 00:00:36.659"
                    },
                    "metadata": {}
                }
            ],
            "execution_count": 8
        },
        {
            "cell_type": "markdown",
            "source": [
                "## Step 4: Checkpoint the database, shutdown SQL Server WITH NOWAIT, and restart it\r\n",
                "Checkpoint will flush any dirty pages but the transaction is not committed. Shutting down the server with NOWAIT will not attempt to roll back active transactions. Therefore, SQL Server has to run undo to rollback this transaction. \r\n",
                "\r\n",
                "Separate from this notebook, use a New Query in Azure Data Studio and run the following commands as a sysadmin. \r\n",
                "\r\n",
                "**Restart SQL Server and then examine the ERRORLOG to see how long recovery takes for the database. SQL Server must fully recover the database before you go to the next step. Because there is so much to recover this could take 5 minutes or more**\r\n",
                "\r\n",
                "```sql\r\n",
                "USE WideWorldImportersDW\r\n",
                "GO\r\n",
                "CHECKPOINT\r\n",
                "GO\r\n",
                "SHUTDOWN WITH NOWAIT\r\n",
                "GO\r\n",
                "```\r\n",
                "\r\n",
                "As seen below, SQL Server took just over 5 minutes to recover the database:\r\n",
                "\r\n",
                "![Recovery](media/Recovery_ADR_Off.PNG)\r\n",
                "\r\n",
                "\r\n",
                ""
            ],
            "metadata": {
                "azdata_cell_guid": "564cca52-d5fa-48ce-afb5-d27e517f647d"
            }
        },
        {
            "cell_type": "markdown",
            "source": [
                "## Step 5: Enable ADR\r\n",
                "The previous DELETE transaction was rolled back and the 1.8M rows are still in the table.\r\n",
                "\r\n",
                "Turn on Accelerated Database Recovery and try to delete the rows again.\r\n",
                "\r\n",
                "**Note**: If you prefer to enable ADR in the existing database file in the PRIMARY filegroup, just execute the last `ALTER DATABASE` without the `( PERSISTENT_VERSION_STORE_FILEGROUP = [PVS])` statement.\r\n",
                "\r\n",
                "You may first see a connection error first since you shutdown SQL Server in the previous step but the cell should retry the connection and run the T-SQL statements."
            ],
            "metadata": {
                "azdata_cell_guid": "fc25898c-0059-4dc2-8c55-6a5d8c499b07"
            }
        },
        {
            "cell_type": "code",
            "source": [
                "USE master\r\n",
                "GO\r\n",
                "-- Add a new filegroup specific for the Persistent Version Store (optional)\r\n",
                "ALTER DATABASE [WideWorldImportersDW] ADD FILEGROUP [PVS]\r\n",
                "GO\r\n",
                "\r\n",
                "DECLARE @adrdatafilepath VARCHAR(8000) = CAST(SERVERPROPERTY('InstanceDefaultDataPath') AS VARCHAR(4000)) + 'ADR.mdf'\r\n",
                "DECLARE @sqlcmd VARCHAR(8000) = 'ALTER DATABASE [WideWorldImportersDW] ADD FILE ( NAME = N''ADR'', FILENAME = ''' + @adrdatafilepath + ''', SIZE = 1GB , FILEGROWTH = 65536KB ) TO FILEGROUP [PVS]'\r\n",
                "EXEC (@sqlcmd)\r\n",
                "GO\r\n",
                "\r\n",
                "-- Enable ADR\r\n",
                "ALTER DATABASE WideWorldImportersDW SET ACCELERATED_DATABASE_RECOVERY = ON ( PERSISTENT_VERSION_STORE_FILEGROUP = [PVS])\r\n",
                "GO"
            ],
            "metadata": {
                "azdata_cell_guid": "62f4b07c-2b8c-4566-83e8-2eb816b02acc"
            },
            "outputs": [
                {
                    "output_type": "display_data",
                    "data": {
                        "text/html": "Commands completed successfully."
                    },
                    "metadata": {}
                },
                {
                    "output_type": "display_data",
                    "data": {
                        "text/html": "Commands completed successfully."
                    },
                    "metadata": {}
                },
                {
                    "output_type": "display_data",
                    "data": {
                        "text/html": "Commands completed successfully."
                    },
                    "metadata": {}
                },
                {
                    "output_type": "display_data",
                    "data": {
                        "text/html": "Commands completed successfully."
                    },
                    "metadata": {}
                },
                {
                    "output_type": "display_data",
                    "data": {
                        "text/html": "Total execution time: 00:00:00.265"
                    },
                    "metadata": {}
                }
            ],
            "execution_count": 8
        },
        {
            "cell_type": "markdown",
            "source": [
                "## Step 6: Repeat test with ADR enabled"
            ],
            "metadata": {
                "azdata_cell_guid": "90fd6925-7203-4db4-8443-9841813ad281"
            }
        },
        {
            "cell_type": "code",
            "source": [
                "-- Try to delete a bunch of rows\r\n",
                "USE WideWorldImportersDW\r\n",
                "GO\r\n",
                "BEGIN TRAN\r\n",
                "DELETE FROM [Fact].[OrderHistory]\r\n",
                "GO"
            ],
            "metadata": {
                "azdata_cell_guid": "2da7e2e4-779f-4c36-af53-196ad2209721"
            },
            "outputs": [
                {
                    "output_type": "display_data",
                    "data": {
                        "text/html": "Commands completed successfully."
                    },
                    "metadata": {}
                },
                {
                    "output_type": "display_data",
                    "data": {
                        "text/html": "Commands completed successfully."
                    },
                    "metadata": {}
                },
                {
                    "output_type": "display_data",
                    "data": {
                        "text/html": "Total execution time: 00:00:29.762"
                    },
                    "metadata": {}
                }
            ],
            "execution_count": 9
        },
        {
            "cell_type": "markdown",
            "source": [
                "## Step 7:  Checkpoint the database, shutdown SQL Server WITH NOWAIT, and restart it with Accelerated Database Recovery\r\n",
                "Checkpoint will flush any dirty pages but the transaction is not committed. Shutting down the server with NOWAIT will not attempt to roll back active transactions. Therefore, SQL Server has to run undo to rollback this transaction. \r\n",
                "\r\n",
                "Separate from this notebook, use a New Query in Azure Data Studio and run the following commands as a sysadmin. Then restart SQL Server to examine the ERRORLOG to see how recovery takes for the database. You should see that recovery is significantly faster than before.\r\n",
                "\r\n",
                "```sql\r\n",
                "USE WideWorldImportersDW\r\n",
                "GO\r\n",
                "CHECKPOINT\r\n",
                "GO\r\n",
                "SHUTDOWN WITH NOWAIT\r\n",
                "GO\r\n",
                "```\r\n",
                "\r\n",
                "As seen below, with ADR it only took approximately 56 seconds to recover the database:\r\n",
                "\r\n",
                "![Recovery](./media/Recovery_ADR_On.PNG)"
            ],
            "metadata": {
                "azdata_cell_guid": "a2379b03-4a43-42ee-8fb9-2942f6a44fdd"
            }
        }
    ]
}