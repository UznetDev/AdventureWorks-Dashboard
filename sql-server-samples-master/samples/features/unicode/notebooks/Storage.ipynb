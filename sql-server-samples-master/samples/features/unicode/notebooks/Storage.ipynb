{
    "metadata": {
        "kernelspec": {
            "name": "SQL",
            "display_name": "SQL",
            "language": "sql"
        },
        "language_info": {
            "name": "sql",
            "version": ""
        }
    },
    "nbformat_minor": 2,
    "nbformat": 4,
    "cells": [
        {
            "cell_type": "markdown",
            "source": [
                "# Storage savings in UTF-8 vs UTF-16"
            ],
            "metadata": {
                "azdata_cell_guid": "6985fbba-bfd4-4c73-a6d2-3d770e20f026"
            }
        },
        {
            "cell_type": "code",
            "source": [
                "USE master;\r\n",
                "DROP DATABASE IF EXISTS LatinDatabase;\r\n",
                "CREATE DATABASE LatinDatabase COLLATE LATIN1_GENERAL_100_CI_AS_SC_UTF8\r\n",
                "GO\r\n",
                "\r\n",
                "USE LatinDatabase\r\n",
                "GO\r\n",
                "DROP TABLE IF EXISTS MyTable;\r\n",
                "CREATE TABLE MyTable (c1 NCHAR(10), c2 CHAR(10))\r\n",
                "GO\r\n",
                "\r\n",
                "INSERT INTO MyTable (c1, c2)\r\n",
                "VALUES ('UTF16','UTF8')\r\n",
                "GO\r\n",
                "\r\n",
                "SELECT DATALENGTH(c1) AS [UTF16_Col], DATALENGTH(c2) AS [UTF8_Col]\r\n",
                "FROM MyTable\r\n",
                "GO"
            ],
            "metadata": {
                "azdata_cell_guid": "df38ca2e-ab76-4a50-80a0-77e6c9eb3dbf"
            },
            "outputs": [
                {
                    "output_type": "display_data",
                    "data": {
                        "text/html": "Commands completed successfully."
                    },
                    "metadata": {}
                },
                {
                    "output_type": "display_data",
                    "data": {
                        "text/html": "Commands completed successfully."
                    },
                    "metadata": {}
                },
                {
                    "output_type": "display_data",
                    "data": {
                        "text/html": "Commands completed successfully."
                    },
                    "metadata": {}
                },
                {
                    "output_type": "display_data",
                    "data": {
                        "text/html": "(1 row affected)"
                    },
                    "metadata": {}
                },
                {
                    "output_type": "display_data",
                    "data": {
                        "text/html": "(1 row affected)"
                    },
                    "metadata": {}
                },
                {
                    "output_type": "display_data",
                    "data": {
                        "text/html": "Total execution time: 00:00:00.397"
                    },
                    "metadata": {}
                },
                {
                    "output_type": "execute_result",
                    "metadata": {},
                    "execution_count": 1,
                    "data": {
                        "application/vnd.dataresource+json": {
                            "schema": {
                                "fields": [
                                    {
                                        "name": "UTF16_Col"
                                    },
                                    {
                                        "name": "UTF8_Col"
                                    }
                                ]
                            },
                            "data": [
                                {
                                    "0": "20",
                                    "1": "10"
                                }
                            ]
                        },
                        "text/html": "<table><tr><th>UTF16_Col</th><th>UTF8_Col</th></tr><tr><td>20</td><td>10</td></tr></table>"
                    }
                }
            ],
            "execution_count": 1
        },
        {
            "cell_type": "markdown",
            "source": [
                "## Insert 1M Rows Latin\r\n",
                "\r\n",
                "Setup tables"
            ],
            "metadata": {
                "azdata_cell_guid": "d66ceb2f-f5c5-4f6e-a1aa-099a95b88b65"
            }
        },
        {
            "cell_type": "code",
            "source": [
                "USE LatinDatabase\r\n",
                "GO\r\n",
                "DROP TABLE IF EXISTS dbo.Inserts_UTF16\r\n",
                "CREATE TABLE dbo.Inserts_UTF16(\r\n",
                "    ID int IDENTITY(1,1) NOT NULL PRIMARY KEY\r\n",
                "    , col1 NVARCHAR(50) NOT NULL)\r\n",
                "GO\r\n",
                "DROP TABLE IF EXISTS dbo.Inserts_UTF8\r\n",
                "CREATE TABLE dbo.Inserts_UTF8(\r\n",
                "    ID int IDENTITY(1,1) NOT NULL PRIMARY KEY\r\n",
                "    , col1 VARCHAR(50) NOT NULL)\r\n",
                "GO"
            ],
            "metadata": {
                "azdata_cell_guid": "47a77032-21b0-49ae-96f4-f8a39ee94ed1"
            },
            "outputs": [
                {
                    "output_type": "display_data",
                    "data": {
                        "text/html": "Commands completed successfully."
                    },
                    "metadata": {}
                },
                {
                    "output_type": "display_data",
                    "data": {
                        "text/html": "Commands completed successfully."
                    },
                    "metadata": {}
                },
                {
                    "output_type": "display_data",
                    "data": {
                        "text/html": "Commands completed successfully."
                    },
                    "metadata": {}
                },
                {
                    "output_type": "display_data",
                    "data": {
                        "text/html": "Total execution time: 00:00:00.047"
                    },
                    "metadata": {}
                }
            ],
            "execution_count": 2
        },
        {
            "cell_type": "markdown",
            "source": [
                "Insert same data set to all tables"
            ],
            "metadata": {
                "azdata_cell_guid": "ae91f4f5-55a0-49eb-ba9e-fe48ddbec3b0"
            }
        },
        {
            "cell_type": "code",
            "source": [
                "-- UTF16\r\n",
                "SET NOCOUNT ON;\r\n",
                "BEGIN TRAN\r\n",
                "DECLARE @i int = 1\r\n",
                "WHILE @i < 1000000\r\n",
                "BEGIN\r\n",
                "    INSERT INTO dbo.Inserts_UTF16 (col1) \r\n",
                "\tSELECT REPLICATE(CONCAT(\r\n",
                "\t  CHAR(FLOOR(65 + (RAND() * 25))),\r\n",
                "\t  CHAR(FLOOR(65 + (RAND() * 25))),\r\n",
                "\t  CHAR(FLOOR(65 + (RAND() * 25))),\r\n",
                "\t  CHAR(FLOOR(65 + (RAND() * 25))),\r\n",
                "\t  CHAR(FLOOR(65 + (RAND() * 25))),\r\n",
                "\t  CHAR(FLOOR(65 + (RAND() * 25))),\r\n",
                "\t  CHAR(FLOOR(65 + (RAND() * 25))),\r\n",
                "\t  CHAR(FLOOR(65 + (RAND() * 25))),\r\n",
                "\t  CHAR(FLOOR(65 + (RAND() * 25))),\r\n",
                "\t  CHAR(FLOOR(65 + (RAND() * 25)))\r\n",
                "\t  ), 5);\r\n",
                "    SET @i += 1\r\n",
                "END;\r\n",
                "COMMIT\r\n",
                "GO"
            ],
            "metadata": {
                "azdata_cell_guid": "f54838e8-c78a-40c7-b6ff-203e15271eaa"
            },
            "outputs": [
                {
                    "output_type": "display_data",
                    "data": {
                        "text/html": "Commands completed successfully."
                    },
                    "metadata": {}
                },
                {
                    "output_type": "display_data",
                    "data": {
                        "text/html": "Total execution time: 00:00:20.006"
                    },
                    "metadata": {}
                }
            ],
            "execution_count": 5
        },
        {
            "cell_type": "code",
            "source": [
                "-- UTF8\r\n",
                "SET NOCOUNT ON;\r\n",
                "BEGIN TRAN\r\n",
                "DECLARE @i int = 1\r\n",
                "INSERT INTO dbo.Inserts_UTF8 (col1) \r\n",
                "SELECT col1 FROM dbo.Inserts_UTF16;\r\n",
                "COMMIT\r\n",
                "GO"
            ],
            "metadata": {
                "azdata_cell_guid": "10cbce1e-88fc-4f5d-9ff0-517e806ca9d4"
            },
            "outputs": [
                {
                    "output_type": "display_data",
                    "data": {
                        "text/html": "Commands completed successfully."
                    },
                    "metadata": {}
                },
                {
                    "output_type": "display_data",
                    "data": {
                        "text/html": "Total execution time: 00:00:16.114"
                    },
                    "metadata": {}
                }
            ],
            "execution_count": 6
        },
        {
            "cell_type": "markdown",
            "source": [
                "## Check data record sizes\r\n",
                "Note data lenght sizes are the same whether compressed or not"
            ],
            "metadata": {
                "azdata_cell_guid": "01a551ca-4878-4341-88a2-916d088ecbc2"
            }
        },
        {
            "cell_type": "code",
            "source": [
                "SELECT TOP 1 DATALENGTH(col1) AS [DataLength_UTF16]\r\n",
                "FROM Inserts_UTF16\r\n",
                "GO\r\n",
                "SELECT TOP 1 DATALENGTH(col1) AS [DataLength_UTF8]\r\n",
                "FROM Inserts_UTF8\r\n",
                "GO"
            ],
            "metadata": {
                "azdata_cell_guid": "599c8c09-23c4-4fc3-a163-1a41591ebe10"
            },
            "outputs": [
                {
                    "output_type": "display_data",
                    "data": {
                        "text/html": "Commands completed successfully."
                    },
                    "metadata": {}
                },
                {
                    "output_type": "display_data",
                    "data": {
                        "text/html": "Commands completed successfully."
                    },
                    "metadata": {}
                },
                {
                    "output_type": "display_data",
                    "data": {
                        "text/html": "Total execution time: 00:00:00.012"
                    },
                    "metadata": {}
                },
                {
                    "output_type": "execute_result",
                    "metadata": {},
                    "execution_count": 9,
                    "data": {
                        "application/vnd.dataresource+json": {
                            "schema": {
                                "fields": [
                                    {
                                        "name": "DataLength_UTF16"
                                    }
                                ]
                            },
                            "data": [
                                {
                                    "0": "100"
                                }
                            ]
                        },
                        "text/html": "<table><tr><th>DataLength_UTF16</th></tr><tr><td>100</td></tr></table>"
                    }
                },
                {
                    "output_type": "execute_result",
                    "metadata": {},
                    "execution_count": 9,
                    "data": {
                        "application/vnd.dataresource+json": {
                            "schema": {
                                "fields": [
                                    {
                                        "name": "DataLength_UTF8"
                                    }
                                ]
                            },
                            "data": [
                                {
                                    "0": "50"
                                }
                            ]
                        },
                        "text/html": "<table><tr><th>DataLength_UTF8</th></tr><tr><td>50</td></tr></table>"
                    }
                }
            ],
            "execution_count": 9
        },
        {
            "cell_type": "markdown",
            "source": [
                "## Check table sizes"
            ],
            "metadata": {
                "azdata_cell_guid": "6f43daa3-4f7c-429d-9698-8b3c80ecf556"
            }
        },
        {
            "cell_type": "code",
            "source": [
                "SELECT OBJECT_NAME(p.OBJECT_ID) AS TableName,\r\n",
                "\tp.ROWS AS NumRows, a.used_pages, a.total_pages,\r\n",
                "\tCONVERT(DECIMAL(19,2),ISNULL(a.used_pages,0))*8/1024 AS DataSizeMB\r\n",
                "FROM sys.allocation_units a\r\n",
                "INNER JOIN sys.partitions p ON p.hobt_id = a.container_id\r\n",
                "\tAND OBJECT_NAME(p.OBJECT_ID) LIKE 'Inserts%'\r\n",
                "ORDER BY TableName\r\n",
                "GO"
            ],
            "metadata": {
                "azdata_cell_guid": "26ab667c-60bd-46b5-ba05-a8b03ac7b701"
            },
            "outputs": [
                {
                    "output_type": "display_data",
                    "data": {
                        "text/html": "Commands completed successfully."
                    },
                    "metadata": {}
                },
                {
                    "output_type": "display_data",
                    "data": {
                        "text/html": "Total execution time: 00:00:00.438"
                    },
                    "metadata": {}
                },
                {
                    "output_type": "execute_result",
                    "metadata": {},
                    "execution_count": 10,
                    "data": {
                        "application/vnd.dataresource+json": {
                            "schema": {
                                "fields": [
                                    {
                                        "name": "TableName"
                                    },
                                    {
                                        "name": "NumRows"
                                    },
                                    {
                                        "name": "used_pages"
                                    },
                                    {
                                        "name": "total_pages"
                                    },
                                    {
                                        "name": "DataSizeMB"
                                    }
                                ]
                            },
                            "data": [
                                {
                                    "0": "Inserts_UTF16",
                                    "1": "2999997",
                                    "2": "43642",
                                    "3": "43649",
                                    "4": "340.9531250"
                                },
                                {
                                    "0": "Inserts_UTF8",
                                    "1": "3999996",
                                    "2": "33459",
                                    "3": "33489",
                                    "4": "261.3984375"
                                }
                            ]
                        },
                        "text/html": "<table><tr><th>TableName</th><th>NumRows</th><th>used_pages</th><th>total_pages</th><th>DataSizeMB</th></tr><tr><td>Inserts_UTF16</td><td>2999997</td><td>43642</td><td>43649</td><td>340.9531250</td></tr><tr><td>Inserts_UTF8</td><td>3999996</td><td>33459</td><td>33489</td><td>261.3984375</td></tr></table>"
                    }
                }
            ],
            "execution_count": 10
        }
    ]
}