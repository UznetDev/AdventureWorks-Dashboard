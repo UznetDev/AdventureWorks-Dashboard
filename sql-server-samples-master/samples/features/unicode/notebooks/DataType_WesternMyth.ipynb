{
    "metadata": {
        "kernelspec": {
            "name": "SQL",
            "display_name": "SQL",
            "language": "sql"
        },
        "language_info": {
            "name": "sql",
            "version": ""
        }
    },
    "nbformat_minor": 2,
    "nbformat": 4,
    "cells": [
        {
            "cell_type": "markdown",
            "source": "# Data type sizes - a western myth",
            "metadata": {}
        },
        {
            "cell_type": "markdown",
            "source": "## Test Latin character strings with Latin collation\r\n\r\n**Note:** My server default is SQL_Latin1_General_CP1_CI_AS\r\n\r\nSet size limit of data types to be the same under Basic Multilingual Plane (BMP)\r\nCharacters: ranging from 1-byte (ASCII) to 3-bytes (East Asian) per character. So a max of 24-bytes for an East Asian 8 character string.",
            "metadata": {}
        },
        {
            "cell_type": "code",
            "source": "USE UnicodeDatabase\r\nGO\r\nDROP TABLE IF EXISTS t1;\r\nCREATE TABLE t1 (c1 varchar(24) COLLATE Latin1_General_100_CI_AI, \r\n\tc2 nvarchar(8) COLLATE Latin1_General_100_CI_AI);  \r\nINSERT INTO t1 VALUES (N'MyString', N'MyString')  \r\nSELECT LEN(c1) AS [varchar LEN],  \r\n\tDATALENGTH(c1) AS [varchar DATALENGTH], c1\r\nFROM t1;  \r\nSELECT LEN(c2) AS [nvarchar LEN], \r\n\tDATALENGTH(c2) AS [nvarchar DATALENGTH], c2 \r\nFROM t1;\r\nGO",
            "metadata": {},
            "outputs": [
                {
                    "output_type": "display_data",
                    "data": {
                        "text/html": "(1 row affected)"
                    },
                    "metadata": {}
                },
                {
                    "output_type": "display_data",
                    "data": {
                        "text/html": "(1 row affected)"
                    },
                    "metadata": {}
                },
                {
                    "output_type": "display_data",
                    "data": {
                        "text/html": "(1 row affected)"
                    },
                    "metadata": {}
                },
                {
                    "output_type": "display_data",
                    "data": {
                        "text/html": "Total execution time: 00:00:00.1996267"
                    },
                    "metadata": {}
                },
                {
                    "output_type": "execute_result",
                    "execution_count": 1,
                    "data": {
                        "application/vnd.dataresource+json": {
                            "schema": {
                                "fields": [
                                    {
                                        "name": "varchar LEN"
                                    },
                                    {
                                        "name": "varchar DATALENGTH"
                                    },
                                    {
                                        "name": "c1"
                                    }
                                ]
                            },
                            "data": [
                                {
                                    "0": "8",
                                    "1": "8",
                                    "2": "MyString"
                                }
                            ]
                        },
                        "text/html": "<table><tr><th>varchar LEN</th><th>varchar DATALENGTH</th><th>c1</th></tr><tr><td>8</td><td>8</td><td>MyString</td></tr></table>"
                    },
                    "metadata": {}
                },
                {
                    "output_type": "execute_result",
                    "execution_count": 1,
                    "data": {
                        "application/vnd.dataresource+json": {
                            "schema": {
                                "fields": [
                                    {
                                        "name": "nvarchar LEN"
                                    },
                                    {
                                        "name": "nvarchar DATALENGTH"
                                    },
                                    {
                                        "name": "c2"
                                    }
                                ]
                            },
                            "data": [
                                {
                                    "0": "8",
                                    "1": "16",
                                    "2": "MyString"
                                }
                            ]
                        },
                        "text/html": "<table><tr><th>nvarchar LEN</th><th>nvarchar DATALENGTH</th><th>c2</th></tr><tr><td>8</td><td>16</td><td>MyString</td></tr></table>"
                    },
                    "metadata": {}
                }
            ],
            "execution_count": 15
        },
        {
            "cell_type": "markdown",
            "source": "That's as expected on bothe cases. So what was I talking about?\r\n\r\nRun next example with Chinese characters.",
            "metadata": {}
        },
        {
            "cell_type": "markdown",
            "source": "# Test Chinese character strings with Latin collation",
            "metadata": {}
        },
        {
            "cell_type": "code",
            "source": "USE UnicodeDatabase\r\nGO\r\nDROP TABLE IF EXISTS t1;\r\nCREATE TABLE t1 (c1 varchar(24) COLLATE Latin1_General_100_CI_AI, \r\n\tc2 nvarchar(8) COLLATE Latin1_General_100_CI_AI);  \r\nINSERT INTO t1 VALUES (N'敏捷的棕色狐狸跳', N'敏捷的棕色狐狸跳')  \r\nSELECT LEN(c1) AS [varchar LEN],  \r\n\tDATALENGTH(c1) AS [varchar DATALENGTH], c1\r\nFROM t1;  \r\nSELECT LEN(c2) AS [nvarchar LEN], \r\n\tDATALENGTH(c2) AS [nvarchar DATALENGTH], c2 \r\nFROM t1;\r\nGO",
            "metadata": {},
            "outputs": [
                {
                    "output_type": "display_data",
                    "data": {
                        "text/html": "(1 row affected)"
                    },
                    "metadata": {}
                },
                {
                    "output_type": "display_data",
                    "data": {
                        "text/html": "(1 row affected)"
                    },
                    "metadata": {}
                },
                {
                    "output_type": "display_data",
                    "data": {
                        "text/html": "(1 row affected)"
                    },
                    "metadata": {}
                },
                {
                    "output_type": "display_data",
                    "data": {
                        "text/html": "Total execution time: 00:00:00.031"
                    },
                    "metadata": {}
                },
                {
                    "output_type": "execute_result",
                    "execution_count": 16,
                    "data": {
                        "application/vnd.dataresource+json": {
                            "schema": {
                                "fields": [
                                    {
                                        "name": "varchar LEN"
                                    },
                                    {
                                        "name": "varchar DATALENGTH"
                                    },
                                    {
                                        "name": "c1"
                                    }
                                ]
                            },
                            "data": [
                                {
                                    "0": "8",
                                    "1": "8",
                                    "2": "????????"
                                }
                            ]
                        },
                        "text/html": "<table><tr><th>varchar LEN</th><th>varchar DATALENGTH</th><th>c1</th></tr><tr><td>8</td><td>8</td><td>????????</td></tr></table>"
                    },
                    "metadata": {}
                },
                {
                    "output_type": "execute_result",
                    "execution_count": 16,
                    "data": {
                        "application/vnd.dataresource+json": {
                            "schema": {
                                "fields": [
                                    {
                                        "name": "nvarchar LEN"
                                    },
                                    {
                                        "name": "nvarchar DATALENGTH"
                                    },
                                    {
                                        "name": "c2"
                                    }
                                ]
                            },
                            "data": [
                                {
                                    "0": "8",
                                    "1": "16",
                                    "2": "敏捷的棕色狐狸跳"
                                }
                            ]
                        },
                        "text/html": "<table><tr><th>nvarchar LEN</th><th>nvarchar DATALENGTH</th><th>c2</th></tr><tr><td>8</td><td>16</td><td>敏捷的棕色狐狸跳</td></tr></table>"
                    },
                    "metadata": {}
                }
            ],
            "execution_count": 16
        },
        {
            "cell_type": "markdown",
            "source": "uh-oh data loss on the varchar example. Why?\r\n\r\nVarchar is bound to code page encoding by default, and these code points cannot be found in the Latin code page.\r\n\r\nBut why didn't it happen in the nvarchar example? \r\n\r\nThese Chinese characters are double-byte and within the *Basic Multilingual Plane* (BMP), and nvarchar with this non-SC collation encodes in UCS-2 (BMP), not the code page.\r\n\r\nRun the next example:",
            "metadata": {}
        },
        {
            "cell_type": "code",
            "source": "USE UnicodeDatabase\r\nGO\r\nSELECT ASCII('敏' COLLATE Latin1_General_100_CI_AI), CHAR(63);\r\nSELECT ASCII('捷' COLLATE Latin1_General_100_CI_AI), CHAR(63);",
            "metadata": {},
            "outputs": [
                {
                    "output_type": "display_data",
                    "data": {
                        "text/html": "Commands completed successfully."
                    },
                    "metadata": {}
                },
                {
                    "output_type": "display_data",
                    "data": {
                        "text/html": "(1 row affected)"
                    },
                    "metadata": {}
                },
                {
                    "output_type": "display_data",
                    "data": {
                        "text/html": "(1 row affected)"
                    },
                    "metadata": {}
                },
                {
                    "output_type": "display_data",
                    "data": {
                        "text/html": "Total execution time: 00:00:00.017"
                    },
                    "metadata": {}
                },
                {
                    "output_type": "execute_result",
                    "execution_count": 4,
                    "data": {
                        "application/vnd.dataresource+json": {
                            "schema": {
                                "fields": [
                                    {
                                        "name": "(No column name)"
                                    },
                                    {
                                        "name": "(No column name)"
                                    }
                                ]
                            },
                            "data": [
                                {
                                    "0": "63",
                                    "1": "?"
                                }
                            ]
                        },
                        "text/html": "<table><tr><th>(No column name)</th><th>(No column name)</th></tr><tr><td>63</td><td>?</td></tr></table>"
                    },
                    "metadata": {}
                },
                {
                    "output_type": "execute_result",
                    "execution_count": 4,
                    "data": {
                        "application/vnd.dataresource+json": {
                            "schema": {
                                "fields": [
                                    {
                                        "name": "(No column name)"
                                    },
                                    {
                                        "name": "(No column name)"
                                    }
                                ]
                            },
                            "data": [
                                {
                                    "0": "63",
                                    "1": "?"
                                }
                            ]
                        },
                        "text/html": "<table><tr><th>(No column name)</th><th>(No column name)</th></tr><tr><td>63</td><td>?</td></tr></table>"
                    },
                    "metadata": {}
                }
            ],
            "execution_count": 4
        },
        {
            "cell_type": "markdown",
            "source": "The ASCII function returns the ASCII code value of the leftmost character of a character expression. We know the Latin code page that's chosen can't represent a double-byte character, so it can only read the first byte, which is incorrectly translated to code point 63. Using the CHAR function, we see that the 63 code point is a question mark character. \r\n\r\nRun the next example:",
            "metadata": {}
        },
        {
            "cell_type": "code",
            "source": "USE UnicodeDatabase\r\nGO\r\nSELECT UNICODE(N'敏' COLLATE Latin1_General_100_CI_AI), NCHAR(25935);\r\nSELECT UNICODE(N'捷' COLLATE Latin1_General_100_CI_AI), NCHAR(25463);",
            "metadata": {},
            "outputs": [
                {
                    "output_type": "display_data",
                    "data": {
                        "text/html": "Commands completed successfully."
                    },
                    "metadata": {}
                },
                {
                    "output_type": "display_data",
                    "data": {
                        "text/html": "(1 row affected)"
                    },
                    "metadata": {}
                },
                {
                    "output_type": "display_data",
                    "data": {
                        "text/html": "(1 row affected)"
                    },
                    "metadata": {}
                },
                {
                    "output_type": "display_data",
                    "data": {
                        "text/html": "Total execution time: 00:00:00.024"
                    },
                    "metadata": {}
                },
                {
                    "output_type": "execute_result",
                    "execution_count": 5,
                    "data": {
                        "application/vnd.dataresource+json": {
                            "schema": {
                                "fields": [
                                    {
                                        "name": "(No column name)"
                                    },
                                    {
                                        "name": "(No column name)"
                                    }
                                ]
                            },
                            "data": [
                                {
                                    "0": "25935",
                                    "1": "敏"
                                }
                            ]
                        },
                        "text/html": "<table><tr><th>(No column name)</th><th>(No column name)</th></tr><tr><td>25935</td><td>敏</td></tr></table>"
                    },
                    "metadata": {}
                },
                {
                    "output_type": "execute_result",
                    "execution_count": 5,
                    "data": {
                        "application/vnd.dataresource+json": {
                            "schema": {
                                "fields": [
                                    {
                                        "name": "(No column name)"
                                    },
                                    {
                                        "name": "(No column name)"
                                    }
                                ]
                            },
                            "data": [
                                {
                                    "0": "25463",
                                    "1": "捷"
                                }
                            ]
                        },
                        "text/html": "<table><tr><th>(No column name)</th><th>(No column name)</th></tr><tr><td>25463</td><td>捷</td></tr></table>"
                    },
                    "metadata": {}
                }
            ],
            "execution_count": 5
        },
        {
            "cell_type": "markdown",
            "source": "Works irrespective of collation now. By adding the N prefix we force the use of a [Unicode constant](https://docs.microsoft.com/sql/t-sql/data-types/constants-transact-sql#unicode-strings), and collation only sets linguistic algorithms (Compare = sort; Case sensitivity = Upper/Lowercase), not the encoding. Using the UNICODE function, we can correctly identify the code points for the string characters, which the NCHAR function can represent accurately.",
            "metadata": {}
        },
        {
            "cell_type": "markdown",
            "source": "## Now test Chinese character strings with Chinese collation",
            "metadata": {}
        },
        {
            "cell_type": "code",
            "source": "USE UnicodeDatabase\r\nGO\r\nDROP TABLE IF EXISTS t2;\r\nCREATE TABLE t2 (c1 varchar(24) COLLATE Chinese_Traditional_Stroke_Order_100_CI_AI, \r\n\tc2 nvarchar(8) COLLATE Chinese_Traditional_Stroke_Order_100_CI_AI);  \r\nINSERT INTO t2 VALUES (N'敏捷的棕色狐狸跳', N'敏捷的棕色狐狸跳')  \r\nSELECT LEN(c1) AS [varchar LEN],  \r\n\tDATALENGTH(c1) AS [varchar DATALENGTH], c1\r\nFROM t2;  \r\nSELECT LEN(c2) AS [nvarchar LEN], \r\n\tDATALENGTH(c2) AS [nvarchar DATALENGTH], c2 \r\nFROM t2;\r\nGO",
            "metadata": {},
            "outputs": [
                {
                    "output_type": "display_data",
                    "data": {
                        "text/html": "(1 row affected)"
                    },
                    "metadata": {}
                },
                {
                    "output_type": "display_data",
                    "data": {
                        "text/html": "(1 row affected)"
                    },
                    "metadata": {}
                },
                {
                    "output_type": "display_data",
                    "data": {
                        "text/html": "(1 row affected)"
                    },
                    "metadata": {}
                },
                {
                    "output_type": "display_data",
                    "data": {
                        "text/html": "Total execution time: 00:00:00.037"
                    },
                    "metadata": {}
                },
                {
                    "output_type": "execute_result",
                    "execution_count": 17,
                    "data": {
                        "application/vnd.dataresource+json": {
                            "schema": {
                                "fields": [
                                    {
                                        "name": "varchar LEN"
                                    },
                                    {
                                        "name": "varchar DATALENGTH"
                                    },
                                    {
                                        "name": "c1"
                                    }
                                ]
                            },
                            "data": [
                                {
                                    "0": "8",
                                    "1": "16",
                                    "2": "敏捷的棕色狐狸跳"
                                }
                            ]
                        },
                        "text/html": "<table><tr><th>varchar LEN</th><th>varchar DATALENGTH</th><th>c1</th></tr><tr><td>8</td><td>16</td><td>敏捷的棕色狐狸跳</td></tr></table>"
                    },
                    "metadata": {}
                },
                {
                    "output_type": "execute_result",
                    "execution_count": 17,
                    "data": {
                        "application/vnd.dataresource+json": {
                            "schema": {
                                "fields": [
                                    {
                                        "name": "nvarchar LEN"
                                    },
                                    {
                                        "name": "nvarchar DATALENGTH"
                                    },
                                    {
                                        "name": "c2"
                                    }
                                ]
                            },
                            "data": [
                                {
                                    "0": "8",
                                    "1": "16",
                                    "2": "敏捷的棕色狐狸跳"
                                }
                            ]
                        },
                        "text/html": "<table><tr><th>nvarchar LEN</th><th>nvarchar DATALENGTH</th><th>c2</th></tr><tr><td>8</td><td>16</td><td>敏捷的棕色狐狸跳</td></tr></table>"
                    },
                    "metadata": {}
                }
            ],
            "execution_count": 17
        },
        {
            "cell_type": "markdown",
            "source": "Now the varchar example is correct because the code page can recognize Chinese characters. But there's 2 bytes per character, not 3?...\r\n\r\n**Myth buster:** code page defines string length for varchar. Varchar is **not** always 1 byte per character. \r\n\r\nOk, but wasn't East-Asian 3 bytes? Yes, with UTF-8, but under Chinese collation code page, they are encoded using 2 bytes just like UCS-2/UTF-16\r\n",
            "metadata": {}
        },
        {
            "cell_type": "markdown",
            "source": "## Test with Supplementary Characters (4 bytes)",
            "metadata": {}
        },
        {
            "cell_type": "code",
            "source": "USE UnicodeDatabase\r\nGO\r\nDROP TABLE IF EXISTS t2;\r\nCREATE TABLE t2 (c1 varchar(24) COLLATE Chinese_Traditional_Stroke_Order_100_CI_AI_SC, \r\n\tc2 nvarchar(8) COLLATE Chinese_Traditional_Stroke_Order_100_CI_AI_SC);  \r\nINSERT INTO t2 VALUES (N'👶👦👧👨👩👴👵👨', N'👶👦👧👨👩👴👵👨')  \r\nSELECT LEN(c1) AS [varchar LEN],  \r\n\tDATALENGTH(c1) AS [varchar DATALENGTH], c1\r\nFROM t2;  \r\nSELECT LEN(c2) AS [nvarchar LEN], \r\n\tDATALENGTH(c2) AS [nvarchar DATALENGTH], c2 \r\nFROM t2;\r\nGO",
            "metadata": {},
            "outputs": [
                {
                    "output_type": "error",
                    "ename": "",
                    "evalue": "Msg 2628, Level 16, State 1, Line 4\r\nString or binary data would be truncated in table 'master.dbo.t2', column 'c2'. Truncated value: '👶👦👧👨'.",
                    "traceback": []
                },
                {
                    "output_type": "display_data",
                    "data": {
                        "text/html": "The statement has been terminated."
                    },
                    "metadata": {}
                },
                {
                    "output_type": "display_data",
                    "data": {
                        "text/html": "(0 rows affected)"
                    },
                    "metadata": {}
                },
                {
                    "output_type": "display_data",
                    "data": {
                        "text/html": "(0 rows affected)"
                    },
                    "metadata": {}
                },
                {
                    "output_type": "display_data",
                    "data": {
                        "text/html": "Total execution time: 00:00:00.038"
                    },
                    "metadata": {}
                },
                {
                    "output_type": "execute_result",
                    "execution_count": 20,
                    "data": {
                        "application/vnd.dataresource+json": {
                            "schema": {
                                "fields": [
                                    {
                                        "name": "varchar LEN"
                                    },
                                    {
                                        "name": "varchar DATALENGTH"
                                    },
                                    {
                                        "name": "c1"
                                    }
                                ]
                            },
                            "data": []
                        },
                        "text/html": "<table><tr><th>varchar LEN</th><th>varchar DATALENGTH</th><th>c1</th></tr></table>"
                    },
                    "metadata": {}
                },
                {
                    "output_type": "execute_result",
                    "execution_count": 20,
                    "data": {
                        "application/vnd.dataresource+json": {
                            "schema": {
                                "fields": [
                                    {
                                        "name": "nvarchar LEN"
                                    },
                                    {
                                        "name": "nvarchar DATALENGTH"
                                    },
                                    {
                                        "name": "c2"
                                    }
                                ]
                            },
                            "data": []
                        },
                        "text/html": "<table><tr><th>nvarchar LEN</th><th>nvarchar DATALENGTH</th><th>c2</th></tr></table>"
                    },
                    "metadata": {}
                }
            ],
            "execution_count": 20
        },
        {
            "cell_type": "markdown",
            "source": "uh-oh, let's set the proper data type length from 8 to 16 byte-pairs (so a 32-byte encoding limit)",
            "metadata": {}
        },
        {
            "cell_type": "code",
            "source": "USE UnicodeDatabase\r\nGO\r\nDROP TABLE IF EXISTS t2;\r\nCREATE TABLE t2 (c1 varchar(24) COLLATE Chinese_Traditional_Stroke_Order_100_CI_AI_SC, \r\n\tc2 nvarchar(16) COLLATE Chinese_Traditional_Stroke_Order_100_CI_AI_SC);  \r\nINSERT INTO t2 VALUES (N'👶👦👧👨👩👴👵👨', N'👶👦👧👨👩👴👵👨')  \r\nSELECT LEN(c1) AS [varchar LEN],  \r\n\tDATALENGTH(c1) AS [varchar DATALENGTH], c1\r\nFROM t2;  \r\nSELECT LEN(c2) AS [nvarchar LEN], \r\n\tDATALENGTH(c2) AS [nvarchar DATALENGTH], c2 \r\nFROM t2;\r\nGO",
            "metadata": {},
            "outputs": [
                {
                    "output_type": "display_data",
                    "data": {
                        "text/html": "(1 row affected)"
                    },
                    "metadata": {}
                },
                {
                    "output_type": "display_data",
                    "data": {
                        "text/html": "(1 row affected)"
                    },
                    "metadata": {}
                },
                {
                    "output_type": "display_data",
                    "data": {
                        "text/html": "(1 row affected)"
                    },
                    "metadata": {}
                },
                {
                    "output_type": "display_data",
                    "data": {
                        "text/html": "Total execution time: 00:00:00.029"
                    },
                    "metadata": {}
                },
                {
                    "output_type": "execute_result",
                    "execution_count": 21,
                    "data": {
                        "application/vnd.dataresource+json": {
                            "schema": {
                                "fields": [
                                    {
                                        "name": "varchar LEN"
                                    },
                                    {
                                        "name": "varchar DATALENGTH"
                                    },
                                    {
                                        "name": "c1"
                                    }
                                ]
                            },
                            "data": [
                                {
                                    "0": "16",
                                    "1": "16",
                                    "2": "????????????????"
                                }
                            ]
                        },
                        "text/html": "<table><tr><th>varchar LEN</th><th>varchar DATALENGTH</th><th>c1</th></tr><tr><td>16</td><td>16</td><td>????????????????</td></tr></table>"
                    },
                    "metadata": {}
                },
                {
                    "output_type": "execute_result",
                    "execution_count": 21,
                    "data": {
                        "application/vnd.dataresource+json": {
                            "schema": {
                                "fields": [
                                    {
                                        "name": "nvarchar LEN"
                                    },
                                    {
                                        "name": "nvarchar DATALENGTH"
                                    },
                                    {
                                        "name": "c2"
                                    }
                                ]
                            },
                            "data": [
                                {
                                    "0": "8",
                                    "1": "32",
                                    "2": "👶👦👧👨👩👴👵👨"
                                }
                            ]
                        },
                        "text/html": "<table><tr><th>nvarchar LEN</th><th>nvarchar DATALENGTH</th><th>c2</th></tr><tr><td>8</td><td>32</td><td>👶👦👧👨👩👴👵👨</td></tr></table>"
                    },
                    "metadata": {}
                }
            ],
            "execution_count": 21
        },
        {
            "cell_type": "markdown",
            "source": "Nvarchar looks good. But varchar still doesn't encode? \r\n\r\nSet a larger data type length. For example double from 24 to 48 bytes. Now try again:",
            "metadata": {}
        },
        {
            "cell_type": "code",
            "source": "USE UnicodeDatabase\r\nGO\r\nDROP TABLE IF EXISTS t2;\r\nCREATE TABLE t2 (c1 varchar(48) COLLATE Chinese_Traditional_Stroke_Order_100_CI_AI_SC_UTF8, \r\n\tc2 nvarchar(16) COLLATE Chinese_Traditional_Stroke_Order_100_CI_AI_SC);  \r\nINSERT INTO t2 VALUES (N'👶👦👧👨👩👴👵👨', N'👶👦👧👨👩👴👵👨')  \r\nSELECT LEN(c1) AS [varchar LEN],  \r\n\tDATALENGTH(c1) AS [varchar DATALENGTH], c1\r\nFROM t2;  \r\nSELECT LEN(c2) AS [nvarchar LEN], \r\n\tDATALENGTH(c2) AS [nvarchar DATALENGTH], c2 \r\nFROM t2;\r\nGO",
            "metadata": {},
            "outputs": [
                {
                    "output_type": "display_data",
                    "data": {
                        "text/html": "Commands completed successfully."
                    },
                    "metadata": {}
                },
                {
                    "output_type": "display_data",
                    "data": {
                        "text/html": "(1 row affected)"
                    },
                    "metadata": {}
                },
                {
                    "output_type": "display_data",
                    "data": {
                        "text/html": "(1 row affected)"
                    },
                    "metadata": {}
                },
                {
                    "output_type": "display_data",
                    "data": {
                        "text/html": "(1 row affected)"
                    },
                    "metadata": {}
                },
                {
                    "output_type": "display_data",
                    "data": {
                        "text/html": "Total execution time: 00:00:00.033"
                    },
                    "metadata": {}
                },
                {
                    "output_type": "execute_result",
                    "execution_count": 3,
                    "data": {
                        "application/vnd.dataresource+json": {
                            "schema": {
                                "fields": [
                                    {
                                        "name": "varchar LEN"
                                    },
                                    {
                                        "name": "varchar DATALENGTH"
                                    },
                                    {
                                        "name": "c1"
                                    }
                                ]
                            },
                            "data": [
                                {
                                    "0": "8",
                                    "1": "32",
                                    "2": "👶👦👧👨👩👴👵👨"
                                }
                            ]
                        },
                        "text/html": "<table><tr><th>varchar LEN</th><th>varchar DATALENGTH</th><th>c1</th></tr><tr><td>8</td><td>32</td><td>👶👦👧👨👩👴👵👨</td></tr></table>"
                    },
                    "metadata": {}
                },
                {
                    "output_type": "execute_result",
                    "execution_count": 3,
                    "data": {
                        "application/vnd.dataresource+json": {
                            "schema": {
                                "fields": [
                                    {
                                        "name": "nvarchar LEN"
                                    },
                                    {
                                        "name": "nvarchar DATALENGTH"
                                    },
                                    {
                                        "name": "c2"
                                    }
                                ]
                            },
                            "data": [
                                {
                                    "0": "8",
                                    "1": "32",
                                    "2": "👶👦👧👨👩👴👵👨"
                                }
                            ]
                        },
                        "text/html": "<table><tr><th>nvarchar LEN</th><th>nvarchar DATALENGTH</th><th>c2</th></tr><tr><td>8</td><td>32</td><td>👶👦👧👨👩👴👵👨</td></tr></table>"
                    },
                    "metadata": {}
                }
            ],
            "execution_count": 3
        },
        {
            "cell_type": "markdown",
            "source": "Finally!\r\n\r\nWhat if I needed all these characters in one database? Easy, I could just use nvarchar which encodes in UTF-16.",
            "metadata": {}
        },
        {
            "cell_type": "code",
            "source": "USE UnicodeDatabase\r\nGO\r\nDROP TABLE IF EXISTS t3;\r\nCREATE TABLE t3 (c1 nvarchar(110) COLLATE Latin1_General_100_CI_AI_SC);  \r\nINSERT INTO t3 VALUES (N'MyStringThequickbrownfoxjumpsoverthelazydogIsLatinAscii敏捷的棕色狐狸跳👶👦')  \r\nSELECT LEN(c1) AS [nvarchar UTF16 LEN],  \r\n\tDATALENGTH(c1) AS [nvarchar UTF16 DATALENGTH], c1\r\nFROM t3; \r\nGO",
            "metadata": {},
            "outputs": [
                {
                    "output_type": "display_data",
                    "data": {
                        "text/html": "(1 row affected)"
                    },
                    "metadata": {}
                },
                {
                    "output_type": "display_data",
                    "data": {
                        "text/html": "(1 row affected)"
                    },
                    "metadata": {}
                },
                {
                    "output_type": "display_data",
                    "data": {
                        "text/html": "Total execution time: 00:00:00.086"
                    },
                    "metadata": {}
                },
                {
                    "output_type": "execute_result",
                    "execution_count": 23,
                    "data": {
                        "application/vnd.dataresource+json": {
                            "schema": {
                                "fields": [
                                    {
                                        "name": "nvarchar UTF16 LEN"
                                    },
                                    {
                                        "name": "nvarchar UTF16 DATALENGTH"
                                    },
                                    {
                                        "name": "c1"
                                    }
                                ]
                            },
                            "data": [
                                {
                                    "0": "65",
                                    "1": "134",
                                    "2": "MyStringThequickbrownfoxjumpsoverthelazydogIsLatinAscii敏捷的棕色狐狸跳👶👦"
                                }
                            ]
                        },
                        "text/html": "<table><tr><th>nvarchar UTF16 LEN</th><th>nvarchar UTF16 DATALENGTH</th><th>c1</th></tr><tr><td>65</td><td>134</td><td>MyStringThequickbrownfoxjumpsoverthelazydogIsLatinAscii敏捷的棕色狐狸跳👶👦</td></tr></table>"
                    },
                    "metadata": {}
                }
            ],
            "execution_count": 23
        },
        {
            "cell_type": "markdown",
            "source": "But wait. The majority of my data is set to Latin (ASCII), can we do better?",
            "metadata": {}
        },
        {
            "cell_type": "code",
            "source": "USE UnicodeDatabase\r\nGO\r\nDROP TABLE IF EXISTS t4;\r\nCREATE TABLE t4 (c1 varchar(110) COLLATE Latin1_General_100_CI_AI_SC_UTF8);  \r\nINSERT INTO t4 VALUES (N'MyStringThequickbrownfoxjumpsoverthelazydogIsLatinAscii敏捷的棕色狐狸跳👶👦')  \r\nSELECT LEN(c1) AS [varchar UTF8 LEN],  \r\n\tDATALENGTH(c1) AS [varchar UTF8 DATALENGTH], c1\r\nFROM t4; \r\nGO",
            "metadata": {},
            "outputs": [
                {
                    "output_type": "display_data",
                    "data": {
                        "text/html": "Commands completed successfully."
                    },
                    "metadata": {}
                },
                {
                    "output_type": "display_data",
                    "data": {
                        "text/html": "(1 row affected)"
                    },
                    "metadata": {}
                },
                {
                    "output_type": "display_data",
                    "data": {
                        "text/html": "(1 row affected)"
                    },
                    "metadata": {}
                },
                {
                    "output_type": "display_data",
                    "data": {
                        "text/html": "Total execution time: 00:00:00.253"
                    },
                    "metadata": {}
                },
                {
                    "output_type": "execute_result",
                    "execution_count": 1,
                    "data": {
                        "application/vnd.dataresource+json": {
                            "schema": {
                                "fields": [
                                    {
                                        "name": "varchar UTF8 LEN"
                                    },
                                    {
                                        "name": "varchar UTF8 DATALENGTH"
                                    },
                                    {
                                        "name": "c1"
                                    }
                                ]
                            },
                            "data": [
                                {
                                    "0": "65",
                                    "1": "87",
                                    "2": "MyStringThequickbrownfoxjumpsoverthelazydogIsLatinAscii敏捷的棕色狐狸跳👶👦"
                                }
                            ]
                        },
                        "text/html": "<table><tr><th>varchar UTF8 LEN</th><th>varchar UTF8 DATALENGTH</th><th>c1</th></tr><tr><td>65</td><td>87</td><td>MyStringThequickbrownfoxjumpsoverthelazydogIsLatinAscii敏捷的棕色狐狸跳👶👦</td></tr></table>"
                    },
                    "metadata": {}
                }
            ],
            "execution_count": 1
        },
        {
            "cell_type": "markdown",
            "source": "With this data pattern the savings are obvious. Where are the savings? Let's compare breaking down to individual Latin, Chinese, and Emoji strings.",
            "metadata": {}
        },
        {
            "cell_type": "code",
            "source": "USE UnicodeDatabase\r\nGO\r\nSELECT DATALENGTH(N'MyStringThequickbrownfoxjumpsoverthelazydogIsLatinAscii') AS [Latin_UTF16_2bytes], \r\n\tDATALENGTH(N'敏捷的棕色狐狸跳') AS [Chinese_UTF16_2bytes], \r\n\tDATALENGTH(N'👶👦') AS [SC_UTF16_4bytes]\r\nSELECT DATALENGTH('MyStringThequickbrownfoxjumpsoverthelazydogIsLatinAscii' COLLATE Latin1_General_100_CI_AI_SC_UTF8) AS [Latin_UTF8_1byte], \r\n\tDATALENGTH('敏捷的棕色狐狸跳' COLLATE Latin1_General_100_CI_AI_SC_UTF8) AS [Chinese_UTF8_3bytes], \r\n\tDATALENGTH('👶👦' COLLATE Latin1_General_100_CI_AI_SC_UTF8) AS [SC_UTF8_4bytes]\r\nGO",
            "metadata": {},
            "outputs": [
                {
                    "output_type": "display_data",
                    "data": {
                        "text/html": "Commands completed successfully."
                    },
                    "metadata": {}
                },
                {
                    "output_type": "display_data",
                    "data": {
                        "text/html": "(1 row affected)"
                    },
                    "metadata": {}
                },
                {
                    "output_type": "display_data",
                    "data": {
                        "text/html": "(1 row affected)"
                    },
                    "metadata": {}
                },
                {
                    "output_type": "display_data",
                    "data": {
                        "text/html": "Total execution time: 00:00:00.024"
                    },
                    "metadata": {}
                },
                {
                    "output_type": "execute_result",
                    "execution_count": 2,
                    "data": {
                        "application/vnd.dataresource+json": {
                            "schema": {
                                "fields": [
                                    {
                                        "name": "Latin_UTF16_2bytes"
                                    },
                                    {
                                        "name": "Chinese_UTF16_2bytes"
                                    },
                                    {
                                        "name": "SC_UTF16_4bytes"
                                    }
                                ]
                            },
                            "data": [
                                {
                                    "0": "110",
                                    "1": "16",
                                    "2": "8"
                                }
                            ]
                        },
                        "text/html": "<table><tr><th>Latin_UTF16_2bytes</th><th>Chinese_UTF16_2bytes</th><th>SC_UTF16_4bytes</th></tr><tr><td>110</td><td>16</td><td>8</td></tr></table>"
                    },
                    "metadata": {}
                },
                {
                    "output_type": "execute_result",
                    "execution_count": 2,
                    "data": {
                        "application/vnd.dataresource+json": {
                            "schema": {
                                "fields": [
                                    {
                                        "name": "Latin_UTF8_1byte"
                                    },
                                    {
                                        "name": "Chinese_UTF8_3bytes"
                                    },
                                    {
                                        "name": "SC_UTF8_4bytes"
                                    }
                                ]
                            },
                            "data": [
                                {
                                    "0": "55",
                                    "1": "24",
                                    "2": "8"
                                }
                            ]
                        },
                        "text/html": "<table><tr><th>Latin_UTF8_1byte</th><th>Chinese_UTF8_3bytes</th><th>SC_UTF8_4bytes</th></tr><tr><td>55</td><td>24</td><td>8</td></tr></table>"
                    },
                    "metadata": {}
                }
            ],
            "execution_count": 2
        }
    ]
}