{
    "metadata": {
        "kernelspec": {
            "name": "SQL",
            "display_name": "SQL",
            "language": "sql"
        },
        "language_info": {
            "name": "sql",
            "version": ""
        }
    },
    "nbformat_minor": 2,
    "nbformat": 4,
    "cells": [
        {
            "cell_type": "markdown",
            "source": "# Determine the UTF8 storage requirements for all tables and string columns in the database in scope",
            "metadata": {}
        },
        {
            "cell_type": "markdown",
            "source": "The script below will determine the UTF8 storage requirements for all tables and string columns in the database in scope, and whether the defined data type length has to be changed when converting to UTF-8. The result will show the table and column names that map to CHAR, NCHAR, VARCHAR, and NVARCHAR data types (including UDTs), their current type size definition, actual byte size, and projected byte size once encoded into UTF-8. \r\n\r\nFor example, for the column **EmailAddress** of table **Application.People**, the data type definition is **nvarchar(512)** and the data length for the largest string found in that column is 66 bytes. If changed to **varchar(512)** under a ***_UTF8*** collation, the data length would be reduced to 33 bytes. In this case, converting the column's collation and data type (without changing the size definition) will not cause data loss. \r\n\r\nHowever, if the projected byte size for the column using UTF-8 would be larger than the current data type definition, then the defined data type length would also have to be enlarged. For example, if a column were defined originally as **nvarchar(100)**<sup>1</sup>, and projected byte size for the column in UTF-8 would be 120, then changing the column type to a **varchar(100)**<sup>2</sup> would result in data loss. The column would have to be defined at least as **varchar(120)**.\r\n\r\n<sup>1</sup> Expresses byte-pairs, meaning the column is capable of storing up to 200 bytes of information  \r\n<sup>2</sup> Expresses bytes, meaning the column is capable of storing up to 100 bytes of information",
            "metadata": {}
        },
        {
            "cell_type": "code",
            "source": "SET NOCOUNT ON;\r\nGO\r\n\r\nUSE WideWorldImporters\r\nGO\r\n\r\nDROP TABLE IF EXISTS #tmpObjects;\r\nGO\r\n\r\nCREATE TABLE #tmpObjects (ObjectName sysname, \r\n\tColumnName sysname, \r\n\tColumnType sysname, \r\n\tDefinedTypeSize smallint, \r\n\tActualMaxBytes smallint,\r\n\tUTF8BytesNeeded smallint,\r\n\t[isdone] bit,\r\n    CONSTRAINT PK_ObjName_ColName\r\n        PRIMARY KEY NONCLUSTERED (ObjectName, ColumnName)\r\n\t\tWITH (IGNORE_DUP_KEY = ON)\r\n\t);\r\n\r\nINSERT INTO #tmpObjects\r\nSELECT QUOTENAME(SS.[name]) + '.' + QUOTENAME(STbl.[name]), QUOTENAME(SC.[name]), ST.[name], SC.max_length, NULL, NULL, 0\r\nFROM sys.columns AS SC\r\nINNER JOIN sys.types AS ST ON SC.user_type_id = ST.user_type_id\r\nINNER JOIN sys.tables AS STbl ON STbl.[object_id] = SC.[object_id]\r\nINNER JOIN sys.schemas AS SS ON STbl.[schema_id] = SS.[schema_id]\r\nWHERE STbl.[type] = 'U' \r\n\tAND STbl.is_ms_shipped = 0\r\n\t--AND STbl.temporal_type IN (0,1)\r\n\tAND ST.system_type_id IN (167, 175, 231, 239)\r\n\tAND ST.[name] <> 'sysname'\r\n\tAND SC.is_hidden = 0\r\n\tAND SC.max_length > 0;\r\n\r\nDECLARE @OName sysname, @CName sysname, @CurrBytes smallint, @UTF8Bytes smallint, @sqlcmd NVARCHAR(4000), @params NVARCHAR(60), @cnt int, @maxcnt int\r\n\r\nSELECT @maxcnt = COUNT(*) FROM #tmpObjects;\r\nSET @cnt = 0 \r\nSET @params = '@CurrBytesOut smallint OUTPUT, @UTF8BytesOut smallint OUTPUT'\r\n\r\nWHILE @cnt < @maxcnt\r\nBEGIN\r\n\tSELECT TOP 1 @OName = ObjectName, @CName = ColumnName FROM #tmpObjects WHERE isdone = 0\r\n\tSELECT @sqlcmd = 'SELECT @CurrBytesOut = MAX(DATALENGTH(' + @CName + ')), @UTF8BytesOut = MAX(DATALENGTH(CAST(' + @CName + ' AS VARCHAR(4000)) COLLATE Latin1_General_100_CI_AI_SC_UTF8)) FROM ' + @OName + ' WITH (NOLOCK)';  \r\n\r\n\tEXEC sp_executesql @sqlcmd, @params, @CurrBytesOut = @CurrBytes OUTPUT, @UTF8BytesOut = @UTF8Bytes OUTPUT\r\n\r\n\tUPDATE #tmpObjects\r\n\tSET ActualMaxBytes = @CurrBytes, UTF8BytesNeeded = @UTF8Bytes, isdone = 1 \r\n\tWHERE ObjectName = @OName AND ColumnName = @CName\r\n\r\n\tSET @cnt = @cnt + 1\r\nEND;\r\n\r\nSELECT * FROM #tmpObjects;",
            "metadata": {},
            "outputs": [
                {
                    "output_type": "display_data",
                    "data": {
                        "text/html": "Commands completed successfully."
                    },
                    "metadata": {}
                },
                {
                    "output_type": "display_data",
                    "data": {
                        "text/html": "Total execution time: 00:00:00.0028408"
                    },
                    "metadata": {}
                },
                {
                    "output_type": "display_data",
                    "data": {
                        "text/html": "Commands completed successfully."
                    },
                    "metadata": {}
                },
                {
                    "output_type": "display_data",
                    "data": {
                        "text/html": "Total execution time: 00:00:00.0015389"
                    },
                    "metadata": {}
                },
                {
                    "output_type": "display_data",
                    "data": {
                        "text/html": "Commands completed successfully."
                    },
                    "metadata": {}
                },
                {
                    "output_type": "display_data",
                    "data": {
                        "text/html": "Total execution time: 00:00:00.0048617"
                    },
                    "metadata": {}
                },
                {
                    "output_type": "display_data",
                    "data": {
                        "text/html": "Warning: Null value is eliminated by an aggregate or other SET operation."
                    },
                    "metadata": {}
                },
                {
                    "output_type": "display_data",
                    "data": {
                        "text/html": "Warning: Null value is eliminated by an aggregate or other SET operation."
                    },
                    "metadata": {}
                },
                {
                    "output_type": "display_data",
                    "data": {
                        "text/html": "Warning: Null value is eliminated by an aggregate or other SET operation."
                    },
                    "metadata": {}
                },
                {
                    "output_type": "display_data",
                    "data": {
                        "text/html": "Warning: Null value is eliminated by an aggregate or other SET operation."
                    },
                    "metadata": {}
                },
                {
                    "output_type": "display_data",
                    "data": {
                        "text/html": "Warning: Null value is eliminated by an aggregate or other SET operation."
                    },
                    "metadata": {}
                },
                {
                    "output_type": "display_data",
                    "data": {
                        "text/html": "Warning: Null value is eliminated by an aggregate or other SET operation."
                    },
                    "metadata": {}
                },
                {
                    "output_type": "display_data",
                    "data": {
                        "text/html": "Warning: Null value is eliminated by an aggregate or other SET operation."
                    },
                    "metadata": {}
                },
                {
                    "output_type": "display_data",
                    "data": {
                        "text/html": "Warning: Null value is eliminated by an aggregate or other SET operation."
                    },
                    "metadata": {}
                },
                {
                    "output_type": "display_data",
                    "data": {
                        "text/html": "Warning: Null value is eliminated by an aggregate or other SET operation."
                    },
                    "metadata": {}
                },
                {
                    "output_type": "display_data",
                    "data": {
                        "text/html": "Warning: Null value is eliminated by an aggregate or other SET operation."
                    },
                    "metadata": {}
                },
                {
                    "output_type": "display_data",
                    "data": {
                        "text/html": "Warning: Null value is eliminated by an aggregate or other SET operation."
                    },
                    "metadata": {}
                },
                {
                    "output_type": "display_data",
                    "data": {
                        "text/html": "Warning: Null value is eliminated by an aggregate or other SET operation."
                    },
                    "metadata": {}
                },
                {
                    "output_type": "display_data",
                    "data": {
                        "text/html": "Warning: Null value is eliminated by an aggregate or other SET operation."
                    },
                    "metadata": {}
                },
                {
                    "output_type": "display_data",
                    "data": {
                        "text/html": "Warning: Null value is eliminated by an aggregate or other SET operation."
                    },
                    "metadata": {}
                },
                {
                    "output_type": "display_data",
                    "data": {
                        "text/html": "Warning: Null value is eliminated by an aggregate or other SET operation."
                    },
                    "metadata": {}
                },
                {
                    "output_type": "display_data",
                    "data": {
                        "text/html": "Warning: Null value is eliminated by an aggregate or other SET operation."
                    },
                    "metadata": {}
                },
                {
                    "output_type": "display_data",
                    "data": {
                        "text/html": "Warning: Null value is eliminated by an aggregate or other SET operation."
                    },
                    "metadata": {}
                },
                {
                    "output_type": "display_data",
                    "data": {
                        "text/html": "Warning: Null value is eliminated by an aggregate or other SET operation."
                    },
                    "metadata": {}
                },
                {
                    "output_type": "display_data",
                    "data": {
                        "text/html": "Warning: Null value is eliminated by an aggregate or other SET operation."
                    },
                    "metadata": {}
                },
                {
                    "output_type": "display_data",
                    "data": {
                        "text/html": "Warning: Null value is eliminated by an aggregate or other SET operation."
                    },
                    "metadata": {}
                },
                {
                    "output_type": "display_data",
                    "data": {
                        "text/html": "Total execution time: 00:00:01.1670323"
                    },
                    "metadata": {}
                },
                {
                    "output_type": "execute_result",
                    "execution_count": 7,
                    "data": {
                        "application/vnd.dataresource+json": {
                            "schema": {
                                "fields": [
                                    {
                                        "name": "ObjectName"
                                    },
                                    {
                                        "name": "ColumnName"
                                    },
                                    {
                                        "name": "ColumnType"
                                    },
                                    {
                                        "name": "DefinedTypeSize"
                                    },
                                    {
                                        "name": "ActualMaxBytes"
                                    },
                                    {
                                        "name": "UTF8BytesNeeded"
                                    },
                                    {
                                        "name": "isdone"
                                    }
                                ]
                            },
                            "data": [
                                {
                                    "0": "[Application].[Cities]",
                                    "1": "[CityName]",
                                    "2": "nvarchar",
                                    "3": "100",
                                    "4": "70",
                                    "5": "35",
                                    "6": "1"
                                },
                                {
                                    "0": "[Application].[Cities_Archive]",
                                    "1": "[CityName]",
                                    "2": "nvarchar",
                                    "3": "100",
                                    "4": "32",
                                    "5": "16",
                                    "6": "1"
                                },
                                {
                                    "0": "[Application].[Countries]",
                                    "1": "[Continent]",
                                    "2": "nvarchar",
                                    "3": "60",
                                    "4": "46",
                                    "5": "23",
                                    "6": "1"
                                },
                                {
                                    "0": "[Application].[Countries]",
                                    "1": "[CountryName]",
                                    "2": "nvarchar",
                                    "3": "120",
                                    "4": "42",
                                    "5": "23",
                                    "6": "1"
                                },
                                {
                                    "0": "[Application].[Countries]",
                                    "1": "[CountryType]",
                                    "2": "nvarchar",
                                    "3": "40",
                                    "4": "30",
                                    "5": "15",
                                    "6": "1"
                                },
                                {
                                    "0": "[Application].[Countries]",
                                    "1": "[FormalName]",
                                    "2": "nvarchar",
                                    "3": "120",
                                    "4": "104",
                                    "5": "52",
                                    "6": "1"
                                },
                                {
                                    "0": "[Application].[Countries]",
                                    "1": "[IsoAlpha3Code]",
                                    "2": "nvarchar",
                                    "3": "6",
                                    "4": "6",
                                    "5": "3",
                                    "6": "1"
                                },
                                {
                                    "0": "[Application].[Countries]",
                                    "1": "[Region]",
                                    "2": "nvarchar",
                                    "3": "60",
                                    "4": "16",
                                    "5": "8",
                                    "6": "1"
                                },
                                {
                                    "0": "[Application].[Countries]",
                                    "1": "[Subregion]",
                                    "2": "nvarchar",
                                    "3": "60",
                                    "4": "50",
                                    "5": "25",
                                    "6": "1"
                                },
                                {
                                    "0": "[Application].[Countries_Archive]",
                                    "1": "[Continent]",
                                    "2": "nvarchar",
                                    "3": "60",
                                    "4": "26",
                                    "5": "13",
                                    "6": "1"
                                },
                                {
                                    "0": "[Application].[Countries_Archive]",
                                    "1": "[CountryName]",
                                    "2": "nvarchar",
                                    "3": "120",
                                    "4": "36",
                                    "5": "18",
                                    "6": "1"
                                },
                                {
                                    "0": "[Application].[Countries_Archive]",
                                    "1": "[CountryType]",
                                    "2": "nvarchar",
                                    "3": "40",
                                    "4": "30",
                                    "5": "15",
                                    "6": "1"
                                },
                                {
                                    "0": "[Application].[Countries_Archive]",
                                    "1": "[FormalName]",
                                    "2": "nvarchar",
                                    "3": "120",
                                    "4": "74",
                                    "5": "37",
                                    "6": "1"
                                },
                                {
                                    "0": "[Application].[Countries_Archive]",
                                    "1": "[IsoAlpha3Code]",
                                    "2": "nvarchar",
                                    "3": "6",
                                    "4": "6",
                                    "5": "3",
                                    "6": "1"
                                },
                                {
                                    "0": "[Application].[Countries_Archive]",
                                    "1": "[Region]",
                                    "2": "nvarchar",
                                    "3": "60",
                                    "4": "16",
                                    "5": "8",
                                    "6": "1"
                                },
                                {
                                    "0": "[Application].[Countries_Archive]",
                                    "1": "[Subregion]",
                                    "2": "nvarchar",
                                    "3": "60",
                                    "4": "50",
                                    "5": "25",
                                    "6": "1"
                                },
                                {
                                    "0": "[Application].[DeliveryMethods]",
                                    "1": "[DeliveryMethodName]",
                                    "2": "nvarchar",
                                    "3": "100",
                                    "4": "54",
                                    "5": "27",
                                    "6": "1"
                                },
                                {
                                    "0": "[Application].[DeliveryMethods_Archive]",
                                    "1": "[DeliveryMethodName]",
                                    "2": "nvarchar",
                                    "3": "100",
                                    "4": "32",
                                    "5": "16",
                                    "6": "1"
                                },
                                {
                                    "0": "[Application].[PaymentMethods]",
                                    "1": "[PaymentMethodName]",
                                    "2": "nvarchar",
                                    "3": "100",
                                    "4": "22",
                                    "5": "11",
                                    "6": "1"
                                },
                                {
                                    "0": "[Application].[PaymentMethods_Archive]",
                                    "1": "[PaymentMethodName]",
                                    "2": "nvarchar",
                                    "3": "100",
                                    "4": "22",
                                    "5": "11",
                                    "6": "1"
                                },
                                {
                                    "0": "[Application].[People]",
                                    "1": "[EmailAddress]",
                                    "2": "nvarchar",
                                    "3": "512",
                                    "4": "66",
                                    "5": "33",
                                    "6": "1"
                                },
                                {
                                    "0": "[Application].[People]",
                                    "1": "[FaxNumber]",
                                    "2": "nvarchar",
                                    "3": "40",
                                    "4": "28",
                                    "5": "14",
                                    "6": "1"
                                },
                                {
                                    "0": "[Application].[People]",
                                    "1": "[FullName]",
                                    "2": "nvarchar",
                                    "3": "100",
                                    "4": "58",
                                    "5": "29",
                                    "6": "1"
                                },
                                {
                                    "0": "[Application].[People]",
                                    "1": "[LogonName]",
                                    "2": "nvarchar",
                                    "3": "100",
                                    "4": "64",
                                    "5": "32",
                                    "6": "1"
                                },
                                {
                                    "0": "[Application].[People]",
                                    "1": "[PhoneNumber]",
                                    "2": "nvarchar",
                                    "3": "40",
                                    "4": "28",
                                    "5": "14",
                                    "6": "1"
                                },
                                {
                                    "0": "[Application].[People]",
                                    "1": "[PreferredName]",
                                    "2": "nvarchar",
                                    "3": "100",
                                    "4": "40",
                                    "5": "20",
                                    "6": "1"
                                },
                                {
                                    "0": "[Application].[People]",
                                    "1": "[SearchName]",
                                    "2": "nvarchar",
                                    "3": "202",
                                    "4": "92",
                                    "5": "46",
                                    "6": "1"
                                },
                                {
                                    "0": "[Application].[People_Archive]",
                                    "1": "[EmailAddress]",
                                    "2": "nvarchar",
                                    "3": "512",
                                    "4": "66",
                                    "5": "33",
                                    "6": "1"
                                },
                                {
                                    "0": "[Application].[People_Archive]",
                                    "1": "[FaxNumber]",
                                    "2": "nvarchar",
                                    "3": "40",
                                    "4": "28",
                                    "5": "14",
                                    "6": "1"
                                },
                                {
                                    "0": "[Application].[People_Archive]",
                                    "1": "[FullName]",
                                    "2": "nvarchar",
                                    "3": "100",
                                    "4": "46",
                                    "5": "23",
                                    "6": "1"
                                },
                                {
                                    "0": "[Application].[People_Archive]",
                                    "1": "[LogonName]",
                                    "2": "nvarchar",
                                    "3": "100",
                                    "4": "64",
                                    "5": "32",
                                    "6": "1"
                                },
                                {
                                    "0": "[Application].[People_Archive]",
                                    "1": "[PhoneNumber]",
                                    "2": "nvarchar",
                                    "3": "40",
                                    "4": "28",
                                    "5": "14",
                                    "6": "1"
                                },
                                {
                                    "0": "[Application].[People_Archive]",
                                    "1": "[PreferredName]",
                                    "2": "nvarchar",
                                    "3": "100",
                                    "4": "40",
                                    "5": "20",
                                    "6": "1"
                                },
                                {
                                    "0": "[Application].[People_Archive]",
                                    "1": "[SearchName]",
                                    "2": "nvarchar",
                                    "3": "202",
                                    "4": "82",
                                    "5": "41",
                                    "6": "1"
                                },
                                {
                                    "0": "[Application].[StateProvinces]",
                                    "1": "[SalesTerritory]",
                                    "2": "nvarchar",
                                    "3": "100",
                                    "4": "28",
                                    "5": "14",
                                    "6": "1"
                                },
                                {
                                    "0": "[Application].[StateProvinces]",
                                    "1": "[StateProvinceCode]",
                                    "2": "nvarchar",
                                    "3": "10",
                                    "4": "4",
                                    "5": "2",
                                    "6": "1"
                                },
                                {
                                    "0": "[Application].[StateProvinces]",
                                    "1": "[StateProvinceName]",
                                    "2": "nvarchar",
                                    "3": "100",
                                    "4": "58",
                                    "5": "29",
                                    "6": "1"
                                },
                                {
                                    "0": "[Application].[StateProvinces_Archive]",
                                    "1": "[SalesTerritory]",
                                    "2": "nvarchar",
                                    "3": "100",
                                    "4": "28",
                                    "5": "14",
                                    "6": "1"
                                },
                                {
                                    "0": "[Application].[StateProvinces_Archive]",
                                    "1": "[StateProvinceCode]",
                                    "2": "nvarchar",
                                    "3": "10",
                                    "4": "4",
                                    "5": "2",
                                    "6": "1"
                                },
                                {
                                    "0": "[Application].[StateProvinces_Archive]",
                                    "1": "[StateProvinceName]",
                                    "2": "nvarchar",
                                    "3": "100",
                                    "4": "52",
                                    "5": "26",
                                    "6": "1"
                                },
                                {
                                    "0": "[Application].[SystemParameters]",
                                    "1": "[DeliveryAddressLine1]",
                                    "2": "nvarchar",
                                    "3": "120",
                                    "4": "16",
                                    "5": "8",
                                    "6": "1"
                                },
                                {
                                    "0": "[Application].[SystemParameters]",
                                    "1": "[DeliveryAddressLine2]",
                                    "2": "nvarchar",
                                    "3": "120",
                                    "4": "72",
                                    "5": "36",
                                    "6": "1"
                                },
                                {
                                    "0": "[Application].[SystemParameters]",
                                    "1": "[DeliveryPostalCode]",
                                    "2": "nvarchar",
                                    "3": "20",
                                    "4": "10",
                                    "5": "5",
                                    "6": "1"
                                },
                                {
                                    "0": "[Application].[SystemParameters]",
                                    "1": "[PostalAddressLine1]",
                                    "2": "nvarchar",
                                    "3": "120",
                                    "4": "26",
                                    "5": "13",
                                    "6": "1"
                                },
                                {
                                    "0": "[Application].[SystemParameters]",
                                    "1": "[PostalAddressLine2]",
                                    "2": "nvarchar",
                                    "3": "120",
                                    "4": "32",
                                    "5": "16",
                                    "6": "1"
                                },
                                {
                                    "0": "[Application].[SystemParameters]",
                                    "1": "[PostalPostalCode]",
                                    "2": "nvarchar",
                                    "3": "20",
                                    "4": "10",
                                    "5": "5",
                                    "6": "1"
                                },
                                {
                                    "0": "[Application].[TransactionTypes]",
                                    "1": "[TransactionTypeName]",
                                    "2": "nvarchar",
                                    "3": "100",
                                    "4": "58",
                                    "5": "29",
                                    "6": "1"
                                },
                                {
                                    "0": "[Application].[TransactionTypes_Archive]",
                                    "1": "[TransactionTypeName]",
                                    "2": "nvarchar",
                                    "3": "100",
                                    "4": "12",
                                    "5": "6",
                                    "6": "1"
                                },
                                {
                                    "0": "[Purchasing].[PurchaseOrderLines]",
                                    "1": "[Description]",
                                    "2": "nvarchar",
                                    "3": "200",
                                    "4": "170",
                                    "5": "85",
                                    "6": "1"
                                },
                                {
                                    "0": "[Purchasing].[PurchaseOrders]",
                                    "1": "[SupplierReference]",
                                    "2": "nvarchar",
                                    "3": "40",
                                    "4": "18",
                                    "5": "9",
                                    "6": "1"
                                },
                                {
                                    "0": "[Purchasing].[SupplierCategories]",
                                    "1": "[SupplierCategoryName]",
                                    "2": "nvarchar",
                                    "3": "100",
                                    "4": "54",
                                    "5": "27",
                                    "6": "1"
                                },
                                {
                                    "0": "[Purchasing].[SupplierCategories_Archive]",
                                    "1": "[SupplierCategoryName]",
                                    "2": "nvarchar",
                                    "3": "100",
                                    "4": "14",
                                    "5": "7",
                                    "6": "1"
                                },
                                {
                                    "0": "[Purchasing].[Suppliers]",
                                    "1": "[BankAccountBranch]",
                                    "2": "nvarchar",
                                    "3": "100",
                                    "4": "62",
                                    "5": "31",
                                    "6": "1"
                                },
                                {
                                    "0": "[Purchasing].[Suppliers]",
                                    "1": "[BankAccountCode]",
                                    "2": "nvarchar",
                                    "3": "40",
                                    "4": "12",
                                    "5": "6",
                                    "6": "1"
                                },
                                {
                                    "0": "[Purchasing].[Suppliers]",
                                    "1": "[BankAccountName]",
                                    "2": "nvarchar",
                                    "3": "100",
                                    "4": "48",
                                    "5": "24",
                                    "6": "1"
                                },
                                {
                                    "0": "[Purchasing].[Suppliers]",
                                    "1": "[BankAccountNumber]",
                                    "2": "nvarchar",
                                    "3": "40",
                                    "4": "20",
                                    "5": "10",
                                    "6": "1"
                                },
                                {
                                    "0": "[Purchasing].[Suppliers]",
                                    "1": "[BankInternationalCode]",
                                    "2": "nvarchar",
                                    "3": "40",
                                    "4": "10",
                                    "5": "5",
                                    "6": "1"
                                },
                                {
                                    "0": "[Purchasing].[Suppliers]",
                                    "1": "[DeliveryAddressLine1]",
                                    "2": "nvarchar",
                                    "3": "120",
                                    "4": "16",
                                    "5": "8",
                                    "6": "1"
                                },
                                {
                                    "0": "[Purchasing].[Suppliers]",
                                    "1": "[DeliveryAddressLine2]",
                                    "2": "nvarchar",
                                    "3": "120",
                                    "4": "52",
                                    "5": "26",
                                    "6": "1"
                                },
                                {
                                    "0": "[Purchasing].[Suppliers]",
                                    "1": "[DeliveryPostalCode]",
                                    "2": "nvarchar",
                                    "3": "20",
                                    "4": "10",
                                    "5": "5",
                                    "6": "1"
                                },
                                {
                                    "0": "[Purchasing].[Suppliers]",
                                    "1": "[FaxNumber]",
                                    "2": "nvarchar",
                                    "3": "40",
                                    "4": "28",
                                    "5": "14",
                                    "6": "1"
                                },
                                {
                                    "0": "[Purchasing].[Suppliers]",
                                    "1": "[PhoneNumber]",
                                    "2": "nvarchar",
                                    "3": "40",
                                    "4": "28",
                                    "5": "14",
                                    "6": "1"
                                },
                                {
                                    "0": "[Purchasing].[Suppliers]",
                                    "1": "[PostalAddressLine1]",
                                    "2": "nvarchar",
                                    "3": "120",
                                    "4": "24",
                                    "5": "12",
                                    "6": "1"
                                },
                                {
                                    "0": "[Purchasing].[Suppliers]",
                                    "1": "[PostalAddressLine2]",
                                    "2": "nvarchar",
                                    "3": "120",
                                    "4": "20",
                                    "5": "10",
                                    "6": "1"
                                },
                                {
                                    "0": "[Purchasing].[Suppliers]",
                                    "1": "[PostalPostalCode]",
                                    "2": "nvarchar",
                                    "3": "20",
                                    "4": "10",
                                    "5": "5",
                                    "6": "1"
                                },
                                {
                                    "0": "[Purchasing].[Suppliers]",
                                    "1": "[SupplierName]",
                                    "2": "nvarchar",
                                    "3": "200",
                                    "4": "48",
                                    "5": "24",
                                    "6": "1"
                                },
                                {
                                    "0": "[Purchasing].[Suppliers]",
                                    "1": "[SupplierReference]",
                                    "2": "nvarchar",
                                    "3": "40",
                                    "4": "22",
                                    "5": "11",
                                    "6": "1"
                                },
                                {
                                    "0": "[Purchasing].[Suppliers]",
                                    "1": "[WebsiteURL]",
                                    "2": "nvarchar",
                                    "3": "512",
                                    "4": "74",
                                    "5": "37",
                                    "6": "1"
                                },
                                {
                                    "0": "[Purchasing].[Suppliers_Archive]",
                                    "1": "[BankAccountBranch]",
                                    "2": "nvarchar",
                                    "3": "100",
                                    "4": "62",
                                    "5": "31",
                                    "6": "1"
                                },
                                {
                                    "0": "[Purchasing].[Suppliers_Archive]",
                                    "1": "[BankAccountCode]",
                                    "2": "nvarchar",
                                    "3": "40",
                                    "4": "12",
                                    "5": "6",
                                    "6": "1"
                                },
                                {
                                    "0": "[Purchasing].[Suppliers_Archive]",
                                    "1": "[BankAccountName]",
                                    "2": "nvarchar",
                                    "3": "100",
                                    "4": "48",
                                    "5": "24",
                                    "6": "1"
                                },
                                {
                                    "0": "[Purchasing].[Suppliers_Archive]",
                                    "1": "[BankAccountNumber]",
                                    "2": "nvarchar",
                                    "3": "40",
                                    "4": "20",
                                    "5": "10",
                                    "6": "1"
                                },
                                {
                                    "0": "[Purchasing].[Suppliers_Archive]",
                                    "1": "[BankInternationalCode]",
                                    "2": "nvarchar",
                                    "3": "40",
                                    "4": "10",
                                    "5": "5",
                                    "6": "1"
                                },
                                {
                                    "0": "[Purchasing].[Suppliers_Archive]",
                                    "1": "[DeliveryAddressLine1]",
                                    "2": "nvarchar",
                                    "3": "120",
                                    "4": "16",
                                    "5": "8",
                                    "6": "1"
                                },
                                {
                                    "0": "[Purchasing].[Suppliers_Archive]",
                                    "1": "[DeliveryAddressLine2]",
                                    "2": "nvarchar",
                                    "3": "120",
                                    "4": "52",
                                    "5": "26",
                                    "6": "1"
                                },
                                {
                                    "0": "[Purchasing].[Suppliers_Archive]",
                                    "1": "[DeliveryPostalCode]",
                                    "2": "nvarchar",
                                    "3": "20",
                                    "4": "10",
                                    "5": "5",
                                    "6": "1"
                                },
                                {
                                    "0": "[Purchasing].[Suppliers_Archive]",
                                    "1": "[FaxNumber]",
                                    "2": "nvarchar",
                                    "3": "40",
                                    "4": "28",
                                    "5": "14",
                                    "6": "1"
                                },
                                {
                                    "0": "[Purchasing].[Suppliers_Archive]",
                                    "1": "[PhoneNumber]",
                                    "2": "nvarchar",
                                    "3": "40",
                                    "4": "28",
                                    "5": "14",
                                    "6": "1"
                                },
                                {
                                    "0": "[Purchasing].[Suppliers_Archive]",
                                    "1": "[PostalAddressLine1]",
                                    "2": "nvarchar",
                                    "3": "120",
                                    "4": "24",
                                    "5": "12",
                                    "6": "1"
                                },
                                {
                                    "0": "[Purchasing].[Suppliers_Archive]",
                                    "1": "[PostalAddressLine2]",
                                    "2": "nvarchar",
                                    "3": "120",
                                    "4": "20",
                                    "5": "10",
                                    "6": "1"
                                },
                                {
                                    "0": "[Purchasing].[Suppliers_Archive]",
                                    "1": "[PostalPostalCode]",
                                    "2": "nvarchar",
                                    "3": "20",
                                    "4": "10",
                                    "5": "5",
                                    "6": "1"
                                },
                                {
                                    "0": "[Purchasing].[Suppliers_Archive]",
                                    "1": "[SupplierName]",
                                    "2": "nvarchar",
                                    "3": "200",
                                    "4": "48",
                                    "5": "24",
                                    "6": "1"
                                },
                                {
                                    "0": "[Purchasing].[Suppliers_Archive]",
                                    "1": "[SupplierReference]",
                                    "2": "nvarchar",
                                    "3": "40",
                                    "4": "22",
                                    "5": "11",
                                    "6": "1"
                                },
                                {
                                    "0": "[Purchasing].[Suppliers_Archive]",
                                    "1": "[WebsiteURL]",
                                    "2": "nvarchar",
                                    "3": "512",
                                    "4": "74",
                                    "5": "37",
                                    "6": "1"
                                },
                                {
                                    "0": "[Purchasing].[SupplierTransactions]",
                                    "1": "[SupplierInvoiceNumber]",
                                    "2": "nvarchar",
                                    "3": "40",
                                    "4": "8",
                                    "5": "4",
                                    "6": "1"
                                },
                                {
                                    "0": "[Sales].[BuyingGroups]",
                                    "1": "[BuyingGroupName]",
                                    "2": "nvarchar",
                                    "3": "100",
                                    "4": "26",
                                    "5": "13",
                                    "6": "1"
                                },
                                {
                                    "0": "[Sales].[BuyingGroups_Archive]",
                                    "1": "[BuyingGroupName]",
                                    "2": "nvarchar",
                                    "3": "100",
                                    "4": "NULL",
                                    "5": "NULL",
                                    "6": "1"
                                },
                                {
                                    "0": "[Sales].[CustomerCategories]",
                                    "1": "[CustomerCategoryName]",
                                    "2": "nvarchar",
                                    "3": "100",
                                    "4": "32",
                                    "5": "16",
                                    "6": "1"
                                },
                                {
                                    "0": "[Sales].[CustomerCategories_Archive]",
                                    "1": "[CustomerCategoryName]",
                                    "2": "nvarchar",
                                    "3": "100",
                                    "4": "16",
                                    "5": "8",
                                    "6": "1"
                                },
                                {
                                    "0": "[Sales].[Customers]",
                                    "1": "[CustomerName]",
                                    "2": "nvarchar",
                                    "3": "200",
                                    "4": "76",
                                    "5": "38",
                                    "6": "1"
                                },
                                {
                                    "0": "[Sales].[Customers]",
                                    "1": "[DeliveryAddressLine1]",
                                    "2": "nvarchar",
                                    "3": "120",
                                    "4": "18",
                                    "5": "9",
                                    "6": "1"
                                },
                                {
                                    "0": "[Sales].[Customers]",
                                    "1": "[DeliveryAddressLine2]",
                                    "2": "nvarchar",
                                    "3": "120",
                                    "4": "52",
                                    "5": "26",
                                    "6": "1"
                                },
                                {
                                    "0": "[Sales].[Customers]",
                                    "1": "[DeliveryPostalCode]",
                                    "2": "nvarchar",
                                    "3": "20",
                                    "4": "10",
                                    "5": "5",
                                    "6": "1"
                                },
                                {
                                    "0": "[Sales].[Customers]",
                                    "1": "[DeliveryRun]",
                                    "2": "nvarchar",
                                    "3": "10",
                                    "4": "0",
                                    "5": "0",
                                    "6": "1"
                                },
                                {
                                    "0": "[Sales].[Customers]",
                                    "1": "[FaxNumber]",
                                    "2": "nvarchar",
                                    "3": "40",
                                    "4": "28",
                                    "5": "14",
                                    "6": "1"
                                },
                                {
                                    "0": "[Sales].[Customers]",
                                    "1": "[PhoneNumber]",
                                    "2": "nvarchar",
                                    "3": "40",
                                    "4": "28",
                                    "5": "14",
                                    "6": "1"
                                },
                                {
                                    "0": "[Sales].[Customers]",
                                    "1": "[PostalAddressLine1]",
                                    "2": "nvarchar",
                                    "3": "120",
                                    "4": "22",
                                    "5": "11",
                                    "6": "1"
                                },
                                {
                                    "0": "[Sales].[Customers]",
                                    "1": "[PostalAddressLine2]",
                                    "2": "nvarchar",
                                    "3": "120",
                                    "4": "42",
                                    "5": "21",
                                    "6": "1"
                                },
                                {
                                    "0": "[Sales].[Customers]",
                                    "1": "[PostalPostalCode]",
                                    "2": "nvarchar",
                                    "3": "20",
                                    "4": "10",
                                    "5": "5",
                                    "6": "1"
                                },
                                {
                                    "0": "[Sales].[Customers]",
                                    "1": "[RunPosition]",
                                    "2": "nvarchar",
                                    "3": "10",
                                    "4": "0",
                                    "5": "0",
                                    "6": "1"
                                },
                                {
                                    "0": "[Sales].[Customers]",
                                    "1": "[WebsiteURL]",
                                    "2": "nvarchar",
                                    "3": "512",
                                    "4": "104",
                                    "5": "52",
                                    "6": "1"
                                },
                                {
                                    "0": "[Sales].[Customers_Archive]",
                                    "1": "[CustomerName]",
                                    "2": "nvarchar",
                                    "3": "200",
                                    "4": "46",
                                    "5": "23",
                                    "6": "1"
                                },
                                {
                                    "0": "[Sales].[Customers_Archive]",
                                    "1": "[DeliveryAddressLine1]",
                                    "2": "nvarchar",
                                    "3": "120",
                                    "4": "16",
                                    "5": "8",
                                    "6": "1"
                                },
                                {
                                    "0": "[Sales].[Customers_Archive]",
                                    "1": "[DeliveryAddressLine2]",
                                    "2": "nvarchar",
                                    "3": "120",
                                    "4": "48",
                                    "5": "24",
                                    "6": "1"
                                },
                                {
                                    "0": "[Sales].[Customers_Archive]",
                                    "1": "[DeliveryPostalCode]",
                                    "2": "nvarchar",
                                    "3": "20",
                                    "4": "10",
                                    "5": "5",
                                    "6": "1"
                                },
                                {
                                    "0": "[Sales].[Customers_Archive]",
                                    "1": "[DeliveryRun]",
                                    "2": "nvarchar",
                                    "3": "10",
                                    "4": "0",
                                    "5": "0",
                                    "6": "1"
                                },
                                {
                                    "0": "[Sales].[Customers_Archive]",
                                    "1": "[FaxNumber]",
                                    "2": "nvarchar",
                                    "3": "40",
                                    "4": "28",
                                    "5": "14",
                                    "6": "1"
                                },
                                {
                                    "0": "[Sales].[Customers_Archive]",
                                    "1": "[PhoneNumber]",
                                    "2": "nvarchar",
                                    "3": "40",
                                    "4": "28",
                                    "5": "14",
                                    "6": "1"
                                },
                                {
                                    "0": "[Sales].[Customers_Archive]",
                                    "1": "[PostalAddressLine1]",
                                    "2": "nvarchar",
                                    "3": "120",
                                    "4": "22",
                                    "5": "11",
                                    "6": "1"
                                },
                                {
                                    "0": "[Sales].[Customers_Archive]",
                                    "1": "[PostalAddressLine2]",
                                    "2": "nvarchar",
                                    "3": "120",
                                    "4": "34",
                                    "5": "17",
                                    "6": "1"
                                },
                                {
                                    "0": "[Sales].[Customers_Archive]",
                                    "1": "[PostalPostalCode]",
                                    "2": "nvarchar",
                                    "3": "20",
                                    "4": "10",
                                    "5": "5",
                                    "6": "1"
                                },
                                {
                                    "0": "[Sales].[Customers_Archive]",
                                    "1": "[RunPosition]",
                                    "2": "nvarchar",
                                    "3": "10",
                                    "4": "0",
                                    "5": "0",
                                    "6": "1"
                                },
                                {
                                    "0": "[Sales].[Customers_Archive]",
                                    "1": "[WebsiteURL]",
                                    "2": "nvarchar",
                                    "3": "512",
                                    "4": "96",
                                    "5": "48",
                                    "6": "1"
                                },
                                {
                                    "0": "[Sales].[InvoiceLines]",
                                    "1": "[Description]",
                                    "2": "nvarchar",
                                    "3": "200",
                                    "4": "170",
                                    "5": "85",
                                    "6": "1"
                                },
                                {
                                    "0": "[Sales].[Invoices]",
                                    "1": "[ConfirmedReceivedBy]",
                                    "2": "nvarchar",
                                    "3": "8000",
                                    "4": "58",
                                    "5": "29",
                                    "6": "1"
                                },
                                {
                                    "0": "[Sales].[Invoices]",
                                    "1": "[CustomerPurchaseOrderNumber]",
                                    "2": "nvarchar",
                                    "3": "40",
                                    "4": "10",
                                    "5": "5",
                                    "6": "1"
                                },
                                {
                                    "0": "[Sales].[Invoices]",
                                    "1": "[DeliveryRun]",
                                    "2": "nvarchar",
                                    "3": "10",
                                    "4": "0",
                                    "5": "0",
                                    "6": "1"
                                },
                                {
                                    "0": "[Sales].[Invoices]",
                                    "1": "[RunPosition]",
                                    "2": "nvarchar",
                                    "3": "10",
                                    "4": "0",
                                    "5": "0",
                                    "6": "1"
                                },
                                {
                                    "0": "[Sales].[OrderLines]",
                                    "1": "[Description]",
                                    "2": "nvarchar",
                                    "3": "200",
                                    "4": "170",
                                    "5": "85",
                                    "6": "1"
                                },
                                {
                                    "0": "[Sales].[Orders]",
                                    "1": "[CustomerPurchaseOrderNumber]",
                                    "2": "nvarchar",
                                    "3": "40",
                                    "4": "10",
                                    "5": "5",
                                    "6": "1"
                                },
                                {
                                    "0": "[Sales].[SpecialDeals]",
                                    "1": "[DealDescription]",
                                    "2": "nvarchar",
                                    "3": "60",
                                    "4": "48",
                                    "5": "24",
                                    "6": "1"
                                },
                                {
                                    "0": "[Warehouse].[Colors]",
                                    "1": "[ColorName]",
                                    "2": "nvarchar",
                                    "3": "40",
                                    "4": "22",
                                    "5": "11",
                                    "6": "1"
                                },
                                {
                                    "0": "[Warehouse].[Colors_Archive]",
                                    "1": "[ColorName]",
                                    "2": "nvarchar",
                                    "3": "40",
                                    "4": "8",
                                    "5": "4",
                                    "6": "1"
                                },
                                {
                                    "0": "[Warehouse].[PackageTypes]",
                                    "1": "[PackageTypeName]",
                                    "2": "nvarchar",
                                    "3": "100",
                                    "4": "12",
                                    "5": "6",
                                    "6": "1"
                                },
                                {
                                    "0": "[Warehouse].[PackageTypes_Archive]",
                                    "1": "[PackageTypeName]",
                                    "2": "nvarchar",
                                    "3": "100",
                                    "4": "NULL",
                                    "5": "NULL",
                                    "6": "1"
                                },
                                {
                                    "0": "[Warehouse].[StockGroups]",
                                    "1": "[StockGroupName]",
                                    "2": "nvarchar",
                                    "3": "100",
                                    "4": "38",
                                    "5": "19",
                                    "6": "1"
                                },
                                {
                                    "0": "[Warehouse].[StockGroups_Archive]",
                                    "1": "[StockGroupName]",
                                    "2": "nvarchar",
                                    "3": "100",
                                    "4": "16",
                                    "5": "8",
                                    "6": "1"
                                },
                                {
                                    "0": "[Warehouse].[StockItemHoldings]",
                                    "1": "[BinLocation]",
                                    "2": "nvarchar",
                                    "3": "40",
                                    "4": "8",
                                    "5": "4",
                                    "6": "1"
                                },
                                {
                                    "0": "[Warehouse].[StockItems]",
                                    "1": "[Barcode]",
                                    "2": "nvarchar",
                                    "3": "100",
                                    "4": "26",
                                    "5": "13",
                                    "6": "1"
                                },
                                {
                                    "0": "[Warehouse].[StockItems]",
                                    "1": "[Brand]",
                                    "2": "nvarchar",
                                    "3": "100",
                                    "4": "18",
                                    "5": "9",
                                    "6": "1"
                                },
                                {
                                    "0": "[Warehouse].[StockItems]",
                                    "1": "[Size]",
                                    "2": "nvarchar",
                                    "3": "40",
                                    "4": "26",
                                    "5": "13",
                                    "6": "1"
                                },
                                {
                                    "0": "[Warehouse].[StockItems]",
                                    "1": "[StockItemName]",
                                    "2": "nvarchar",
                                    "3": "200",
                                    "4": "170",
                                    "5": "85",
                                    "6": "1"
                                },
                                {
                                    "0": "[Warehouse].[StockItems_Archive]",
                                    "1": "[Barcode]",
                                    "2": "nvarchar",
                                    "3": "100",
                                    "4": "26",
                                    "5": "13",
                                    "6": "1"
                                },
                                {
                                    "0": "[Warehouse].[StockItems_Archive]",
                                    "1": "[Brand]",
                                    "2": "nvarchar",
                                    "3": "100",
                                    "4": "18",
                                    "5": "9",
                                    "6": "1"
                                },
                                {
                                    "0": "[Warehouse].[StockItems_Archive]",
                                    "1": "[Size]",
                                    "2": "nvarchar",
                                    "3": "40",
                                    "4": "26",
                                    "5": "13",
                                    "6": "1"
                                },
                                {
                                    "0": "[Warehouse].[StockItems_Archive]",
                                    "1": "[StockItemName]",
                                    "2": "nvarchar",
                                    "3": "200",
                                    "4": "170",
                                    "5": "85",
                                    "6": "1"
                                },
                                {
                                    "0": "[Warehouse].[VehicleTemperatures]",
                                    "1": "[FullSensorData]",
                                    "2": "nvarchar",
                                    "3": "2000",
                                    "4": "392",
                                    "5": "196",
                                    "6": "1"
                                },
                                {
                                    "0": "[Warehouse].[VehicleTemperatures]",
                                    "1": "[VehicleRegistration]",
                                    "2": "nvarchar",
                                    "3": "40",
                                    "4": "18",
                                    "5": "9",
                                    "6": "1"
                                }
                            ]
                        },
                        "text/html": "<table><tr><th>ObjectName</th><th>ColumnName</th><th>ColumnType</th><th>DefinedTypeSize</th><th>ActualMaxBytes</th><th>UTF8BytesNeeded</th><th>isdone</th></tr><tr><td>[Application].[Cities]</td><td>[CityName]</td><td>nvarchar</td><td>100</td><td>70</td><td>35</td><td>1</td></tr><tr><td>[Application].[Cities_Archive]</td><td>[CityName]</td><td>nvarchar</td><td>100</td><td>32</td><td>16</td><td>1</td></tr><tr><td>[Application].[Countries]</td><td>[Continent]</td><td>nvarchar</td><td>60</td><td>46</td><td>23</td><td>1</td></tr><tr><td>[Application].[Countries]</td><td>[CountryName]</td><td>nvarchar</td><td>120</td><td>42</td><td>23</td><td>1</td></tr><tr><td>[Application].[Countries]</td><td>[CountryType]</td><td>nvarchar</td><td>40</td><td>30</td><td>15</td><td>1</td></tr><tr><td>[Application].[Countries]</td><td>[FormalName]</td><td>nvarchar</td><td>120</td><td>104</td><td>52</td><td>1</td></tr><tr><td>[Application].[Countries]</td><td>[IsoAlpha3Code]</td><td>nvarchar</td><td>6</td><td>6</td><td>3</td><td>1</td></tr><tr><td>[Application].[Countries]</td><td>[Region]</td><td>nvarchar</td><td>60</td><td>16</td><td>8</td><td>1</td></tr><tr><td>[Application].[Countries]</td><td>[Subregion]</td><td>nvarchar</td><td>60</td><td>50</td><td>25</td><td>1</td></tr><tr><td>[Application].[Countries_Archive]</td><td>[Continent]</td><td>nvarchar</td><td>60</td><td>26</td><td>13</td><td>1</td></tr><tr><td>[Application].[Countries_Archive]</td><td>[CountryName]</td><td>nvarchar</td><td>120</td><td>36</td><td>18</td><td>1</td></tr><tr><td>[Application].[Countries_Archive]</td><td>[CountryType]</td><td>nvarchar</td><td>40</td><td>30</td><td>15</td><td>1</td></tr><tr><td>[Application].[Countries_Archive]</td><td>[FormalName]</td><td>nvarchar</td><td>120</td><td>74</td><td>37</td><td>1</td></tr><tr><td>[Application].[Countries_Archive]</td><td>[IsoAlpha3Code]</td><td>nvarchar</td><td>6</td><td>6</td><td>3</td><td>1</td></tr><tr><td>[Application].[Countries_Archive]</td><td>[Region]</td><td>nvarchar</td><td>60</td><td>16</td><td>8</td><td>1</td></tr><tr><td>[Application].[Countries_Archive]</td><td>[Subregion]</td><td>nvarchar</td><td>60</td><td>50</td><td>25</td><td>1</td></tr><tr><td>[Application].[DeliveryMethods]</td><td>[DeliveryMethodName]</td><td>nvarchar</td><td>100</td><td>54</td><td>27</td><td>1</td></tr><tr><td>[Application].[DeliveryMethods_Archive]</td><td>[DeliveryMethodName]</td><td>nvarchar</td><td>100</td><td>32</td><td>16</td><td>1</td></tr><tr><td>[Application].[PaymentMethods]</td><td>[PaymentMethodName]</td><td>nvarchar</td><td>100</td><td>22</td><td>11</td><td>1</td></tr><tr><td>[Application].[PaymentMethods_Archive]</td><td>[PaymentMethodName]</td><td>nvarchar</td><td>100</td><td>22</td><td>11</td><td>1</td></tr><tr><td>[Application].[People]</td><td>[EmailAddress]</td><td>nvarchar</td><td>512</td><td>66</td><td>33</td><td>1</td></tr><tr><td>[Application].[People]</td><td>[FaxNumber]</td><td>nvarchar</td><td>40</td><td>28</td><td>14</td><td>1</td></tr><tr><td>[Application].[People]</td><td>[FullName]</td><td>nvarchar</td><td>100</td><td>58</td><td>29</td><td>1</td></tr><tr><td>[Application].[People]</td><td>[LogonName]</td><td>nvarchar</td><td>100</td><td>64</td><td>32</td><td>1</td></tr><tr><td>[Application].[People]</td><td>[PhoneNumber]</td><td>nvarchar</td><td>40</td><td>28</td><td>14</td><td>1</td></tr><tr><td>[Application].[People]</td><td>[PreferredName]</td><td>nvarchar</td><td>100</td><td>40</td><td>20</td><td>1</td></tr><tr><td>[Application].[People]</td><td>[SearchName]</td><td>nvarchar</td><td>202</td><td>92</td><td>46</td><td>1</td></tr><tr><td>[Application].[People_Archive]</td><td>[EmailAddress]</td><td>nvarchar</td><td>512</td><td>66</td><td>33</td><td>1</td></tr><tr><td>[Application].[People_Archive]</td><td>[FaxNumber]</td><td>nvarchar</td><td>40</td><td>28</td><td>14</td><td>1</td></tr><tr><td>[Application].[People_Archive]</td><td>[FullName]</td><td>nvarchar</td><td>100</td><td>46</td><td>23</td><td>1</td></tr><tr><td>[Application].[People_Archive]</td><td>[LogonName]</td><td>nvarchar</td><td>100</td><td>64</td><td>32</td><td>1</td></tr><tr><td>[Application].[People_Archive]</td><td>[PhoneNumber]</td><td>nvarchar</td><td>40</td><td>28</td><td>14</td><td>1</td></tr><tr><td>[Application].[People_Archive]</td><td>[PreferredName]</td><td>nvarchar</td><td>100</td><td>40</td><td>20</td><td>1</td></tr><tr><td>[Application].[People_Archive]</td><td>[SearchName]</td><td>nvarchar</td><td>202</td><td>82</td><td>41</td><td>1</td></tr><tr><td>[Application].[StateProvinces]</td><td>[SalesTerritory]</td><td>nvarchar</td><td>100</td><td>28</td><td>14</td><td>1</td></tr><tr><td>[Application].[StateProvinces]</td><td>[StateProvinceCode]</td><td>nvarchar</td><td>10</td><td>4</td><td>2</td><td>1</td></tr><tr><td>[Application].[StateProvinces]</td><td>[StateProvinceName]</td><td>nvarchar</td><td>100</td><td>58</td><td>29</td><td>1</td></tr><tr><td>[Application].[StateProvinces_Archive]</td><td>[SalesTerritory]</td><td>nvarchar</td><td>100</td><td>28</td><td>14</td><td>1</td></tr><tr><td>[Application].[StateProvinces_Archive]</td><td>[StateProvinceCode]</td><td>nvarchar</td><td>10</td><td>4</td><td>2</td><td>1</td></tr><tr><td>[Application].[StateProvinces_Archive]</td><td>[StateProvinceName]</td><td>nvarchar</td><td>100</td><td>52</td><td>26</td><td>1</td></tr><tr><td>[Application].[SystemParameters]</td><td>[DeliveryAddressLine1]</td><td>nvarchar</td><td>120</td><td>16</td><td>8</td><td>1</td></tr><tr><td>[Application].[SystemParameters]</td><td>[DeliveryAddressLine2]</td><td>nvarchar</td><td>120</td><td>72</td><td>36</td><td>1</td></tr><tr><td>[Application].[SystemParameters]</td><td>[DeliveryPostalCode]</td><td>nvarchar</td><td>20</td><td>10</td><td>5</td><td>1</td></tr><tr><td>[Application].[SystemParameters]</td><td>[PostalAddressLine1]</td><td>nvarchar</td><td>120</td><td>26</td><td>13</td><td>1</td></tr><tr><td>[Application].[SystemParameters]</td><td>[PostalAddressLine2]</td><td>nvarchar</td><td>120</td><td>32</td><td>16</td><td>1</td></tr><tr><td>[Application].[SystemParameters]</td><td>[PostalPostalCode]</td><td>nvarchar</td><td>20</td><td>10</td><td>5</td><td>1</td></tr><tr><td>[Application].[TransactionTypes]</td><td>[TransactionTypeName]</td><td>nvarchar</td><td>100</td><td>58</td><td>29</td><td>1</td></tr><tr><td>[Application].[TransactionTypes_Archive]</td><td>[TransactionTypeName]</td><td>nvarchar</td><td>100</td><td>12</td><td>6</td><td>1</td></tr><tr><td>[Purchasing].[PurchaseOrderLines]</td><td>[Description]</td><td>nvarchar</td><td>200</td><td>170</td><td>85</td><td>1</td></tr><tr><td>[Purchasing].[PurchaseOrders]</td><td>[SupplierReference]</td><td>nvarchar</td><td>40</td><td>18</td><td>9</td><td>1</td></tr><tr><td>[Purchasing].[SupplierCategories]</td><td>[SupplierCategoryName]</td><td>nvarchar</td><td>100</td><td>54</td><td>27</td><td>1</td></tr><tr><td>[Purchasing].[SupplierCategories_Archive]</td><td>[SupplierCategoryName]</td><td>nvarchar</td><td>100</td><td>14</td><td>7</td><td>1</td></tr><tr><td>[Purchasing].[Suppliers]</td><td>[BankAccountBranch]</td><td>nvarchar</td><td>100</td><td>62</td><td>31</td><td>1</td></tr><tr><td>[Purchasing].[Suppliers]</td><td>[BankAccountCode]</td><td>nvarchar</td><td>40</td><td>12</td><td>6</td><td>1</td></tr><tr><td>[Purchasing].[Suppliers]</td><td>[BankAccountName]</td><td>nvarchar</td><td>100</td><td>48</td><td>24</td><td>1</td></tr><tr><td>[Purchasing].[Suppliers]</td><td>[BankAccountNumber]</td><td>nvarchar</td><td>40</td><td>20</td><td>10</td><td>1</td></tr><tr><td>[Purchasing].[Suppliers]</td><td>[BankInternationalCode]</td><td>nvarchar</td><td>40</td><td>10</td><td>5</td><td>1</td></tr><tr><td>[Purchasing].[Suppliers]</td><td>[DeliveryAddressLine1]</td><td>nvarchar</td><td>120</td><td>16</td><td>8</td><td>1</td></tr><tr><td>[Purchasing].[Suppliers]</td><td>[DeliveryAddressLine2]</td><td>nvarchar</td><td>120</td><td>52</td><td>26</td><td>1</td></tr><tr><td>[Purchasing].[Suppliers]</td><td>[DeliveryPostalCode]</td><td>nvarchar</td><td>20</td><td>10</td><td>5</td><td>1</td></tr><tr><td>[Purchasing].[Suppliers]</td><td>[FaxNumber]</td><td>nvarchar</td><td>40</td><td>28</td><td>14</td><td>1</td></tr><tr><td>[Purchasing].[Suppliers]</td><td>[PhoneNumber]</td><td>nvarchar</td><td>40</td><td>28</td><td>14</td><td>1</td></tr><tr><td>[Purchasing].[Suppliers]</td><td>[PostalAddressLine1]</td><td>nvarchar</td><td>120</td><td>24</td><td>12</td><td>1</td></tr><tr><td>[Purchasing].[Suppliers]</td><td>[PostalAddressLine2]</td><td>nvarchar</td><td>120</td><td>20</td><td>10</td><td>1</td></tr><tr><td>[Purchasing].[Suppliers]</td><td>[PostalPostalCode]</td><td>nvarchar</td><td>20</td><td>10</td><td>5</td><td>1</td></tr><tr><td>[Purchasing].[Suppliers]</td><td>[SupplierName]</td><td>nvarchar</td><td>200</td><td>48</td><td>24</td><td>1</td></tr><tr><td>[Purchasing].[Suppliers]</td><td>[SupplierReference]</td><td>nvarchar</td><td>40</td><td>22</td><td>11</td><td>1</td></tr><tr><td>[Purchasing].[Suppliers]</td><td>[WebsiteURL]</td><td>nvarchar</td><td>512</td><td>74</td><td>37</td><td>1</td></tr><tr><td>[Purchasing].[Suppliers_Archive]</td><td>[BankAccountBranch]</td><td>nvarchar</td><td>100</td><td>62</td><td>31</td><td>1</td></tr><tr><td>[Purchasing].[Suppliers_Archive]</td><td>[BankAccountCode]</td><td>nvarchar</td><td>40</td><td>12</td><td>6</td><td>1</td></tr><tr><td>[Purchasing].[Suppliers_Archive]</td><td>[BankAccountName]</td><td>nvarchar</td><td>100</td><td>48</td><td>24</td><td>1</td></tr><tr><td>[Purchasing].[Suppliers_Archive]</td><td>[BankAccountNumber]</td><td>nvarchar</td><td>40</td><td>20</td><td>10</td><td>1</td></tr><tr><td>[Purchasing].[Suppliers_Archive]</td><td>[BankInternationalCode]</td><td>nvarchar</td><td>40</td><td>10</td><td>5</td><td>1</td></tr><tr><td>[Purchasing].[Suppliers_Archive]</td><td>[DeliveryAddressLine1]</td><td>nvarchar</td><td>120</td><td>16</td><td>8</td><td>1</td></tr><tr><td>[Purchasing].[Suppliers_Archive]</td><td>[DeliveryAddressLine2]</td><td>nvarchar</td><td>120</td><td>52</td><td>26</td><td>1</td></tr><tr><td>[Purchasing].[Suppliers_Archive]</td><td>[DeliveryPostalCode]</td><td>nvarchar</td><td>20</td><td>10</td><td>5</td><td>1</td></tr><tr><td>[Purchasing].[Suppliers_Archive]</td><td>[FaxNumber]</td><td>nvarchar</td><td>40</td><td>28</td><td>14</td><td>1</td></tr><tr><td>[Purchasing].[Suppliers_Archive]</td><td>[PhoneNumber]</td><td>nvarchar</td><td>40</td><td>28</td><td>14</td><td>1</td></tr><tr><td>[Purchasing].[Suppliers_Archive]</td><td>[PostalAddressLine1]</td><td>nvarchar</td><td>120</td><td>24</td><td>12</td><td>1</td></tr><tr><td>[Purchasing].[Suppliers_Archive]</td><td>[PostalAddressLine2]</td><td>nvarchar</td><td>120</td><td>20</td><td>10</td><td>1</td></tr><tr><td>[Purchasing].[Suppliers_Archive]</td><td>[PostalPostalCode]</td><td>nvarchar</td><td>20</td><td>10</td><td>5</td><td>1</td></tr><tr><td>[Purchasing].[Suppliers_Archive]</td><td>[SupplierName]</td><td>nvarchar</td><td>200</td><td>48</td><td>24</td><td>1</td></tr><tr><td>[Purchasing].[Suppliers_Archive]</td><td>[SupplierReference]</td><td>nvarchar</td><td>40</td><td>22</td><td>11</td><td>1</td></tr><tr><td>[Purchasing].[Suppliers_Archive]</td><td>[WebsiteURL]</td><td>nvarchar</td><td>512</td><td>74</td><td>37</td><td>1</td></tr><tr><td>[Purchasing].[SupplierTransactions]</td><td>[SupplierInvoiceNumber]</td><td>nvarchar</td><td>40</td><td>8</td><td>4</td><td>1</td></tr><tr><td>[Sales].[BuyingGroups]</td><td>[BuyingGroupName]</td><td>nvarchar</td><td>100</td><td>26</td><td>13</td><td>1</td></tr><tr><td>[Sales].[BuyingGroups_Archive]</td><td>[BuyingGroupName]</td><td>nvarchar</td><td>100</td><td>NULL</td><td>NULL</td><td>1</td></tr><tr><td>[Sales].[CustomerCategories]</td><td>[CustomerCategoryName]</td><td>nvarchar</td><td>100</td><td>32</td><td>16</td><td>1</td></tr><tr><td>[Sales].[CustomerCategories_Archive]</td><td>[CustomerCategoryName]</td><td>nvarchar</td><td>100</td><td>16</td><td>8</td><td>1</td></tr><tr><td>[Sales].[Customers]</td><td>[CustomerName]</td><td>nvarchar</td><td>200</td><td>76</td><td>38</td><td>1</td></tr><tr><td>[Sales].[Customers]</td><td>[DeliveryAddressLine1]</td><td>nvarchar</td><td>120</td><td>18</td><td>9</td><td>1</td></tr><tr><td>[Sales].[Customers]</td><td>[DeliveryAddressLine2]</td><td>nvarchar</td><td>120</td><td>52</td><td>26</td><td>1</td></tr><tr><td>[Sales].[Customers]</td><td>[DeliveryPostalCode]</td><td>nvarchar</td><td>20</td><td>10</td><td>5</td><td>1</td></tr><tr><td>[Sales].[Customers]</td><td>[DeliveryRun]</td><td>nvarchar</td><td>10</td><td>0</td><td>0</td><td>1</td></tr><tr><td>[Sales].[Customers]</td><td>[FaxNumber]</td><td>nvarchar</td><td>40</td><td>28</td><td>14</td><td>1</td></tr><tr><td>[Sales].[Customers]</td><td>[PhoneNumber]</td><td>nvarchar</td><td>40</td><td>28</td><td>14</td><td>1</td></tr><tr><td>[Sales].[Customers]</td><td>[PostalAddressLine1]</td><td>nvarchar</td><td>120</td><td>22</td><td>11</td><td>1</td></tr><tr><td>[Sales].[Customers]</td><td>[PostalAddressLine2]</td><td>nvarchar</td><td>120</td><td>42</td><td>21</td><td>1</td></tr><tr><td>[Sales].[Customers]</td><td>[PostalPostalCode]</td><td>nvarchar</td><td>20</td><td>10</td><td>5</td><td>1</td></tr><tr><td>[Sales].[Customers]</td><td>[RunPosition]</td><td>nvarchar</td><td>10</td><td>0</td><td>0</td><td>1</td></tr><tr><td>[Sales].[Customers]</td><td>[WebsiteURL]</td><td>nvarchar</td><td>512</td><td>104</td><td>52</td><td>1</td></tr><tr><td>[Sales].[Customers_Archive]</td><td>[CustomerName]</td><td>nvarchar</td><td>200</td><td>46</td><td>23</td><td>1</td></tr><tr><td>[Sales].[Customers_Archive]</td><td>[DeliveryAddressLine1]</td><td>nvarchar</td><td>120</td><td>16</td><td>8</td><td>1</td></tr><tr><td>[Sales].[Customers_Archive]</td><td>[DeliveryAddressLine2]</td><td>nvarchar</td><td>120</td><td>48</td><td>24</td><td>1</td></tr><tr><td>[Sales].[Customers_Archive]</td><td>[DeliveryPostalCode]</td><td>nvarchar</td><td>20</td><td>10</td><td>5</td><td>1</td></tr><tr><td>[Sales].[Customers_Archive]</td><td>[DeliveryRun]</td><td>nvarchar</td><td>10</td><td>0</td><td>0</td><td>1</td></tr><tr><td>[Sales].[Customers_Archive]</td><td>[FaxNumber]</td><td>nvarchar</td><td>40</td><td>28</td><td>14</td><td>1</td></tr><tr><td>[Sales].[Customers_Archive]</td><td>[PhoneNumber]</td><td>nvarchar</td><td>40</td><td>28</td><td>14</td><td>1</td></tr><tr><td>[Sales].[Customers_Archive]</td><td>[PostalAddressLine1]</td><td>nvarchar</td><td>120</td><td>22</td><td>11</td><td>1</td></tr><tr><td>[Sales].[Customers_Archive]</td><td>[PostalAddressLine2]</td><td>nvarchar</td><td>120</td><td>34</td><td>17</td><td>1</td></tr><tr><td>[Sales].[Customers_Archive]</td><td>[PostalPostalCode]</td><td>nvarchar</td><td>20</td><td>10</td><td>5</td><td>1</td></tr><tr><td>[Sales].[Customers_Archive]</td><td>[RunPosition]</td><td>nvarchar</td><td>10</td><td>0</td><td>0</td><td>1</td></tr><tr><td>[Sales].[Customers_Archive]</td><td>[WebsiteURL]</td><td>nvarchar</td><td>512</td><td>96</td><td>48</td><td>1</td></tr><tr><td>[Sales].[InvoiceLines]</td><td>[Description]</td><td>nvarchar</td><td>200</td><td>170</td><td>85</td><td>1</td></tr><tr><td>[Sales].[Invoices]</td><td>[ConfirmedReceivedBy]</td><td>nvarchar</td><td>8000</td><td>58</td><td>29</td><td>1</td></tr><tr><td>[Sales].[Invoices]</td><td>[CustomerPurchaseOrderNumber]</td><td>nvarchar</td><td>40</td><td>10</td><td>5</td><td>1</td></tr><tr><td>[Sales].[Invoices]</td><td>[DeliveryRun]</td><td>nvarchar</td><td>10</td><td>0</td><td>0</td><td>1</td></tr><tr><td>[Sales].[Invoices]</td><td>[RunPosition]</td><td>nvarchar</td><td>10</td><td>0</td><td>0</td><td>1</td></tr><tr><td>[Sales].[OrderLines]</td><td>[Description]</td><td>nvarchar</td><td>200</td><td>170</td><td>85</td><td>1</td></tr><tr><td>[Sales].[Orders]</td><td>[CustomerPurchaseOrderNumber]</td><td>nvarchar</td><td>40</td><td>10</td><td>5</td><td>1</td></tr><tr><td>[Sales].[SpecialDeals]</td><td>[DealDescription]</td><td>nvarchar</td><td>60</td><td>48</td><td>24</td><td>1</td></tr><tr><td>[Warehouse].[Colors]</td><td>[ColorName]</td><td>nvarchar</td><td>40</td><td>22</td><td>11</td><td>1</td></tr><tr><td>[Warehouse].[Colors_Archive]</td><td>[ColorName]</td><td>nvarchar</td><td>40</td><td>8</td><td>4</td><td>1</td></tr><tr><td>[Warehouse].[PackageTypes]</td><td>[PackageTypeName]</td><td>nvarchar</td><td>100</td><td>12</td><td>6</td><td>1</td></tr><tr><td>[Warehouse].[PackageTypes_Archive]</td><td>[PackageTypeName]</td><td>nvarchar</td><td>100</td><td>NULL</td><td>NULL</td><td>1</td></tr><tr><td>[Warehouse].[StockGroups]</td><td>[StockGroupName]</td><td>nvarchar</td><td>100</td><td>38</td><td>19</td><td>1</td></tr><tr><td>[Warehouse].[StockGroups_Archive]</td><td>[StockGroupName]</td><td>nvarchar</td><td>100</td><td>16</td><td>8</td><td>1</td></tr><tr><td>[Warehouse].[StockItemHoldings]</td><td>[BinLocation]</td><td>nvarchar</td><td>40</td><td>8</td><td>4</td><td>1</td></tr><tr><td>[Warehouse].[StockItems]</td><td>[Barcode]</td><td>nvarchar</td><td>100</td><td>26</td><td>13</td><td>1</td></tr><tr><td>[Warehouse].[StockItems]</td><td>[Brand]</td><td>nvarchar</td><td>100</td><td>18</td><td>9</td><td>1</td></tr><tr><td>[Warehouse].[StockItems]</td><td>[Size]</td><td>nvarchar</td><td>40</td><td>26</td><td>13</td><td>1</td></tr><tr><td>[Warehouse].[StockItems]</td><td>[StockItemName]</td><td>nvarchar</td><td>200</td><td>170</td><td>85</td><td>1</td></tr><tr><td>[Warehouse].[StockItems_Archive]</td><td>[Barcode]</td><td>nvarchar</td><td>100</td><td>26</td><td>13</td><td>1</td></tr><tr><td>[Warehouse].[StockItems_Archive]</td><td>[Brand]</td><td>nvarchar</td><td>100</td><td>18</td><td>9</td><td>1</td></tr><tr><td>[Warehouse].[StockItems_Archive]</td><td>[Size]</td><td>nvarchar</td><td>40</td><td>26</td><td>13</td><td>1</td></tr><tr><td>[Warehouse].[StockItems_Archive]</td><td>[StockItemName]</td><td>nvarchar</td><td>200</td><td>170</td><td>85</td><td>1</td></tr><tr><td>[Warehouse].[VehicleTemperatures]</td><td>[FullSensorData]</td><td>nvarchar</td><td>2000</td><td>392</td><td>196</td><td>1</td></tr><tr><td>[Warehouse].[VehicleTemperatures]</td><td>[VehicleRegistration]</td><td>nvarchar</td><td>40</td><td>18</td><td>9</td><td>1</td></tr></table>"
                    },
                    "metadata": {}
                }
            ],
            "execution_count": 7
        }
    ]
}