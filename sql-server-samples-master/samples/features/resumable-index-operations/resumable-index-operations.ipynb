{
    "metadata": {
        "kernelspec": {
            "name": "SQL",
            "display_name": "SQL",
            "language": "sql"
        },
        "language_info": {
            "name": "sql",
            "version": ""
        }
    },
    "nbformat_minor": 2,
    "nbformat": 4,
    "cells": [
        {
            "cell_type": "markdown",
            "source": [
                "# Resumable Index Operations\n",
                "Resumable index operations allow you to fine-tune your index maintenance schedules by giving you the ability to pause index operations while saving the current state and resume them at a later date while preserving the work already completed. This also allows you to recover if an index operation fails or the server is restarted or fails over in the middle of an index operation. In addition to recoverability, resumable index operations  use smaller transactions that are committed as the operations progresses which minimizes transaction log growth during the operation. SQL Server 2017 introduced resumable index rebuilds, and SQL Server 2019 introduces resumable index create.\n",
                "\n",
                "The following example uses the [AdventureWorksDW2016_EXT](https://github.com/Microsoft/sql-server-samples/releases/download/adventureworks/AdventureWorksDW2016_EXT.bak) sample database to demonstrate how resumable index rebuilds work.\n",
                "\n",
                "Open a new query window and execute the following script to start an index rebuild. Once the query begins executing, return to this window before the query completes to continue the exercise.\n",
                "\n",
                "```SQL\n",
                "USE [AdventureWorksDW2016_EXT]\n",
                "GO\n",
                "ALTER INDEX [PK_FactResellerSalesXL_PageCompressed_SalesOrderNumber_SalesOrderLineNumber] ON [dbo].[FactResellerSalesXL_PageCompressed] \n",
                "REBUILD PARTITION = ALL WITH (ONLINE = ON, RESUMABLE = ON, DATA_COMPRESSION = PAGE)\n",
                "GO\n",
                "```\n",
                "\n",
                "While the index rebuild is running, the following query will return status information about the operation:\n",
                ""
            ],
            "metadata": {
                "azdata_cell_guid": "7a3d1fcc-5c8f-41be-b385-ed80f3fe39e7"
            }
        },
        {
            "cell_type": "code",
            "source": [
                "USE [AdventureWorksDW2016_EXT]\r\n",
                "GO\r\n",
                "\r\n",
                "SELECT name, state_desc, percent_complete, start_time, last_pause_time, total_execution_time AS total_execution_time_minutes\r\n",
                "FROM sys.index_resumable_operations;\r\n",
                "GO"
            ],
            "metadata": {
                "azdata_cell_guid": "2e562500-d789-4b65-a95d-f1799a68372b"
            },
            "outputs": [
                {
                    "output_type": "display_data",
                    "data": {
                        "text/html": "Commands completed successfully."
                    },
                    "metadata": {}
                },
                {
                    "output_type": "display_data",
                    "data": {
                        "text/html": "(1 row affected)"
                    },
                    "metadata": {}
                },
                {
                    "output_type": "display_data",
                    "data": {
                        "text/html": "Total execution time: 00:00:00.036"
                    },
                    "metadata": {}
                },
                {
                    "output_type": "execute_result",
                    "metadata": {},
                    "execution_count": 6,
                    "data": {
                        "application/vnd.dataresource+json": {
                            "schema": {
                                "fields": [
                                    {
                                        "name": "name"
                                    },
                                    {
                                        "name": "state_desc"
                                    },
                                    {
                                        "name": "percent_complete"
                                    },
                                    {
                                        "name": "start_time"
                                    },
                                    {
                                        "name": "last_pause_time"
                                    },
                                    {
                                        "name": "total_execution_time_minutes"
                                    }
                                ]
                            },
                            "data": [
                                {
                                    "0": "PK_FactResellerSalesXL_PageCompressed_SalesOrderNumber_SalesOrderLineNumber",
                                    "1": "RUNNING",
                                    "2": "4.59237038886725",
                                    "3": "2019-11-04 20:36:21.623",
                                    "4": "NULL",
                                    "5": "0"
                                }
                            ]
                        },
                        "text/html": "<table><tr><th>name</th><th>state_desc</th><th>percent_complete</th><th>start_time</th><th>last_pause_time</th><th>total_execution_time_minutes</th></tr><tr><td>PK_FactResellerSalesXL_PageCompressed_SalesOrderNumber_SalesOrderLineNumber</td><td>RUNNING</td><td>4.59237038886725</td><td>2019-11-04 20:36:21.623</td><td>NULL</td><td>0</td></tr></table>"
                    }
                }
            ],
            "execution_count": 6
        },
        {
            "cell_type": "markdown",
            "source": [
                "You can pause the index operation with the following command:"
            ],
            "metadata": {
                "azdata_cell_guid": "b72ac74a-d6b1-4a2d-8fff-5f4e6215580b"
            }
        },
        {
            "cell_type": "code",
            "source": [
                "USE [AdventureWorksDW2016_EXT]\r\n",
                "GO\r\n",
                "\r\n",
                "ALTER INDEX [PK_FactResellerSalesXL_PageCompressed_SalesOrderNumber_SalesOrderLineNumber] ON [dbo].[FactResellerSalesXL_PageCompressed] PAUSE;\r\n",
                "GO"
            ],
            "metadata": {
                "azdata_cell_guid": "144f6e4c-9dc0-43e8-9c58-3323cd8e652f"
            },
            "outputs": [
                {
                    "output_type": "display_data",
                    "data": {
                        "text/html": "Commands completed successfully."
                    },
                    "metadata": {}
                },
                {
                    "output_type": "display_data",
                    "data": {
                        "text/html": "Commands completed successfully."
                    },
                    "metadata": {}
                },
                {
                    "output_type": "display_data",
                    "data": {
                        "text/html": "Total execution time: 00:00:00.427"
                    },
                    "metadata": {}
                }
            ],
            "execution_count": 7
        },
        {
            "cell_type": "markdown",
            "source": [
                "Running the status query again will now show that the index operation has been paused."
            ],
            "metadata": {
                "azdata_cell_guid": "93b74ec4-a8fc-4a48-bd1a-656cf617aa89"
            }
        },
        {
            "cell_type": "code",
            "source": [
                "USE [AdventureWorksDW2016_EXT]\r\n",
                "GO\r\n",
                "\r\n",
                "SELECT name, state_desc, percent_complete, start_time, last_pause_time, total_execution_time AS total_execution_time_minutes\r\n",
                "FROM sys.index_resumable_operations;\r\n",
                "GO"
            ],
            "metadata": {
                "azdata_cell_guid": "21034f5b-66fd-4482-97cd-a155abae47a6"
            },
            "outputs": [
                {
                    "output_type": "display_data",
                    "data": {
                        "text/html": "Commands completed successfully."
                    },
                    "metadata": {}
                },
                {
                    "output_type": "display_data",
                    "data": {
                        "text/html": "(1 row affected)"
                    },
                    "metadata": {}
                },
                {
                    "output_type": "display_data",
                    "data": {
                        "text/html": "Total execution time: 00:00:00.022"
                    },
                    "metadata": {}
                },
                {
                    "output_type": "execute_result",
                    "metadata": {},
                    "execution_count": 8,
                    "data": {
                        "application/vnd.dataresource+json": {
                            "schema": {
                                "fields": [
                                    {
                                        "name": "name"
                                    },
                                    {
                                        "name": "state_desc"
                                    },
                                    {
                                        "name": "percent_complete"
                                    },
                                    {
                                        "name": "start_time"
                                    },
                                    {
                                        "name": "last_pause_time"
                                    },
                                    {
                                        "name": "total_execution_time_minutes"
                                    }
                                ]
                            },
                            "data": [
                                {
                                    "0": "PK_FactResellerSalesXL_PageCompressed_SalesOrderNumber_SalesOrderLineNumber",
                                    "1": "PAUSED",
                                    "2": "15.6121895126481",
                                    "3": "2019-11-04 20:36:21.623",
                                    "4": "2019-11-04 20:36:35.290",
                                    "5": "0"
                                }
                            ]
                        },
                        "text/html": "<table><tr><th>name</th><th>state_desc</th><th>percent_complete</th><th>start_time</th><th>last_pause_time</th><th>total_execution_time_minutes</th></tr><tr><td>PK_FactResellerSalesXL_PageCompressed_SalesOrderNumber_SalesOrderLineNumber</td><td>PAUSED</td><td>15.6121895126481</td><td>2019-11-04 20:36:21.623</td><td>2019-11-04 20:36:35.290</td><td>0</td></tr></table>"
                    }
                }
            ],
            "execution_count": 8
        },
        {
            "cell_type": "markdown",
            "source": [
                "Go back to the same window where you ran the original command. You can either run the same command again, or you can run the following query to resume the index rebuild:\r\n",
                "\r\n",
                "```SQL\r\n",
                "ALTER INDEX [PK_FactResellerSalesXL_PageCompressed_SalesOrderNumber_SalesOrderLineNumber] ON [dbo].[FactResellerSalesXL_PageCompressed] RESUME;\r\n",
                "GO\r\n",
                "```\r\n",
                "\r\n",
                "Running the status command again should now show that the index operation is running again."
            ],
            "metadata": {
                "azdata_cell_guid": "9d340bb0-51d0-4317-9076-8a3223c051de"
            }
        },
        {
            "cell_type": "code",
            "source": [
                "USE [AdventureWorksDW2016_EXT]\r\n",
                "GO\r\n",
                "\r\n",
                "SELECT name, state_desc, percent_complete, start_time, last_pause_time, total_execution_time AS total_execution_time_minutes\r\n",
                "FROM sys.index_resumable_operations;\r\n",
                "GO"
            ],
            "metadata": {
                "azdata_cell_guid": "8e5749f9-3333-460e-8d0b-4e96a26ecc7f"
            },
            "outputs": [
                {
                    "output_type": "display_data",
                    "data": {
                        "text/html": "Commands completed successfully."
                    },
                    "metadata": {}
                },
                {
                    "output_type": "display_data",
                    "data": {
                        "text/html": "(1 row affected)"
                    },
                    "metadata": {}
                },
                {
                    "output_type": "display_data",
                    "data": {
                        "text/html": "Total execution time: 00:00:00.022"
                    },
                    "metadata": {}
                },
                {
                    "output_type": "execute_result",
                    "metadata": {},
                    "execution_count": 10,
                    "data": {
                        "application/vnd.dataresource+json": {
                            "schema": {
                                "fields": [
                                    {
                                        "name": "name"
                                    },
                                    {
                                        "name": "state_desc"
                                    },
                                    {
                                        "name": "percent_complete"
                                    },
                                    {
                                        "name": "start_time"
                                    },
                                    {
                                        "name": "last_pause_time"
                                    },
                                    {
                                        "name": "total_execution_time_minutes"
                                    }
                                ]
                            },
                            "data": [
                                {
                                    "0": "PK_FactResellerSalesXL_PageCompressed_SalesOrderNumber_SalesOrderLineNumber",
                                    "1": "RUNNING",
                                    "2": "19.8231684650372",
                                    "3": "2019-11-04 20:36:21.623",
                                    "4": "2019-11-04 20:36:35.290",
                                    "5": "0"
                                }
                            ]
                        },
                        "text/html": "<table><tr><th>name</th><th>state_desc</th><th>percent_complete</th><th>start_time</th><th>last_pause_time</th><th>total_execution_time_minutes</th></tr><tr><td>PK_FactResellerSalesXL_PageCompressed_SalesOrderNumber_SalesOrderLineNumber</td><td>RUNNING</td><td>19.8231684650372</td><td>2019-11-04 20:36:21.623</td><td>2019-11-04 20:36:35.290</td><td>0</td></tr></table>"
                    }
                }
            ],
            "execution_count": 10
        },
        {
            "cell_type": "markdown",
            "source": [
                "To simulate a failure, start the index rebuild operation again, then run the following command in another window to shut down the SQL Server service:\r\n",
                "```SQL\r\n",
                "SHUTDOWN WITH NOWAIT\r\n",
                "GO\r\n",
                "```\r\n",
                "\r\n",
                "After restarting the server, the status query will show that the index operation is paused. Even though the server was restarted, the index operation progress is maintained in the database and the index rebuild can now be resumed rather than being rolled back upon startup."
            ],
            "metadata": {
                "azdata_cell_guid": "e1c7c47b-e7b6-48f5-a349-840f34a36048"
            }
        },
        {
            "cell_type": "code",
            "source": [
                "USE [AdventureWorksDW2016_EXT]\r\n",
                "GO\r\n",
                "\r\n",
                "SELECT name, state_desc, percent_complete, start_time, last_pause_time, total_execution_time AS total_execution_time_minutes\r\n",
                "FROM sys.index_resumable_operations;\r\n",
                "GO"
            ],
            "metadata": {
                "azdata_cell_guid": "04d05e17-379d-4b70-9b0b-79019996472d"
            },
            "outputs": [
                {
                    "output_type": "display_data",
                    "data": {
                        "text/html": "Commands completed successfully."
                    },
                    "metadata": {}
                },
                {
                    "output_type": "display_data",
                    "data": {
                        "text/html": "(1 row affected)"
                    },
                    "metadata": {}
                },
                {
                    "output_type": "display_data",
                    "data": {
                        "text/html": "Total execution time: 00:00:00.125"
                    },
                    "metadata": {}
                },
                {
                    "output_type": "execute_result",
                    "metadata": {},
                    "execution_count": 11,
                    "data": {
                        "application/vnd.dataresource+json": {
                            "schema": {
                                "fields": [
                                    {
                                        "name": "name"
                                    },
                                    {
                                        "name": "state_desc"
                                    },
                                    {
                                        "name": "percent_complete"
                                    },
                                    {
                                        "name": "start_time"
                                    },
                                    {
                                        "name": "last_pause_time"
                                    },
                                    {
                                        "name": "total_execution_time_minutes"
                                    }
                                ]
                            },
                            "data": [
                                {
                                    "0": "PK_FactResellerSalesXL_PageCompressed_SalesOrderNumber_SalesOrderLineNumber",
                                    "1": "PAUSED",
                                    "2": "74.5052160144128",
                                    "3": "2019-11-04 20:36:21.623",
                                    "4": "2019-11-04 20:38:39.613",
                                    "5": "1"
                                }
                            ]
                        },
                        "text/html": "<table><tr><th>name</th><th>state_desc</th><th>percent_complete</th><th>start_time</th><th>last_pause_time</th><th>total_execution_time_minutes</th></tr><tr><td>PK_FactResellerSalesXL_PageCompressed_SalesOrderNumber_SalesOrderLineNumber</td><td>PAUSED</td><td>74.5052160144128</td><td>2019-11-04 20:36:21.623</td><td>2019-11-04 20:38:39.613</td><td>1</td></tr></table>"
                    }
                }
            ],
            "execution_count": 11
        }
    ]
}