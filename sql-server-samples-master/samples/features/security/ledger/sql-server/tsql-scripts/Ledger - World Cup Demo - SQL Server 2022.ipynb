{
    "metadata": {
        "kernelspec": {
            "name": "SQL",
            "display_name": "SQL",
            "language": "sql"
        },
        "language_info": {
            "name": "sql",
            "version": ""
        }
    },
    "nbformat_minor": 2,
    "nbformat": 4,
    "cells": [
        {
            "cell_type": "markdown",
            "source": [
                "# Ledger - World Cup Betting Demo - SQL Server 2022"
            ],
            "metadata": {
                "azdata_cell_guid": "37b80cef-1217-4d8b-a71e-56b950e42727"
            },
            "attachments": {}
        },
        {
            "cell_type": "markdown",
            "source": [
                "## ![Database Administrator](../../../../../media/features/ledger/Pieter.jpg \"Database Administrator\") Updatable Ledger Tables\r\n",
                ""
            ],
            "metadata": {
                "azdata_cell_guid": "a8c136c6-b1b1-4586-a34f-1574e2bcc704"
            },
            "attachments": {}
        },
        {
            "cell_type": "markdown",
            "source": [
                "All the soccer games are stored in an updatable ledger table. Every update on the games or the odds needs to verifiable."
            ],
            "metadata": {
                "azdata_cell_guid": "8fb98a62-b4eb-466a-b3d6-7aed7e8c745a"
            },
            "attachments": {}
        },
        {
            "cell_type": "code",
            "source": [
                "SELECT\tt.[commit_time] AS [CommitTime] \r\n",
                "\t, t.[principal_name] AS [UserName]\r\n",
                "\t, l.[MoneyLineID]\r\n",
                "    , l.[HomeCountry]\r\n",
                "\t, l.[HomeCountryOdds]\r\n",
                "\t, l.[DrawOdds]\r\n",
                "\t, l.[VisitCountry]\r\n",
                "\t, l.[VisitCountryOdds]\r\n",
                "    , l.[GameDateTime]\r\n",
                "\t, l.[ledger_operation_type_desc] AS Operation\r\n",
                "\tFROM [dbo].[MoneyLine_Ledger] l\r\n",
                "\tJOIN sys.database_ledger_transactions t\r\n",
                "\tON t.transaction_id = l.ledger_transaction_id\r\n",
                "\tORDER BY t.commit_time DESC;"
            ],
            "metadata": {
                "language": "sql",
                "azdata_cell_guid": "fe975698-6c3c-4824-8b9f-0a421190027d"
            },
            "outputs": [],
            "execution_count": null
        },
        {
            "cell_type": "code",
            "source": [
                "UPDATE MoneyLine\r\n",
                "SET [HomeCountryOdds]=500\r\n",
                "WHERE MoneyLineID=1"
            ],
            "metadata": {
                "language": "sql",
                "azdata_cell_guid": "f75156e5-6996-4c40-9176-069f1b6ae1c0"
            },
            "outputs": [],
            "execution_count": null
        },
        {
            "cell_type": "code",
            "source": [
                "SELECT\r\n",
                "\tt.[commit_time] AS [CommitTime] \r\n",
                "\t, t.[principal_name] AS [UserName]\r\n",
                "\t, l.[MoneyLineID]\r\n",
                "    , l.[HomeCountry]\r\n",
                "\t, l.[HomeCountryOdds]\r\n",
                "\t, l.[DrawOdds]\r\n",
                "\t, l.[VisitCountry]\r\n",
                "\t, l.[VisitCountryOdds]\r\n",
                "    , l.[GameDateTime]\r\n",
                "\t, l.[ledger_operation_type_desc] AS Operation\r\n",
                "\tFROM [dbo].[MoneyLine_Ledger] l\r\n",
                "\tJOIN sys.database_ledger_transactions t\r\n",
                "\tON t.transaction_id = l.ledger_transaction_id\r\n",
                "\tWHERE t.[commit_time] > DATEADD(MINUTE, -10, GETDATE())\r\n",
                "\tORDER BY t.commit_time DESC;"
            ],
            "metadata": {
                "language": "sql",
                "azdata_cell_guid": "4ae7db74-7c44-4c83-b667-adfa1b77a8f3"
            },
            "outputs": [],
            "execution_count": null
        },
        {
            "cell_type": "markdown",
            "source": [
                "## Append-Only Ledger Table Bets"
            ],
            "metadata": {
                "azdata_cell_guid": "d7582e04-61cc-4a9e-bc80-fdca578d4042"
            },
            "attachments": {}
        },
        {
            "cell_type": "markdown",
            "source": [
                "## ![Auditor](../../../../../media/features/ledger/Michael.jpg \"Auditor\") The auditor can verify the database to be sure that the data can be trusted"
            ],
            "metadata": {
                "azdata_cell_guid": "5a3e79f0-edb3-4669-9402-a38d94871d78"
            },
            "attachments": {}
        },
        {
            "cell_type": "markdown",
            "source": [
                "<span style=\"color: rgb(36, 41, 47); font-family: -apple-system, BlinkMacSystemFont, &quot;Segoe UI&quot;, Helvetica, Arial, sans-serif, &quot;Apple Color Emoji&quot;, &quot;Segoe UI Emoji&quot;; font-size: 16px; background-color: rgb(255, 255, 255);\">Michael, who is an auditor, performs a routine review of changes in the Worldcup database. As his first step, Michael runs the ledger verification to make sure he can trust the data he’s going to examine. The result should be \"Success\"!</span>"
            ],
            "metadata": {
                "azdata_cell_guid": "6c9e9515-7a77-4ed1-b00a-1b67e2b4be38"
            },
            "attachments": {}
        },
        {
            "cell_type": "code",
            "source": [
                "DECLARE @digest_locations NVARCHAR(MAX) = (SELECT * FROM sys.database_ledger_digest_locations FOR JSON AUTO, INCLUDE_NULL_VALUES);\r\n",
                "    SELECT @digest_locations as digest_locations;\r\n",
                "    BEGIN TRY\r\n",
                "        EXEC sys.sp_verify_database_ledger_from_digest_storage @digest_locations;\r\n",
                "    SELECT 'Ledger verification succeeded.' AS Result;\r\n",
                "    END TRY\r\n",
                "    BEGIN CATCH\r\n",
                "        THROW;\r\n",
                "    END CATCH"
            ],
            "metadata": {
                "azdata_cell_guid": "563e751f-df78-4f23-8618-9e7896316b81",
                "language": "sql"
            },
            "outputs": [],
            "execution_count": null
        },
        {
            "cell_type": "markdown",
            "source": [
                "## ![Database Administrator](../../../../../media/features/ledger/Pieter.jpg \"Database Administrator\") Let's try to modify the bet"
            ],
            "metadata": {
                "azdata_cell_guid": "d268acd2-44be-4297-801f-37c00205da49"
            },
            "attachments": {}
        },
        {
            "cell_type": "markdown",
            "source": [
                "<span style=\"font-family: Calibri, sans-serif; font-size: 11pt;\">Pieter, the malicious DBA tries to manipulate his bet but noticed that it’s an append-only ledger table and that data cannot be modified.&nbsp;</span>"
            ],
            "metadata": {
                "azdata_cell_guid": "54f5b25f-bb4a-4da0-9cc7-52d12d7994d8"
            },
            "attachments": {}
        },
        {
            "cell_type": "code",
            "source": [
                "USE WorldCup\r\n",
                "GO\r\n",
                "SELECT * from Bets\r\n",
                "WHERE FirstName='Pieter' and Lastname='Vanhove'"
            ],
            "metadata": {
                "azdata_cell_guid": "faba49e8-5231-4f89-b152-abc391ce2a56",
                "tags": [],
                "language": "sql"
            },
            "outputs": [],
            "execution_count": null
        },
        {
            "cell_type": "code",
            "source": [
                "UPDATE Bets\r\n",
                "SET Payout=-10000\r\n",
                "WHERE BetID=6"
            ],
            "metadata": {
                "azdata_cell_guid": "e082ee2f-ec59-4525-9aae-39b91034686f",
                "language": "sql"
            },
            "outputs": [],
            "execution_count": null
        },
        {
            "cell_type": "markdown",
            "source": [
                "## ![Database Administrator](../../../../../media/features/ledger/Pieter.jpg \"Database Administrator\") Let's tamper the data"
            ],
            "metadata": {
                "azdata_cell_guid": "239cf8e5-7d04-4427-a8bd-6ce35ef257de"
            },
            "attachments": {}
        },
        {
            "cell_type": "markdown",
            "source": [
                "Pieter thinks he's smart and tampers with the data directly into the data file by using a stored procedure."
            ],
            "metadata": {
                "azdata_cell_guid": "703c9df6-e5c0-49e1-b841-522ebd5a088d"
            },
            "attachments": {}
        },
        {
            "cell_type": "code",
            "source": [
                "EXECUTE sp_TamperWithBet\r\n",
                "\t@ID=6,\r\n",
                "\t@PayOut=-10000"
            ],
            "metadata": {
                "azdata_cell_guid": "4963b815-b14e-42b7-a0ee-59bbb40e98d8",
                "language": "sql",
                "tags": []
            },
            "outputs": [],
            "execution_count": null
        },
        {
            "cell_type": "markdown",
            "source": [
                "## ![Auditor](../../../../../media/features/ledger/Michael.jpg \"Auditor\") Verify the database again"
            ],
            "metadata": {
                "azdata_cell_guid": "605d7ea8-0db7-41e4-9fc5-1a5b418b150e"
            },
            "attachments": {}
        },
        {
            "cell_type": "markdown",
            "source": [
                "<span style=\"color: rgb(36, 41, 47); font-family: -apple-system, BlinkMacSystemFont, &quot;Segoe UI&quot;, Helvetica, Arial, sans-serif, &quot;Apple Color Emoji&quot;, &quot;Segoe UI Emoji&quot;; font-size: 16px; background-color: rgb(255, 255, 255);\">Michael, reviews the Worldcup database again after the tournament is over.&nbsp;</span>"
            ],
            "metadata": {
                "azdata_cell_guid": "bb181bd0-d2bb-4d17-813b-b2d2912175df"
            },
            "attachments": {}
        },
        {
            "cell_type": "code",
            "source": [
                "DECLARE @digest_locations NVARCHAR(MAX) = (SELECT * FROM sys.database_ledger_digest_locations FOR JSON AUTO, INCLUDE_NULL_VALUES);\r\n",
                "    \r\n",
                "    BEGIN TRY\r\n",
                "        EXEC sys.sp_verify_database_ledger_from_digest_storage @digest_locations;\r\n",
                "    SELECT 'Ledger verification succeeded.' AS Result;\r\n",
                "    END TRY\r\n",
                "    BEGIN CATCH\r\n",
                "        THROW;\r\n",
                "    END CATCH"
            ],
            "metadata": {
                "azdata_cell_guid": "3020ef07-2e35-4a9f-abe4-afb3a55e5539",
                "language": "sql"
            },
            "outputs": [
                {
                    "output_type": "error",
                    "evalue": "Msg 37371, Level 16, State 1, Procedure sys.sp_verify_database_ledger_from_digest_storage, Line 1\r\nThe computed hash from 'Bets' and the associated history table does not match the hash persisted in sys.database_ledger_transactions for transaction 1004.",
                    "ename": "",
                    "traceback": []
                },
                {
                    "output_type": "error",
                    "evalue": "Msg 37392, Level 16, State 1, Procedure sys.sp_verify_database_ledger_from_digest_storage, Line 1\r\nLedger verification failed.",
                    "ename": "",
                    "traceback": []
                },
                {
                    "output_type": "display_data",
                    "data": {
                        "text/html": "Total execution time: 00:00:00.585"
                    },
                    "metadata": {}
                }
            ],
            "execution_count": 3
        },
        {
            "cell_type": "markdown",
            "source": [
                "## Review the history of the transaction"
            ],
            "metadata": {
                "azdata_cell_guid": "8a5a03e1-2306-41ec-be89-bc3065d65d30"
            },
            "attachments": {}
        },
        {
            "cell_type": "code",
            "source": [
                "SELECT\r\n",
                "  t.[commit_time] AS [CommitTime] \r\n",
                "    ,l.[MoneylineID]\r\n",
                "    ,l.[FirstName]\r\n",
                "    ,l.[LastName]\r\n",
                "    ,l.[Country]\r\n",
                "    ,l.[Bet]\r\n",
                "    ,l.[Payout]\r\n",
                "    ,l.[BetDateTime]\r\n",
                "\t, l.[ledger_operation_type_desc] AS Operation\r\n",
                "\tFROM [dbo].[Bets_Ledger] l\r\n",
                "\tJOIN [sys].[database_ledger_transactions] t\r\n",
                "\tON t.[transaction_id] = l.[ledger_transaction_id]\r\n",
                "\tWHERE t.transaction_id=1004;"
            ],
            "metadata": {
                "azdata_cell_guid": "d3bf1ca4-c66f-4ba8-a863-0811e120de51",
                "language": "sql"
            },
            "outputs": [
                {
                    "output_type": "display_data",
                    "data": {
                        "text/html": "(1 row affected)"
                    },
                    "metadata": {}
                },
                {
                    "output_type": "display_data",
                    "data": {
                        "text/html": "Total execution time: 00:00:00.042"
                    },
                    "metadata": {}
                },
                {
                    "output_type": "execute_result",
                    "metadata": {},
                    "execution_count": 4,
                    "data": {
                        "application/vnd.dataresource+json": {
                            "schema": {
                                "fields": [
                                    {
                                        "name": "CommitTime"
                                    },
                                    {
                                        "name": "MoneylineID"
                                    },
                                    {
                                        "name": "FirstName"
                                    },
                                    {
                                        "name": "LastName"
                                    },
                                    {
                                        "name": "Country"
                                    },
                                    {
                                        "name": "Bet"
                                    },
                                    {
                                        "name": "Payout"
                                    },
                                    {
                                        "name": "BetDateTime"
                                    },
                                    {
                                        "name": "Operation"
                                    }
                                ]
                            },
                            "data": [
                                {
                                    "0": "2022-12-01 16:21:50.7400000",
                                    "1": "12",
                                    "2": "Pieter",
                                    "3": "Vanhove",
                                    "4": "Belgium",
                                    "5": "300.00",
                                    "6": "-10000.00",
                                    "7": "2022-12-01 16:21:50.7400000",
                                    "8": "INSERT"
                                }
                            ]
                        },
                        "text/html": [
                            "<table>",
                            "<tr><th>CommitTime</th><th>MoneylineID</th><th>FirstName</th><th>LastName</th><th>Country</th><th>Bet</th><th>Payout</th><th>BetDateTime</th><th>Operation</th></tr>",
                            "<tr><td>2022-12-01 16:21:50.7400000</td><td>12</td><td>Pieter</td><td>Vanhove</td><td>Belgium</td><td>300.00</td><td>-10000.00</td><td>2022-12-01 16:21:50.7400000</td><td>INSERT</td></tr>",
                            "</table>"
                        ]
                    }
                }
            ],
            "execution_count": 4
        }
    ]
}