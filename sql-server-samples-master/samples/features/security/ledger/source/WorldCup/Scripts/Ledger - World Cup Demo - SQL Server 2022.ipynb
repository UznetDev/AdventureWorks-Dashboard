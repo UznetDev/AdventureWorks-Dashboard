{
    "metadata": {
        "kernelspec": {
            "name": "SQL",
            "display_name": "SQL",
            "language": "sql"
        },
        "language_info": {
            "name": "sql",
            "version": ""
        }
    },
    "nbformat_minor": 2,
    "nbformat": 4,
    "cells": [
        {
            "cell_type": "markdown",
            "source": [
                "# Ledger - World Cup Betting Demo - SQL Server 2022"
            ],
            "metadata": {
                "azdata_cell_guid": "37b80cef-1217-4d8b-a71e-56b950e42727"
            },
            "attachments": {}
        },
        {
            "cell_type": "markdown",
            "source": [
                "## Append-Only Ledger Table Bets"
            ],
            "metadata": {
                "azdata_cell_guid": "d7582e04-61cc-4a9e-bc80-fdca578d4042"
            },
            "attachments": {}
        },
        {
            "cell_type": "code",
            "source": [
                "CREATE TABLE [dbo].[Bets](\r\n",
                "\t[BetID] [INT] IDENTITY(1,1) NOT NULL,\r\n",
                "\t[MoneylineID] [INT] NOT NULL,\r\n",
                "\t[FirstName] [NVARCHAR](50) NOT NULL,\r\n",
                "\t[LastName] [NVARCHAR](50) NOT NULL,\r\n",
                "\t[Country] [NVARCHAR](50),\r\n",
                "\t[Bet] [MONEY] NOT NULL,\r\n",
                "\t[Payout] [MONEY] NOT NULL,\r\n",
                "\t[BetDateTime] [DATETIME2] NOT NULL\r\n",
                "\t)\r\n",
                "WITH (LEDGER = ON (APPEND_ONLY = ON));\r\n",
                "GO"
            ],
            "metadata": {
                "azdata_cell_guid": "e6e09374-8b7c-4432-85e7-f6807ba4376c",
                "language": "sql",
                "tags": []
            },
            "outputs": [],
            "execution_count": null
        },
        {
            "cell_type": "markdown",
            "source": [
                "## Let's try to modify the bet"
            ],
            "metadata": {
                "azdata_cell_guid": "1b60ac87-7e65-4479-b99d-13065ba889f3"
            },
            "attachments": {}
        },
        {
            "cell_type": "markdown",
            "source": [
                "<span style=\"font-family: Calibri, sans-serif; font-size: 11pt;\">The malicious DBA tries to manipulate the faulty record but noticed that it’s an append-only ledger table and that data cannot be modified.&nbsp;</span>"
            ],
            "metadata": {
                "azdata_cell_guid": "54f5b25f-bb4a-4da0-9cc7-52d12d7994d8"
            },
            "attachments": {}
        },
        {
            "cell_type": "code",
            "source": [
                "USE WorldCup\r\n",
                "GO\r\n",
                "SELECT * from Bets\r\n",
                "WHERE FirstName='Pieter' and Lastname='Vanhove'"
            ],
            "metadata": {
                "azdata_cell_guid": "faba49e8-5231-4f89-b152-abc391ce2a56",
                "tags": [],
                "language": "sql"
            },
            "outputs": [],
            "execution_count": null
        },
        {
            "cell_type": "code",
            "source": [
                "UPDATE Bets\r\n",
                "SET Payout=-2400\r\n",
                "WHERE BetID=5"
            ],
            "metadata": {
                "azdata_cell_guid": "e082ee2f-ec59-4525-9aae-39b91034686f",
                "language": "sql"
            },
            "outputs": [],
            "execution_count": null
        },
        {
            "cell_type": "markdown",
            "source": [
                "## Different parties can verify the database to be sure the data can be trusted."
            ],
            "metadata": {
                "azdata_cell_guid": "36de65c8-ee60-4820-8ff5-5c04f2294085"
            },
            "attachments": {}
        },
        {
            "cell_type": "code",
            "source": [
                "DECLARE @digest_locations NVARCHAR(MAX) = (SELECT * FROM sys.database_ledger_digest_locations FOR JSON AUTO, INCLUDE_NULL_VALUES);\r\n",
                "    SELECT @digest_locations as digest_locations;\r\n",
                "    BEGIN TRY\r\n",
                "        EXEC sys.sp_verify_database_ledger_from_digest_storage @digest_locations;\r\n",
                "    SELECT 'Ledger verification succeeded.' AS Result;\r\n",
                "    END TRY\r\n",
                "    BEGIN CATCH\r\n",
                "        THROW;\r\n",
                "    END CATCH"
            ],
            "metadata": {
                "azdata_cell_guid": "563e751f-df78-4f23-8618-9e7896316b81",
                "language": "sql"
            },
            "outputs": [],
            "execution_count": null
        },
        {
            "cell_type": "markdown",
            "source": [
                "## Let's tamper the data"
            ],
            "metadata": {
                "azdata_cell_guid": "d4210ee5-52d9-47fa-b676-a1554f24788b"
            },
            "attachments": {}
        },
        {
            "cell_type": "markdown",
            "source": [
                "DBA thinks he/she’s smart and tampers with the data directly into the data file by using a stored procedure."
            ],
            "metadata": {
                "azdata_cell_guid": "703c9df6-e5c0-49e1-b841-522ebd5a088d"
            },
            "attachments": {}
        },
        {
            "cell_type": "code",
            "source": [
                "SELECT sys.fn_PhysLocFormatter(%%physloc%%) PageId, *\r\n",
                "FROM Bets\r\n",
                "WHERE BetID=5 --Copy the ID from the previous result set"
            ],
            "metadata": {
                "azdata_cell_guid": "8dc3c14a-a420-4d91-b7c4-6fba20736af5",
                "language": "sql",
                "tags": []
            },
            "outputs": [],
            "execution_count": null
        },
        {
            "cell_type": "code",
            "source": [
                "EXECUTE sp_TamperWithBet\r\n",
                "\t@PageID=568, \r\n",
                "\t@ID=5,\r\n",
                "\t@PayOut=-2400"
            ],
            "metadata": {
                "azdata_cell_guid": "4963b815-b14e-42b7-a0ee-59bbb40e98d8",
                "language": "sql"
            },
            "outputs": [],
            "execution_count": null
        },
        {
            "cell_type": "markdown",
            "source": [
                "Show that the bet was changed"
            ],
            "metadata": {
                "azdata_cell_guid": "9aa4a76e-28fb-4d39-89a2-335b665606f3"
            },
            "attachments": {}
        },
        {
            "cell_type": "code",
            "source": [
                "SELECT * from Bets\r\n",
                "WHERE FirstName='Pieter' and Lastname='Vanhove'"
            ],
            "metadata": {
                "azdata_cell_guid": "6f32bd7d-debf-4242-ac66-dc7f00257215",
                "language": "sql"
            },
            "outputs": [],
            "execution_count": null
        },
        {
            "cell_type": "markdown",
            "source": [
                "## Verify the database again"
            ],
            "metadata": {
                "azdata_cell_guid": "309aba7a-bc54-4971-8e79-400b3933d906"
            },
            "attachments": {}
        },
        {
            "cell_type": "code",
            "source": [
                "DECLARE @digest_locations NVARCHAR(MAX) = (SELECT * FROM sys.database_ledger_digest_locations FOR JSON AUTO, INCLUDE_NULL_VALUES);\r\n",
                "    SELECT @digest_locations as digest_locations;\r\n",
                "    BEGIN TRY\r\n",
                "        EXEC sys.sp_verify_database_ledger_from_digest_storage @digest_locations;\r\n",
                "    SELECT 'Ledger verification succeeded.' AS Result;\r\n",
                "    END TRY\r\n",
                "    BEGIN CATCH\r\n",
                "        THROW;\r\n",
                "    END CATCH"
            ],
            "metadata": {
                "azdata_cell_guid": "3020ef07-2e35-4a9f-abe4-afb3a55e5539",
                "language": "sql"
            },
            "outputs": [],
            "execution_count": null
        },
        {
            "cell_type": "markdown",
            "source": [
                "## Review the history of the transaction"
            ],
            "metadata": {
                "azdata_cell_guid": "8a5a03e1-2306-41ec-be89-bc3065d65d30"
            },
            "attachments": {}
        },
        {
            "cell_type": "code",
            "source": [
                "SELECT\r\n",
                "  t.[commit_time] AS [CommitTime] \r\n",
                "\t, t.[principal_name] AS [UserName]\r\n",
                "    ,l.[MoneylineID]\r\n",
                "    ,l.[FirstName]\r\n",
                "    ,l.[LastName]\r\n",
                "    ,l.[Country]\r\n",
                "    ,l.[Bet]\r\n",
                "    ,l.[Payout]\r\n",
                "    ,l.[BetDateTime]\r\n",
                "\t, l.[ledger_operation_type_desc] AS Operation\r\n",
                "\tFROM [dbo].[Bets_Ledger] l\r\n",
                "\tJOIN [sys].[database_ledger_transactions] t\r\n",
                "\tON t.[transaction_id] = l.[ledger_transaction_id]\r\n",
                "\tWHERE t.transaction_id=1166;"
            ],
            "metadata": {
                "azdata_cell_guid": "d3bf1ca4-c66f-4ba8-a863-0811e120de51",
                "language": "sql"
            },
            "outputs": [],
            "execution_count": null
        }
    ]
}