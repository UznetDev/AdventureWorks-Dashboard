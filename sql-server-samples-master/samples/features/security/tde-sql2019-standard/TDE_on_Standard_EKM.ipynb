{
    "metadata": {
        "kernelspec": {
            "name": "SQL",
            "display_name": "SQL",
            "language": "sql"
        },
        "language_info": {
            "name": "sql",
            "version": ""
        }
    },
    "nbformat_minor": 2,
    "nbformat": 4,
    "cells": [
        {
            "cell_type": "markdown",
            "source": [
                "# SQL Server 2019 Standard Edition, Transparent Database Encryption and Azure Key Vault\r\n",
                "\r\n",
                "This notebook demonstrates the use of Azure Key Vault to enable TDE on a SQL Server 2019 Standard Edition database using EKM.\r\n",
                "\r\n",
                "**Pre-requisities** \r\n",
                "1. Install Python\r\n",
                "2. Install Azure CLI using the following command (You will need to ensure that the Python scripts folder is part of your PATH variable)\r\n",
                "    <br> <code>pip install --user azure-cli</code>\r\n",
                "3. Log into Azure and create and Azure AD Service Principal\r\n",
                "    <code><br> az login\r\n",
                "    <br> az account set --subscription <-subscription id->\r\n",
                "    <br> az ad sp create-for-rbac -n sqlaadtde --skip-assignment\r\n",
                "    </code>\r\n",
                "    <br> note the <b>appID</b> value which would be required later\r\n",
                "    <code>\r\n",
                "   <br>{\"appId\": \"<-guid->\",\r\n",
                "  <br>\"displayName\": \"sqlaadtde\",\r\n",
                "  <br>\"name\": \"http://sqlaadtde\",\r\n",
                "  <br>\"password\": \"<-guid->\",\r\n",
                "  <br>\"tenant\": \"<-guid->\"}\r\n",
                "  </code>\r\n",
                "4. Create a new resource group and assign a newly created Azure Key Vault to the same resource group\r\n",
                "    <code>\r\n",
                "    <br> # Create a new resource group\r\n",
                "    <br> az group create -n \"SQLTDEResourceGroup\" -l \"West US\"\r\n",
                "    <br> # Register the Key Vault resource provider\r\n",
                "    <br> az provider register -n Microsoft.KeyVault\r\n",
                "    <br> az keyvault create --name \"SQLStandardKeyVault\" --resource-group \"SQLTDEResourceGroup\" --location \"West US\"\r\n",
                "    </code>\r\n",
                "5. Register the Azure AD principl with AKV\r\n",
                "    <code>\r\n",
                "    <br> # Register the AAD principal\r\n",
                "    <br> az keyvault set-policy --name \"SQLStandardKeyVault\" --spn <appID GUID from az ad create-for-rbac output> --key-permissions get list wrapKey unwrapKey --verbose\r\n",
                "    </code>\r\n",
                "\r\n",
                "Details about the scenario is available [here](https://docs.microsoft.com/en-us/sql/relational-databases/security/encryption/setup-steps-for-extensible-key-management-using-the-azure-key-vault?view=sql-server-ver15#next-step)."
            ],
            "metadata": {
                "azdata_cell_guid": "f28683d2-1f27-42b3-8418-f6747ed878ec"
            }
        },
        {
            "cell_type": "markdown",
            "source": [
                "### Configure SQL Server to use EKM\r\n",
                "Download and install the [SQL Server Connector](https://go.microsoft.com/fwlink/p/?LinkId=521700). (This should be done by the administrator of the SQL Server computer.) By default, the connector installs at <b>C:\\Program Files\\SQL Server Connector for Microsoft Azure Key Vault</b>. This location can be changed during setup. (If changed, adjust the scripts below.)\r\n",
                "<br>There is no interface for the Connector, but if it is installed successfully, the <b>Microsoft.AzureKeyVaultService.EKM.dll</b> is installed on the machine. This is the cryptographic EKM provider DLL that needs to be registered with SQL Server by using the CREATE CRYPTOGRAPHIC PROVIDER statement."
            ],
            "metadata": {
                "azdata_cell_guid": "c82cb49a-7e5c-419e-b109-da7d2f9defa0"
            }
        },
        {
            "cell_type": "code",
            "source": [
                "USE master;  \r\n",
                "GO  \r\n",
                "\r\n",
                "sp_configure 'show advanced options', 1;  \r\n",
                "GO  \r\n",
                "RECONFIGURE WITH OVERRIDE;  \r\n",
                "GO  \r\n",
                "\r\n",
                "-- Enable EKM provider  \r\n",
                "sp_configure 'EKM provider enabled', 1;  \r\n",
                "GO  \r\n",
                "RECONFIGURE WITH OVERRIDE;  \r\n",
                "GO"
            ],
            "metadata": {
                "azdata_cell_guid": "4e7af918-31d1-40c2-a193-309672e1c0ef"
            },
            "outputs": [
                {
                    "output_type": "display_data",
                    "data": {
                        "text/html": "Commands completed successfully."
                    },
                    "metadata": {}
                },
                {
                    "output_type": "display_data",
                    "data": {
                        "text/html": "Configuration option 'show advanced options' changed from 1 to 1. Run the RECONFIGURE statement to install."
                    },
                    "metadata": {}
                },
                {
                    "output_type": "display_data",
                    "data": {
                        "text/html": "Commands completed successfully."
                    },
                    "metadata": {}
                },
                {
                    "output_type": "display_data",
                    "data": {
                        "text/html": "Configuration option 'EKM provider enabled' changed from 1 to 1. Run the RECONFIGURE statement to install."
                    },
                    "metadata": {}
                },
                {
                    "output_type": "display_data",
                    "data": {
                        "text/html": "Commands completed successfully."
                    },
                    "metadata": {}
                },
                {
                    "output_type": "display_data",
                    "data": {
                        "text/html": "Total execution time: 00:00:00.059"
                    },
                    "metadata": {}
                }
            ],
            "execution_count": 15
        },
        {
            "cell_type": "markdown",
            "source": [
                "### Register (create) the SQL Server Connector as an EKM provider with SQL Server"
            ],
            "metadata": {
                "azdata_cell_guid": "27394b2a-b1da-497b-8c56-8a2fbd1af037"
            }
        },
        {
            "cell_type": "code",
            "source": [
                "-- Create a cryptographic provider, using the SQL Server Connector\r\n",
                "-- which is an EKM provider for the Azure Key Vault. This example uses \r\n",
                "-- the name AzureKeyVault_EKM_Prov.\r\n",
                "\r\n",
                "CREATE CRYPTOGRAPHIC PROVIDER AzureKeyVault_EKM_Prov \r\n",
                "FROM FILE = 'C:\\Program Files\\SQL Server Connector for Microsoft Azure Key Vault\\Microsoft.AzureKeyVaultService.EKM.dll';\r\n",
                "GO \r\n",
                ""
            ],
            "metadata": {
                "azdata_cell_guid": "3f53701d-b27a-49a8-931e-e3319c1b6386"
            },
            "outputs": [
                {
                    "output_type": "display_data",
                    "data": {
                        "text/html": "Commands completed successfully."
                    },
                    "metadata": {}
                },
                {
                    "output_type": "display_data",
                    "data": {
                        "text/html": "Total execution time: 00:00:00.022"
                    },
                    "metadata": {}
                }
            ],
            "execution_count": 16
        },
        {
            "cell_type": "markdown",
            "source": [
                "### Create a credential from your AAD Client ID and Secret that you can use to grant a SQL Server account access to your Azure key vault\r\n",
                "The IDENTITY here is the name of your Azure key vault.\r\n",
                "<br>The SECRET here is your AAD Client ID (with the hyphens removed) and your AAD Client Secret concatenanted together\r\n",
                "<br>You will need to create a \"New Client Secret\" for your Azure AD app registration i.e. *sqlaadtde*, which was created above. See steps [here](https://docs.microsoft.com/en-us/azure/healthcare-apis/register-confidential-azure-ad-client-app#application-secret)."
            ],
            "metadata": {
                "azdata_cell_guid": "e71869f8-0904-4167-8818-c7cb345915c0"
            }
        },
        {
            "cell_type": "code",
            "source": [
                "CREATE CREDENTIAL Azure_EKM_TDE_cred\r\n",
                "    WITH IDENTITY = 'SQLStandardKeyVault', -- for global Azure\r\n",
                "    -- WITH IDENTITY = 'ContosoDevKeyVault.vault.usgovcloudapi.net', -- for Azure Government\r\n",
                "    -- WITH IDENTITY = 'ContosoDevKeyVault.vault.azure.cn', -- for Azure China 21Vianet\r\n",
                "    -- WITH IDENTITY = 'ContosoDevKeyVault.vault.microsoftazure.de', -- for Azure Germany \r\n",
                "\tSECRET = '<combination of AAD Client ID without hyphens and AAD Client Secret>'\r\n",
                "    FOR CRYPTOGRAPHIC PROVIDER AzureKeyVault_EKM_Prov \r\n",
                "\r\n",
                ""
            ],
            "metadata": {
                "azdata_cell_guid": "600cf82f-0488-46da-a253-99146f20065b"
            },
            "outputs": [
                {
                    "output_type": "display_data",
                    "data": {
                        "text/html": "Commands completed successfully."
                    },
                    "metadata": {}
                },
                {
                    "output_type": "display_data",
                    "data": {
                        "text/html": "Total execution time: 00:00:00.012"
                    },
                    "metadata": {}
                }
            ],
            "execution_count": 25
        },
        {
            "cell_type": "markdown",
            "source": [
                "### Create an Asymmetric Key using the AKV Key\r\n",
                "You will need to first create a Key in Azure Key Vault which can be used to create the Asymmetric Key in SQL Server\r\n",
                "<code>\r\n",
                "<br> # Create a software-protected key \r\n",
                "<br> az keyvault key create --vault-name \"SQLStandardKeyVault\" --name \"SQLTDEKey\" --protection software\r\n",
                "</code>"
            ],
            "metadata": {
                "azdata_cell_guid": "ef0ab374-182e-434b-b7d8-050b3a1c481b"
            }
        },
        {
            "cell_type": "code",
            "source": [
                "CREATE ASYMMETRIC KEY dbAKV_Key   \r\n",
                "FROM PROVIDER [AzureKeyVault_EKM_Prov]  \r\n",
                "WITH PROVIDER_KEY_NAME = 'SQLTDEKey',  -- This is the KEY that was created in the Azure Key Vault\r\n",
                "CREATION_DISPOSITION = OPEN_EXISTING;"
            ],
            "metadata": {
                "azdata_cell_guid": "923e5bc8-2751-4286-a0fe-fa37e1af59b0"
            },
            "outputs": [
                {
                    "output_type": "display_data",
                    "data": {
                        "text/html": "Commands completed successfully."
                    },
                    "metadata": {}
                },
                {
                    "output_type": "display_data",
                    "data": {
                        "text/html": "Total execution time: 00:00:00.145"
                    },
                    "metadata": {}
                }
            ],
            "execution_count": 27
        },
        {
            "cell_type": "markdown",
            "source": [
                "### Now create a database and enable TDE on the database"
            ],
            "metadata": {
                "azdata_cell_guid": "c87fa2c2-1d3f-4dda-a2f9-d320af41486a"
            }
        },
        {
            "cell_type": "code",
            "source": [
                "USE master;  \r\n",
                "-- Create a SQL Server login associated with the asymmetric key   \r\n",
                "-- for the Database engine to use when it loads a database   \r\n",
                "-- encrypted by TDE.  \r\n",
                "CREATE LOGIN TDE_Login   \r\n",
                "FROM ASYMMETRIC KEY dbAKV_Key;  \r\n",
                "GO   \r\n",
                "\r\n",
                "-- Alter the TDE Login to add the credential for use by the   \r\n",
                "-- Database Engine to access the key vault  \r\n",
                "ALTER LOGIN TDE_Login   \r\n",
                "ADD CREDENTIAL Azure_EKM_TDE_cred ;  \r\n",
                "GO\r\n",
                "\r\n",
                "CREATE DATABASE dbAKVTDE;\r\n",
                "GO  \r\n",
                "USE dbAKVTDE;\r\n",
                "GO\r\n",
                "\r\n",
                "CREATE DATABASE ENCRYPTION KEY   \r\n",
                "WITH ALGORITHM = AES_256   \r\n",
                "ENCRYPTION BY SERVER ASYMMETRIC KEY dbAKV_Key;  -- Use the key created above\r\n",
                "GO  \r\n",
                "\r\n",
                "-- Alter the database to enable transparent data encryption.  \r\n",
                "ALTER DATABASE dbAKVTDE   \r\n",
                "SET ENCRYPTION ON;  \r\n",
                "GO  "
            ],
            "metadata": {
                "azdata_cell_guid": "ee35f210-c356-4018-8994-057d16273b3a"
            },
            "outputs": [],
            "execution_count": 30
        },
        {
            "cell_type": "markdown",
            "source": [
                "## Check if the database has been encrypted"
            ],
            "metadata": {
                "azdata_cell_guid": "6b8f4ad6-4998-4c0f-8fe5-f1a23d95055f"
            }
        },
        {
            "cell_type": "code",
            "source": [
                "USE MASTER  \r\n",
                "SELECT name,provider_type, algorithm_desc FROM sys.asymmetric_keys  \r\n",
                "\r\n",
                "-- Check which databases are encrypted using TDE  \r\n",
                "SELECT SERVERPROPERTY('Edition') as [Edition],d.name, dek.encryption_scan_state_desc, dek.encryptor_type  \r\n",
                "FROM sys.dm_database_encryption_keys AS dek  \r\n",
                "JOIN sys.databases AS d  \r\n",
                "     ON dek.database_id = d.database_id;"
            ],
            "metadata": {
                "azdata_cell_guid": "557fb1b5-7058-4888-986e-1ef2c03a1ab9"
            },
            "outputs": [
                {
                    "output_type": "display_data",
                    "data": {
                        "text/html": "(1 row affected)"
                    },
                    "metadata": {}
                },
                {
                    "output_type": "display_data",
                    "data": {
                        "text/html": "(3 rows affected)"
                    },
                    "metadata": {}
                },
                {
                    "output_type": "display_data",
                    "data": {
                        "text/html": "Total execution time: 00:00:00.048"
                    },
                    "metadata": {}
                },
                {
                    "output_type": "execute_result",
                    "metadata": {},
                    "execution_count": 36,
                    "data": {
                        "application/vnd.dataresource+json": {
                            "schema": {
                                "fields": [
                                    {
                                        "name": "name"
                                    },
                                    {
                                        "name": "provider_type"
                                    },
                                    {
                                        "name": "algorithm_desc"
                                    }
                                ]
                            },
                            "data": [
                                {
                                    "0": "dbAKV_Key",
                                    "1": "CRYPTOGRAPHIC PROVIDER",
                                    "2": "RSA_2048"
                                }
                            ]
                        },
                        "text/html": "<table><tr><th>name</th><th>provider_type</th><th>algorithm_desc</th></tr><tr><td>dbAKV_Key</td><td>CRYPTOGRAPHIC PROVIDER</td><td>RSA_2048</td></tr></table>"
                    }
                },
                {
                    "output_type": "execute_result",
                    "metadata": {},
                    "execution_count": 36,
                    "data": {
                        "application/vnd.dataresource+json": {
                            "schema": {
                                "fields": [
                                    {
                                        "name": "Edition"
                                    },
                                    {
                                        "name": "name"
                                    },
                                    {
                                        "name": "encryption_scan_state_desc"
                                    },
                                    {
                                        "name": "encryptor_type"
                                    }
                                ]
                            },
                            "data": [
                                {
                                    "0": "Standard Edition (64-bit)",
                                    "1": "tempdb",
                                    "2": "COMPLETE",
                                    "3": "ASYMMETRIC KEY"
                                },
                                {
                                    "0": "Standard Edition (64-bit)",
                                    "1": "dbTDE",
                                    "2": "COMPLETE",
                                    "3": "CERTIFICATE"
                                },
                                {
                                    "0": "Standard Edition (64-bit)",
                                    "1": "dbAKVTDE",
                                    "2": "COMPLETE",
                                    "3": "ASYMMETRIC KEY"
                                }
                            ]
                        },
                        "text/html": "<table><tr><th>Edition</th><th>name</th><th>encryption_scan_state_desc</th><th>encryptor_type</th></tr><tr><td>Standard Edition (64-bit)</td><td>tempdb</td><td>COMPLETE</td><td>ASYMMETRIC KEY</td></tr><tr><td>Standard Edition (64-bit)</td><td>dbTDE</td><td>COMPLETE</td><td>CERTIFICATE</td></tr><tr><td>Standard Edition (64-bit)</td><td>dbAKVTDE</td><td>COMPLETE</td><td>ASYMMETRIC KEY</td></tr></table>"
                    }
                }
            ],
            "execution_count": 36
        },
        {
            "cell_type": "markdown",
            "source": [
                "# Best Practices\r\n",
                "To ensure quick key recovery and be able to access your data outside of Azure, we recommend the following best practices:\r\n",
                "<br> a. Create your encryption key locally on a local HSM device. (Make sure this is an asymmetric, RSA 2048 key so it's is supported by SQL Server.)\r\n",
                "<br> b. Import the encryption key to Azure Key Vault. See the steps in this [article](https://docs.microsoft.com/en-us/sql/relational-databases/security/encryption/setup-steps-for-extensible-key-management-using-the-azure-key-vault?view=sql-server-ver15#part-ii-create-a-key-vault-and-key) on how to do that.\r\n",
                "<br> c. Before using the key in Azure Key Vault for the first time, take an Azure Key Vault key backup. Learn more about the <b>Backup-AzureKeyVaultKey</b> command.\r\n",
                "Whenever any changes are made to the key (for example add ACLs, add tags, add key attributes), be sure to take another Azure Key Vault key backup.\r\n",
                "\r\n",
                "## Types of keys\r\n",
                "There are two types of keys you can generate in Azure Key Vault that will work with SQL Server. Both are asymmetric 2048-bit RSA keys.\r\n",
                "<br><b>Software-protected</b>: Processed in software and encrypted at rest. Operations on software-protected keys occur on Azure Virtual Machines. Recommended for keys not used in a production deployment.\r\n",
                "<br><b>HSM-protected</b>: Created and protected by a hardware security module (HSM) for additional security.\r\n",
                "\r\n",
                "For common troubleshooting and maintenance of the SQL Server Connector, please refer to [this article](https://docs.microsoft.com/en-us/sql/relational-databases/security/encryption/sql-server-connector-maintenance-troubleshooting?view=sql-server-ver15)."
            ],
            "metadata": {
                "azdata_cell_guid": "b74a3595-b2e9-4952-8e2a-c5876f740b70"
            }
        }
    ]
}