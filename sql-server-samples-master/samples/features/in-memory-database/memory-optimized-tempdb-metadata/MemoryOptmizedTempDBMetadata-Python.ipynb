{
    "metadata": {
        "kernelspec": {
            "name": "python3",
            "display_name": "Python 3"
        },
        "language_info": {
            "name": "python",
            "version": "3.6.5",
            "mimetype": "text/x-python",
            "codemirror_mode": {
                "name": "ipython",
                "version": 3
            },
            "pygments_lexer": "ipython3",
            "nbconvert_exporter": "python",
            "file_extension": ".py"
        }
    },
    "nbformat_minor": 2,
    "nbformat": 4,
    "cells": [
        {
            "cell_type": "markdown",
            "source": [
                "# Exploring Memory-Optmized TempDB Metadata\r\n",
                "\r\n",
                "TempDB metadata contention has historically been a bottleneck to scalability for many workloads running on SQL Server. SQL Server 2019 introduces a new feature that is part of the [In-Memory Database](https://docs.microsoft.com/sql/relational-databases/in-memory-database) feature family, memory-optimized tempdb metadata, which effectively removes this bottleneck and unlocks a new level of scalability for tempdb-heavy workloads. In SQL Server 2019, the system tables involved in managing temp table metadata can be moved into latch-free non-durable memory-optimized tables.\r\n",
                "\r\n",
                "To learn more about tempdb metadata contention, along with other types of tempdb contention, check out the blog article [TEMPDB - Files and Trace Flags and Updates, Oh My!](https://techcommunity.microsoft.com/t5/SQL-Server/TEMPDB-Files-and-Trace-Flags-and-Updates-Oh-My/ba-p/385937). Keep reading to explore the new memory-optimized tempdb metadata feature."
            ],
            "metadata": {
                "azdata_cell_guid": "491417cb-b92b-43bc-b87b-7e67bcae5589"
            }
        },
        {
            "cell_type": "markdown",
            "source": [
                "## Configure your environment\r\n",
                "\r\n",
                "Contention in tempdb happens when a large number of concurrent threads are attemping to create, modify or drop temp tables. In order to simulate this situation, you'll need to have a SQL Server instance that has multiple cores (4 or more is recommended), and a way to simulate multiple concurrent threads. For this example, we'll be using the ostress.exe tool to generate multiple concurrent threads. If you have an existing multi-core SQL Server instance, you can follow the T-SQL instructions to set up the demo, otherwise you can try the docker container steps instead. \r\n",
                "\r\n",
                "First, download the demo files to your local computer.\r\n",
                "\r\n",
                "### Docker Container Setup\r\n",
                "Note that the docker commands may take some time to execute, but you will not see progress here until they are complete.\r\n",
                "\r\n",
                "1. Make sure you have your docker environment configured, more information [here](https://docs.docker.com/get-started/). \r\n",
                "> NOTE\r\n",
                "> <br>If you are using Docker Desktop for Windows or Mac, the default configuration will limit your containers to 2 cores, regardless of the number of cores on your computer. Be sure to configure docker to allow at least 4 cores and 4GB of RAM for this demo to run properly. To do this, right click on the Docker Desktop icon in the status bar and choose Settings -> Advanced.\r\n",
                "2. Pull the demo container with the following command:"
            ],
            "metadata": {
                "azdata_cell_guid": "c740199e-107b-484a-9994-6883680db75e"
            }
        },
        {
            "cell_type": "code",
            "source": [
                "! docker pull bluefooted/sql2019tempdbdemo"
            ],
            "metadata": {
                "azdata_cell_guid": "1c435674-3a29-43db-af14-3bbaeb69cba8"
            },
            "outputs": [
                {
                    "name": "stdout",
                    "text": "Using default tag: latest\nlatest: Pulling from bluefooted/sql2019tempdbdemo\nDigest: sha256:035a1bda5539bfe68ad1b2f032a6e389cea91a0cd880e75b83ef186c46b2e34f\nStatus: Image is up to date for bluefooted/sql2019tempdbdemo:latest\ndocker.io/bluefooted/sql2019tempdbdemo:latest\n",
                    "output_type": "stream"
                }
            ],
            "execution_count": 3
        },
        {
            "cell_type": "markdown",
            "source": [
                "3. Start the demo container with the following command:"
            ],
            "metadata": {
                "azdata_cell_guid": "94a1d4c5-806b-4823-bbcc-527a46dcac53"
            }
        },
        {
            "cell_type": "code",
            "source": [
                "! docker run -e \"ACCEPT_EULA=Y\" -e \"SA_PASSWORD=P@ssw0rd!\" -p 1455:1433 --name sql2019tempdbdemo -d bluefooted/sql2019tempdbdemo"
            ],
            "metadata": {
                "azdata_cell_guid": "50d697be-9130-4bf8-8071-a670fce06a0c"
            },
            "outputs": [
                {
                    "name": "stdout",
                    "text": "2a3dbfff94ce2bd277778e36ac268b4495afb77f1b6c5417478b10a9c545cca6\n",
                    "output_type": "stream"
                }
            ],
            "execution_count": 2
        },
        {
            "cell_type": "markdown",
            "source": [
                "> NOTE:\r\n",
                "> <br> If you see the following error, you may already have run the docker run command with this image:\r\n",
                "<br> <br> *docker: Error response from daemon: Conflict. The container name \"/sql2019tempdbdemo\" is already in use by container \"3f662e0fd9b8cbdc1013e874722e066aa8e81ec3a07423fc3ab95cb75e640af9\". You have to remove (or rename) that container to be able to reuse that name.\r\n",
                "See 'docker run --help'.*\r\n",
                "\r\n",
                "If you see this message, you can start the container instead with the following command:"
            ],
            "metadata": {
                "azdata_cell_guid": "b713d8ad-99df-4a32-a65e-ab0779575f3b"
            }
        },
        {
            "cell_type": "code",
            "source": [
                "! docker start sql2019tempdbdemo"
            ],
            "metadata": {
                "azdata_cell_guid": "e0d6ed1d-c6bc-4f08-a041-b6b70ea2054e"
            },
            "outputs": [],
            "execution_count": 0
        },
        {
            "cell_type": "markdown",
            "source": [
                "4. Connect to the demo SQL Server instance using Azure Data Studio or SQL Server Management Studio using the following information:\r\n",
                "    \r\n",
                "    **Server Name**: localhost,1455<br>\r\n",
                "    **Username**: sa<br>\r\n",
                "    **Password**: P@ssw0rd!"
            ],
            "metadata": {
                "azdata_cell_guid": "895b3f6a-1ba1-4480-9b06-9cfb2b3c246d"
            }
        },
        {
            "cell_type": "markdown",
            "source": [
                "### Existing SQL Server Instance Setup (skip if you are using the demo container)\r\n",
                "\r\n",
                "If you already have a SQL Server instance with a minimum of 4 cores, you can download and restore the AdventureWorks database and use the scripts in this repo to configure the database. Follow the steps in the T-SQL notebook to complete this setup.\r\n",
                ""
            ],
            "metadata": {
                "azdata_cell_guid": "0302cf7c-5ee1-426c-b1a5-17fb492a0a8a"
            }
        },
        {
            "cell_type": "markdown",
            "source": [
                "## Detecting TempDB Metadata Contention\r\n",
                "\r\n",
                "The first thing to figure out before you turn on this new feature is whether or not you are experiencing TempDB metadata contention. The main symptom of this contention is a number of sessions in `Suspended` state with a wait type of `PAGELATCH_xx` and a wait resource of a page that hosts a TempDB system table, such as `2:1:118`. In order to know whether or not the page is part of a TempDB system table, you can use the new dynamic management function `sys.dm_db_page_info()` in SQL Server 2019 or later, or the older `DBCC PAGE` command in older versions. For this demo, let's focus on `sys.dm_db_page_info()`. Note that this command will take some time to complete, you'll want to proceed to the next step before it completes.\r\n",
                "\r\n",
                "First, start the workload using the `ostress.exe` tool that is included in the downloads. Note that if you are not using the demo container, you will need to change the server name and login information."
            ],
            "metadata": {
                "azdata_cell_guid": "7ac2df51-c609-45fc-9e97-996c7dc6b505"
            }
        },
        {
            "cell_type": "code",
            "source": [
                "! ostress.exe -Slocalhost,1455 -Usa -PP@ssw0rd!  -dAdventureWorks -Q\"EXEC dbo.usp_EmployeeBirthdayList 4\"  -mstress -quiet -n16 -r120 | FINDSTR \"QEXEC Starting Creating elapsed\""
            ],
            "metadata": {
                "azdata_cell_guid": "b738ca65-ec24-4762-a773-d37674b41884"
            },
            "outputs": [
                {
                    "name": "stdout",
                    "text": "10/08/19 15:39:54.739 [0x00007A74] -QEXEC dbo.usp_EmployeeBirthdayList 4\n10/08/19 15:39:54.779 [0x00007A74] Starting query execution...\n10/08/19 15:39:54.783 [0x00007A74] Creating 16 thread(s) to process queries\n10/08/19 15:40:30.158 [0x00007A74] OSTRESS exiting normally, elapsed time: 00:00:35.419\n",
                    "output_type": "stream"
                }
            ],
            "execution_count": 11
        },
        {
            "cell_type": "markdown",
            "source": [
                "While the above script is running, switch over to the T-SQL notebook and run the script to monitor your workload for page contention. You should see several sessions with a `wait_type` of `PAGELATCH_EX` or `PAGELATCH_SH`, often with an `object_name` of `sysschobjs`.\r\n",
                "\r\n",
                "> NOTE\r\n",
                "> <br>If this query does not return any results, make sure the command above is still running. If it is not running, start it and try the query again. If you still do not see any sessions waiting, you may need to increase the number of CPUs available to your server, and/or increase the number of concurrent threads by increasing the `-n` parameter in the command.  This demo was tested with 4 cores and 16 concurrent sessions, which should yield the expected results. If you would like more time to examine the contention, you can increase the `-r` parameter, which will increase the number of iterations."
            ],
            "metadata": {
                "azdata_cell_guid": "a3421322-4a07-4348-88f0-2e870368291b"
            }
        },
        {
            "cell_type": "markdown",
            "source": [
                "## Improve performance with Memory-Optimized TempDB Metadata\r\n",
                "\r\n",
                "Now that you have observed TempDB metadata contention, let's see how SQL Server 2019 addresses this contention. Switch over to the T-SQL notebook to review and run the script to enable Memory-Optimized TempDB Metadata.\r\n",
                "\r\n",
                "Once you have run the T-SQL command, you will need to restart the service. If you are using the demo container, you can do so with the following command:"
            ],
            "metadata": {
                "azdata_cell_guid": "aa10efd1-a1f1-4fbc-9e20-5ab94929d9ff"
            }
        },
        {
            "cell_type": "code",
            "source": [
                "! docker restart sql2019tempdbdemo"
            ],
            "metadata": {
                "azdata_cell_guid": "65567cd7-bdda-4501-b04a-3e7c3579252c"
            },
            "outputs": [
                {
                    "name": "stdout",
                    "text": "sql2019tempdbdemo\n",
                    "output_type": "stream"
                }
            ],
            "execution_count": 10
        },
        {
            "cell_type": "markdown",
            "source": [
                "Once the server is restarted, you can use queries in the T-SQL notebook to verify that the feature has been enabled.\r\n",
                "\r\n",
                "> NOTE\r\n",
                "> <br> It's a good idea to run a few T-SQL queries after the restart to make sure the server is up and running before you attempt the scenario again.\r\n",
                "\r\n",
                "Now that we have enabled Memory-Optimized TempDB Metadata, let's try running the workload again:"
            ],
            "metadata": {
                "azdata_cell_guid": "9624ed6d-06b4-49b2-bb5e-5a0c2b6b457c"
            }
        },
        {
            "cell_type": "code",
            "source": [
                "! ostress.exe -Slocalhost,1455 -Usa -PP@ssw0rd!  -dAdventureWorks -Q\"EXEC dbo.usp_EmployeeBirthdayList 4\"  -mstress -quiet -n16 -r120 | FINDSTR \"QEXEC Starting Creating elapsed\""
            ],
            "metadata": {
                "azdata_cell_guid": "58c2f587-a9a5-4d6c-8cd3-93e555f08dee"
            },
            "outputs": [
                {
                    "name": "stdout",
                    "text": "10/08/19 15:38:27.261 [0x00009AA0] -QEXEC dbo.usp_EmployeeBirthdayList 4\n10/08/19 15:38:27.316 [0x00009AA0] Starting query execution...\n10/08/19 15:38:27.321 [0x00009AA0] Creating 16 thread(s) to process queries\n10/08/19 15:38:54.045 [0x00009AA0] OSTRESS exiting normally, elapsed time: 00:00:26.784\n",
                    "output_type": "stream"
                }
            ],
            "execution_count": 9
        },
        {
            "cell_type": "markdown",
            "source": [
                "While this is running, switch over to the T-SQL notebook to run the monitoring script again. This time, you should not see any sessions waiting on `PAGELATCH_EX` or `PAGELATCH_SH`. Also, the script should complete faster than before the change was made."
            ],
            "metadata": {
                "azdata_cell_guid": "da79d28b-80d6-4644-98e5-23f250ec9c19"
            }
        }
    ]
}