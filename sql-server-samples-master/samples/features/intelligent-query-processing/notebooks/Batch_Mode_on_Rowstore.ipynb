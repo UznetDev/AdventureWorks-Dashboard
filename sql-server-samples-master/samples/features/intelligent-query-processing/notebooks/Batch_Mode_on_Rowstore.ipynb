{
    "metadata": {
        "kernelspec": {
            "name": "SQL",
            "display_name": "SQL",
            "language": "sql"
        },
        "language_info": {
            "name": "sql",
            "version": ""
        }
    },
    "nbformat_minor": 2,
    "nbformat": 4,
    "cells": [
        {
            "cell_type": "markdown",
            "source": [
                "# Batch Mode on rowstore\r\n",
                "Batch mode on rowstore enables batch mode execution for analytic workloads without requiring columnstore indexes. This feature supports batch mode execution and bitmap filters for on-disk heaps and B-tree indexes. Batch mode on rowstore enables support for all existing batch mode-enabled operators. Batch mode on Rowstore is a feature under the [**Intelligent Query Processing**](https://aka.ms/iqp) suite of features.  \r\n",
                "\r\n",
                "This example will show you how upgrading to **Database Compatibility Level 150** could improve performance due to batch mode on rowstore, when your workload has the following characteristics:\r\n",
                "* A significant part of the workload consists of analytical queries. Usually, these queries have operators like joins or aggregates that process hundreds of thousands of rows or more.\r\n",
                "* The workload is CPU bound (If the bottleneck is I/O, we still recommend that you consider a columnstore index, if possible).\r\n",
                "* If creating a columnstore index would add too much overhead to the transactional part of your workload; or if creating a columnstore index isn't feasible because your application depends on a feature that's not yet supported with columnstore indexes.\r\n",
                "\r\n",
                "More information about this feature is available [here](https://docs.microsoft.com/sql/relational-databases/performance/intelligent-query-processing?view=sql-server-ver15#batch-mode-on-rowstore)."
            ],
            "metadata": {
                "azdata_cell_guid": "7870ea3f-b017-46d9-bec6-15369f4ade69"
            }
        },
        {
            "cell_type": "markdown",
            "source": [
                "## Step 1: Setup WideWorldImportersDW database\r\n",
                "\r\n",
                "You could choose to use a container to evaluate this feature. Create an instance of SQL Server 2019 using a Docker image and restore the WideWorldImportersDW database backup\r\n",
                "\r\n",
                "You will need the **WideWorldImportersDW** database for this exercise. If you don't have this sample database, then you download the sample database [here](https://github.com/Microsoft/sql-server-samples/releases/download/wide-world-importers-v1.0/WideWorldImportersDW-Full.bak \"WideWorldImportersDW-Full download\").\r\n",
                "\r\n",
                "Restore the copied WideWorldImportersDW database backup into the container and restore the backup.\r\n",
                "\r\n",
                "##### Docker Commands\r\n",
                "```\r\n",
                "docker pull mcr.microsoft.com/mssql/server:2019-latest\r\n",
                "\r\n",
                "docker run -e \"ACCEPT_EULA=Y\" -e \"SA_PASSWORD=`<A Strong Password`>\" -p 1445:1433 --name sql2019demo -d mcr.microsoft.com/mssql/server:2019-latest\r\n",
                "\r\n",
                "docker cp \".\\Downloads\\WideWorldImportersDW-Full.bak\" sql2019demo:/var/opt/mssql/data\r\n",
                "```\r\n",
                "\r\n",
                "**Note**: *For Linux installations the default path to use is /var/opt/mssql*\r\n",
                ""
            ],
            "metadata": {
                "azdata_cell_guid": "975f5a9f-300f-450b-8981-cebb9ed6c719"
            }
        },
        {
            "cell_type": "code",
            "source": [
                "USE [master]\r\n",
                "GO\r\n",
                "IF EXISTS (SELECT [database_id] FROM sys.databases WHERE [name] = 'WideWorldImportersDW')\r\n",
                "ALTER DATABASE [WideWorldImportersDW] SET SINGLE_USER WITH ROLLBACK IMMEDIATE\r\n",
                "GO\r\n",
                "\r\n",
                "DECLARE @datafilepath VARCHAR(8000) = CAST(SERVERPROPERTY('InstanceDefaultDataPath') AS VARCHAR(4000)) + 'WideWorldImportersDW.mdf'\r\n",
                "DECLARE @logfilepath VARCHAR(8000) = CAST(SERVERPROPERTY('InstanceDefaultLogPath') AS VARCHAR(4000)) + 'WideWorldImportersDW.ldf'\r\n",
                "DECLARE @inmemfilepath VARCHAR(8000) = CAST(SERVERPROPERTY('InstanceDefaultDataPath') AS VARCHAR(4000)) + 'WideWorldImportersDW_InMemory_Data_1'\r\n",
                "DECLARE @secondaryfilepath VARCHAR(8000) = CAST(SERVERPROPERTY('InstanceDefaultDataPath') AS VARCHAR(4000))+ 'WideWorldImportersDW_2.ndf'\r\n",
                "\r\n",
                "-- Change @backupfile file path as needed\r\n",
                "DECLARE @backupfile VARCHAR(8000) = 'E:\\SampleDBs\\WideWorldImportersDW-Full.bak'\r\n",
                "RESTORE DATABASE WideWorldImportersDW\r\n",
                "FROM DISK = @backupfile \r\n",
                "WITH MOVE 'WWI_Primary' TO @datafilepath,\r\n",
                "    MOVE 'WWI_UserData' TO @secondaryfilepath,\r\n",
                "    MOVE 'WWIDW_InMemory_Data_1' TO @inmemfilepath,\r\n",
                "    MOVE 'WWI_Log' TO @logfilepath, NOUNLOAD, REPLACE, STATS = 10\r\n",
                "GO\r\n",
                "\r\n",
                "USE [master]\r\n",
                "GO\r\n",
                "ALTER DATABASE [WideWorldImportersDW] MODIFY FILE ( NAME = N'WWI_Log', SIZE = 4GB )\r\n",
                "GO"
            ],
            "metadata": {
                "azdata_cell_guid": "b48b5a47-55d7-4c3c-ba51-2efa8d801029"
            },
            "outputs": [],
            "execution_count": 7
        },
        {
            "cell_type": "markdown",
            "source": [
                "## Step 2: Enlarge the WideWorldImportersDW database"
            ],
            "metadata": {
                "azdata_cell_guid": "4e07d47f-3833-40dd-8203-1d43af8bacd8"
            }
        },
        {
            "cell_type": "code",
            "source": [
                "USE WideWorldImportersDW;\r\n",
                "GO\r\n",
                "\r\n",
                "/*\r\n",
                "Assumes a fresh restore of WideWorldImportersDW\r\n",
                "*/\r\n",
                "\r\n",
                "IF OBJECT_ID('Fact.OrderHistory') IS NULL \r\n",
                "BEGIN\r\n",
                "    SELECT [Order Key], [City Key], [Customer Key], [Stock Item Key], [Order Date Key], [Picked Date Key], [Salesperson Key], [Picker Key], [WWI Order ID], [WWI Backorder ID], Description, Package, Quantity, [Unit Price], [Tax Rate], [Total Excluding Tax], [Tax Amount], [Total Including Tax], [Lineage Key]\r\n",
                "    INTO Fact.OrderHistory\r\n",
                "    FROM Fact.[Order];\r\n",
                "END;\r\n",
                "\r\n",
                "ALTER TABLE Fact.OrderHistory\r\n",
                "ADD CONSTRAINT PK_Fact_OrderHistory PRIMARY KEY NONCLUSTERED ([Order Key] ASC, [Order Date Key] ASC) WITH (DATA_COMPRESSION = PAGE);\r\n",
                "GO\r\n",
                "\r\n",
                "CREATE INDEX IX_Stock_Item_Key\r\n",
                "ON Fact.OrderHistory ([Stock Item Key])\r\n",
                "INCLUDE(Quantity)\r\n",
                "WITH (DATA_COMPRESSION = PAGE);\r\n",
                "GO\r\n",
                "\r\n",
                "CREATE INDEX IX_OrderHistory_Quantity\r\n",
                "ON Fact.OrderHistory ([Quantity])\r\n",
                "INCLUDE([Order Key])\r\n",
                "WITH (DATA_COMPRESSION = PAGE);\r\n",
                "GO\r\n",
                "\r\n",
                "CREATE INDEX IX_OrderHistory_CustomerKey\r\n",
                "ON Fact.OrderHistory([Customer Key])\r\n",
                "INCLUDE ([Total Including Tax])\r\n",
                "WITH (DATA_COMPRESSION = PAGE);\r\n",
                "GO\r\n",
                "\r\n",
                "IF (SELECT COUNT(*) FROM [Fact].[OrderHistory]) < 3702592\r\n",
                "BEGIN\r\n",
                "\tDECLARE @i smallint\r\n",
                "\tSET @i = 0\r\n",
                "\tWHILE @i < 4\r\n",
                "\tBEGIN\r\n",
                "\t\tINSERT INTO [Fact].[OrderHistory] ([City Key], [Customer Key], [Stock Item Key], [Order Date Key], [Picked Date Key], [Salesperson Key], [Picker Key], [WWI Order ID], [WWI Backorder ID], Description, Package, Quantity, [Unit Price], [Tax Rate], [Total Excluding Tax], [Tax Amount], [Total Including Tax], [Lineage Key])\r\n",
                "\t\tSELECT [City Key], [Customer Key], [Stock Item Key], [Order Date Key], [Picked Date Key], [Salesperson Key], [Picker Key], [WWI Order ID], [WWI Backorder ID], Description, Package, Quantity, [Unit Price], [Tax Rate], [Total Excluding Tax], [Tax Amount], [Total Including Tax], [Lineage Key]\r\n",
                "\t\tFROM [Fact].[OrderHistory];\r\n",
                "\r\n",
                "\t\tSET @i = @i +1\r\n",
                "\tEND;\r\n",
                "END\r\n",
                "GO\r\n",
                "\r\n",
                "IF OBJECT_ID('Fact.OrderHistoryExtended') IS NULL \r\n",
                "BEGIN\r\n",
                "    SELECT [Order Key], [City Key], [Customer Key], [Stock Item Key], [Order Date Key], [Picked Date Key], [Salesperson Key], [Picker Key], [WWI Order ID], [WWI Backorder ID], Description, Package, Quantity, [Unit Price], [Tax Rate], [Total Excluding Tax], [Tax Amount], [Total Including Tax], [Lineage Key]\r\n",
                "    INTO Fact.OrderHistoryExtended\r\n",
                "    FROM Fact.[OrderHistory];\r\n",
                "END;\r\n",
                "\r\n",
                "ALTER TABLE Fact.OrderHistoryExtended\r\n",
                "ADD CONSTRAINT PK_Fact_OrderHistoryExtended PRIMARY KEY NONCLUSTERED ([Order Key] ASC, [Order Date Key] ASC)\r\n",
                "WITH (DATA_COMPRESSION = PAGE);\r\n",
                "GO\r\n",
                "\r\n",
                "CREATE INDEX IX_Stock_Item_Key\r\n",
                "ON Fact.OrderHistoryExtended ([Stock Item Key])\r\n",
                "INCLUDE (Quantity);\r\n",
                "GO\r\n",
                "\r\n",
                "IF (SELECT COUNT(*) FROM [Fact].[OrderHistory]) < 29620736\r\n",
                "BEGIN\r\n",
                "\tDECLARE @i smallint\r\n",
                "\tSET @i = 0\r\n",
                "\tWHILE @i < 3\r\n",
                "\tBEGIN\r\n",
                "\t\tINSERT Fact.OrderHistoryExtended([City Key], [Customer Key], [Stock Item Key], [Order Date Key], [Picked Date Key], [Salesperson Key], [Picker Key], [WWI Order ID], [WWI Backorder ID], Description, Package, Quantity, [Unit Price], [Tax Rate], [Total Excluding Tax], [Tax Amount], [Total Including Tax], [Lineage Key])\r\n",
                "\t\tSELECT [City Key], [Customer Key], [Stock Item Key], [Order Date Key], [Picked Date Key], [Salesperson Key], [Picker Key], [WWI Order ID], [WWI Backorder ID], Description, Package, Quantity, [Unit Price], [Tax Rate], [Total Excluding Tax], [Tax Amount], [Total Including Tax], [Lineage Key]\r\n",
                "\t\tFROM Fact.OrderHistoryExtended;\r\n",
                "\r\n",
                "\t\tSET @i = @i +1\r\n",
                "\tEND;\r\n",
                "END\r\n",
                "GO\r\n",
                "\r\n",
                "UPDATE Fact.OrderHistoryExtended\r\n",
                "SET [WWI Order ID] = [Order Key];\r\n",
                "GO\r\n",
                "\r\n",
                "-- Repeat the following until log shrinks. These demos don't require much log space.\r\n",
                "CHECKPOINT\r\n",
                "GO\r\n",
                "DBCC SHRINKFILE (N'WWI_Log' , 0, TRUNCATEONLY)\r\n",
                "GO\r\n",
                "SELECT * FROM sys.dm_db_log_space_usage\r\n",
                "GO"
            ],
            "metadata": {
                "azdata_cell_guid": "a7421321-3652-49c5-b83a-e25e69c48aed"
            },
            "outputs": [],
            "execution_count": 3
        },
        {
            "cell_type": "markdown",
            "source": [
                "## Step 3: Execute the query without Batch Mode on Rowstore\r\n",
                "\r\n",
                "Even when the database compatibility level is set to the defauult (150), this can be done by using the USE HINT **DISALLOW_BATCH_MODE** query hint to disable the feature.\r\n",
                ""
            ],
            "metadata": {
                "azdata_cell_guid": "cc613f99-f3c2-462f-93df-bd197de31bbc"
            }
        },
        {
            "cell_type": "code",
            "source": [
                "USE [WideWorldImportersDW];\r\n",
                "GO\r\n",
                "ALTER DATABASE [WideWorldImportersDW] SET COMPATIBILITY_LEVEL = 150;\r\n",
                "GO\r\n",
                "ALTER DATABASE SCOPED CONFIGURATION CLEAR PROCEDURE_CACHE;\r\n",
                "GO\r\n",
                "\r\n",
                "-- Row mode due to hint\r\n",
                "SELECT [Tax Rate],\r\n",
                "\t\t[Lineage Key],\r\n",
                "\t\t[Salesperson Key],\r\n",
                "\tSUM([Quantity]) AS SUM_QTY,\r\n",
                "\tSUM([Unit Price]) AS SUM_BASE_PRICE,\r\n",
                "\tCOUNT(*) AS COUNT_ORDER\r\n",
                "FROM [Fact].[OrderHistoryExtended]\r\n",
                "WHERE [Order Date Key]\t<= dateadd(dd, -73, '2015-11-13')\r\n",
                "GROUP BY [Tax Rate],\r\n",
                "\t\t[Lineage Key],\r\n",
                "\t\t[Salesperson Key]\r\n",
                "ORDER BY [Tax Rate],\r\n",
                "\t\t[Lineage Key],\r\n",
                "\t\t[Salesperson Key]\r\n",
                "OPTION (RECOMPILE, USE HINT('DISALLOW_BATCH_MODE'));\r\n",
                "GO"
            ],
            "metadata": {
                "azdata_cell_guid": "71483984-6bdd-4866-8ddc-e40fe692c0db"
            },
            "outputs": [
                {
                    "output_type": "display_data",
                    "data": {
                        "text/html": "Commands completed successfully."
                    },
                    "metadata": {}
                },
                {
                    "output_type": "display_data",
                    "data": {
                        "text/html": "Commands completed successfully."
                    },
                    "metadata": {}
                },
                {
                    "output_type": "display_data",
                    "data": {
                        "text/html": "Commands completed successfully."
                    },
                    "metadata": {}
                },
                {
                    "output_type": "display_data",
                    "data": {
                        "text/html": "(100 rows affected)"
                    },
                    "metadata": {}
                },
                {
                    "output_type": "display_data",
                    "data": {
                        "text/html": "Total execution time: 00:00:04.930"
                    },
                    "metadata": {}
                },
                {
                    "output_type": "execute_result",
                    "execution_count": 2,
                    "data": {
                        "application/vnd.dataresource+json": {
                            "schema": {
                                "fields": [
                                    {
                                        "name": "Tax Rate"
                                    },
                                    {
                                        "name": "Lineage Key"
                                    },
                                    {
                                        "name": "Salesperson Key"
                                    },
                                    {
                                        "name": "SUM_QTY"
                                    },
                                    {
                                        "name": "SUM_BASE_PRICE"
                                    },
                                    {
                                        "name": "COUNT_ORDER"
                                    }
                                ]
                            },
                            "data": [
                                {
                                    "0": "15.000",
                                    "1": "9",
                                    "2": "4",
                                    "3": "433280",
                                    "4": "243367.68",
                                    "5": "9216"
                                },
                                {
                                    "0": "15.000",
                                    "1": "9",
                                    "2": "6",
                                    "3": "836480",
                                    "4": "543988.48",
                                    "5": "18432"
                                },
                                {
                                    "0": "15.000",
                                    "1": "9",
                                    "2": "7",
                                    "3": "724480",
                                    "4": "846118.40",
                                    "5": "24576"
                                },
                                {
                                    "0": "15.000",
                                    "1": "9",
                                    "2": "8",
                                    "3": "862080",
                                    "4": "1028780.80",
                                    "5": "22144"
                                },
                                {
                                    "0": "15.000",
                                    "1": "9",
                                    "2": "9",
                                    "3": "1101056",
                                    "4": "924917.76",
                                    "5": "28928"
                                },
                                {
                                    "0": "15.000",
                                    "1": "9",
                                    "2": "11",
                                    "3": "2279296",
                                    "4": "3886913.28",
                                    "5": "62848"
                                },
                                {
                                    "0": "15.000",
                                    "1": "9",
                                    "2": "12",
                                    "3": "3262592",
                                    "4": "3852878.08",
                                    "5": "85888"
                                },
                                {
                                    "0": "15.000",
                                    "1": "9",
                                    "2": "15",
                                    "3": "5484800",
                                    "4": "6343098.88",
                                    "5": "144256"
                                },
                                {
                                    "0": "15.000",
                                    "1": "9",
                                    "2": "19",
                                    "3": "91831040",
                                    "4": "107590420.48",
                                    "5": "2310528"
                                },
                                {
                                    "0": "15.000",
                                    "1": "9",
                                    "2": "21",
                                    "3": "1240960",
                                    "4": "2060285.44",
                                    "5": "37632"
                                },
                                {
                                    "0": "15.000",
                                    "1": "9",
                                    "2": "23",
                                    "3": "1003520",
                                    "4": "1541052.16",
                                    "5": "29696"
                                },
                                {
                                    "0": "15.000",
                                    "1": "9",
                                    "2": "25",
                                    "3": "2986624",
                                    "4": "2914885.12",
                                    "5": "73344"
                                },
                                {
                                    "0": "15.000",
                                    "1": "9",
                                    "2": "26",
                                    "3": "497536",
                                    "4": "725172.48",
                                    "5": "12416"
                                },
                                {
                                    "0": "15.000",
                                    "1": "9",
                                    "2": "27",
                                    "3": "598016",
                                    "4": "798522.88",
                                    "5": "14592"
                                },
                                {
                                    "0": "15.000",
                                    "1": "9",
                                    "2": "28",
                                    "3": "1233152",
                                    "4": "1474490.88",
                                    "5": "31488"
                                },
                                {
                                    "0": "15.000",
                                    "1": "9",
                                    "2": "29",
                                    "3": "387968",
                                    "4": "304568.32",
                                    "5": "10880"
                                },
                                {
                                    "0": "15.000",
                                    "1": "9",
                                    "2": "30",
                                    "3": "1549312",
                                    "4": "2156144.64",
                                    "5": "47232"
                                },
                                {
                                    "0": "15.000",
                                    "1": "9",
                                    "2": "31",
                                    "3": "2215296",
                                    "4": "2227068.16",
                                    "5": "50560"
                                },
                                {
                                    "0": "15.000",
                                    "1": "9",
                                    "2": "35",
                                    "3": "2724736",
                                    "4": "3383616.00",
                                    "5": "72960"
                                },
                                {
                                    "0": "15.000",
                                    "1": "9",
                                    "2": "36",
                                    "3": "11016320",
                                    "4": "12551537.92",
                                    "5": "276992"
                                },
                                {
                                    "0": "15.000",
                                    "1": "9",
                                    "2": "38",
                                    "3": "1519744",
                                    "4": "1955315.20",
                                    "5": "39552"
                                },
                                {
                                    "0": "15.000",
                                    "1": "9",
                                    "2": "39",
                                    "3": "31888384",
                                    "4": "34617245.44",
                                    "5": "785664"
                                },
                                {
                                    "0": "15.000",
                                    "1": "9",
                                    "2": "40",
                                    "3": "6807424",
                                    "4": "7944593.92",
                                    "5": "176896"
                                },
                                {
                                    "0": "15.000",
                                    "1": "9",
                                    "2": "41",
                                    "3": "2219136",
                                    "4": "3174849.28",
                                    "5": "63232"
                                },
                                {
                                    "0": "15.000",
                                    "1": "9",
                                    "2": "45",
                                    "3": "338176",
                                    "4": "382839.04",
                                    "5": "7808"
                                },
                                {
                                    "0": "15.000",
                                    "1": "9",
                                    "2": "46",
                                    "3": "112128",
                                    "4": "111915.52",
                                    "5": "2176"
                                },
                                {
                                    "0": "15.000",
                                    "1": "9",
                                    "2": "47",
                                    "3": "3255680",
                                    "4": "2629954.56",
                                    "5": "75776"
                                },
                                {
                                    "0": "15.000",
                                    "1": "9",
                                    "2": "48",
                                    "3": "2595968",
                                    "4": "2310150.40",
                                    "5": "60928"
                                },
                                {
                                    "0": "15.000",
                                    "1": "9",
                                    "2": "49",
                                    "3": "14758528",
                                    "4": "17928881.92",
                                    "5": "368768"
                                },
                                {
                                    "0": "15.000",
                                    "1": "9",
                                    "2": "50",
                                    "3": "804352",
                                    "4": "926225.92",
                                    "5": "19968"
                                },
                                {
                                    "0": "15.000",
                                    "1": "9",
                                    "2": "51",
                                    "3": "4007808",
                                    "4": "4360591.36",
                                    "5": "97408"
                                },
                                {
                                    "0": "15.000",
                                    "1": "9",
                                    "2": "52",
                                    "3": "5863424",
                                    "4": "7464648.96",
                                    "5": "156160"
                                },
                                {
                                    "0": "15.000",
                                    "1": "9",
                                    "2": "54",
                                    "3": "2736768",
                                    "4": "3351491.84",
                                    "5": "72320"
                                },
                                {
                                    "0": "15.000",
                                    "1": "9",
                                    "2": "56",
                                    "3": "285824",
                                    "4": "253144.32",
                                    "5": "7552"
                                },
                                {
                                    "0": "15.000",
                                    "1": "9",
                                    "2": "57",
                                    "3": "2298240",
                                    "4": "2447610.88",
                                    "5": "58240"
                                },
                                {
                                    "0": "15.000",
                                    "1": "9",
                                    "2": "58",
                                    "3": "2144768",
                                    "4": "1723477.76",
                                    "5": "50048"
                                },
                                {
                                    "0": "15.000",
                                    "1": "9",
                                    "2": "61",
                                    "3": "3732224",
                                    "4": "4086886.40",
                                    "5": "86016"
                                },
                                {
                                    "0": "15.000",
                                    "1": "9",
                                    "2": "62",
                                    "3": "12672128",
                                    "4": "13904339.20",
                                    "5": "304000"
                                },
                                {
                                    "0": "15.000",
                                    "1": "9",
                                    "2": "63",
                                    "3": "10126208",
                                    "4": "10138237.44",
                                    "5": "243200"
                                },
                                {
                                    "0": "15.000",
                                    "1": "9",
                                    "2": "65",
                                    "3": "6787456",
                                    "4": "7473853.44",
                                    "5": "171136"
                                },
                                {
                                    "0": "15.000",
                                    "1": "9",
                                    "2": "68",
                                    "3": "4638720",
                                    "4": "4848647.68",
                                    "5": "107008"
                                },
                                {
                                    "0": "15.000",
                                    "1": "9",
                                    "2": "70",
                                    "3": "14884864",
                                    "4": "16764665.60",
                                    "5": "379776"
                                },
                                {
                                    "0": "15.000",
                                    "1": "9",
                                    "2": "72",
                                    "3": "2565888",
                                    "4": "2336160.00",
                                    "5": "55936"
                                },
                                {
                                    "0": "15.000",
                                    "1": "9",
                                    "2": "74",
                                    "3": "15317888",
                                    "4": "19187417.60",
                                    "5": "384768"
                                },
                                {
                                    "0": "15.000",
                                    "1": "9",
                                    "2": "76",
                                    "3": "6481280",
                                    "4": "8637446.40",
                                    "5": "169088"
                                },
                                {
                                    "0": "15.000",
                                    "1": "9",
                                    "2": "77",
                                    "3": "7128320",
                                    "4": "7693249.28",
                                    "5": "169984"
                                },
                                {
                                    "0": "15.000",
                                    "1": "9",
                                    "2": "78",
                                    "3": "5061376",
                                    "4": "5629213.44",
                                    "5": "121856"
                                },
                                {
                                    "0": "15.000",
                                    "1": "9",
                                    "2": "80",
                                    "3": "7743104",
                                    "4": "8722903.04",
                                    "5": "203264"
                                },
                                {
                                    "0": "15.000",
                                    "1": "9",
                                    "2": "81",
                                    "3": "28808064",
                                    "4": "32882525.44",
                                    "5": "706048"
                                },
                                {
                                    "0": "15.000",
                                    "1": "9",
                                    "2": "83",
                                    "3": "12662272",
                                    "4": "14586407.68",
                                    "5": "330880"
                                },
                                {
                                    "0": "15.000",
                                    "1": "9",
                                    "2": "84",
                                    "3": "6509184",
                                    "4": "8482062.08",
                                    "5": "169856"
                                },
                                {
                                    "0": "15.000",
                                    "1": "9",
                                    "2": "85",
                                    "3": "4782592",
                                    "4": "4991431.68",
                                    "5": "116864"
                                },
                                {
                                    "0": "15.000",
                                    "1": "9",
                                    "2": "86",
                                    "3": "27021696",
                                    "4": "30225996.80",
                                    "5": "682624"
                                },
                                {
                                    "0": "15.000",
                                    "1": "9",
                                    "2": "89",
                                    "3": "1578752",
                                    "4": "2027873.28",
                                    "5": "36096"
                                },
                                {
                                    "0": "15.000",
                                    "1": "9",
                                    "2": "90",
                                    "3": "33806464",
                                    "4": "39663014.40",
                                    "5": "856704"
                                },
                                {
                                    "0": "15.000",
                                    "1": "9",
                                    "2": "91",
                                    "3": "4442752",
                                    "4": "5842634.24",
                                    "5": "112768"
                                },
                                {
                                    "0": "15.000",
                                    "1": "9",
                                    "2": "93",
                                    "3": "28200192",
                                    "4": "33006179.84",
                                    "5": "713984"
                                },
                                {
                                    "0": "15.000",
                                    "1": "9",
                                    "2": "94",
                                    "3": "12681600",
                                    "4": "13601986.56",
                                    "5": "303232"
                                },
                                {
                                    "0": "15.000",
                                    "1": "9",
                                    "2": "96",
                                    "3": "666624",
                                    "4": "473141.76",
                                    "5": "14464"
                                },
                                {
                                    "0": "15.000",
                                    "1": "9",
                                    "2": "97",
                                    "3": "11993088",
                                    "4": "13300569.60",
                                    "5": "303104"
                                },
                                {
                                    "0": "15.000",
                                    "1": "9",
                                    "2": "101",
                                    "3": "7575168",
                                    "4": "7600646.40",
                                    "5": "196992"
                                },
                                {
                                    "0": "15.000",
                                    "1": "9",
                                    "2": "102",
                                    "3": "27441920",
                                    "4": "33995997.44",
                                    "5": "703872"
                                },
                                {
                                    "0": "15.000",
                                    "1": "9",
                                    "2": "103",
                                    "3": "7057280",
                                    "4": "8503637.76",
                                    "5": "185088"
                                },
                                {
                                    "0": "15.000",
                                    "1": "9",
                                    "2": "105",
                                    "3": "29710848",
                                    "4": "34073157.12",
                                    "5": "735872"
                                },
                                {
                                    "0": "15.000",
                                    "1": "9",
                                    "2": "106",
                                    "3": "8104704",
                                    "4": "9812775.68",
                                    "5": "220416"
                                },
                                {
                                    "0": "15.000",
                                    "1": "9",
                                    "2": "107",
                                    "3": "2590464",
                                    "4": "3028149.76",
                                    "5": "61952"
                                },
                                {
                                    "0": "15.000",
                                    "1": "9",
                                    "2": "108",
                                    "3": "40156160",
                                    "4": "45593496.32",
                                    "5": "1001600"
                                },
                                {
                                    "0": "15.000",
                                    "1": "9",
                                    "2": "115",
                                    "3": "2452096",
                                    "4": "2226137.60",
                                    "5": "60800"
                                },
                                {
                                    "0": "15.000",
                                    "1": "9",
                                    "2": "116",
                                    "3": "23243392",
                                    "4": "24868823.04",
                                    "5": "564736"
                                },
                                {
                                    "0": "15.000",
                                    "1": "9",
                                    "2": "118",
                                    "3": "14240128",
                                    "4": "15111184.64",
                                    "5": "353408"
                                },
                                {
                                    "0": "15.000",
                                    "1": "9",
                                    "2": "119",
                                    "3": "40846720",
                                    "4": "45264224.00",
                                    "5": "1027456"
                                },
                                {
                                    "0": "15.000",
                                    "1": "9",
                                    "2": "122",
                                    "3": "6732544",
                                    "4": "7716145.92",
                                    "5": "164992"
                                },
                                {
                                    "0": "15.000",
                                    "1": "9",
                                    "2": "126",
                                    "3": "7082880",
                                    "4": "8110862.08",
                                    "5": "171008"
                                },
                                {
                                    "0": "15.000",
                                    "1": "9",
                                    "2": "127",
                                    "3": "24211712",
                                    "4": "28525308.16",
                                    "5": "616576"
                                },
                                {
                                    "0": "15.000",
                                    "1": "9",
                                    "2": "129",
                                    "3": "31437312",
                                    "4": "34298964.48",
                                    "5": "767488"
                                },
                                {
                                    "0": "15.000",
                                    "1": "9",
                                    "2": "130",
                                    "3": "390272",
                                    "4": "315754.24",
                                    "5": "10880"
                                },
                                {
                                    "0": "15.000",
                                    "1": "9",
                                    "2": "134",
                                    "3": "19598208",
                                    "4": "22598796.80",
                                    "5": "491520"
                                },
                                {
                                    "0": "15.000",
                                    "1": "9",
                                    "2": "136",
                                    "3": "357248",
                                    "4": "296313.60",
                                    "5": "9856"
                                },
                                {
                                    "0": "15.000",
                                    "1": "9",
                                    "2": "138",
                                    "3": "4697088",
                                    "4": "5400261.12",
                                    "5": "118144"
                                },
                                {
                                    "0": "15.000",
                                    "1": "9",
                                    "2": "140",
                                    "3": "17321984",
                                    "4": "19747557.12",
                                    "5": "433280"
                                },
                                {
                                    "0": "15.000",
                                    "1": "9",
                                    "2": "143",
                                    "3": "22007296",
                                    "4": "26812788.48",
                                    "5": "567040"
                                },
                                {
                                    "0": "15.000",
                                    "1": "9",
                                    "2": "144",
                                    "3": "7777664",
                                    "4": "9402172.16",
                                    "5": "193152"
                                },
                                {
                                    "0": "15.000",
                                    "1": "9",
                                    "2": "145",
                                    "3": "15399680",
                                    "4": "17946855.68",
                                    "5": "388096"
                                },
                                {
                                    "0": "15.000",
                                    "1": "9",
                                    "2": "149",
                                    "3": "2256896",
                                    "4": "2663919.36",
                                    "5": "60416"
                                },
                                {
                                    "0": "15.000",
                                    "1": "9",
                                    "2": "150",
                                    "3": "10869632",
                                    "4": "12971114.24",
                                    "5": "281344"
                                },
                                {
                                    "0": "15.000",
                                    "1": "9",
                                    "2": "151",
                                    "3": "11137920",
                                    "4": "11154696.96",
                                    "5": "269568"
                                },
                                {
                                    "0": "15.000",
                                    "1": "9",
                                    "2": "152",
                                    "3": "11700480",
                                    "4": "13719448.32",
                                    "5": "285056"
                                },
                                {
                                    "0": "15.000",
                                    "1": "9",
                                    "2": "154",
                                    "3": "8281344",
                                    "4": "8556992.00",
                                    "5": "212864"
                                },
                                {
                                    "0": "15.000",
                                    "1": "9",
                                    "2": "155",
                                    "3": "8951424",
                                    "4": "9563397.12",
                                    "5": "219264"
                                },
                                {
                                    "0": "15.000",
                                    "1": "9",
                                    "2": "156",
                                    "3": "6004608",
                                    "4": "5900654.08",
                                    "5": "152192"
                                },
                                {
                                    "0": "15.000",
                                    "1": "9",
                                    "2": "158",
                                    "3": "500480",
                                    "4": "65113.60",
                                    "5": "4352"
                                },
                                {
                                    "0": "15.000",
                                    "1": "9",
                                    "2": "161",
                                    "3": "253952",
                                    "4": "56025.60",
                                    "5": "2816"
                                },
                                {
                                    "0": "15.000",
                                    "1": "9",
                                    "2": "163",
                                    "3": "248320",
                                    "4": "48179.20",
                                    "5": "2688"
                                },
                                {
                                    "0": "15.000",
                                    "1": "9",
                                    "2": "165",
                                    "3": "102016",
                                    "4": "12416.00",
                                    "5": "896"
                                },
                                {
                                    "0": "15.000",
                                    "1": "9",
                                    "2": "167",
                                    "3": "16896",
                                    "4": "4608.00",
                                    "5": "256"
                                },
                                {
                                    "0": "15.000",
                                    "1": "9",
                                    "2": "168",
                                    "3": "141184",
                                    "4": "21619.20",
                                    "5": "1408"
                                },
                                {
                                    "0": "15.000",
                                    "1": "9",
                                    "2": "170",
                                    "3": "75776",
                                    "4": "13760.00",
                                    "5": "768"
                                },
                                {
                                    "0": "15.000",
                                    "1": "9",
                                    "2": "171",
                                    "3": "112512",
                                    "4": "14681.60",
                                    "5": "1024"
                                },
                                {
                                    "0": "15.000",
                                    "1": "9",
                                    "2": "172",
                                    "3": "77824",
                                    "4": "10137.60",
                                    "5": "768"
                                },
                                {
                                    "0": "15.000",
                                    "1": "9",
                                    "2": "174",
                                    "3": "7680",
                                    "4": "2304.00",
                                    "5": "128"
                                }
                            ]
                        },
                        "text/html": "<table><tr><th>Tax Rate</th><th>Lineage Key</th><th>Salesperson Key</th><th>SUM_QTY</th><th>SUM_BASE_PRICE</th><th>COUNT_ORDER</th></tr><tr><td>15.000</td><td>9</td><td>4</td><td>433280</td><td>243367.68</td><td>9216</td></tr><tr><td>15.000</td><td>9</td><td>6</td><td>836480</td><td>543988.48</td><td>18432</td></tr><tr><td>15.000</td><td>9</td><td>7</td><td>724480</td><td>846118.40</td><td>24576</td></tr><tr><td>15.000</td><td>9</td><td>8</td><td>862080</td><td>1028780.80</td><td>22144</td></tr><tr><td>15.000</td><td>9</td><td>9</td><td>1101056</td><td>924917.76</td><td>28928</td></tr><tr><td>15.000</td><td>9</td><td>11</td><td>2279296</td><td>3886913.28</td><td>62848</td></tr><tr><td>15.000</td><td>9</td><td>12</td><td>3262592</td><td>3852878.08</td><td>85888</td></tr><tr><td>15.000</td><td>9</td><td>15</td><td>5484800</td><td>6343098.88</td><td>144256</td></tr><tr><td>15.000</td><td>9</td><td>19</td><td>91831040</td><td>107590420.48</td><td>2310528</td></tr><tr><td>15.000</td><td>9</td><td>21</td><td>1240960</td><td>2060285.44</td><td>37632</td></tr><tr><td>15.000</td><td>9</td><td>23</td><td>1003520</td><td>1541052.16</td><td>29696</td></tr><tr><td>15.000</td><td>9</td><td>25</td><td>2986624</td><td>2914885.12</td><td>73344</td></tr><tr><td>15.000</td><td>9</td><td>26</td><td>497536</td><td>725172.48</td><td>12416</td></tr><tr><td>15.000</td><td>9</td><td>27</td><td>598016</td><td>798522.88</td><td>14592</td></tr><tr><td>15.000</td><td>9</td><td>28</td><td>1233152</td><td>1474490.88</td><td>31488</td></tr><tr><td>15.000</td><td>9</td><td>29</td><td>387968</td><td>304568.32</td><td>10880</td></tr><tr><td>15.000</td><td>9</td><td>30</td><td>1549312</td><td>2156144.64</td><td>47232</td></tr><tr><td>15.000</td><td>9</td><td>31</td><td>2215296</td><td>2227068.16</td><td>50560</td></tr><tr><td>15.000</td><td>9</td><td>35</td><td>2724736</td><td>3383616.00</td><td>72960</td></tr><tr><td>15.000</td><td>9</td><td>36</td><td>11016320</td><td>12551537.92</td><td>276992</td></tr><tr><td>15.000</td><td>9</td><td>38</td><td>1519744</td><td>1955315.20</td><td>39552</td></tr><tr><td>15.000</td><td>9</td><td>39</td><td>31888384</td><td>34617245.44</td><td>785664</td></tr><tr><td>15.000</td><td>9</td><td>40</td><td>6807424</td><td>7944593.92</td><td>176896</td></tr><tr><td>15.000</td><td>9</td><td>41</td><td>2219136</td><td>3174849.28</td><td>63232</td></tr><tr><td>15.000</td><td>9</td><td>45</td><td>338176</td><td>382839.04</td><td>7808</td></tr><tr><td>15.000</td><td>9</td><td>46</td><td>112128</td><td>111915.52</td><td>2176</td></tr><tr><td>15.000</td><td>9</td><td>47</td><td>3255680</td><td>2629954.56</td><td>75776</td></tr><tr><td>15.000</td><td>9</td><td>48</td><td>2595968</td><td>2310150.40</td><td>60928</td></tr><tr><td>15.000</td><td>9</td><td>49</td><td>14758528</td><td>17928881.92</td><td>368768</td></tr><tr><td>15.000</td><td>9</td><td>50</td><td>804352</td><td>926225.92</td><td>19968</td></tr><tr><td>15.000</td><td>9</td><td>51</td><td>4007808</td><td>4360591.36</td><td>97408</td></tr><tr><td>15.000</td><td>9</td><td>52</td><td>5863424</td><td>7464648.96</td><td>156160</td></tr><tr><td>15.000</td><td>9</td><td>54</td><td>2736768</td><td>3351491.84</td><td>72320</td></tr><tr><td>15.000</td><td>9</td><td>56</td><td>285824</td><td>253144.32</td><td>7552</td></tr><tr><td>15.000</td><td>9</td><td>57</td><td>2298240</td><td>2447610.88</td><td>58240</td></tr><tr><td>15.000</td><td>9</td><td>58</td><td>2144768</td><td>1723477.76</td><td>50048</td></tr><tr><td>15.000</td><td>9</td><td>61</td><td>3732224</td><td>4086886.40</td><td>86016</td></tr><tr><td>15.000</td><td>9</td><td>62</td><td>12672128</td><td>13904339.20</td><td>304000</td></tr><tr><td>15.000</td><td>9</td><td>63</td><td>10126208</td><td>10138237.44</td><td>243200</td></tr><tr><td>15.000</td><td>9</td><td>65</td><td>6787456</td><td>7473853.44</td><td>171136</td></tr><tr><td>15.000</td><td>9</td><td>68</td><td>4638720</td><td>4848647.68</td><td>107008</td></tr><tr><td>15.000</td><td>9</td><td>70</td><td>14884864</td><td>16764665.60</td><td>379776</td></tr><tr><td>15.000</td><td>9</td><td>72</td><td>2565888</td><td>2336160.00</td><td>55936</td></tr><tr><td>15.000</td><td>9</td><td>74</td><td>15317888</td><td>19187417.60</td><td>384768</td></tr><tr><td>15.000</td><td>9</td><td>76</td><td>6481280</td><td>8637446.40</td><td>169088</td></tr><tr><td>15.000</td><td>9</td><td>77</td><td>7128320</td><td>7693249.28</td><td>169984</td></tr><tr><td>15.000</td><td>9</td><td>78</td><td>5061376</td><td>5629213.44</td><td>121856</td></tr><tr><td>15.000</td><td>9</td><td>80</td><td>7743104</td><td>8722903.04</td><td>203264</td></tr><tr><td>15.000</td><td>9</td><td>81</td><td>28808064</td><td>32882525.44</td><td>706048</td></tr><tr><td>15.000</td><td>9</td><td>83</td><td>12662272</td><td>14586407.68</td><td>330880</td></tr><tr><td>15.000</td><td>9</td><td>84</td><td>6509184</td><td>8482062.08</td><td>169856</td></tr><tr><td>15.000</td><td>9</td><td>85</td><td>4782592</td><td>4991431.68</td><td>116864</td></tr><tr><td>15.000</td><td>9</td><td>86</td><td>27021696</td><td>30225996.80</td><td>682624</td></tr><tr><td>15.000</td><td>9</td><td>89</td><td>1578752</td><td>2027873.28</td><td>36096</td></tr><tr><td>15.000</td><td>9</td><td>90</td><td>33806464</td><td>39663014.40</td><td>856704</td></tr><tr><td>15.000</td><td>9</td><td>91</td><td>4442752</td><td>5842634.24</td><td>112768</td></tr><tr><td>15.000</td><td>9</td><td>93</td><td>28200192</td><td>33006179.84</td><td>713984</td></tr><tr><td>15.000</td><td>9</td><td>94</td><td>12681600</td><td>13601986.56</td><td>303232</td></tr><tr><td>15.000</td><td>9</td><td>96</td><td>666624</td><td>473141.76</td><td>14464</td></tr><tr><td>15.000</td><td>9</td><td>97</td><td>11993088</td><td>13300569.60</td><td>303104</td></tr><tr><td>15.000</td><td>9</td><td>101</td><td>7575168</td><td>7600646.40</td><td>196992</td></tr><tr><td>15.000</td><td>9</td><td>102</td><td>27441920</td><td>33995997.44</td><td>703872</td></tr><tr><td>15.000</td><td>9</td><td>103</td><td>7057280</td><td>8503637.76</td><td>185088</td></tr><tr><td>15.000</td><td>9</td><td>105</td><td>29710848</td><td>34073157.12</td><td>735872</td></tr><tr><td>15.000</td><td>9</td><td>106</td><td>8104704</td><td>9812775.68</td><td>220416</td></tr><tr><td>15.000</td><td>9</td><td>107</td><td>2590464</td><td>3028149.76</td><td>61952</td></tr><tr><td>15.000</td><td>9</td><td>108</td><td>40156160</td><td>45593496.32</td><td>1001600</td></tr><tr><td>15.000</td><td>9</td><td>115</td><td>2452096</td><td>2226137.60</td><td>60800</td></tr><tr><td>15.000</td><td>9</td><td>116</td><td>23243392</td><td>24868823.04</td><td>564736</td></tr><tr><td>15.000</td><td>9</td><td>118</td><td>14240128</td><td>15111184.64</td><td>353408</td></tr><tr><td>15.000</td><td>9</td><td>119</td><td>40846720</td><td>45264224.00</td><td>1027456</td></tr><tr><td>15.000</td><td>9</td><td>122</td><td>6732544</td><td>7716145.92</td><td>164992</td></tr><tr><td>15.000</td><td>9</td><td>126</td><td>7082880</td><td>8110862.08</td><td>171008</td></tr><tr><td>15.000</td><td>9</td><td>127</td><td>24211712</td><td>28525308.16</td><td>616576</td></tr><tr><td>15.000</td><td>9</td><td>129</td><td>31437312</td><td>34298964.48</td><td>767488</td></tr><tr><td>15.000</td><td>9</td><td>130</td><td>390272</td><td>315754.24</td><td>10880</td></tr><tr><td>15.000</td><td>9</td><td>134</td><td>19598208</td><td>22598796.80</td><td>491520</td></tr><tr><td>15.000</td><td>9</td><td>136</td><td>357248</td><td>296313.60</td><td>9856</td></tr><tr><td>15.000</td><td>9</td><td>138</td><td>4697088</td><td>5400261.12</td><td>118144</td></tr><tr><td>15.000</td><td>9</td><td>140</td><td>17321984</td><td>19747557.12</td><td>433280</td></tr><tr><td>15.000</td><td>9</td><td>143</td><td>22007296</td><td>26812788.48</td><td>567040</td></tr><tr><td>15.000</td><td>9</td><td>144</td><td>7777664</td><td>9402172.16</td><td>193152</td></tr><tr><td>15.000</td><td>9</td><td>145</td><td>15399680</td><td>17946855.68</td><td>388096</td></tr><tr><td>15.000</td><td>9</td><td>149</td><td>2256896</td><td>2663919.36</td><td>60416</td></tr><tr><td>15.000</td><td>9</td><td>150</td><td>10869632</td><td>12971114.24</td><td>281344</td></tr><tr><td>15.000</td><td>9</td><td>151</td><td>11137920</td><td>11154696.96</td><td>269568</td></tr><tr><td>15.000</td><td>9</td><td>152</td><td>11700480</td><td>13719448.32</td><td>285056</td></tr><tr><td>15.000</td><td>9</td><td>154</td><td>8281344</td><td>8556992.00</td><td>212864</td></tr><tr><td>15.000</td><td>9</td><td>155</td><td>8951424</td><td>9563397.12</td><td>219264</td></tr><tr><td>15.000</td><td>9</td><td>156</td><td>6004608</td><td>5900654.08</td><td>152192</td></tr><tr><td>15.000</td><td>9</td><td>158</td><td>500480</td><td>65113.60</td><td>4352</td></tr><tr><td>15.000</td><td>9</td><td>161</td><td>253952</td><td>56025.60</td><td>2816</td></tr><tr><td>15.000</td><td>9</td><td>163</td><td>248320</td><td>48179.20</td><td>2688</td></tr><tr><td>15.000</td><td>9</td><td>165</td><td>102016</td><td>12416.00</td><td>896</td></tr><tr><td>15.000</td><td>9</td><td>167</td><td>16896</td><td>4608.00</td><td>256</td></tr><tr><td>15.000</td><td>9</td><td>168</td><td>141184</td><td>21619.20</td><td>1408</td></tr><tr><td>15.000</td><td>9</td><td>170</td><td>75776</td><td>13760.00</td><td>768</td></tr><tr><td>15.000</td><td>9</td><td>171</td><td>112512</td><td>14681.60</td><td>1024</td></tr><tr><td>15.000</td><td>9</td><td>172</td><td>77824</td><td>10137.60</td><td>768</td></tr><tr><td>15.000</td><td>9</td><td>174</td><td>7680</td><td>2304.00</td><td>128</td></tr></table>"
                    },
                    "metadata": {}
                }
            ],
            "execution_count": 2
        },
        {
            "cell_type": "markdown",
            "source": [
                "Observe the query execution plan (or actual plan).\r\n",
                "\r\n",
                "![BMOR_Disabled_Plan](./media/BMOR_disabled_plan.PNG)\r\n",
                "\r\n",
                "Notice the time spent in each operator (cumulative up the tree for a query in row mode). Also note the two Aggregate operators. The Hash Match only does a partial aggregate, so later in the execxution a Stream Aggregate is needed to fully aggregate the result set as intended. Stream Aggregates are only possible in Row Mode.\r\n",
                "\r\n",
                "Confirm the *Actual Execution Mode* was indeed \"Row\", for example in the properties of the *Table Scan* operator.\r\n",
                "\r\n",
                "![BMOR_TableScan_properties](./media/BMOR_disabled_TableScan_properties.PNG)"
            ],
            "metadata": {
                "azdata_cell_guid": "7898e074-2d93-472b-84a5-2e52e3e43144"
            }
        },
        {
            "cell_type": "markdown",
            "source": [
                "## Step 4: Execute the query by removing any hint restriction\r\n",
                "\r\n",
                "Run the same query from Step 3, but now without any hint, allowing SQL Server to operate as default. If a query is eligible for **Batch Mode on Rowstore**, it will be used instead of **Row Mode**. "
            ],
            "metadata": {
                "azdata_cell_guid": "6140b74a-e79d-4108-9cba-415f66ed85a3"
            }
        },
        {
            "cell_type": "code",
            "source": [
                "ALTER DATABASE [WideWorldImportersDW] SET COMPATIBILITY_LEVEL = 150;\r\n",
                "GO\r\n",
                "\r\n",
                "ALTER DATABASE SCOPED CONFIGURATION CLEAR PROCEDURE_CACHE;\r\n",
                "GO\r\n",
                "\r\n",
                "USE [WideWorldImportersDW]\r\n",
                "GO\r\n",
                "-- Batch mode on rowstore eligible\r\n",
                "SELECT [Tax Rate],\r\n",
                "\t\t[Lineage Key],\r\n",
                "\t\t[Salesperson Key],\r\n",
                "\tSUM([Quantity]) AS SUM_QTY,\r\n",
                "\tSUM([Unit Price]) AS SUM_BASE_PRICE,\r\n",
                "\tCOUNT(*) AS COUNT_ORDER\r\n",
                "FROM [Fact].[OrderHistoryExtended]\r\n",
                "WHERE [Order Date Key]\t<= dateadd(dd, -73, '2015-11-13')\r\n",
                "GROUP BY [Tax Rate],\r\n",
                "\t\t[Lineage Key],\r\n",
                "\t\t[Salesperson Key]\r\n",
                "ORDER BY [Tax Rate],\r\n",
                "\t\t[Lineage Key],\r\n",
                "\t\t[Salesperson Key]\r\n",
                "OPTION (RECOMPILE);"
            ],
            "metadata": {
                "azdata_cell_guid": "d37ad2f6-5a09-4418-8ba2-47f954af18e8"
            },
            "outputs": [
                {
                    "output_type": "display_data",
                    "data": {
                        "text/html": "Commands completed successfully."
                    },
                    "metadata": {}
                },
                {
                    "output_type": "display_data",
                    "data": {
                        "text/html": "Commands completed successfully."
                    },
                    "metadata": {}
                },
                {
                    "output_type": "display_data",
                    "data": {
                        "text/html": "Commands completed successfully."
                    },
                    "metadata": {}
                },
                {
                    "output_type": "display_data",
                    "data": {
                        "text/html": "(100 rows affected)"
                    },
                    "metadata": {}
                },
                {
                    "output_type": "display_data",
                    "data": {
                        "text/html": "Total execution time: 00:00:01.818"
                    },
                    "metadata": {}
                },
                {
                    "output_type": "execute_result",
                    "execution_count": 3,
                    "data": {
                        "application/vnd.dataresource+json": {
                            "schema": {
                                "fields": [
                                    {
                                        "name": "Tax Rate"
                                    },
                                    {
                                        "name": "Lineage Key"
                                    },
                                    {
                                        "name": "Salesperson Key"
                                    },
                                    {
                                        "name": "SUM_QTY"
                                    },
                                    {
                                        "name": "SUM_BASE_PRICE"
                                    },
                                    {
                                        "name": "COUNT_ORDER"
                                    }
                                ]
                            },
                            "data": [
                                {
                                    "0": "15.000",
                                    "1": "9",
                                    "2": "4",
                                    "3": "433280",
                                    "4": "243367.68",
                                    "5": "9216"
                                },
                                {
                                    "0": "15.000",
                                    "1": "9",
                                    "2": "6",
                                    "3": "836480",
                                    "4": "543988.48",
                                    "5": "18432"
                                },
                                {
                                    "0": "15.000",
                                    "1": "9",
                                    "2": "7",
                                    "3": "724480",
                                    "4": "846118.40",
                                    "5": "24576"
                                },
                                {
                                    "0": "15.000",
                                    "1": "9",
                                    "2": "8",
                                    "3": "862080",
                                    "4": "1028780.80",
                                    "5": "22144"
                                },
                                {
                                    "0": "15.000",
                                    "1": "9",
                                    "2": "9",
                                    "3": "1101056",
                                    "4": "924917.76",
                                    "5": "28928"
                                },
                                {
                                    "0": "15.000",
                                    "1": "9",
                                    "2": "11",
                                    "3": "2279296",
                                    "4": "3886913.28",
                                    "5": "62848"
                                },
                                {
                                    "0": "15.000",
                                    "1": "9",
                                    "2": "12",
                                    "3": "3262592",
                                    "4": "3852878.08",
                                    "5": "85888"
                                },
                                {
                                    "0": "15.000",
                                    "1": "9",
                                    "2": "15",
                                    "3": "5484800",
                                    "4": "6343098.88",
                                    "5": "144256"
                                },
                                {
                                    "0": "15.000",
                                    "1": "9",
                                    "2": "19",
                                    "3": "91831040",
                                    "4": "107590420.48",
                                    "5": "2310528"
                                },
                                {
                                    "0": "15.000",
                                    "1": "9",
                                    "2": "21",
                                    "3": "1240960",
                                    "4": "2060285.44",
                                    "5": "37632"
                                },
                                {
                                    "0": "15.000",
                                    "1": "9",
                                    "2": "23",
                                    "3": "1003520",
                                    "4": "1541052.16",
                                    "5": "29696"
                                },
                                {
                                    "0": "15.000",
                                    "1": "9",
                                    "2": "25",
                                    "3": "2986624",
                                    "4": "2914885.12",
                                    "5": "73344"
                                },
                                {
                                    "0": "15.000",
                                    "1": "9",
                                    "2": "26",
                                    "3": "497536",
                                    "4": "725172.48",
                                    "5": "12416"
                                },
                                {
                                    "0": "15.000",
                                    "1": "9",
                                    "2": "27",
                                    "3": "598016",
                                    "4": "798522.88",
                                    "5": "14592"
                                },
                                {
                                    "0": "15.000",
                                    "1": "9",
                                    "2": "28",
                                    "3": "1233152",
                                    "4": "1474490.88",
                                    "5": "31488"
                                },
                                {
                                    "0": "15.000",
                                    "1": "9",
                                    "2": "29",
                                    "3": "387968",
                                    "4": "304568.32",
                                    "5": "10880"
                                },
                                {
                                    "0": "15.000",
                                    "1": "9",
                                    "2": "30",
                                    "3": "1549312",
                                    "4": "2156144.64",
                                    "5": "47232"
                                },
                                {
                                    "0": "15.000",
                                    "1": "9",
                                    "2": "31",
                                    "3": "2215296",
                                    "4": "2227068.16",
                                    "5": "50560"
                                },
                                {
                                    "0": "15.000",
                                    "1": "9",
                                    "2": "35",
                                    "3": "2724736",
                                    "4": "3383616.00",
                                    "5": "72960"
                                },
                                {
                                    "0": "15.000",
                                    "1": "9",
                                    "2": "36",
                                    "3": "11016320",
                                    "4": "12551537.92",
                                    "5": "276992"
                                },
                                {
                                    "0": "15.000",
                                    "1": "9",
                                    "2": "38",
                                    "3": "1519744",
                                    "4": "1955315.20",
                                    "5": "39552"
                                },
                                {
                                    "0": "15.000",
                                    "1": "9",
                                    "2": "39",
                                    "3": "31888384",
                                    "4": "34617245.44",
                                    "5": "785664"
                                },
                                {
                                    "0": "15.000",
                                    "1": "9",
                                    "2": "40",
                                    "3": "6807424",
                                    "4": "7944593.92",
                                    "5": "176896"
                                },
                                {
                                    "0": "15.000",
                                    "1": "9",
                                    "2": "41",
                                    "3": "2219136",
                                    "4": "3174849.28",
                                    "5": "63232"
                                },
                                {
                                    "0": "15.000",
                                    "1": "9",
                                    "2": "45",
                                    "3": "338176",
                                    "4": "382839.04",
                                    "5": "7808"
                                },
                                {
                                    "0": "15.000",
                                    "1": "9",
                                    "2": "46",
                                    "3": "112128",
                                    "4": "111915.52",
                                    "5": "2176"
                                },
                                {
                                    "0": "15.000",
                                    "1": "9",
                                    "2": "47",
                                    "3": "3255680",
                                    "4": "2629954.56",
                                    "5": "75776"
                                },
                                {
                                    "0": "15.000",
                                    "1": "9",
                                    "2": "48",
                                    "3": "2595968",
                                    "4": "2310150.40",
                                    "5": "60928"
                                },
                                {
                                    "0": "15.000",
                                    "1": "9",
                                    "2": "49",
                                    "3": "14758528",
                                    "4": "17928881.92",
                                    "5": "368768"
                                },
                                {
                                    "0": "15.000",
                                    "1": "9",
                                    "2": "50",
                                    "3": "804352",
                                    "4": "926225.92",
                                    "5": "19968"
                                },
                                {
                                    "0": "15.000",
                                    "1": "9",
                                    "2": "51",
                                    "3": "4007808",
                                    "4": "4360591.36",
                                    "5": "97408"
                                },
                                {
                                    "0": "15.000",
                                    "1": "9",
                                    "2": "52",
                                    "3": "5863424",
                                    "4": "7464648.96",
                                    "5": "156160"
                                },
                                {
                                    "0": "15.000",
                                    "1": "9",
                                    "2": "54",
                                    "3": "2736768",
                                    "4": "3351491.84",
                                    "5": "72320"
                                },
                                {
                                    "0": "15.000",
                                    "1": "9",
                                    "2": "56",
                                    "3": "285824",
                                    "4": "253144.32",
                                    "5": "7552"
                                },
                                {
                                    "0": "15.000",
                                    "1": "9",
                                    "2": "57",
                                    "3": "2298240",
                                    "4": "2447610.88",
                                    "5": "58240"
                                },
                                {
                                    "0": "15.000",
                                    "1": "9",
                                    "2": "58",
                                    "3": "2144768",
                                    "4": "1723477.76",
                                    "5": "50048"
                                },
                                {
                                    "0": "15.000",
                                    "1": "9",
                                    "2": "61",
                                    "3": "3732224",
                                    "4": "4086886.40",
                                    "5": "86016"
                                },
                                {
                                    "0": "15.000",
                                    "1": "9",
                                    "2": "62",
                                    "3": "12672128",
                                    "4": "13904339.20",
                                    "5": "304000"
                                },
                                {
                                    "0": "15.000",
                                    "1": "9",
                                    "2": "63",
                                    "3": "10126208",
                                    "4": "10138237.44",
                                    "5": "243200"
                                },
                                {
                                    "0": "15.000",
                                    "1": "9",
                                    "2": "65",
                                    "3": "6787456",
                                    "4": "7473853.44",
                                    "5": "171136"
                                },
                                {
                                    "0": "15.000",
                                    "1": "9",
                                    "2": "68",
                                    "3": "4638720",
                                    "4": "4848647.68",
                                    "5": "107008"
                                },
                                {
                                    "0": "15.000",
                                    "1": "9",
                                    "2": "70",
                                    "3": "14884864",
                                    "4": "16764665.60",
                                    "5": "379776"
                                },
                                {
                                    "0": "15.000",
                                    "1": "9",
                                    "2": "72",
                                    "3": "2565888",
                                    "4": "2336160.00",
                                    "5": "55936"
                                },
                                {
                                    "0": "15.000",
                                    "1": "9",
                                    "2": "74",
                                    "3": "15317888",
                                    "4": "19187417.60",
                                    "5": "384768"
                                },
                                {
                                    "0": "15.000",
                                    "1": "9",
                                    "2": "76",
                                    "3": "6481280",
                                    "4": "8637446.40",
                                    "5": "169088"
                                },
                                {
                                    "0": "15.000",
                                    "1": "9",
                                    "2": "77",
                                    "3": "7128320",
                                    "4": "7693249.28",
                                    "5": "169984"
                                },
                                {
                                    "0": "15.000",
                                    "1": "9",
                                    "2": "78",
                                    "3": "5061376",
                                    "4": "5629213.44",
                                    "5": "121856"
                                },
                                {
                                    "0": "15.000",
                                    "1": "9",
                                    "2": "80",
                                    "3": "7743104",
                                    "4": "8722903.04",
                                    "5": "203264"
                                },
                                {
                                    "0": "15.000",
                                    "1": "9",
                                    "2": "81",
                                    "3": "28808064",
                                    "4": "32882525.44",
                                    "5": "706048"
                                },
                                {
                                    "0": "15.000",
                                    "1": "9",
                                    "2": "83",
                                    "3": "12662272",
                                    "4": "14586407.68",
                                    "5": "330880"
                                },
                                {
                                    "0": "15.000",
                                    "1": "9",
                                    "2": "84",
                                    "3": "6509184",
                                    "4": "8482062.08",
                                    "5": "169856"
                                },
                                {
                                    "0": "15.000",
                                    "1": "9",
                                    "2": "85",
                                    "3": "4782592",
                                    "4": "4991431.68",
                                    "5": "116864"
                                },
                                {
                                    "0": "15.000",
                                    "1": "9",
                                    "2": "86",
                                    "3": "27021696",
                                    "4": "30225996.80",
                                    "5": "682624"
                                },
                                {
                                    "0": "15.000",
                                    "1": "9",
                                    "2": "89",
                                    "3": "1578752",
                                    "4": "2027873.28",
                                    "5": "36096"
                                },
                                {
                                    "0": "15.000",
                                    "1": "9",
                                    "2": "90",
                                    "3": "33806464",
                                    "4": "39663014.40",
                                    "5": "856704"
                                },
                                {
                                    "0": "15.000",
                                    "1": "9",
                                    "2": "91",
                                    "3": "4442752",
                                    "4": "5842634.24",
                                    "5": "112768"
                                },
                                {
                                    "0": "15.000",
                                    "1": "9",
                                    "2": "93",
                                    "3": "28200192",
                                    "4": "33006179.84",
                                    "5": "713984"
                                },
                                {
                                    "0": "15.000",
                                    "1": "9",
                                    "2": "94",
                                    "3": "12681600",
                                    "4": "13601986.56",
                                    "5": "303232"
                                },
                                {
                                    "0": "15.000",
                                    "1": "9",
                                    "2": "96",
                                    "3": "666624",
                                    "4": "473141.76",
                                    "5": "14464"
                                },
                                {
                                    "0": "15.000",
                                    "1": "9",
                                    "2": "97",
                                    "3": "11993088",
                                    "4": "13300569.60",
                                    "5": "303104"
                                },
                                {
                                    "0": "15.000",
                                    "1": "9",
                                    "2": "101",
                                    "3": "7575168",
                                    "4": "7600646.40",
                                    "5": "196992"
                                },
                                {
                                    "0": "15.000",
                                    "1": "9",
                                    "2": "102",
                                    "3": "27441920",
                                    "4": "33995997.44",
                                    "5": "703872"
                                },
                                {
                                    "0": "15.000",
                                    "1": "9",
                                    "2": "103",
                                    "3": "7057280",
                                    "4": "8503637.76",
                                    "5": "185088"
                                },
                                {
                                    "0": "15.000",
                                    "1": "9",
                                    "2": "105",
                                    "3": "29710848",
                                    "4": "34073157.12",
                                    "5": "735872"
                                },
                                {
                                    "0": "15.000",
                                    "1": "9",
                                    "2": "106",
                                    "3": "8104704",
                                    "4": "9812775.68",
                                    "5": "220416"
                                },
                                {
                                    "0": "15.000",
                                    "1": "9",
                                    "2": "107",
                                    "3": "2590464",
                                    "4": "3028149.76",
                                    "5": "61952"
                                },
                                {
                                    "0": "15.000",
                                    "1": "9",
                                    "2": "108",
                                    "3": "40156160",
                                    "4": "45593496.32",
                                    "5": "1001600"
                                },
                                {
                                    "0": "15.000",
                                    "1": "9",
                                    "2": "115",
                                    "3": "2452096",
                                    "4": "2226137.60",
                                    "5": "60800"
                                },
                                {
                                    "0": "15.000",
                                    "1": "9",
                                    "2": "116",
                                    "3": "23243392",
                                    "4": "24868823.04",
                                    "5": "564736"
                                },
                                {
                                    "0": "15.000",
                                    "1": "9",
                                    "2": "118",
                                    "3": "14240128",
                                    "4": "15111184.64",
                                    "5": "353408"
                                },
                                {
                                    "0": "15.000",
                                    "1": "9",
                                    "2": "119",
                                    "3": "40846720",
                                    "4": "45264224.00",
                                    "5": "1027456"
                                },
                                {
                                    "0": "15.000",
                                    "1": "9",
                                    "2": "122",
                                    "3": "6732544",
                                    "4": "7716145.92",
                                    "5": "164992"
                                },
                                {
                                    "0": "15.000",
                                    "1": "9",
                                    "2": "126",
                                    "3": "7082880",
                                    "4": "8110862.08",
                                    "5": "171008"
                                },
                                {
                                    "0": "15.000",
                                    "1": "9",
                                    "2": "127",
                                    "3": "24211712",
                                    "4": "28525308.16",
                                    "5": "616576"
                                },
                                {
                                    "0": "15.000",
                                    "1": "9",
                                    "2": "129",
                                    "3": "31437312",
                                    "4": "34298964.48",
                                    "5": "767488"
                                },
                                {
                                    "0": "15.000",
                                    "1": "9",
                                    "2": "130",
                                    "3": "390272",
                                    "4": "315754.24",
                                    "5": "10880"
                                },
                                {
                                    "0": "15.000",
                                    "1": "9",
                                    "2": "134",
                                    "3": "19598208",
                                    "4": "22598796.80",
                                    "5": "491520"
                                },
                                {
                                    "0": "15.000",
                                    "1": "9",
                                    "2": "136",
                                    "3": "357248",
                                    "4": "296313.60",
                                    "5": "9856"
                                },
                                {
                                    "0": "15.000",
                                    "1": "9",
                                    "2": "138",
                                    "3": "4697088",
                                    "4": "5400261.12",
                                    "5": "118144"
                                },
                                {
                                    "0": "15.000",
                                    "1": "9",
                                    "2": "140",
                                    "3": "17321984",
                                    "4": "19747557.12",
                                    "5": "433280"
                                },
                                {
                                    "0": "15.000",
                                    "1": "9",
                                    "2": "143",
                                    "3": "22007296",
                                    "4": "26812788.48",
                                    "5": "567040"
                                },
                                {
                                    "0": "15.000",
                                    "1": "9",
                                    "2": "144",
                                    "3": "7777664",
                                    "4": "9402172.16",
                                    "5": "193152"
                                },
                                {
                                    "0": "15.000",
                                    "1": "9",
                                    "2": "145",
                                    "3": "15399680",
                                    "4": "17946855.68",
                                    "5": "388096"
                                },
                                {
                                    "0": "15.000",
                                    "1": "9",
                                    "2": "149",
                                    "3": "2256896",
                                    "4": "2663919.36",
                                    "5": "60416"
                                },
                                {
                                    "0": "15.000",
                                    "1": "9",
                                    "2": "150",
                                    "3": "10869632",
                                    "4": "12971114.24",
                                    "5": "281344"
                                },
                                {
                                    "0": "15.000",
                                    "1": "9",
                                    "2": "151",
                                    "3": "11137920",
                                    "4": "11154696.96",
                                    "5": "269568"
                                },
                                {
                                    "0": "15.000",
                                    "1": "9",
                                    "2": "152",
                                    "3": "11700480",
                                    "4": "13719448.32",
                                    "5": "285056"
                                },
                                {
                                    "0": "15.000",
                                    "1": "9",
                                    "2": "154",
                                    "3": "8281344",
                                    "4": "8556992.00",
                                    "5": "212864"
                                },
                                {
                                    "0": "15.000",
                                    "1": "9",
                                    "2": "155",
                                    "3": "8951424",
                                    "4": "9563397.12",
                                    "5": "219264"
                                },
                                {
                                    "0": "15.000",
                                    "1": "9",
                                    "2": "156",
                                    "3": "6004608",
                                    "4": "5900654.08",
                                    "5": "152192"
                                },
                                {
                                    "0": "15.000",
                                    "1": "9",
                                    "2": "158",
                                    "3": "500480",
                                    "4": "65113.60",
                                    "5": "4352"
                                },
                                {
                                    "0": "15.000",
                                    "1": "9",
                                    "2": "161",
                                    "3": "253952",
                                    "4": "56025.60",
                                    "5": "2816"
                                },
                                {
                                    "0": "15.000",
                                    "1": "9",
                                    "2": "163",
                                    "3": "248320",
                                    "4": "48179.20",
                                    "5": "2688"
                                },
                                {
                                    "0": "15.000",
                                    "1": "9",
                                    "2": "165",
                                    "3": "102016",
                                    "4": "12416.00",
                                    "5": "896"
                                },
                                {
                                    "0": "15.000",
                                    "1": "9",
                                    "2": "167",
                                    "3": "16896",
                                    "4": "4608.00",
                                    "5": "256"
                                },
                                {
                                    "0": "15.000",
                                    "1": "9",
                                    "2": "168",
                                    "3": "141184",
                                    "4": "21619.20",
                                    "5": "1408"
                                },
                                {
                                    "0": "15.000",
                                    "1": "9",
                                    "2": "170",
                                    "3": "75776",
                                    "4": "13760.00",
                                    "5": "768"
                                },
                                {
                                    "0": "15.000",
                                    "1": "9",
                                    "2": "171",
                                    "3": "112512",
                                    "4": "14681.60",
                                    "5": "1024"
                                },
                                {
                                    "0": "15.000",
                                    "1": "9",
                                    "2": "172",
                                    "3": "77824",
                                    "4": "10137.60",
                                    "5": "768"
                                },
                                {
                                    "0": "15.000",
                                    "1": "9",
                                    "2": "174",
                                    "3": "7680",
                                    "4": "2304.00",
                                    "5": "128"
                                }
                            ]
                        },
                        "text/html": "<table><tr><th>Tax Rate</th><th>Lineage Key</th><th>Salesperson Key</th><th>SUM_QTY</th><th>SUM_BASE_PRICE</th><th>COUNT_ORDER</th></tr><tr><td>15.000</td><td>9</td><td>4</td><td>433280</td><td>243367.68</td><td>9216</td></tr><tr><td>15.000</td><td>9</td><td>6</td><td>836480</td><td>543988.48</td><td>18432</td></tr><tr><td>15.000</td><td>9</td><td>7</td><td>724480</td><td>846118.40</td><td>24576</td></tr><tr><td>15.000</td><td>9</td><td>8</td><td>862080</td><td>1028780.80</td><td>22144</td></tr><tr><td>15.000</td><td>9</td><td>9</td><td>1101056</td><td>924917.76</td><td>28928</td></tr><tr><td>15.000</td><td>9</td><td>11</td><td>2279296</td><td>3886913.28</td><td>62848</td></tr><tr><td>15.000</td><td>9</td><td>12</td><td>3262592</td><td>3852878.08</td><td>85888</td></tr><tr><td>15.000</td><td>9</td><td>15</td><td>5484800</td><td>6343098.88</td><td>144256</td></tr><tr><td>15.000</td><td>9</td><td>19</td><td>91831040</td><td>107590420.48</td><td>2310528</td></tr><tr><td>15.000</td><td>9</td><td>21</td><td>1240960</td><td>2060285.44</td><td>37632</td></tr><tr><td>15.000</td><td>9</td><td>23</td><td>1003520</td><td>1541052.16</td><td>29696</td></tr><tr><td>15.000</td><td>9</td><td>25</td><td>2986624</td><td>2914885.12</td><td>73344</td></tr><tr><td>15.000</td><td>9</td><td>26</td><td>497536</td><td>725172.48</td><td>12416</td></tr><tr><td>15.000</td><td>9</td><td>27</td><td>598016</td><td>798522.88</td><td>14592</td></tr><tr><td>15.000</td><td>9</td><td>28</td><td>1233152</td><td>1474490.88</td><td>31488</td></tr><tr><td>15.000</td><td>9</td><td>29</td><td>387968</td><td>304568.32</td><td>10880</td></tr><tr><td>15.000</td><td>9</td><td>30</td><td>1549312</td><td>2156144.64</td><td>47232</td></tr><tr><td>15.000</td><td>9</td><td>31</td><td>2215296</td><td>2227068.16</td><td>50560</td></tr><tr><td>15.000</td><td>9</td><td>35</td><td>2724736</td><td>3383616.00</td><td>72960</td></tr><tr><td>15.000</td><td>9</td><td>36</td><td>11016320</td><td>12551537.92</td><td>276992</td></tr><tr><td>15.000</td><td>9</td><td>38</td><td>1519744</td><td>1955315.20</td><td>39552</td></tr><tr><td>15.000</td><td>9</td><td>39</td><td>31888384</td><td>34617245.44</td><td>785664</td></tr><tr><td>15.000</td><td>9</td><td>40</td><td>6807424</td><td>7944593.92</td><td>176896</td></tr><tr><td>15.000</td><td>9</td><td>41</td><td>2219136</td><td>3174849.28</td><td>63232</td></tr><tr><td>15.000</td><td>9</td><td>45</td><td>338176</td><td>382839.04</td><td>7808</td></tr><tr><td>15.000</td><td>9</td><td>46</td><td>112128</td><td>111915.52</td><td>2176</td></tr><tr><td>15.000</td><td>9</td><td>47</td><td>3255680</td><td>2629954.56</td><td>75776</td></tr><tr><td>15.000</td><td>9</td><td>48</td><td>2595968</td><td>2310150.40</td><td>60928</td></tr><tr><td>15.000</td><td>9</td><td>49</td><td>14758528</td><td>17928881.92</td><td>368768</td></tr><tr><td>15.000</td><td>9</td><td>50</td><td>804352</td><td>926225.92</td><td>19968</td></tr><tr><td>15.000</td><td>9</td><td>51</td><td>4007808</td><td>4360591.36</td><td>97408</td></tr><tr><td>15.000</td><td>9</td><td>52</td><td>5863424</td><td>7464648.96</td><td>156160</td></tr><tr><td>15.000</td><td>9</td><td>54</td><td>2736768</td><td>3351491.84</td><td>72320</td></tr><tr><td>15.000</td><td>9</td><td>56</td><td>285824</td><td>253144.32</td><td>7552</td></tr><tr><td>15.000</td><td>9</td><td>57</td><td>2298240</td><td>2447610.88</td><td>58240</td></tr><tr><td>15.000</td><td>9</td><td>58</td><td>2144768</td><td>1723477.76</td><td>50048</td></tr><tr><td>15.000</td><td>9</td><td>61</td><td>3732224</td><td>4086886.40</td><td>86016</td></tr><tr><td>15.000</td><td>9</td><td>62</td><td>12672128</td><td>13904339.20</td><td>304000</td></tr><tr><td>15.000</td><td>9</td><td>63</td><td>10126208</td><td>10138237.44</td><td>243200</td></tr><tr><td>15.000</td><td>9</td><td>65</td><td>6787456</td><td>7473853.44</td><td>171136</td></tr><tr><td>15.000</td><td>9</td><td>68</td><td>4638720</td><td>4848647.68</td><td>107008</td></tr><tr><td>15.000</td><td>9</td><td>70</td><td>14884864</td><td>16764665.60</td><td>379776</td></tr><tr><td>15.000</td><td>9</td><td>72</td><td>2565888</td><td>2336160.00</td><td>55936</td></tr><tr><td>15.000</td><td>9</td><td>74</td><td>15317888</td><td>19187417.60</td><td>384768</td></tr><tr><td>15.000</td><td>9</td><td>76</td><td>6481280</td><td>8637446.40</td><td>169088</td></tr><tr><td>15.000</td><td>9</td><td>77</td><td>7128320</td><td>7693249.28</td><td>169984</td></tr><tr><td>15.000</td><td>9</td><td>78</td><td>5061376</td><td>5629213.44</td><td>121856</td></tr><tr><td>15.000</td><td>9</td><td>80</td><td>7743104</td><td>8722903.04</td><td>203264</td></tr><tr><td>15.000</td><td>9</td><td>81</td><td>28808064</td><td>32882525.44</td><td>706048</td></tr><tr><td>15.000</td><td>9</td><td>83</td><td>12662272</td><td>14586407.68</td><td>330880</td></tr><tr><td>15.000</td><td>9</td><td>84</td><td>6509184</td><td>8482062.08</td><td>169856</td></tr><tr><td>15.000</td><td>9</td><td>85</td><td>4782592</td><td>4991431.68</td><td>116864</td></tr><tr><td>15.000</td><td>9</td><td>86</td><td>27021696</td><td>30225996.80</td><td>682624</td></tr><tr><td>15.000</td><td>9</td><td>89</td><td>1578752</td><td>2027873.28</td><td>36096</td></tr><tr><td>15.000</td><td>9</td><td>90</td><td>33806464</td><td>39663014.40</td><td>856704</td></tr><tr><td>15.000</td><td>9</td><td>91</td><td>4442752</td><td>5842634.24</td><td>112768</td></tr><tr><td>15.000</td><td>9</td><td>93</td><td>28200192</td><td>33006179.84</td><td>713984</td></tr><tr><td>15.000</td><td>9</td><td>94</td><td>12681600</td><td>13601986.56</td><td>303232</td></tr><tr><td>15.000</td><td>9</td><td>96</td><td>666624</td><td>473141.76</td><td>14464</td></tr><tr><td>15.000</td><td>9</td><td>97</td><td>11993088</td><td>13300569.60</td><td>303104</td></tr><tr><td>15.000</td><td>9</td><td>101</td><td>7575168</td><td>7600646.40</td><td>196992</td></tr><tr><td>15.000</td><td>9</td><td>102</td><td>27441920</td><td>33995997.44</td><td>703872</td></tr><tr><td>15.000</td><td>9</td><td>103</td><td>7057280</td><td>8503637.76</td><td>185088</td></tr><tr><td>15.000</td><td>9</td><td>105</td><td>29710848</td><td>34073157.12</td><td>735872</td></tr><tr><td>15.000</td><td>9</td><td>106</td><td>8104704</td><td>9812775.68</td><td>220416</td></tr><tr><td>15.000</td><td>9</td><td>107</td><td>2590464</td><td>3028149.76</td><td>61952</td></tr><tr><td>15.000</td><td>9</td><td>108</td><td>40156160</td><td>45593496.32</td><td>1001600</td></tr><tr><td>15.000</td><td>9</td><td>115</td><td>2452096</td><td>2226137.60</td><td>60800</td></tr><tr><td>15.000</td><td>9</td><td>116</td><td>23243392</td><td>24868823.04</td><td>564736</td></tr><tr><td>15.000</td><td>9</td><td>118</td><td>14240128</td><td>15111184.64</td><td>353408</td></tr><tr><td>15.000</td><td>9</td><td>119</td><td>40846720</td><td>45264224.00</td><td>1027456</td></tr><tr><td>15.000</td><td>9</td><td>122</td><td>6732544</td><td>7716145.92</td><td>164992</td></tr><tr><td>15.000</td><td>9</td><td>126</td><td>7082880</td><td>8110862.08</td><td>171008</td></tr><tr><td>15.000</td><td>9</td><td>127</td><td>24211712</td><td>28525308.16</td><td>616576</td></tr><tr><td>15.000</td><td>9</td><td>129</td><td>31437312</td><td>34298964.48</td><td>767488</td></tr><tr><td>15.000</td><td>9</td><td>130</td><td>390272</td><td>315754.24</td><td>10880</td></tr><tr><td>15.000</td><td>9</td><td>134</td><td>19598208</td><td>22598796.80</td><td>491520</td></tr><tr><td>15.000</td><td>9</td><td>136</td><td>357248</td><td>296313.60</td><td>9856</td></tr><tr><td>15.000</td><td>9</td><td>138</td><td>4697088</td><td>5400261.12</td><td>118144</td></tr><tr><td>15.000</td><td>9</td><td>140</td><td>17321984</td><td>19747557.12</td><td>433280</td></tr><tr><td>15.000</td><td>9</td><td>143</td><td>22007296</td><td>26812788.48</td><td>567040</td></tr><tr><td>15.000</td><td>9</td><td>144</td><td>7777664</td><td>9402172.16</td><td>193152</td></tr><tr><td>15.000</td><td>9</td><td>145</td><td>15399680</td><td>17946855.68</td><td>388096</td></tr><tr><td>15.000</td><td>9</td><td>149</td><td>2256896</td><td>2663919.36</td><td>60416</td></tr><tr><td>15.000</td><td>9</td><td>150</td><td>10869632</td><td>12971114.24</td><td>281344</td></tr><tr><td>15.000</td><td>9</td><td>151</td><td>11137920</td><td>11154696.96</td><td>269568</td></tr><tr><td>15.000</td><td>9</td><td>152</td><td>11700480</td><td>13719448.32</td><td>285056</td></tr><tr><td>15.000</td><td>9</td><td>154</td><td>8281344</td><td>8556992.00</td><td>212864</td></tr><tr><td>15.000</td><td>9</td><td>155</td><td>8951424</td><td>9563397.12</td><td>219264</td></tr><tr><td>15.000</td><td>9</td><td>156</td><td>6004608</td><td>5900654.08</td><td>152192</td></tr><tr><td>15.000</td><td>9</td><td>158</td><td>500480</td><td>65113.60</td><td>4352</td></tr><tr><td>15.000</td><td>9</td><td>161</td><td>253952</td><td>56025.60</td><td>2816</td></tr><tr><td>15.000</td><td>9</td><td>163</td><td>248320</td><td>48179.20</td><td>2688</td></tr><tr><td>15.000</td><td>9</td><td>165</td><td>102016</td><td>12416.00</td><td>896</td></tr><tr><td>15.000</td><td>9</td><td>167</td><td>16896</td><td>4608.00</td><td>256</td></tr><tr><td>15.000</td><td>9</td><td>168</td><td>141184</td><td>21619.20</td><td>1408</td></tr><tr><td>15.000</td><td>9</td><td>170</td><td>75776</td><td>13760.00</td><td>768</td></tr><tr><td>15.000</td><td>9</td><td>171</td><td>112512</td><td>14681.60</td><td>1024</td></tr><tr><td>15.000</td><td>9</td><td>172</td><td>77824</td><td>10137.60</td><td>768</td></tr><tr><td>15.000</td><td>9</td><td>174</td><td>7680</td><td>2304.00</td><td>128</td></tr></table>"
                    },
                    "metadata": {}
                }
            ],
            "execution_count": 3
        },
        {
            "cell_type": "markdown",
            "source": [
                "Observe the query execution plan (or actual plan).\r\n",
                "\r\n",
                "![BMOR_Enabled_Plan](./media/BMOR_enabled_plan.PNG)\r\n",
                "\r\n",
                "Notice the time spent in each operator (not cumulative up the tree for a query in batch mode). Note the Stream Aggregate operator is not present. Also note that only one aggregate was required for the Batch Mode plan, which also improves the query execution.\r\n",
                "\r\n",
                "Confirm the *Actual Execution Mode* was indeed \"Batch\", for example in the properties of the *Table Scan* operator.\r\n",
                "\r\n",
                "![BMOR_enabled_TableScan_properties](./media/BMOR_enabled_TableScan_properties.PNG)\r\n",
                "\r\n",
                "As you can see from the execution times, the query with Batch Mode for Rowstore finished much faster! From **~5s** to **~1.8s**."
            ],
            "metadata": {
                "azdata_cell_guid": "0992ad26-d475-47ef-9b3e-5b9ccd429013"
            }
        }
    ]
}