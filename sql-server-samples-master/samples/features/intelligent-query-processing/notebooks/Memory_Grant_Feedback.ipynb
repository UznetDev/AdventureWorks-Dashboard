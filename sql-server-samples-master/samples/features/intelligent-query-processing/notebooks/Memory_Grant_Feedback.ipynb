{
    "metadata": {
        "kernelspec": {
            "name": "SQL",
            "display_name": "SQL",
            "language": "sql"
        },
        "language_info": {
            "name": "sql",
            "version": ""
        }
    },
    "nbformat_minor": 2,
    "nbformat": 4,
    "cells": [
        {
            "cell_type": "markdown",
            "source": [
                "# Memory Grant Feedback\r\n",
                "Memory grant feedback (MGF)adjusts memory grant sizes to learn and improve memory usage. This feature can adjust memory grant sizes for both batch and row mode operators, and eliminate the effects of memory grant misestimations (spills to TempDB) and overestimations (affects concurrency).\r\n",
                "\r\n",
                "Memory grant feedback is a feature under the [**Intelligent Query Processing**](https://aka.ms/iqp) suite of features.  \r\n",
                "\r\n",
                "This example will show you how upgrading to **Database Compatibility Level 150** could improve performance of queries executing in row mode, that are affected by memory grant misestimations. Upgrading to **Database Compatibility Level 140** allows MGF for queries executing in batch mode, and **Database Compatibility Level 150** allows MGF on queries executing in row mode.\r\n",
                "\r\n",
                "More information about this feature is available [here](https://docs.microsoft.com/sql/relational-databases/performance/intelligent-query-processing?view=sql-server-ver15#batch-mode-memory-grant-feedback)."
            ],
            "metadata": {
                "azdata_cell_guid": "7870ea3f-b017-46d9-bec6-15369f4ade69"
            }
        },
        {
            "cell_type": "markdown",
            "source": [
                "## Step 1: Setup WideWorldImportersDW database\r\n",
                "\r\n",
                "You could choose to use a container to evaluate this feature. Create an instance of SQL Server 2019 using a Docker image and restore the WideWorldImportersDW database backup\r\n",
                "\r\n",
                "You will need the **WideWorldImportersDW** database for this exercise. If you don't have this sample database, then you download the sample database [here](https://github.com/Microsoft/sql-server-samples/releases/download/wide-world-importers-v1.0/WideWorldImportersDW-Full.bak \"WideWorldImportersDW-Full download\").\r\n",
                "\r\n",
                "Restore the copied WideWorldImportersDW database backup into the container and restore the backup.\r\n",
                "\r\n",
                "##### Docker Commands\r\n",
                "```\r\n",
                "docker pull mcr.microsoft.com/mssql/server:2019-latest\r\n",
                "\r\n",
                "docker run -e \"ACCEPT_EULA=Y\" -e \"SA_PASSWORD=`<A Strong Password`>\" -p 1445:1433 --name sql2019demo -d mcr.microsoft.com/mssql/server:2019-latest\r\n",
                "\r\n",
                "docker cp \".\\Downloads\\WideWorldImportersDW-Full.bak\" sql2019demo:/var/opt/mssql/data\r\n",
                "```\r\n",
                "\r\n",
                "**Note**: *For Linux installations the default path to use is /var/opt/mssql*\r\n",
                ""
            ],
            "metadata": {
                "azdata_cell_guid": "975f5a9f-300f-450b-8981-cebb9ed6c719"
            }
        },
        {
            "cell_type": "code",
            "source": [
                "USE [master]\r\n",
                "GO\r\n",
                "IF EXISTS (SELECT [database_id] FROM sys.databases WHERE [name] = 'WideWorldImportersDW')\r\n",
                "ALTER DATABASE [WideWorldImportersDW] SET SINGLE_USER WITH ROLLBACK IMMEDIATE\r\n",
                "GO\r\n",
                "\r\n",
                "DECLARE @datafilepath VARCHAR(8000) = CAST(SERVERPROPERTY('InstanceDefaultDataPath') AS VARCHAR(4000)) + 'WideWorldImportersDW.mdf'\r\n",
                "DECLARE @logfilepath VARCHAR(8000) = CAST(SERVERPROPERTY('InstanceDefaultLogPath') AS VARCHAR(4000)) + 'WideWorldImportersDW.ldf'\r\n",
                "DECLARE @inmemfilepath VARCHAR(8000) = CAST(SERVERPROPERTY('InstanceDefaultDataPath') AS VARCHAR(4000)) + 'WideWorldImportersDW_InMemory_Data_1'\r\n",
                "DECLARE @secondaryfilepath VARCHAR(8000) = CAST(SERVERPROPERTY('InstanceDefaultDataPath') AS VARCHAR(4000))+ 'WideWorldImportersDW_2.ndf'\r\n",
                "\r\n",
                "-- Change @backupfile file path as needed\r\n",
                "DECLARE @backupfile VARCHAR(8000) = 'E:\\SampleDBs\\WideWorldImportersDW-Full.bak'\r\n",
                "RESTORE DATABASE WideWorldImportersDW\r\n",
                "FROM DISK = @backupfile \r\n",
                "WITH MOVE 'WWI_Primary' TO @datafilepath,\r\n",
                "    MOVE 'WWI_UserData' TO @secondaryfilepath,\r\n",
                "    MOVE 'WWIDW_InMemory_Data_1' TO @inmemfilepath,\r\n",
                "    MOVE 'WWI_Log' TO @logfilepath, NOUNLOAD, REPLACE, STATS = 10\r\n",
                "GO\r\n",
                "\r\n",
                "USE [master]\r\n",
                "GO\r\n",
                "ALTER DATABASE [WideWorldImportersDW] MODIFY FILE ( NAME = N'WWI_Log', SIZE = 4GB )\r\n",
                "GO"
            ],
            "metadata": {
                "azdata_cell_guid": "b48b5a47-55d7-4c3c-ba51-2efa8d801029"
            },
            "outputs": [],
            "execution_count": 7
        },
        {
            "cell_type": "markdown",
            "source": [
                "## Step 2: Enlarge the WideWorldImportersDW database"
            ],
            "metadata": {
                "azdata_cell_guid": "4e07d47f-3833-40dd-8203-1d43af8bacd8"
            }
        },
        {
            "cell_type": "code",
            "source": [
                "USE WideWorldImportersDW;\r\n",
                "GO\r\n",
                "\r\n",
                "/*\r\n",
                "Assumes a fresh restore of WideWorldImportersDW\r\n",
                "*/\r\n",
                "\r\n",
                "IF OBJECT_ID('Fact.OrderHistory') IS NULL \r\n",
                "BEGIN\r\n",
                "    SELECT [Order Key], [City Key], [Customer Key], [Stock Item Key], [Order Date Key], [Picked Date Key], [Salesperson Key], [Picker Key], [WWI Order ID], [WWI Backorder ID], Description, Package, Quantity, [Unit Price], [Tax Rate], [Total Excluding Tax], [Tax Amount], [Total Including Tax], [Lineage Key]\r\n",
                "    INTO Fact.OrderHistory\r\n",
                "    FROM Fact.[Order];\r\n",
                "END;\r\n",
                "\r\n",
                "ALTER TABLE Fact.OrderHistory\r\n",
                "ADD CONSTRAINT PK_Fact_OrderHistory PRIMARY KEY NONCLUSTERED ([Order Key] ASC, [Order Date Key] ASC) WITH (DATA_COMPRESSION = PAGE);\r\n",
                "GO\r\n",
                "\r\n",
                "CREATE INDEX IX_Stock_Item_Key\r\n",
                "ON Fact.OrderHistory ([Stock Item Key])\r\n",
                "INCLUDE(Quantity)\r\n",
                "WITH (DATA_COMPRESSION = PAGE);\r\n",
                "GO\r\n",
                "\r\n",
                "CREATE INDEX IX_OrderHistory_Quantity\r\n",
                "ON Fact.OrderHistory ([Quantity])\r\n",
                "INCLUDE([Order Key])\r\n",
                "WITH (DATA_COMPRESSION = PAGE);\r\n",
                "GO\r\n",
                "\r\n",
                "CREATE INDEX IX_OrderHistory_CustomerKey\r\n",
                "ON Fact.OrderHistory([Customer Key])\r\n",
                "INCLUDE ([Total Including Tax])\r\n",
                "WITH (DATA_COMPRESSION = PAGE);\r\n",
                "GO\r\n",
                "\r\n",
                "IF (SELECT COUNT(*) FROM [Fact].[OrderHistory]) < 3702592\r\n",
                "BEGIN\r\n",
                "\tDECLARE @i smallint\r\n",
                "\tSET @i = 0\r\n",
                "\tWHILE @i < 4\r\n",
                "\tBEGIN\r\n",
                "\t\tINSERT INTO [Fact].[OrderHistory] ([City Key], [Customer Key], [Stock Item Key], [Order Date Key], [Picked Date Key], [Salesperson Key], [Picker Key], [WWI Order ID], [WWI Backorder ID], Description, Package, Quantity, [Unit Price], [Tax Rate], [Total Excluding Tax], [Tax Amount], [Total Including Tax], [Lineage Key])\r\n",
                "\t\tSELECT [City Key], [Customer Key], [Stock Item Key], [Order Date Key], [Picked Date Key], [Salesperson Key], [Picker Key], [WWI Order ID], [WWI Backorder ID], Description, Package, Quantity, [Unit Price], [Tax Rate], [Total Excluding Tax], [Tax Amount], [Total Including Tax], [Lineage Key]\r\n",
                "\t\tFROM [Fact].[OrderHistory];\r\n",
                "\r\n",
                "\t\tSET @i = @i +1\r\n",
                "\tEND;\r\n",
                "END\r\n",
                "GO\r\n",
                "\r\n",
                "IF OBJECT_ID('Fact.OrderHistoryExtended') IS NULL \r\n",
                "BEGIN\r\n",
                "    SELECT [Order Key], [City Key], [Customer Key], [Stock Item Key], [Order Date Key], [Picked Date Key], [Salesperson Key], [Picker Key], [WWI Order ID], [WWI Backorder ID], Description, Package, Quantity, [Unit Price], [Tax Rate], [Total Excluding Tax], [Tax Amount], [Total Including Tax], [Lineage Key]\r\n",
                "    INTO Fact.OrderHistoryExtended\r\n",
                "    FROM Fact.[OrderHistory];\r\n",
                "END;\r\n",
                "\r\n",
                "ALTER TABLE Fact.OrderHistoryExtended\r\n",
                "ADD CONSTRAINT PK_Fact_OrderHistoryExtended PRIMARY KEY NONCLUSTERED ([Order Key] ASC, [Order Date Key] ASC)\r\n",
                "WITH (DATA_COMPRESSION = PAGE);\r\n",
                "GO\r\n",
                "\r\n",
                "CREATE INDEX IX_Stock_Item_Key\r\n",
                "ON Fact.OrderHistoryExtended ([Stock Item Key])\r\n",
                "INCLUDE (Quantity);\r\n",
                "GO\r\n",
                "\r\n",
                "IF (SELECT COUNT(*) FROM [Fact].[OrderHistory]) < 29620736\r\n",
                "BEGIN\r\n",
                "\tDECLARE @i smallint\r\n",
                "\tSET @i = 0\r\n",
                "\tWHILE @i < 3\r\n",
                "\tBEGIN\r\n",
                "\t\tINSERT Fact.OrderHistoryExtended([City Key], [Customer Key], [Stock Item Key], [Order Date Key], [Picked Date Key], [Salesperson Key], [Picker Key], [WWI Order ID], [WWI Backorder ID], Description, Package, Quantity, [Unit Price], [Tax Rate], [Total Excluding Tax], [Tax Amount], [Total Including Tax], [Lineage Key])\r\n",
                "\t\tSELECT [City Key], [Customer Key], [Stock Item Key], [Order Date Key], [Picked Date Key], [Salesperson Key], [Picker Key], [WWI Order ID], [WWI Backorder ID], Description, Package, Quantity, [Unit Price], [Tax Rate], [Total Excluding Tax], [Tax Amount], [Total Including Tax], [Lineage Key]\r\n",
                "\t\tFROM Fact.OrderHistoryExtended;\r\n",
                "\r\n",
                "\t\tSET @i = @i +1\r\n",
                "\tEND;\r\n",
                "END\r\n",
                "GO\r\n",
                "\r\n",
                "UPDATE Fact.OrderHistoryExtended\r\n",
                "SET [WWI Order ID] = [Order Key];\r\n",
                "GO\r\n",
                "\r\n",
                "-- Repeat the following until log shrinks. These demos don't require much log space.\r\n",
                "CHECKPOINT\r\n",
                "GO\r\n",
                "DBCC SHRINKFILE (N'WWI_Log' , 0, TRUNCATEONLY)\r\n",
                "GO\r\n",
                "SELECT * FROM sys.dm_db_log_space_usage\r\n",
                "GO"
            ],
            "metadata": {
                "azdata_cell_guid": "a7421321-3652-49c5-b83a-e25e69c48aed"
            },
            "outputs": [],
            "execution_count": 3
        },
        {
            "cell_type": "markdown",
            "source": [
                "## Step 3: Skew cardinality estimations\r\n",
                "\r\n",
                "This will provide skewed statistical information to the Cardinality Estimator (CE). \r\n",
                "\r\n",
                "Statistics are fundamental building blocks for the CE to output good estimations over the expected number of rows will be used from a table for a given query.\r\n",
                "Therefore, it's fundamental for the CE to have statistics that accurately portray the underlying data distribution of a column or set of columns. If those statistics are skewed, then cardinality estimations will likely be wrong and the Query Optimizer will likely make wrong decisions. The result is an inneficient plan for a given query."
            ],
            "metadata": {
                "azdata_cell_guid": "e97a9842-cd31-4d1c-8a1c-f1ef5f0e19da"
            }
        },
        {
            "cell_type": "code",
            "source": [
                "USE [WideWorldImportersDW];\r\n",
                "GO\r\n",
                "UPDATE STATISTICS Fact.OrderHistory \r\n",
                "WITH ROWCOUNT = 1;\r\n",
                "GO"
            ],
            "metadata": {
                "azdata_cell_guid": "511b31b6-d3ff-417e-91dc-d0f4fd9f06ec"
            },
            "outputs": [
                {
                    "output_type": "display_data",
                    "data": {
                        "text/html": "Commands completed successfully."
                    },
                    "metadata": {}
                },
                {
                    "output_type": "display_data",
                    "data": {
                        "text/html": "Commands completed successfully."
                    },
                    "metadata": {}
                },
                {
                    "output_type": "display_data",
                    "data": {
                        "text/html": "Total execution time: 00:00:00.124"
                    },
                    "metadata": {}
                }
            ],
            "execution_count": 1
        },
        {
            "cell_type": "markdown",
            "source": [
                "## Step 4: Execute the query and observe the query execution plan\r\n",
                ""
            ],
            "metadata": {
                "azdata_cell_guid": "cc613f99-f3c2-462f-93df-bd197de31bbc"
            }
        },
        {
            "cell_type": "code",
            "source": [
                "USE [WideWorldImportersDW];\r\n",
                "GO\r\n",
                "ALTER DATABASE [WideWorldImportersDW] SET COMPATIBILITY_LEVEL = 150;\r\n",
                "GO\r\n",
                "ALTER DATABASE SCOPED CONFIGURATION CLEAR PROCEDURE_CACHE;\r\n",
                "GO\r\n",
                "\r\n",
                "SELECT   \r\n",
                "\tfo.[Order Key], fo.Description,\r\n",
                "\tsi.[Lead Time Days]\r\n",
                "FROM Fact.OrderHistory AS fo\r\n",
                "INNER HASH JOIN Dimension.[Stock Item] AS si \r\n",
                "\tON fo.[Stock Item Key] = si.[Stock Item Key]\r\n",
                "WHERE fo.[Lineage Key] = 9\r\n",
                "\tAND si.[Lead Time Days] > 19;\r\n",
                "GO"
            ],
            "metadata": {
                "azdata_cell_guid": "71483984-6bdd-4866-8ddc-e40fe692c0db"
            },
            "outputs": [
                {
                    "output_type": "display_data",
                    "data": {
                        "text/html": "Commands completed successfully."
                    },
                    "metadata": {}
                },
                {
                    "output_type": "display_data",
                    "data": {
                        "text/html": "Commands completed successfully."
                    },
                    "metadata": {}
                },
                {
                    "output_type": "display_data",
                    "data": {
                        "text/html": "Commands completed successfully."
                    },
                    "metadata": {}
                },
                {
                    "output_type": "display_data",
                    "data": {
                        "text/html": "Warning: The join order has been enforced because a local join hint is used."
                    },
                    "metadata": {}
                },
                {
                    "output_type": "display_data",
                    "data": {
                        "text/html": "(66416 rows affected)"
                    },
                    "metadata": {}
                },
                {
                    "output_type": "display_data",
                    "data": {
                        "text/html": "Displaying Top 500 rows."
                    },
                    "metadata": {}
                },
                {
                    "output_type": "display_data",
                    "data": {
                        "text/html": "Total execution time: 00:00:43.190"
                    },
                    "metadata": {}
                },
                {
                    "output_type": "execute_result",
                    "execution_count": 9,
                    "data": {
                        "application/vnd.dataresource+json": {
                            "schema": {
                                "fields": [
                                    {
                                        "name": "Order Key"
                                    },
                                    {
                                        "name": "Description"
                                    },
                                    {
                                        "name": "Lead Time Days"
                                    }
                                ]
                            },
                            "data": [
                                {
                                    "0": "3699679",
                                    "1": "Tape dispenser (Black)",
                                    "2": "20"
                                },
                                {
                                    "0": "3700053",
                                    "1": "Tape dispenser (Black)",
                                    "2": "20"
                                },
                                {
                                    "0": "3700057",
                                    "1": "Tape dispenser (Black)",
                                    "2": "20"
                                },
                                {
                                    "0": "3700061",
                                    "1": "Tape dispenser (Black)",
                                    "2": "20"
                                },
                                {
                                    "0": "3701657",
                                    "1": "Tape dispenser (Black)",
                                    "2": "20"
                                },
                                {
                                    "0": "3701914",
                                    "1": "Tape dispenser (Black)",
                                    "2": "20"
                                },
                                {
                                    "0": "3702301",
                                    "1": "Tape dispenser (Black)",
                                    "2": "20"
                                },
                                {
                                    "0": "3592539",
                                    "1": "Tape dispenser (Black)",
                                    "2": "20"
                                },
                                {
                                    "0": "3592540",
                                    "1": "Tape dispenser (Black)",
                                    "2": "20"
                                },
                                {
                                    "0": "3592541",
                                    "1": "Tape dispenser (Black)",
                                    "2": "20"
                                },
                                {
                                    "0": "3592542",
                                    "1": "Tape dispenser (Black)",
                                    "2": "20"
                                },
                                {
                                    "0": "3592543",
                                    "1": "Tape dispenser (Black)",
                                    "2": "20"
                                },
                                {
                                    "0": "3592544",
                                    "1": "Tape dispenser (Black)",
                                    "2": "20"
                                },
                                {
                                    "0": "3592545",
                                    "1": "Tape dispenser (Black)",
                                    "2": "20"
                                },
                                {
                                    "0": "3592546",
                                    "1": "Tape dispenser (Black)",
                                    "2": "20"
                                },
                                {
                                    "0": "3592547",
                                    "1": "Tape dispenser (Black)",
                                    "2": "20"
                                },
                                {
                                    "0": "3592548",
                                    "1": "Tape dispenser (Black)",
                                    "2": "20"
                                },
                                {
                                    "0": "3592549",
                                    "1": "Tape dispenser (Black)",
                                    "2": "20"
                                },
                                {
                                    "0": "3592550",
                                    "1": "Tape dispenser (Black)",
                                    "2": "20"
                                },
                                {
                                    "0": "3592551",
                                    "1": "Tape dispenser (Black)",
                                    "2": "20"
                                },
                                {
                                    "0": "3592552",
                                    "1": "Tape dispenser (Black)",
                                    "2": "20"
                                },
                                {
                                    "0": "3592553",
                                    "1": "Tape dispenser (Black)",
                                    "2": "20"
                                },
                                {
                                    "0": "3592554",
                                    "1": "Tape dispenser (Black)",
                                    "2": "20"
                                },
                                {
                                    "0": "3592555",
                                    "1": "Tape dispenser (Black)",
                                    "2": "20"
                                },
                                {
                                    "0": "3592556",
                                    "1": "Tape dispenser (Black)",
                                    "2": "20"
                                },
                                {
                                    "0": "3592557",
                                    "1": "Tape dispenser (Black)",
                                    "2": "20"
                                },
                                {
                                    "0": "3592558",
                                    "1": "Tape dispenser (Black)",
                                    "2": "20"
                                },
                                {
                                    "0": "3592559",
                                    "1": "Tape dispenser (Black)",
                                    "2": "20"
                                },
                                {
                                    "0": "3592560",
                                    "1": "Tape dispenser (Black)",
                                    "2": "20"
                                },
                                {
                                    "0": "3592561",
                                    "1": "Tape dispenser (Black)",
                                    "2": "20"
                                },
                                {
                                    "0": "3592562",
                                    "1": "Tape dispenser (Black)",
                                    "2": "20"
                                },
                                {
                                    "0": "3592563",
                                    "1": "Tape dispenser (Black)",
                                    "2": "20"
                                },
                                {
                                    "0": "3592564",
                                    "1": "Tape dispenser (Black)",
                                    "2": "20"
                                },
                                {
                                    "0": "3592565",
                                    "1": "Tape dispenser (Black)",
                                    "2": "20"
                                },
                                {
                                    "0": "3592566",
                                    "1": "Tape dispenser (Black)",
                                    "2": "20"
                                },
                                {
                                    "0": "3592567",
                                    "1": "Tape dispenser (Black)",
                                    "2": "20"
                                },
                                {
                                    "0": "3592568",
                                    "1": "Tape dispenser (Black)",
                                    "2": "20"
                                },
                                {
                                    "0": "3592802",
                                    "1": "Tape dispenser (Black)",
                                    "2": "20"
                                },
                                {
                                    "0": "3592804",
                                    "1": "Tape dispenser (Black)",
                                    "2": "20"
                                },
                                {
                                    "0": "3593217",
                                    "1": "Tape dispenser (Black)",
                                    "2": "20"
                                },
                                {
                                    "0": "3593522",
                                    "1": "Tape dispenser (Black)",
                                    "2": "20"
                                },
                                {
                                    "0": "3593523",
                                    "1": "Tape dispenser (Black)",
                                    "2": "20"
                                },
                                {
                                    "0": "3593524",
                                    "1": "Tape dispenser (Black)",
                                    "2": "20"
                                },
                                {
                                    "0": "3593525",
                                    "1": "Tape dispenser (Black)",
                                    "2": "20"
                                },
                                {
                                    "0": "3593526",
                                    "1": "Tape dispenser (Black)",
                                    "2": "20"
                                },
                                {
                                    "0": "3593527",
                                    "1": "Tape dispenser (Black)",
                                    "2": "20"
                                },
                                {
                                    "0": "3593528",
                                    "1": "Tape dispenser (Black)",
                                    "2": "20"
                                },
                                {
                                    "0": "3593529",
                                    "1": "Tape dispenser (Black)",
                                    "2": "20"
                                },
                                {
                                    "0": "3593530",
                                    "1": "Tape dispenser (Black)",
                                    "2": "20"
                                },
                                {
                                    "0": "3593531",
                                    "1": "Tape dispenser (Black)",
                                    "2": "20"
                                },
                                {
                                    "0": "3593532",
                                    "1": "Tape dispenser (Black)",
                                    "2": "20"
                                },
                                {
                                    "0": "3593533",
                                    "1": "Tape dispenser (Black)",
                                    "2": "20"
                                },
                                {
                                    "0": "3593534",
                                    "1": "Tape dispenser (Black)",
                                    "2": "20"
                                },
                                {
                                    "0": "3593535",
                                    "1": "Tape dispenser (Black)",
                                    "2": "20"
                                },
                                {
                                    "0": "3593536",
                                    "1": "Tape dispenser (Black)",
                                    "2": "20"
                                },
                                {
                                    "0": "3593537",
                                    "1": "Tape dispenser (Black)",
                                    "2": "20"
                                },
                                {
                                    "0": "3593538",
                                    "1": "Tape dispenser (Black)",
                                    "2": "20"
                                },
                                {
                                    "0": "3593539",
                                    "1": "Tape dispenser (Black)",
                                    "2": "20"
                                },
                                {
                                    "0": "3593540",
                                    "1": "Tape dispenser (Black)",
                                    "2": "20"
                                },
                                {
                                    "0": "3593541",
                                    "1": "Tape dispenser (Black)",
                                    "2": "20"
                                },
                                {
                                    "0": "3593542",
                                    "1": "Tape dispenser (Black)",
                                    "2": "20"
                                },
                                {
                                    "0": "3593543",
                                    "1": "Tape dispenser (Black)",
                                    "2": "20"
                                },
                                {
                                    "0": "3593544",
                                    "1": "Tape dispenser (Black)",
                                    "2": "20"
                                },
                                {
                                    "0": "3593545",
                                    "1": "Tape dispenser (Black)",
                                    "2": "20"
                                },
                                {
                                    "0": "3593546",
                                    "1": "Tape dispenser (Black)",
                                    "2": "20"
                                },
                                {
                                    "0": "3593841",
                                    "1": "Tape dispenser (Black)",
                                    "2": "20"
                                },
                                {
                                    "0": "3593862",
                                    "1": "Tape dispenser (Black)",
                                    "2": "20"
                                },
                                {
                                    "0": "3593865",
                                    "1": "Tape dispenser (Black)",
                                    "2": "20"
                                },
                                {
                                    "0": "3698037",
                                    "1": "Tape dispenser (Black)",
                                    "2": "20"
                                },
                                {
                                    "0": "3698043",
                                    "1": "Tape dispenser (Black)",
                                    "2": "20"
                                },
                                {
                                    "0": "3698125",
                                    "1": "Tape dispenser (Black)",
                                    "2": "20"
                                },
                                {
                                    "0": "3698584",
                                    "1": "Tape dispenser (Black)",
                                    "2": "20"
                                },
                                {
                                    "0": "3698595",
                                    "1": "Tape dispenser (Black)",
                                    "2": "20"
                                },
                                {
                                    "0": "3698604",
                                    "1": "Tape dispenser (Black)",
                                    "2": "20"
                                },
                                {
                                    "0": "3699617",
                                    "1": "Tape dispenser (Black)",
                                    "2": "20"
                                },
                                {
                                    "0": "3699619",
                                    "1": "Tape dispenser (Black)",
                                    "2": "20"
                                },
                                {
                                    "0": "3695553",
                                    "1": "Tape dispenser (Black)",
                                    "2": "20"
                                },
                                {
                                    "0": "3695559",
                                    "1": "Tape dispenser (Black)",
                                    "2": "20"
                                },
                                {
                                    "0": "3696413",
                                    "1": "Tape dispenser (Black)",
                                    "2": "20"
                                },
                                {
                                    "0": "3696414",
                                    "1": "Tape dispenser (Black)",
                                    "2": "20"
                                },
                                {
                                    "0": "3696415",
                                    "1": "Tape dispenser (Black)",
                                    "2": "20"
                                },
                                {
                                    "0": "3696416",
                                    "1": "Tape dispenser (Black)",
                                    "2": "20"
                                },
                                {
                                    "0": "3696417",
                                    "1": "Tape dispenser (Black)",
                                    "2": "20"
                                },
                                {
                                    "0": "3696418",
                                    "1": "Tape dispenser (Black)",
                                    "2": "20"
                                },
                                {
                                    "0": "3696419",
                                    "1": "Tape dispenser (Black)",
                                    "2": "20"
                                },
                                {
                                    "0": "3696420",
                                    "1": "Tape dispenser (Black)",
                                    "2": "20"
                                },
                                {
                                    "0": "3696421",
                                    "1": "Tape dispenser (Black)",
                                    "2": "20"
                                },
                                {
                                    "0": "3696422",
                                    "1": "Tape dispenser (Black)",
                                    "2": "20"
                                },
                                {
                                    "0": "3696423",
                                    "1": "Tape dispenser (Black)",
                                    "2": "20"
                                },
                                {
                                    "0": "3696424",
                                    "1": "Tape dispenser (Black)",
                                    "2": "20"
                                },
                                {
                                    "0": "3696425",
                                    "1": "Tape dispenser (Black)",
                                    "2": "20"
                                },
                                {
                                    "0": "3696426",
                                    "1": "Tape dispenser (Black)",
                                    "2": "20"
                                },
                                {
                                    "0": "3696427",
                                    "1": "Tape dispenser (Black)",
                                    "2": "20"
                                },
                                {
                                    "0": "3696428",
                                    "1": "Tape dispenser (Black)",
                                    "2": "20"
                                },
                                {
                                    "0": "3696429",
                                    "1": "Tape dispenser (Black)",
                                    "2": "20"
                                },
                                {
                                    "0": "3696430",
                                    "1": "Tape dispenser (Black)",
                                    "2": "20"
                                },
                                {
                                    "0": "3696431",
                                    "1": "Tape dispenser (Black)",
                                    "2": "20"
                                },
                                {
                                    "0": "3696432",
                                    "1": "Tape dispenser (Black)",
                                    "2": "20"
                                },
                                {
                                    "0": "3696433",
                                    "1": "Tape dispenser (Black)",
                                    "2": "20"
                                },
                                {
                                    "0": "3696434",
                                    "1": "Tape dispenser (Black)",
                                    "2": "20"
                                },
                                {
                                    "0": "3696435",
                                    "1": "Tape dispenser (Black)",
                                    "2": "20"
                                },
                                {
                                    "0": "3696436",
                                    "1": "Tape dispenser (Black)",
                                    "2": "20"
                                },
                                {
                                    "0": "3696437",
                                    "1": "Tape dispenser (Black)",
                                    "2": "20"
                                },
                                {
                                    "0": "3696438",
                                    "1": "Tape dispenser (Black)",
                                    "2": "20"
                                },
                                {
                                    "0": "3696439",
                                    "1": "Tape dispenser (Black)",
                                    "2": "20"
                                },
                                {
                                    "0": "3696440",
                                    "1": "Tape dispenser (Black)",
                                    "2": "20"
                                },
                                {
                                    "0": "3696441",
                                    "1": "Tape dispenser (Black)",
                                    "2": "20"
                                },
                                {
                                    "0": "3696442",
                                    "1": "Tape dispenser (Black)",
                                    "2": "20"
                                },
                                {
                                    "0": "3696443",
                                    "1": "Tape dispenser (Black)",
                                    "2": "20"
                                },
                                {
                                    "0": "3696444",
                                    "1": "Tape dispenser (Black)",
                                    "2": "20"
                                },
                                {
                                    "0": "3696445",
                                    "1": "Tape dispenser (Black)",
                                    "2": "20"
                                },
                                {
                                    "0": "3696446",
                                    "1": "Tape dispenser (Black)",
                                    "2": "20"
                                },
                                {
                                    "0": "3696598",
                                    "1": "Tape dispenser (Black)",
                                    "2": "20"
                                },
                                {
                                    "0": "3696599",
                                    "1": "Tape dispenser (Black)",
                                    "2": "20"
                                },
                                {
                                    "0": "3697127",
                                    "1": "Tape dispenser (Black)",
                                    "2": "20"
                                },
                                {
                                    "0": "3694271",
                                    "1": "Tape dispenser (Black)",
                                    "2": "20"
                                },
                                {
                                    "0": "3695203",
                                    "1": "Tape dispenser (Black)",
                                    "2": "20"
                                },
                                {
                                    "0": "3682899",
                                    "1": "Tape dispenser (Black)",
                                    "2": "20"
                                },
                                {
                                    "0": "3683029",
                                    "1": "Tape dispenser (Black)",
                                    "2": "20"
                                },
                                {
                                    "0": "3683434",
                                    "1": "Tape dispenser (Black)",
                                    "2": "20"
                                },
                                {
                                    "0": "3684144",
                                    "1": "Tape dispenser (Black)",
                                    "2": "20"
                                },
                                {
                                    "0": "3684145",
                                    "1": "Tape dispenser (Black)",
                                    "2": "20"
                                },
                                {
                                    "0": "3684146",
                                    "1": "Tape dispenser (Black)",
                                    "2": "20"
                                },
                                {
                                    "0": "3684147",
                                    "1": "Tape dispenser (Black)",
                                    "2": "20"
                                },
                                {
                                    "0": "3684148",
                                    "1": "Tape dispenser (Black)",
                                    "2": "20"
                                },
                                {
                                    "0": "3684149",
                                    "1": "Tape dispenser (Black)",
                                    "2": "20"
                                },
                                {
                                    "0": "3684150",
                                    "1": "Tape dispenser (Black)",
                                    "2": "20"
                                },
                                {
                                    "0": "3684151",
                                    "1": "Tape dispenser (Black)",
                                    "2": "20"
                                },
                                {
                                    "0": "3684152",
                                    "1": "Tape dispenser (Black)",
                                    "2": "20"
                                },
                                {
                                    "0": "3684153",
                                    "1": "Tape dispenser (Black)",
                                    "2": "20"
                                },
                                {
                                    "0": "3684154",
                                    "1": "Tape dispenser (Black)",
                                    "2": "20"
                                },
                                {
                                    "0": "3684155",
                                    "1": "Tape dispenser (Black)",
                                    "2": "20"
                                },
                                {
                                    "0": "3684156",
                                    "1": "Tape dispenser (Black)",
                                    "2": "20"
                                },
                                {
                                    "0": "3684157",
                                    "1": "Tape dispenser (Black)",
                                    "2": "20"
                                },
                                {
                                    "0": "3684158",
                                    "1": "Tape dispenser (Black)",
                                    "2": "20"
                                },
                                {
                                    "0": "3684725",
                                    "1": "Tape dispenser (Black)",
                                    "2": "20"
                                },
                                {
                                    "0": "3684726",
                                    "1": "Tape dispenser (Black)",
                                    "2": "20"
                                },
                                {
                                    "0": "3690046",
                                    "1": "Tape dispenser (Black)",
                                    "2": "20"
                                },
                                {
                                    "0": "3690658",
                                    "1": "Tape dispenser (Black)",
                                    "2": "20"
                                },
                                {
                                    "0": "3690659",
                                    "1": "Tape dispenser (Black)",
                                    "2": "20"
                                },
                                {
                                    "0": "3690660",
                                    "1": "Tape dispenser (Black)",
                                    "2": "20"
                                },
                                {
                                    "0": "3690661",
                                    "1": "Tape dispenser (Black)",
                                    "2": "20"
                                },
                                {
                                    "0": "3690662",
                                    "1": "Tape dispenser (Black)",
                                    "2": "20"
                                },
                                {
                                    "0": "3690663",
                                    "1": "Tape dispenser (Black)",
                                    "2": "20"
                                },
                                {
                                    "0": "3690664",
                                    "1": "Tape dispenser (Black)",
                                    "2": "20"
                                },
                                {
                                    "0": "3690665",
                                    "1": "Tape dispenser (Black)",
                                    "2": "20"
                                },
                                {
                                    "0": "3690666",
                                    "1": "Tape dispenser (Black)",
                                    "2": "20"
                                },
                                {
                                    "0": "3690667",
                                    "1": "Tape dispenser (Black)",
                                    "2": "20"
                                },
                                {
                                    "0": "3690668",
                                    "1": "Tape dispenser (Black)",
                                    "2": "20"
                                },
                                {
                                    "0": "3690669",
                                    "1": "Tape dispenser (Black)",
                                    "2": "20"
                                },
                                {
                                    "0": "3690670",
                                    "1": "Tape dispenser (Black)",
                                    "2": "20"
                                },
                                {
                                    "0": "3690671",
                                    "1": "Tape dispenser (Black)",
                                    "2": "20"
                                },
                                {
                                    "0": "3690672",
                                    "1": "Tape dispenser (Black)",
                                    "2": "20"
                                },
                                {
                                    "0": "3690673",
                                    "1": "Tape dispenser (Black)",
                                    "2": "20"
                                },
                                {
                                    "0": "3690674",
                                    "1": "Tape dispenser (Black)",
                                    "2": "20"
                                },
                                {
                                    "0": "3690675",
                                    "1": "Tape dispenser (Black)",
                                    "2": "20"
                                },
                                {
                                    "0": "3690676",
                                    "1": "Tape dispenser (Black)",
                                    "2": "20"
                                },
                                {
                                    "0": "3690677",
                                    "1": "Tape dispenser (Black)",
                                    "2": "20"
                                },
                                {
                                    "0": "3690678",
                                    "1": "Tape dispenser (Black)",
                                    "2": "20"
                                },
                                {
                                    "0": "3690679",
                                    "1": "Tape dispenser (Black)",
                                    "2": "20"
                                },
                                {
                                    "0": "3690680",
                                    "1": "Tape dispenser (Black)",
                                    "2": "20"
                                },
                                {
                                    "0": "3690681",
                                    "1": "Tape dispenser (Black)",
                                    "2": "20"
                                },
                                {
                                    "0": "3690682",
                                    "1": "Tape dispenser (Black)",
                                    "2": "20"
                                },
                                {
                                    "0": "3690683",
                                    "1": "Tape dispenser (Black)",
                                    "2": "20"
                                },
                                {
                                    "0": "3690684",
                                    "1": "Tape dispenser (Black)",
                                    "2": "20"
                                },
                                {
                                    "0": "3690685",
                                    "1": "Tape dispenser (Black)",
                                    "2": "20"
                                },
                                {
                                    "0": "3690686",
                                    "1": "Tape dispenser (Black)",
                                    "2": "20"
                                },
                                {
                                    "0": "3690687",
                                    "1": "Tape dispenser (Black)",
                                    "2": "20"
                                },
                                {
                                    "0": "3690688",
                                    "1": "Tape dispenser (Black)",
                                    "2": "20"
                                },
                                {
                                    "0": "3690689",
                                    "1": "Tape dispenser (Black)",
                                    "2": "20"
                                },
                                {
                                    "0": "3690690",
                                    "1": "Tape dispenser (Black)",
                                    "2": "20"
                                },
                                {
                                    "0": "3690934",
                                    "1": "Tape dispenser (Black)",
                                    "2": "20"
                                },
                                {
                                    "0": "3690937",
                                    "1": "Tape dispenser (Black)",
                                    "2": "20"
                                },
                                {
                                    "0": "3691773",
                                    "1": "Tape dispenser (Black)",
                                    "2": "20"
                                },
                                {
                                    "0": "3691774",
                                    "1": "Tape dispenser (Black)",
                                    "2": "20"
                                },
                                {
                                    "0": "3691775",
                                    "1": "Tape dispenser (Black)",
                                    "2": "20"
                                },
                                {
                                    "0": "3691889",
                                    "1": "Tape dispenser (Black)",
                                    "2": "20"
                                },
                                {
                                    "0": "3691895",
                                    "1": "Tape dispenser (Black)",
                                    "2": "20"
                                },
                                {
                                    "0": "3692373",
                                    "1": "Tape dispenser (Black)",
                                    "2": "20"
                                },
                                {
                                    "0": "3685053",
                                    "1": "Tape dispenser (Black)",
                                    "2": "20"
                                },
                                {
                                    "0": "3685486",
                                    "1": "Tape dispenser (Black)",
                                    "2": "20"
                                },
                                {
                                    "0": "3599502",
                                    "1": "Tape dispenser (Black)",
                                    "2": "20"
                                },
                                {
                                    "0": "3600831",
                                    "1": "Tape dispenser (Black)",
                                    "2": "20"
                                },
                                {
                                    "0": "3677792",
                                    "1": "Tape dispenser (Black)",
                                    "2": "20"
                                },
                                {
                                    "0": "3678351",
                                    "1": "Tape dispenser (Black)",
                                    "2": "20"
                                },
                                {
                                    "0": "3671216",
                                    "1": "Tape dispenser (Black)",
                                    "2": "20"
                                },
                                {
                                    "0": "3671217",
                                    "1": "Tape dispenser (Black)",
                                    "2": "20"
                                },
                                {
                                    "0": "3671218",
                                    "1": "Tape dispenser (Black)",
                                    "2": "20"
                                },
                                {
                                    "0": "3671219",
                                    "1": "Tape dispenser (Black)",
                                    "2": "20"
                                },
                                {
                                    "0": "3671220",
                                    "1": "Tape dispenser (Black)",
                                    "2": "20"
                                },
                                {
                                    "0": "3671221",
                                    "1": "Tape dispenser (Black)",
                                    "2": "20"
                                },
                                {
                                    "0": "3671222",
                                    "1": "Tape dispenser (Black)",
                                    "2": "20"
                                },
                                {
                                    "0": "3671223",
                                    "1": "Tape dispenser (Black)",
                                    "2": "20"
                                },
                                {
                                    "0": "3671224",
                                    "1": "Tape dispenser (Black)",
                                    "2": "20"
                                },
                                {
                                    "0": "3671225",
                                    "1": "Tape dispenser (Black)",
                                    "2": "20"
                                },
                                {
                                    "0": "3671226",
                                    "1": "Tape dispenser (Black)",
                                    "2": "20"
                                },
                                {
                                    "0": "3671227",
                                    "1": "Tape dispenser (Black)",
                                    "2": "20"
                                },
                                {
                                    "0": "3671228",
                                    "1": "Tape dispenser (Black)",
                                    "2": "20"
                                },
                                {
                                    "0": "3671229",
                                    "1": "Tape dispenser (Black)",
                                    "2": "20"
                                },
                                {
                                    "0": "3671230",
                                    "1": "Tape dispenser (Black)",
                                    "2": "20"
                                },
                                {
                                    "0": "3671231",
                                    "1": "Tape dispenser (Black)",
                                    "2": "20"
                                },
                                {
                                    "0": "3671232",
                                    "1": "Tape dispenser (Black)",
                                    "2": "20"
                                },
                                {
                                    "0": "3671233",
                                    "1": "Tape dispenser (Black)",
                                    "2": "20"
                                },
                                {
                                    "0": "3671234",
                                    "1": "Tape dispenser (Black)",
                                    "2": "20"
                                },
                                {
                                    "0": "3671235",
                                    "1": "Tape dispenser (Black)",
                                    "2": "20"
                                },
                                {
                                    "0": "3671236",
                                    "1": "Tape dispenser (Black)",
                                    "2": "20"
                                },
                                {
                                    "0": "3671237",
                                    "1": "Tape dispenser (Black)",
                                    "2": "20"
                                },
                                {
                                    "0": "3671238",
                                    "1": "Tape dispenser (Black)",
                                    "2": "20"
                                },
                                {
                                    "0": "3671239",
                                    "1": "Tape dispenser (Black)",
                                    "2": "20"
                                },
                                {
                                    "0": "3671240",
                                    "1": "Tape dispenser (Black)",
                                    "2": "20"
                                },
                                {
                                    "0": "3672306",
                                    "1": "Tape dispenser (Black)",
                                    "2": "20"
                                },
                                {
                                    "0": "3672479",
                                    "1": "Tape dispenser (Black)",
                                    "2": "20"
                                },
                                {
                                    "0": "3672482",
                                    "1": "Tape dispenser (Black)",
                                    "2": "20"
                                },
                                {
                                    "0": "3664001",
                                    "1": "Tape dispenser (Black)",
                                    "2": "20"
                                },
                                {
                                    "0": "3658774",
                                    "1": "Tape dispenser (Black)",
                                    "2": "20"
                                },
                                {
                                    "0": "3640091",
                                    "1": "Tape dispenser (Black)",
                                    "2": "20"
                                },
                                {
                                    "0": "3640092",
                                    "1": "Tape dispenser (Black)",
                                    "2": "20"
                                },
                                {
                                    "0": "3640093",
                                    "1": "Tape dispenser (Black)",
                                    "2": "20"
                                },
                                {
                                    "0": "3640094",
                                    "1": "Tape dispenser (Black)",
                                    "2": "20"
                                },
                                {
                                    "0": "3640095",
                                    "1": "Tape dispenser (Black)",
                                    "2": "20"
                                },
                                {
                                    "0": "3640370",
                                    "1": "Tape dispenser (Black)",
                                    "2": "20"
                                },
                                {
                                    "0": "3640371",
                                    "1": "Tape dispenser (Black)",
                                    "2": "20"
                                },
                                {
                                    "0": "3640372",
                                    "1": "Tape dispenser (Black)",
                                    "2": "20"
                                },
                                {
                                    "0": "3640373",
                                    "1": "Tape dispenser (Black)",
                                    "2": "20"
                                },
                                {
                                    "0": "3640374",
                                    "1": "Tape dispenser (Black)",
                                    "2": "20"
                                },
                                {
                                    "0": "3640375",
                                    "1": "Tape dispenser (Black)",
                                    "2": "20"
                                },
                                {
                                    "0": "3640376",
                                    "1": "Tape dispenser (Black)",
                                    "2": "20"
                                },
                                {
                                    "0": "3640377",
                                    "1": "Tape dispenser (Black)",
                                    "2": "20"
                                },
                                {
                                    "0": "3640378",
                                    "1": "Tape dispenser (Black)",
                                    "2": "20"
                                },
                                {
                                    "0": "3640379",
                                    "1": "Tape dispenser (Black)",
                                    "2": "20"
                                },
                                {
                                    "0": "3640380",
                                    "1": "Tape dispenser (Black)",
                                    "2": "20"
                                },
                                {
                                    "0": "3640381",
                                    "1": "Tape dispenser (Black)",
                                    "2": "20"
                                },
                                {
                                    "0": "3640382",
                                    "1": "Tape dispenser (Black)",
                                    "2": "20"
                                },
                                {
                                    "0": "3640383",
                                    "1": "Tape dispenser (Black)",
                                    "2": "20"
                                },
                                {
                                    "0": "3640384",
                                    "1": "Tape dispenser (Black)",
                                    "2": "20"
                                },
                                {
                                    "0": "3640385",
                                    "1": "Tape dispenser (Black)",
                                    "2": "20"
                                },
                                {
                                    "0": "3640386",
                                    "1": "Tape dispenser (Black)",
                                    "2": "20"
                                },
                                {
                                    "0": "3640387",
                                    "1": "Tape dispenser (Black)",
                                    "2": "20"
                                },
                                {
                                    "0": "3640388",
                                    "1": "Tape dispenser (Black)",
                                    "2": "20"
                                },
                                {
                                    "0": "3640389",
                                    "1": "Tape dispenser (Black)",
                                    "2": "20"
                                },
                                {
                                    "0": "3640390",
                                    "1": "Tape dispenser (Black)",
                                    "2": "20"
                                },
                                {
                                    "0": "3640391",
                                    "1": "Tape dispenser (Black)",
                                    "2": "20"
                                },
                                {
                                    "0": "3640392",
                                    "1": "Tape dispenser (Black)",
                                    "2": "20"
                                },
                                {
                                    "0": "3640393",
                                    "1": "Tape dispenser (Black)",
                                    "2": "20"
                                },
                                {
                                    "0": "3651888",
                                    "1": "Tape dispenser (Black)",
                                    "2": "20"
                                },
                                {
                                    "0": "3651889",
                                    "1": "Tape dispenser (Black)",
                                    "2": "20"
                                },
                                {
                                    "0": "3649229",
                                    "1": "Tape dispenser (Black)",
                                    "2": "20"
                                },
                                {
                                    "0": "3639013",
                                    "1": "Tape dispenser (Black)",
                                    "2": "20"
                                },
                                {
                                    "0": "3639014",
                                    "1": "Tape dispenser (Black)",
                                    "2": "20"
                                },
                                {
                                    "0": "3639015",
                                    "1": "Tape dispenser (Black)",
                                    "2": "20"
                                },
                                {
                                    "0": "3639016",
                                    "1": "Tape dispenser (Black)",
                                    "2": "20"
                                },
                                {
                                    "0": "3639017",
                                    "1": "Tape dispenser (Black)",
                                    "2": "20"
                                },
                                {
                                    "0": "3639018",
                                    "1": "Tape dispenser (Black)",
                                    "2": "20"
                                },
                                {
                                    "0": "3639019",
                                    "1": "Tape dispenser (Black)",
                                    "2": "20"
                                },
                                {
                                    "0": "3639020",
                                    "1": "Tape dispenser (Black)",
                                    "2": "20"
                                },
                                {
                                    "0": "3639021",
                                    "1": "Tape dispenser (Black)",
                                    "2": "20"
                                },
                                {
                                    "0": "3639022",
                                    "1": "Tape dispenser (Black)",
                                    "2": "20"
                                },
                                {
                                    "0": "3639023",
                                    "1": "Tape dispenser (Black)",
                                    "2": "20"
                                },
                                {
                                    "0": "3639024",
                                    "1": "Tape dispenser (Black)",
                                    "2": "20"
                                },
                                {
                                    "0": "3639025",
                                    "1": "Tape dispenser (Black)",
                                    "2": "20"
                                },
                                {
                                    "0": "3639026",
                                    "1": "Tape dispenser (Black)",
                                    "2": "20"
                                },
                                {
                                    "0": "3639027",
                                    "1": "Tape dispenser (Black)",
                                    "2": "20"
                                },
                                {
                                    "0": "3639028",
                                    "1": "Tape dispenser (Black)",
                                    "2": "20"
                                },
                                {
                                    "0": "3639029",
                                    "1": "Tape dispenser (Black)",
                                    "2": "20"
                                },
                                {
                                    "0": "3639030",
                                    "1": "Tape dispenser (Black)",
                                    "2": "20"
                                },
                                {
                                    "0": "3639031",
                                    "1": "Tape dispenser (Black)",
                                    "2": "20"
                                },
                                {
                                    "0": "3639032",
                                    "1": "Tape dispenser (Black)",
                                    "2": "20"
                                },
                                {
                                    "0": "3639033",
                                    "1": "Tape dispenser (Black)",
                                    "2": "20"
                                },
                                {
                                    "0": "3639593",
                                    "1": "Tape dispenser (Black)",
                                    "2": "20"
                                },
                                {
                                    "0": "3639594",
                                    "1": "Tape dispenser (Black)",
                                    "2": "20"
                                },
                                {
                                    "0": "3639595",
                                    "1": "Tape dispenser (Black)",
                                    "2": "20"
                                },
                                {
                                    "0": "3639596",
                                    "1": "Tape dispenser (Black)",
                                    "2": "20"
                                },
                                {
                                    "0": "3639597",
                                    "1": "Tape dispenser (Black)",
                                    "2": "20"
                                },
                                {
                                    "0": "3639598",
                                    "1": "Tape dispenser (Black)",
                                    "2": "20"
                                },
                                {
                                    "0": "3639599",
                                    "1": "Tape dispenser (Black)",
                                    "2": "20"
                                },
                                {
                                    "0": "3639600",
                                    "1": "Tape dispenser (Black)",
                                    "2": "20"
                                },
                                {
                                    "0": "3639601",
                                    "1": "Tape dispenser (Black)",
                                    "2": "20"
                                },
                                {
                                    "0": "3639602",
                                    "1": "Tape dispenser (Black)",
                                    "2": "20"
                                },
                                {
                                    "0": "3639603",
                                    "1": "Tape dispenser (Black)",
                                    "2": "20"
                                },
                                {
                                    "0": "3639604",
                                    "1": "Tape dispenser (Black)",
                                    "2": "20"
                                },
                                {
                                    "0": "3639605",
                                    "1": "Tape dispenser (Black)",
                                    "2": "20"
                                },
                                {
                                    "0": "3639606",
                                    "1": "Tape dispenser (Black)",
                                    "2": "20"
                                },
                                {
                                    "0": "3639607",
                                    "1": "Tape dispenser (Black)",
                                    "2": "20"
                                },
                                {
                                    "0": "3639608",
                                    "1": "Tape dispenser (Black)",
                                    "2": "20"
                                },
                                {
                                    "0": "3639609",
                                    "1": "Tape dispenser (Black)",
                                    "2": "20"
                                },
                                {
                                    "0": "3639610",
                                    "1": "Tape dispenser (Black)",
                                    "2": "20"
                                },
                                {
                                    "0": "3639611",
                                    "1": "Tape dispenser (Black)",
                                    "2": "20"
                                },
                                {
                                    "0": "3639612",
                                    "1": "Tape dispenser (Black)",
                                    "2": "20"
                                },
                                {
                                    "0": "3639613",
                                    "1": "Tape dispenser (Black)",
                                    "2": "20"
                                },
                                {
                                    "0": "3639614",
                                    "1": "Tape dispenser (Black)",
                                    "2": "20"
                                },
                                {
                                    "0": "3639615",
                                    "1": "Tape dispenser (Black)",
                                    "2": "20"
                                },
                                {
                                    "0": "3639616",
                                    "1": "Tape dispenser (Black)",
                                    "2": "20"
                                },
                                {
                                    "0": "3639617",
                                    "1": "Tape dispenser (Black)",
                                    "2": "20"
                                },
                                {
                                    "0": "3639618",
                                    "1": "Tape dispenser (Black)",
                                    "2": "20"
                                },
                                {
                                    "0": "3639619",
                                    "1": "Tape dispenser (Black)",
                                    "2": "20"
                                },
                                {
                                    "0": "3639620",
                                    "1": "Tape dispenser (Black)",
                                    "2": "20"
                                },
                                {
                                    "0": "3639621",
                                    "1": "Tape dispenser (Black)",
                                    "2": "20"
                                },
                                {
                                    "0": "3639622",
                                    "1": "Tape dispenser (Black)",
                                    "2": "20"
                                },
                                {
                                    "0": "3639623",
                                    "1": "Tape dispenser (Black)",
                                    "2": "20"
                                },
                                {
                                    "0": "3639624",
                                    "1": "Tape dispenser (Black)",
                                    "2": "20"
                                },
                                {
                                    "0": "3639625",
                                    "1": "Tape dispenser (Black)",
                                    "2": "20"
                                },
                                {
                                    "0": "3639626",
                                    "1": "Tape dispenser (Black)",
                                    "2": "20"
                                },
                                {
                                    "0": "3639627",
                                    "1": "Tape dispenser (Black)",
                                    "2": "20"
                                },
                                {
                                    "0": "3639628",
                                    "1": "Tape dispenser (Black)",
                                    "2": "20"
                                },
                                {
                                    "0": "3639840",
                                    "1": "Tape dispenser (Black)",
                                    "2": "20"
                                },
                                {
                                    "0": "3639841",
                                    "1": "Tape dispenser (Black)",
                                    "2": "20"
                                },
                                {
                                    "0": "3639842",
                                    "1": "Tape dispenser (Black)",
                                    "2": "20"
                                },
                                {
                                    "0": "3639843",
                                    "1": "Tape dispenser (Black)",
                                    "2": "20"
                                },
                                {
                                    "0": "3639844",
                                    "1": "Tape dispenser (Black)",
                                    "2": "20"
                                },
                                {
                                    "0": "3639845",
                                    "1": "Tape dispenser (Black)",
                                    "2": "20"
                                },
                                {
                                    "0": "3639846",
                                    "1": "Tape dispenser (Black)",
                                    "2": "20"
                                },
                                {
                                    "0": "3639847",
                                    "1": "Tape dispenser (Black)",
                                    "2": "20"
                                },
                                {
                                    "0": "3639848",
                                    "1": "Tape dispenser (Black)",
                                    "2": "20"
                                },
                                {
                                    "0": "3639849",
                                    "1": "Tape dispenser (Black)",
                                    "2": "20"
                                },
                                {
                                    "0": "3639850",
                                    "1": "Tape dispenser (Black)",
                                    "2": "20"
                                },
                                {
                                    "0": "3639851",
                                    "1": "Tape dispenser (Black)",
                                    "2": "20"
                                },
                                {
                                    "0": "3639852",
                                    "1": "Tape dispenser (Black)",
                                    "2": "20"
                                },
                                {
                                    "0": "3639853",
                                    "1": "Tape dispenser (Black)",
                                    "2": "20"
                                },
                                {
                                    "0": "3639854",
                                    "1": "Tape dispenser (Black)",
                                    "2": "20"
                                },
                                {
                                    "0": "3639855",
                                    "1": "Tape dispenser (Black)",
                                    "2": "20"
                                },
                                {
                                    "0": "3639856",
                                    "1": "Tape dispenser (Black)",
                                    "2": "20"
                                },
                                {
                                    "0": "3639857",
                                    "1": "Tape dispenser (Black)",
                                    "2": "20"
                                },
                                {
                                    "0": "3639858",
                                    "1": "Tape dispenser (Black)",
                                    "2": "20"
                                },
                                {
                                    "0": "3639859",
                                    "1": "Tape dispenser (Black)",
                                    "2": "20"
                                },
                                {
                                    "0": "3639860",
                                    "1": "Tape dispenser (Black)",
                                    "2": "20"
                                },
                                {
                                    "0": "3639861",
                                    "1": "Tape dispenser (Black)",
                                    "2": "20"
                                },
                                {
                                    "0": "3639862",
                                    "1": "Tape dispenser (Black)",
                                    "2": "20"
                                },
                                {
                                    "0": "3639863",
                                    "1": "Tape dispenser (Black)",
                                    "2": "20"
                                },
                                {
                                    "0": "3639864",
                                    "1": "Tape dispenser (Black)",
                                    "2": "20"
                                },
                                {
                                    "0": "3639865",
                                    "1": "Tape dispenser (Black)",
                                    "2": "20"
                                },
                                {
                                    "0": "3639866",
                                    "1": "Tape dispenser (Black)",
                                    "2": "20"
                                },
                                {
                                    "0": "3639867",
                                    "1": "Tape dispenser (Black)",
                                    "2": "20"
                                },
                                {
                                    "0": "3639868",
                                    "1": "Tape dispenser (Black)",
                                    "2": "20"
                                },
                                {
                                    "0": "3639869",
                                    "1": "Tape dispenser (Black)",
                                    "2": "20"
                                },
                                {
                                    "0": "3639870",
                                    "1": "Tape dispenser (Black)",
                                    "2": "20"
                                },
                                {
                                    "0": "3639871",
                                    "1": "Tape dispenser (Black)",
                                    "2": "20"
                                },
                                {
                                    "0": "3639872",
                                    "1": "Tape dispenser (Black)",
                                    "2": "20"
                                },
                                {
                                    "0": "3639873",
                                    "1": "Tape dispenser (Black)",
                                    "2": "20"
                                },
                                {
                                    "0": "3639874",
                                    "1": "Tape dispenser (Black)",
                                    "2": "20"
                                },
                                {
                                    "0": "3639875",
                                    "1": "Tape dispenser (Black)",
                                    "2": "20"
                                },
                                {
                                    "0": "3640060",
                                    "1": "Tape dispenser (Black)",
                                    "2": "20"
                                },
                                {
                                    "0": "3640061",
                                    "1": "Tape dispenser (Black)",
                                    "2": "20"
                                },
                                {
                                    "0": "3640062",
                                    "1": "Tape dispenser (Black)",
                                    "2": "20"
                                },
                                {
                                    "0": "3640063",
                                    "1": "Tape dispenser (Black)",
                                    "2": "20"
                                },
                                {
                                    "0": "3640064",
                                    "1": "Tape dispenser (Black)",
                                    "2": "20"
                                },
                                {
                                    "0": "3640065",
                                    "1": "Tape dispenser (Black)",
                                    "2": "20"
                                },
                                {
                                    "0": "3640066",
                                    "1": "Tape dispenser (Black)",
                                    "2": "20"
                                },
                                {
                                    "0": "3640067",
                                    "1": "Tape dispenser (Black)",
                                    "2": "20"
                                },
                                {
                                    "0": "3640068",
                                    "1": "Tape dispenser (Black)",
                                    "2": "20"
                                },
                                {
                                    "0": "3640069",
                                    "1": "Tape dispenser (Black)",
                                    "2": "20"
                                },
                                {
                                    "0": "3640070",
                                    "1": "Tape dispenser (Black)",
                                    "2": "20"
                                },
                                {
                                    "0": "3640071",
                                    "1": "Tape dispenser (Black)",
                                    "2": "20"
                                },
                                {
                                    "0": "3640072",
                                    "1": "Tape dispenser (Black)",
                                    "2": "20"
                                },
                                {
                                    "0": "3640073",
                                    "1": "Tape dispenser (Black)",
                                    "2": "20"
                                },
                                {
                                    "0": "3640074",
                                    "1": "Tape dispenser (Black)",
                                    "2": "20"
                                },
                                {
                                    "0": "3640075",
                                    "1": "Tape dispenser (Black)",
                                    "2": "20"
                                },
                                {
                                    "0": "3640076",
                                    "1": "Tape dispenser (Black)",
                                    "2": "20"
                                },
                                {
                                    "0": "3640077",
                                    "1": "Tape dispenser (Black)",
                                    "2": "20"
                                },
                                {
                                    "0": "3640078",
                                    "1": "Tape dispenser (Black)",
                                    "2": "20"
                                },
                                {
                                    "0": "3640079",
                                    "1": "Tape dispenser (Black)",
                                    "2": "20"
                                },
                                {
                                    "0": "3640080",
                                    "1": "Tape dispenser (Black)",
                                    "2": "20"
                                },
                                {
                                    "0": "3640081",
                                    "1": "Tape dispenser (Black)",
                                    "2": "20"
                                },
                                {
                                    "0": "3640082",
                                    "1": "Tape dispenser (Black)",
                                    "2": "20"
                                },
                                {
                                    "0": "3640083",
                                    "1": "Tape dispenser (Black)",
                                    "2": "20"
                                },
                                {
                                    "0": "3640084",
                                    "1": "Tape dispenser (Black)",
                                    "2": "20"
                                },
                                {
                                    "0": "3640085",
                                    "1": "Tape dispenser (Black)",
                                    "2": "20"
                                },
                                {
                                    "0": "3640086",
                                    "1": "Tape dispenser (Black)",
                                    "2": "20"
                                },
                                {
                                    "0": "3640087",
                                    "1": "Tape dispenser (Black)",
                                    "2": "20"
                                },
                                {
                                    "0": "3640088",
                                    "1": "Tape dispenser (Black)",
                                    "2": "20"
                                },
                                {
                                    "0": "3640089",
                                    "1": "Tape dispenser (Black)",
                                    "2": "20"
                                },
                                {
                                    "0": "3640090",
                                    "1": "Tape dispenser (Black)",
                                    "2": "20"
                                },
                                {
                                    "0": "3629003",
                                    "1": "Tape dispenser (Black)",
                                    "2": "20"
                                },
                                {
                                    "0": "3614394",
                                    "1": "Tape dispenser (Black)",
                                    "2": "20"
                                },
                                {
                                    "0": "3614813",
                                    "1": "Tape dispenser (Black)",
                                    "2": "20"
                                },
                                {
                                    "0": "3614814",
                                    "1": "Tape dispenser (Black)",
                                    "2": "20"
                                },
                                {
                                    "0": "3614815",
                                    "1": "Tape dispenser (Black)",
                                    "2": "20"
                                },
                                {
                                    "0": "3614816",
                                    "1": "Tape dispenser (Black)",
                                    "2": "20"
                                },
                                {
                                    "0": "3615212",
                                    "1": "Tape dispenser (Black)",
                                    "2": "20"
                                },
                                {
                                    "0": "3615213",
                                    "1": "Tape dispenser (Black)",
                                    "2": "20"
                                },
                                {
                                    "0": "3615214",
                                    "1": "Tape dispenser (Black)",
                                    "2": "20"
                                },
                                {
                                    "0": "3615215",
                                    "1": "Tape dispenser (Black)",
                                    "2": "20"
                                },
                                {
                                    "0": "3615216",
                                    "1": "Tape dispenser (Black)",
                                    "2": "20"
                                },
                                {
                                    "0": "3615217",
                                    "1": "Tape dispenser (Black)",
                                    "2": "20"
                                },
                                {
                                    "0": "3615218",
                                    "1": "Tape dispenser (Black)",
                                    "2": "20"
                                },
                                {
                                    "0": "3615219",
                                    "1": "Tape dispenser (Black)",
                                    "2": "20"
                                },
                                {
                                    "0": "3615220",
                                    "1": "Tape dispenser (Black)",
                                    "2": "20"
                                },
                                {
                                    "0": "3615221",
                                    "1": "Tape dispenser (Black)",
                                    "2": "20"
                                },
                                {
                                    "0": "3615222",
                                    "1": "Tape dispenser (Black)",
                                    "2": "20"
                                },
                                {
                                    "0": "3615223",
                                    "1": "Tape dispenser (Black)",
                                    "2": "20"
                                },
                                {
                                    "0": "3615224",
                                    "1": "Tape dispenser (Black)",
                                    "2": "20"
                                },
                                {
                                    "0": "3615225",
                                    "1": "Tape dispenser (Black)",
                                    "2": "20"
                                },
                                {
                                    "0": "3615226",
                                    "1": "Tape dispenser (Black)",
                                    "2": "20"
                                },
                                {
                                    "0": "3615227",
                                    "1": "Tape dispenser (Black)",
                                    "2": "20"
                                },
                                {
                                    "0": "3615228",
                                    "1": "Tape dispenser (Black)",
                                    "2": "20"
                                },
                                {
                                    "0": "3615229",
                                    "1": "Tape dispenser (Black)",
                                    "2": "20"
                                },
                                {
                                    "0": "3615230",
                                    "1": "Tape dispenser (Black)",
                                    "2": "20"
                                },
                                {
                                    "0": "3615231",
                                    "1": "Tape dispenser (Black)",
                                    "2": "20"
                                },
                                {
                                    "0": "3615263",
                                    "1": "Tape dispenser (Black)",
                                    "2": "20"
                                },
                                {
                                    "0": "3615264",
                                    "1": "Tape dispenser (Black)",
                                    "2": "20"
                                },
                                {
                                    "0": "3615265",
                                    "1": "Tape dispenser (Black)",
                                    "2": "20"
                                },
                                {
                                    "0": "3615266",
                                    "1": "Tape dispenser (Black)",
                                    "2": "20"
                                },
                                {
                                    "0": "3615267",
                                    "1": "Tape dispenser (Black)",
                                    "2": "20"
                                },
                                {
                                    "0": "3615268",
                                    "1": "Tape dispenser (Black)",
                                    "2": "20"
                                },
                                {
                                    "0": "3615269",
                                    "1": "Tape dispenser (Black)",
                                    "2": "20"
                                },
                                {
                                    "0": "3615270",
                                    "1": "Tape dispenser (Black)",
                                    "2": "20"
                                },
                                {
                                    "0": "3615271",
                                    "1": "Tape dispenser (Black)",
                                    "2": "20"
                                },
                                {
                                    "0": "3615272",
                                    "1": "Tape dispenser (Black)",
                                    "2": "20"
                                },
                                {
                                    "0": "3615273",
                                    "1": "Tape dispenser (Black)",
                                    "2": "20"
                                },
                                {
                                    "0": "3615274",
                                    "1": "Tape dispenser (Black)",
                                    "2": "20"
                                },
                                {
                                    "0": "3617683",
                                    "1": "Tape dispenser (Black)",
                                    "2": "20"
                                },
                                {
                                    "0": "3618332",
                                    "1": "Tape dispenser (Black)",
                                    "2": "20"
                                },
                                {
                                    "0": "3618344",
                                    "1": "Tape dispenser (Black)",
                                    "2": "20"
                                },
                                {
                                    "0": "3619498",
                                    "1": "Tape dispenser (Black)",
                                    "2": "20"
                                },
                                {
                                    "0": "3609832",
                                    "1": "Tape dispenser (Black)",
                                    "2": "20"
                                },
                                {
                                    "0": "3609833",
                                    "1": "Tape dispenser (Black)",
                                    "2": "20"
                                },
                                {
                                    "0": "3609834",
                                    "1": "Tape dispenser (Black)",
                                    "2": "20"
                                },
                                {
                                    "0": "3609835",
                                    "1": "Tape dispenser (Black)",
                                    "2": "20"
                                },
                                {
                                    "0": "3609836",
                                    "1": "Tape dispenser (Black)",
                                    "2": "20"
                                },
                                {
                                    "0": "3609837",
                                    "1": "Tape dispenser (Black)",
                                    "2": "20"
                                },
                                {
                                    "0": "3609838",
                                    "1": "Tape dispenser (Black)",
                                    "2": "20"
                                },
                                {
                                    "0": "3609839",
                                    "1": "Tape dispenser (Black)",
                                    "2": "20"
                                },
                                {
                                    "0": "3609840",
                                    "1": "Tape dispenser (Black)",
                                    "2": "20"
                                },
                                {
                                    "0": "3609841",
                                    "1": "Tape dispenser (Black)",
                                    "2": "20"
                                },
                                {
                                    "0": "3609842",
                                    "1": "Tape dispenser (Black)",
                                    "2": "20"
                                },
                                {
                                    "0": "3609843",
                                    "1": "Tape dispenser (Black)",
                                    "2": "20"
                                },
                                {
                                    "0": "3609844",
                                    "1": "Tape dispenser (Black)",
                                    "2": "20"
                                },
                                {
                                    "0": "3609845",
                                    "1": "Tape dispenser (Black)",
                                    "2": "20"
                                },
                                {
                                    "0": "3609878",
                                    "1": "Tape dispenser (Black)",
                                    "2": "20"
                                },
                                {
                                    "0": "3609879",
                                    "1": "Tape dispenser (Black)",
                                    "2": "20"
                                },
                                {
                                    "0": "3609880",
                                    "1": "Tape dispenser (Black)",
                                    "2": "20"
                                },
                                {
                                    "0": "3609881",
                                    "1": "Tape dispenser (Black)",
                                    "2": "20"
                                },
                                {
                                    "0": "3609882",
                                    "1": "Tape dispenser (Black)",
                                    "2": "20"
                                },
                                {
                                    "0": "3609883",
                                    "1": "Tape dispenser (Black)",
                                    "2": "20"
                                },
                                {
                                    "0": "3609884",
                                    "1": "Tape dispenser (Black)",
                                    "2": "20"
                                },
                                {
                                    "0": "3609885",
                                    "1": "Tape dispenser (Black)",
                                    "2": "20"
                                },
                                {
                                    "0": "3609889",
                                    "1": "Tape dispenser (Black)",
                                    "2": "20"
                                },
                                {
                                    "0": "3609890",
                                    "1": "Tape dispenser (Black)",
                                    "2": "20"
                                },
                                {
                                    "0": "3611250",
                                    "1": "Tape dispenser (Black)",
                                    "2": "20"
                                },
                                {
                                    "0": "3611251",
                                    "1": "Tape dispenser (Black)",
                                    "2": "20"
                                },
                                {
                                    "0": "3611252",
                                    "1": "Tape dispenser (Black)",
                                    "2": "20"
                                },
                                {
                                    "0": "3611253",
                                    "1": "Tape dispenser (Black)",
                                    "2": "20"
                                },
                                {
                                    "0": "3611254",
                                    "1": "Tape dispenser (Black)",
                                    "2": "20"
                                },
                                {
                                    "0": "3611255",
                                    "1": "Tape dispenser (Black)",
                                    "2": "20"
                                },
                                {
                                    "0": "3611256",
                                    "1": "Tape dispenser (Black)",
                                    "2": "20"
                                },
                                {
                                    "0": "3611288",
                                    "1": "Tape dispenser (Black)",
                                    "2": "20"
                                },
                                {
                                    "0": "3611289",
                                    "1": "Tape dispenser (Black)",
                                    "2": "20"
                                },
                                {
                                    "0": "3611290",
                                    "1": "Tape dispenser (Black)",
                                    "2": "20"
                                },
                                {
                                    "0": "3611291",
                                    "1": "Tape dispenser (Black)",
                                    "2": "20"
                                },
                                {
                                    "0": "3611292",
                                    "1": "Tape dispenser (Black)",
                                    "2": "20"
                                },
                                {
                                    "0": "3611293",
                                    "1": "Tape dispenser (Black)",
                                    "2": "20"
                                },
                                {
                                    "0": "3611294",
                                    "1": "Tape dispenser (Black)",
                                    "2": "20"
                                },
                                {
                                    "0": "3611295",
                                    "1": "Tape dispenser (Black)",
                                    "2": "20"
                                },
                                {
                                    "0": "3611296",
                                    "1": "Tape dispenser (Black)",
                                    "2": "20"
                                },
                                {
                                    "0": "3611661",
                                    "1": "Tape dispenser (Black)",
                                    "2": "20"
                                },
                                {
                                    "0": "3611662",
                                    "1": "Tape dispenser (Black)",
                                    "2": "20"
                                },
                                {
                                    "0": "3611663",
                                    "1": "Tape dispenser (Black)",
                                    "2": "20"
                                },
                                {
                                    "0": "3611664",
                                    "1": "Tape dispenser (Black)",
                                    "2": "20"
                                },
                                {
                                    "0": "3611665",
                                    "1": "Tape dispenser (Black)",
                                    "2": "20"
                                },
                                {
                                    "0": "3611666",
                                    "1": "Tape dispenser (Black)",
                                    "2": "20"
                                },
                                {
                                    "0": "3611667",
                                    "1": "Tape dispenser (Black)",
                                    "2": "20"
                                },
                                {
                                    "0": "3611668",
                                    "1": "Tape dispenser (Black)",
                                    "2": "20"
                                },
                                {
                                    "0": "3611669",
                                    "1": "Tape dispenser (Black)",
                                    "2": "20"
                                },
                                {
                                    "0": "3611670",
                                    "1": "Tape dispenser (Black)",
                                    "2": "20"
                                },
                                {
                                    "0": "3611671",
                                    "1": "Tape dispenser (Black)",
                                    "2": "20"
                                },
                                {
                                    "0": "3611672",
                                    "1": "Tape dispenser (Black)",
                                    "2": "20"
                                },
                                {
                                    "0": "3612451",
                                    "1": "Tape dispenser (Black)",
                                    "2": "20"
                                },
                                {
                                    "0": "3604228",
                                    "1": "Tape dispenser (Black)",
                                    "2": "20"
                                },
                                {
                                    "0": "3604229",
                                    "1": "Tape dispenser (Black)",
                                    "2": "20"
                                },
                                {
                                    "0": "3604230",
                                    "1": "Tape dispenser (Black)",
                                    "2": "20"
                                },
                                {
                                    "0": "3604231",
                                    "1": "Tape dispenser (Black)",
                                    "2": "20"
                                },
                                {
                                    "0": "3604232",
                                    "1": "Tape dispenser (Black)",
                                    "2": "20"
                                },
                                {
                                    "0": "3604233",
                                    "1": "Tape dispenser (Black)",
                                    "2": "20"
                                },
                                {
                                    "0": "3604234",
                                    "1": "Tape dispenser (Black)",
                                    "2": "20"
                                },
                                {
                                    "0": "3604235",
                                    "1": "Tape dispenser (Black)",
                                    "2": "20"
                                },
                                {
                                    "0": "3604236",
                                    "1": "Tape dispenser (Black)",
                                    "2": "20"
                                },
                                {
                                    "0": "3604237",
                                    "1": "Tape dispenser (Black)",
                                    "2": "20"
                                },
                                {
                                    "0": "3604238",
                                    "1": "Tape dispenser (Black)",
                                    "2": "20"
                                },
                                {
                                    "0": "3604239",
                                    "1": "Tape dispenser (Black)",
                                    "2": "20"
                                },
                                {
                                    "0": "3604240",
                                    "1": "Tape dispenser (Black)",
                                    "2": "20"
                                },
                                {
                                    "0": "3604618",
                                    "1": "Tape dispenser (Black)",
                                    "2": "20"
                                },
                                {
                                    "0": "3605331",
                                    "1": "Tape dispenser (Black)",
                                    "2": "20"
                                },
                                {
                                    "0": "3605730",
                                    "1": "Tape dispenser (Black)",
                                    "2": "20"
                                },
                                {
                                    "0": "3605731",
                                    "1": "Tape dispenser (Black)",
                                    "2": "20"
                                },
                                {
                                    "0": "3605732",
                                    "1": "Tape dispenser (Black)",
                                    "2": "20"
                                },
                                {
                                    "0": "3605733",
                                    "1": "Tape dispenser (Black)",
                                    "2": "20"
                                },
                                {
                                    "0": "3605734",
                                    "1": "Tape dispenser (Black)",
                                    "2": "20"
                                },
                                {
                                    "0": "3605735",
                                    "1": "Tape dispenser (Black)",
                                    "2": "20"
                                },
                                {
                                    "0": "3605736",
                                    "1": "Tape dispenser (Black)",
                                    "2": "20"
                                },
                                {
                                    "0": "3605737",
                                    "1": "Tape dispenser (Black)",
                                    "2": "20"
                                },
                                {
                                    "0": "3606545",
                                    "1": "Tape dispenser (Black)",
                                    "2": "20"
                                },
                                {
                                    "0": "3606546",
                                    "1": "Tape dispenser (Black)",
                                    "2": "20"
                                },
                                {
                                    "0": "3606547",
                                    "1": "Tape dispenser (Black)",
                                    "2": "20"
                                },
                                {
                                    "0": "3606548",
                                    "1": "Tape dispenser (Black)",
                                    "2": "20"
                                },
                                {
                                    "0": "3606549",
                                    "1": "Tape dispenser (Black)",
                                    "2": "20"
                                },
                                {
                                    "0": "3606550",
                                    "1": "Tape dispenser (Black)",
                                    "2": "20"
                                },
                                {
                                    "0": "3606551",
                                    "1": "Tape dispenser (Black)",
                                    "2": "20"
                                },
                                {
                                    "0": "3606552",
                                    "1": "Tape dispenser (Black)",
                                    "2": "20"
                                },
                                {
                                    "0": "3606553",
                                    "1": "Tape dispenser (Black)",
                                    "2": "20"
                                },
                                {
                                    "0": "3606554",
                                    "1": "Tape dispenser (Black)",
                                    "2": "20"
                                },
                                {
                                    "0": "3606555",
                                    "1": "Tape dispenser (Black)",
                                    "2": "20"
                                }
                            ]
                        },
                        "text/html": "<table><tr><th>Order Key</th><th>Description</th><th>Lead Time Days</th></tr><tr><td>3699679</td><td>Tape dispenser (Black)</td><td>20</td></tr><tr><td>3700053</td><td>Tape dispenser (Black)</td><td>20</td></tr><tr><td>3700057</td><td>Tape dispenser (Black)</td><td>20</td></tr><tr><td>3700061</td><td>Tape dispenser (Black)</td><td>20</td></tr><tr><td>3701657</td><td>Tape dispenser (Black)</td><td>20</td></tr><tr><td>3701914</td><td>Tape dispenser (Black)</td><td>20</td></tr><tr><td>3702301</td><td>Tape dispenser (Black)</td><td>20</td></tr><tr><td>3592539</td><td>Tape dispenser (Black)</td><td>20</td></tr><tr><td>3592540</td><td>Tape dispenser (Black)</td><td>20</td></tr><tr><td>3592541</td><td>Tape dispenser (Black)</td><td>20</td></tr><tr><td>3592542</td><td>Tape dispenser (Black)</td><td>20</td></tr><tr><td>3592543</td><td>Tape dispenser (Black)</td><td>20</td></tr><tr><td>3592544</td><td>Tape dispenser (Black)</td><td>20</td></tr><tr><td>3592545</td><td>Tape dispenser (Black)</td><td>20</td></tr><tr><td>3592546</td><td>Tape dispenser (Black)</td><td>20</td></tr><tr><td>3592547</td><td>Tape dispenser (Black)</td><td>20</td></tr><tr><td>3592548</td><td>Tape dispenser (Black)</td><td>20</td></tr><tr><td>3592549</td><td>Tape dispenser (Black)</td><td>20</td></tr><tr><td>3592550</td><td>Tape dispenser (Black)</td><td>20</td></tr><tr><td>3592551</td><td>Tape dispenser (Black)</td><td>20</td></tr><tr><td>3592552</td><td>Tape dispenser (Black)</td><td>20</td></tr><tr><td>3592553</td><td>Tape dispenser (Black)</td><td>20</td></tr><tr><td>3592554</td><td>Tape dispenser (Black)</td><td>20</td></tr><tr><td>3592555</td><td>Tape dispenser (Black)</td><td>20</td></tr><tr><td>3592556</td><td>Tape dispenser (Black)</td><td>20</td></tr><tr><td>3592557</td><td>Tape dispenser (Black)</td><td>20</td></tr><tr><td>3592558</td><td>Tape dispenser (Black)</td><td>20</td></tr><tr><td>3592559</td><td>Tape dispenser (Black)</td><td>20</td></tr><tr><td>3592560</td><td>Tape dispenser (Black)</td><td>20</td></tr><tr><td>3592561</td><td>Tape dispenser (Black)</td><td>20</td></tr><tr><td>3592562</td><td>Tape dispenser (Black)</td><td>20</td></tr><tr><td>3592563</td><td>Tape dispenser (Black)</td><td>20</td></tr><tr><td>3592564</td><td>Tape dispenser (Black)</td><td>20</td></tr><tr><td>3592565</td><td>Tape dispenser (Black)</td><td>20</td></tr><tr><td>3592566</td><td>Tape dispenser (Black)</td><td>20</td></tr><tr><td>3592567</td><td>Tape dispenser (Black)</td><td>20</td></tr><tr><td>3592568</td><td>Tape dispenser (Black)</td><td>20</td></tr><tr><td>3592802</td><td>Tape dispenser (Black)</td><td>20</td></tr><tr><td>3592804</td><td>Tape dispenser (Black)</td><td>20</td></tr><tr><td>3593217</td><td>Tape dispenser (Black)</td><td>20</td></tr><tr><td>3593522</td><td>Tape dispenser (Black)</td><td>20</td></tr><tr><td>3593523</td><td>Tape dispenser (Black)</td><td>20</td></tr><tr><td>3593524</td><td>Tape dispenser (Black)</td><td>20</td></tr><tr><td>3593525</td><td>Tape dispenser (Black)</td><td>20</td></tr><tr><td>3593526</td><td>Tape dispenser (Black)</td><td>20</td></tr><tr><td>3593527</td><td>Tape dispenser (Black)</td><td>20</td></tr><tr><td>3593528</td><td>Tape dispenser (Black)</td><td>20</td></tr><tr><td>3593529</td><td>Tape dispenser (Black)</td><td>20</td></tr><tr><td>3593530</td><td>Tape dispenser (Black)</td><td>20</td></tr><tr><td>3593531</td><td>Tape dispenser (Black)</td><td>20</td></tr><tr><td>3593532</td><td>Tape dispenser (Black)</td><td>20</td></tr><tr><td>3593533</td><td>Tape dispenser (Black)</td><td>20</td></tr><tr><td>3593534</td><td>Tape dispenser (Black)</td><td>20</td></tr><tr><td>3593535</td><td>Tape dispenser (Black)</td><td>20</td></tr><tr><td>3593536</td><td>Tape dispenser (Black)</td><td>20</td></tr><tr><td>3593537</td><td>Tape dispenser (Black)</td><td>20</td></tr><tr><td>3593538</td><td>Tape dispenser (Black)</td><td>20</td></tr><tr><td>3593539</td><td>Tape dispenser (Black)</td><td>20</td></tr><tr><td>3593540</td><td>Tape dispenser (Black)</td><td>20</td></tr><tr><td>3593541</td><td>Tape dispenser (Black)</td><td>20</td></tr><tr><td>3593542</td><td>Tape dispenser (Black)</td><td>20</td></tr><tr><td>3593543</td><td>Tape dispenser (Black)</td><td>20</td></tr><tr><td>3593544</td><td>Tape dispenser (Black)</td><td>20</td></tr><tr><td>3593545</td><td>Tape dispenser (Black)</td><td>20</td></tr><tr><td>3593546</td><td>Tape dispenser (Black)</td><td>20</td></tr><tr><td>3593841</td><td>Tape dispenser (Black)</td><td>20</td></tr><tr><td>3593862</td><td>Tape dispenser (Black)</td><td>20</td></tr><tr><td>3593865</td><td>Tape dispenser (Black)</td><td>20</td></tr><tr><td>3698037</td><td>Tape dispenser (Black)</td><td>20</td></tr><tr><td>3698043</td><td>Tape dispenser (Black)</td><td>20</td></tr><tr><td>3698125</td><td>Tape dispenser (Black)</td><td>20</td></tr><tr><td>3698584</td><td>Tape dispenser (Black)</td><td>20</td></tr><tr><td>3698595</td><td>Tape dispenser (Black)</td><td>20</td></tr><tr><td>3698604</td><td>Tape dispenser (Black)</td><td>20</td></tr><tr><td>3699617</td><td>Tape dispenser (Black)</td><td>20</td></tr><tr><td>3699619</td><td>Tape dispenser (Black)</td><td>20</td></tr><tr><td>3695553</td><td>Tape dispenser (Black)</td><td>20</td></tr><tr><td>3695559</td><td>Tape dispenser (Black)</td><td>20</td></tr><tr><td>3696413</td><td>Tape dispenser (Black)</td><td>20</td></tr><tr><td>3696414</td><td>Tape dispenser (Black)</td><td>20</td></tr><tr><td>3696415</td><td>Tape dispenser (Black)</td><td>20</td></tr><tr><td>3696416</td><td>Tape dispenser (Black)</td><td>20</td></tr><tr><td>3696417</td><td>Tape dispenser (Black)</td><td>20</td></tr><tr><td>3696418</td><td>Tape dispenser (Black)</td><td>20</td></tr><tr><td>3696419</td><td>Tape dispenser (Black)</td><td>20</td></tr><tr><td>3696420</td><td>Tape dispenser (Black)</td><td>20</td></tr><tr><td>3696421</td><td>Tape dispenser (Black)</td><td>20</td></tr><tr><td>3696422</td><td>Tape dispenser (Black)</td><td>20</td></tr><tr><td>3696423</td><td>Tape dispenser (Black)</td><td>20</td></tr><tr><td>3696424</td><td>Tape dispenser (Black)</td><td>20</td></tr><tr><td>3696425</td><td>Tape dispenser (Black)</td><td>20</td></tr><tr><td>3696426</td><td>Tape dispenser (Black)</td><td>20</td></tr><tr><td>3696427</td><td>Tape dispenser (Black)</td><td>20</td></tr><tr><td>3696428</td><td>Tape dispenser (Black)</td><td>20</td></tr><tr><td>3696429</td><td>Tape dispenser (Black)</td><td>20</td></tr><tr><td>3696430</td><td>Tape dispenser (Black)</td><td>20</td></tr><tr><td>3696431</td><td>Tape dispenser (Black)</td><td>20</td></tr><tr><td>3696432</td><td>Tape dispenser (Black)</td><td>20</td></tr><tr><td>3696433</td><td>Tape dispenser (Black)</td><td>20</td></tr><tr><td>3696434</td><td>Tape dispenser (Black)</td><td>20</td></tr><tr><td>3696435</td><td>Tape dispenser (Black)</td><td>20</td></tr><tr><td>3696436</td><td>Tape dispenser (Black)</td><td>20</td></tr><tr><td>3696437</td><td>Tape dispenser (Black)</td><td>20</td></tr><tr><td>3696438</td><td>Tape dispenser (Black)</td><td>20</td></tr><tr><td>3696439</td><td>Tape dispenser (Black)</td><td>20</td></tr><tr><td>3696440</td><td>Tape dispenser (Black)</td><td>20</td></tr><tr><td>3696441</td><td>Tape dispenser (Black)</td><td>20</td></tr><tr><td>3696442</td><td>Tape dispenser (Black)</td><td>20</td></tr><tr><td>3696443</td><td>Tape dispenser (Black)</td><td>20</td></tr><tr><td>3696444</td><td>Tape dispenser (Black)</td><td>20</td></tr><tr><td>3696445</td><td>Tape dispenser (Black)</td><td>20</td></tr><tr><td>3696446</td><td>Tape dispenser (Black)</td><td>20</td></tr><tr><td>3696598</td><td>Tape dispenser (Black)</td><td>20</td></tr><tr><td>3696599</td><td>Tape dispenser (Black)</td><td>20</td></tr><tr><td>3697127</td><td>Tape dispenser (Black)</td><td>20</td></tr><tr><td>3694271</td><td>Tape dispenser (Black)</td><td>20</td></tr><tr><td>3695203</td><td>Tape dispenser (Black)</td><td>20</td></tr><tr><td>3682899</td><td>Tape dispenser (Black)</td><td>20</td></tr><tr><td>3683029</td><td>Tape dispenser (Black)</td><td>20</td></tr><tr><td>3683434</td><td>Tape dispenser (Black)</td><td>20</td></tr><tr><td>3684144</td><td>Tape dispenser (Black)</td><td>20</td></tr><tr><td>3684145</td><td>Tape dispenser (Black)</td><td>20</td></tr><tr><td>3684146</td><td>Tape dispenser (Black)</td><td>20</td></tr><tr><td>3684147</td><td>Tape dispenser (Black)</td><td>20</td></tr><tr><td>3684148</td><td>Tape dispenser (Black)</td><td>20</td></tr><tr><td>3684149</td><td>Tape dispenser (Black)</td><td>20</td></tr><tr><td>3684150</td><td>Tape dispenser (Black)</td><td>20</td></tr><tr><td>3684151</td><td>Tape dispenser (Black)</td><td>20</td></tr><tr><td>3684152</td><td>Tape dispenser (Black)</td><td>20</td></tr><tr><td>3684153</td><td>Tape dispenser (Black)</td><td>20</td></tr><tr><td>3684154</td><td>Tape dispenser (Black)</td><td>20</td></tr><tr><td>3684155</td><td>Tape dispenser (Black)</td><td>20</td></tr><tr><td>3684156</td><td>Tape dispenser (Black)</td><td>20</td></tr><tr><td>3684157</td><td>Tape dispenser (Black)</td><td>20</td></tr><tr><td>3684158</td><td>Tape dispenser (Black)</td><td>20</td></tr><tr><td>3684725</td><td>Tape dispenser (Black)</td><td>20</td></tr><tr><td>3684726</td><td>Tape dispenser (Black)</td><td>20</td></tr><tr><td>3690046</td><td>Tape dispenser (Black)</td><td>20</td></tr><tr><td>3690658</td><td>Tape dispenser (Black)</td><td>20</td></tr><tr><td>3690659</td><td>Tape dispenser (Black)</td><td>20</td></tr><tr><td>3690660</td><td>Tape dispenser (Black)</td><td>20</td></tr><tr><td>3690661</td><td>Tape dispenser (Black)</td><td>20</td></tr><tr><td>3690662</td><td>Tape dispenser (Black)</td><td>20</td></tr><tr><td>3690663</td><td>Tape dispenser (Black)</td><td>20</td></tr><tr><td>3690664</td><td>Tape dispenser (Black)</td><td>20</td></tr><tr><td>3690665</td><td>Tape dispenser (Black)</td><td>20</td></tr><tr><td>3690666</td><td>Tape dispenser (Black)</td><td>20</td></tr><tr><td>3690667</td><td>Tape dispenser (Black)</td><td>20</td></tr><tr><td>3690668</td><td>Tape dispenser (Black)</td><td>20</td></tr><tr><td>3690669</td><td>Tape dispenser (Black)</td><td>20</td></tr><tr><td>3690670</td><td>Tape dispenser (Black)</td><td>20</td></tr><tr><td>3690671</td><td>Tape dispenser (Black)</td><td>20</td></tr><tr><td>3690672</td><td>Tape dispenser (Black)</td><td>20</td></tr><tr><td>3690673</td><td>Tape dispenser (Black)</td><td>20</td></tr><tr><td>3690674</td><td>Tape dispenser (Black)</td><td>20</td></tr><tr><td>3690675</td><td>Tape dispenser (Black)</td><td>20</td></tr><tr><td>3690676</td><td>Tape dispenser (Black)</td><td>20</td></tr><tr><td>3690677</td><td>Tape dispenser (Black)</td><td>20</td></tr><tr><td>3690678</td><td>Tape dispenser (Black)</td><td>20</td></tr><tr><td>3690679</td><td>Tape dispenser (Black)</td><td>20</td></tr><tr><td>3690680</td><td>Tape dispenser (Black)</td><td>20</td></tr><tr><td>3690681</td><td>Tape dispenser (Black)</td><td>20</td></tr><tr><td>3690682</td><td>Tape dispenser (Black)</td><td>20</td></tr><tr><td>3690683</td><td>Tape dispenser (Black)</td><td>20</td></tr><tr><td>3690684</td><td>Tape dispenser (Black)</td><td>20</td></tr><tr><td>3690685</td><td>Tape dispenser (Black)</td><td>20</td></tr><tr><td>3690686</td><td>Tape dispenser (Black)</td><td>20</td></tr><tr><td>3690687</td><td>Tape dispenser (Black)</td><td>20</td></tr><tr><td>3690688</td><td>Tape dispenser (Black)</td><td>20</td></tr><tr><td>3690689</td><td>Tape dispenser (Black)</td><td>20</td></tr><tr><td>3690690</td><td>Tape dispenser (Black)</td><td>20</td></tr><tr><td>3690934</td><td>Tape dispenser (Black)</td><td>20</td></tr><tr><td>3690937</td><td>Tape dispenser (Black)</td><td>20</td></tr><tr><td>3691773</td><td>Tape dispenser (Black)</td><td>20</td></tr><tr><td>3691774</td><td>Tape dispenser (Black)</td><td>20</td></tr><tr><td>3691775</td><td>Tape dispenser (Black)</td><td>20</td></tr><tr><td>3691889</td><td>Tape dispenser (Black)</td><td>20</td></tr><tr><td>3691895</td><td>Tape dispenser (Black)</td><td>20</td></tr><tr><td>3692373</td><td>Tape dispenser (Black)</td><td>20</td></tr><tr><td>3685053</td><td>Tape dispenser (Black)</td><td>20</td></tr><tr><td>3685486</td><td>Tape dispenser (Black)</td><td>20</td></tr><tr><td>3599502</td><td>Tape dispenser (Black)</td><td>20</td></tr><tr><td>3600831</td><td>Tape dispenser (Black)</td><td>20</td></tr><tr><td>3677792</td><td>Tape dispenser (Black)</td><td>20</td></tr><tr><td>3678351</td><td>Tape dispenser (Black)</td><td>20</td></tr><tr><td>3671216</td><td>Tape dispenser (Black)</td><td>20</td></tr><tr><td>3671217</td><td>Tape dispenser (Black)</td><td>20</td></tr><tr><td>3671218</td><td>Tape dispenser (Black)</td><td>20</td></tr><tr><td>3671219</td><td>Tape dispenser (Black)</td><td>20</td></tr><tr><td>3671220</td><td>Tape dispenser (Black)</td><td>20</td></tr><tr><td>3671221</td><td>Tape dispenser (Black)</td><td>20</td></tr><tr><td>3671222</td><td>Tape dispenser (Black)</td><td>20</td></tr><tr><td>3671223</td><td>Tape dispenser (Black)</td><td>20</td></tr><tr><td>3671224</td><td>Tape dispenser (Black)</td><td>20</td></tr><tr><td>3671225</td><td>Tape dispenser (Black)</td><td>20</td></tr><tr><td>3671226</td><td>Tape dispenser (Black)</td><td>20</td></tr><tr><td>3671227</td><td>Tape dispenser (Black)</td><td>20</td></tr><tr><td>3671228</td><td>Tape dispenser (Black)</td><td>20</td></tr><tr><td>3671229</td><td>Tape dispenser (Black)</td><td>20</td></tr><tr><td>3671230</td><td>Tape dispenser (Black)</td><td>20</td></tr><tr><td>3671231</td><td>Tape dispenser (Black)</td><td>20</td></tr><tr><td>3671232</td><td>Tape dispenser (Black)</td><td>20</td></tr><tr><td>3671233</td><td>Tape dispenser (Black)</td><td>20</td></tr><tr><td>3671234</td><td>Tape dispenser (Black)</td><td>20</td></tr><tr><td>3671235</td><td>Tape dispenser (Black)</td><td>20</td></tr><tr><td>3671236</td><td>Tape dispenser (Black)</td><td>20</td></tr><tr><td>3671237</td><td>Tape dispenser (Black)</td><td>20</td></tr><tr><td>3671238</td><td>Tape dispenser (Black)</td><td>20</td></tr><tr><td>3671239</td><td>Tape dispenser (Black)</td><td>20</td></tr><tr><td>3671240</td><td>Tape dispenser (Black)</td><td>20</td></tr><tr><td>3672306</td><td>Tape dispenser (Black)</td><td>20</td></tr><tr><td>3672479</td><td>Tape dispenser (Black)</td><td>20</td></tr><tr><td>3672482</td><td>Tape dispenser (Black)</td><td>20</td></tr><tr><td>3664001</td><td>Tape dispenser (Black)</td><td>20</td></tr><tr><td>3658774</td><td>Tape dispenser (Black)</td><td>20</td></tr><tr><td>3640091</td><td>Tape dispenser (Black)</td><td>20</td></tr><tr><td>3640092</td><td>Tape dispenser (Black)</td><td>20</td></tr><tr><td>3640093</td><td>Tape dispenser (Black)</td><td>20</td></tr><tr><td>3640094</td><td>Tape dispenser (Black)</td><td>20</td></tr><tr><td>3640095</td><td>Tape dispenser (Black)</td><td>20</td></tr><tr><td>3640370</td><td>Tape dispenser (Black)</td><td>20</td></tr><tr><td>3640371</td><td>Tape dispenser (Black)</td><td>20</td></tr><tr><td>3640372</td><td>Tape dispenser (Black)</td><td>20</td></tr><tr><td>3640373</td><td>Tape dispenser (Black)</td><td>20</td></tr><tr><td>3640374</td><td>Tape dispenser (Black)</td><td>20</td></tr><tr><td>3640375</td><td>Tape dispenser (Black)</td><td>20</td></tr><tr><td>3640376</td><td>Tape dispenser (Black)</td><td>20</td></tr><tr><td>3640377</td><td>Tape dispenser (Black)</td><td>20</td></tr><tr><td>3640378</td><td>Tape dispenser (Black)</td><td>20</td></tr><tr><td>3640379</td><td>Tape dispenser (Black)</td><td>20</td></tr><tr><td>3640380</td><td>Tape dispenser (Black)</td><td>20</td></tr><tr><td>3640381</td><td>Tape dispenser (Black)</td><td>20</td></tr><tr><td>3640382</td><td>Tape dispenser (Black)</td><td>20</td></tr><tr><td>3640383</td><td>Tape dispenser (Black)</td><td>20</td></tr><tr><td>3640384</td><td>Tape dispenser (Black)</td><td>20</td></tr><tr><td>3640385</td><td>Tape dispenser (Black)</td><td>20</td></tr><tr><td>3640386</td><td>Tape dispenser (Black)</td><td>20</td></tr><tr><td>3640387</td><td>Tape dispenser (Black)</td><td>20</td></tr><tr><td>3640388</td><td>Tape dispenser (Black)</td><td>20</td></tr><tr><td>3640389</td><td>Tape dispenser (Black)</td><td>20</td></tr><tr><td>3640390</td><td>Tape dispenser (Black)</td><td>20</td></tr><tr><td>3640391</td><td>Tape dispenser (Black)</td><td>20</td></tr><tr><td>3640392</td><td>Tape dispenser (Black)</td><td>20</td></tr><tr><td>3640393</td><td>Tape dispenser (Black)</td><td>20</td></tr><tr><td>3651888</td><td>Tape dispenser (Black)</td><td>20</td></tr><tr><td>3651889</td><td>Tape dispenser (Black)</td><td>20</td></tr><tr><td>3649229</td><td>Tape dispenser (Black)</td><td>20</td></tr><tr><td>3639013</td><td>Tape dispenser (Black)</td><td>20</td></tr><tr><td>3639014</td><td>Tape dispenser (Black)</td><td>20</td></tr><tr><td>3639015</td><td>Tape dispenser (Black)</td><td>20</td></tr><tr><td>3639016</td><td>Tape dispenser (Black)</td><td>20</td></tr><tr><td>3639017</td><td>Tape dispenser (Black)</td><td>20</td></tr><tr><td>3639018</td><td>Tape dispenser (Black)</td><td>20</td></tr><tr><td>3639019</td><td>Tape dispenser (Black)</td><td>20</td></tr><tr><td>3639020</td><td>Tape dispenser (Black)</td><td>20</td></tr><tr><td>3639021</td><td>Tape dispenser (Black)</td><td>20</td></tr><tr><td>3639022</td><td>Tape dispenser (Black)</td><td>20</td></tr><tr><td>3639023</td><td>Tape dispenser (Black)</td><td>20</td></tr><tr><td>3639024</td><td>Tape dispenser (Black)</td><td>20</td></tr><tr><td>3639025</td><td>Tape dispenser (Black)</td><td>20</td></tr><tr><td>3639026</td><td>Tape dispenser (Black)</td><td>20</td></tr><tr><td>3639027</td><td>Tape dispenser (Black)</td><td>20</td></tr><tr><td>3639028</td><td>Tape dispenser (Black)</td><td>20</td></tr><tr><td>3639029</td><td>Tape dispenser (Black)</td><td>20</td></tr><tr><td>3639030</td><td>Tape dispenser (Black)</td><td>20</td></tr><tr><td>3639031</td><td>Tape dispenser (Black)</td><td>20</td></tr><tr><td>3639032</td><td>Tape dispenser (Black)</td><td>20</td></tr><tr><td>3639033</td><td>Tape dispenser (Black)</td><td>20</td></tr><tr><td>3639593</td><td>Tape dispenser (Black)</td><td>20</td></tr><tr><td>3639594</td><td>Tape dispenser (Black)</td><td>20</td></tr><tr><td>3639595</td><td>Tape dispenser (Black)</td><td>20</td></tr><tr><td>3639596</td><td>Tape dispenser (Black)</td><td>20</td></tr><tr><td>3639597</td><td>Tape dispenser (Black)</td><td>20</td></tr><tr><td>3639598</td><td>Tape dispenser (Black)</td><td>20</td></tr><tr><td>3639599</td><td>Tape dispenser (Black)</td><td>20</td></tr><tr><td>3639600</td><td>Tape dispenser (Black)</td><td>20</td></tr><tr><td>3639601</td><td>Tape dispenser (Black)</td><td>20</td></tr><tr><td>3639602</td><td>Tape dispenser (Black)</td><td>20</td></tr><tr><td>3639603</td><td>Tape dispenser (Black)</td><td>20</td></tr><tr><td>3639604</td><td>Tape dispenser (Black)</td><td>20</td></tr><tr><td>3639605</td><td>Tape dispenser (Black)</td><td>20</td></tr><tr><td>3639606</td><td>Tape dispenser (Black)</td><td>20</td></tr><tr><td>3639607</td><td>Tape dispenser (Black)</td><td>20</td></tr><tr><td>3639608</td><td>Tape dispenser (Black)</td><td>20</td></tr><tr><td>3639609</td><td>Tape dispenser (Black)</td><td>20</td></tr><tr><td>3639610</td><td>Tape dispenser (Black)</td><td>20</td></tr><tr><td>3639611</td><td>Tape dispenser (Black)</td><td>20</td></tr><tr><td>3639612</td><td>Tape dispenser (Black)</td><td>20</td></tr><tr><td>3639613</td><td>Tape dispenser (Black)</td><td>20</td></tr><tr><td>3639614</td><td>Tape dispenser (Black)</td><td>20</td></tr><tr><td>3639615</td><td>Tape dispenser (Black)</td><td>20</td></tr><tr><td>3639616</td><td>Tape dispenser (Black)</td><td>20</td></tr><tr><td>3639617</td><td>Tape dispenser (Black)</td><td>20</td></tr><tr><td>3639618</td><td>Tape dispenser (Black)</td><td>20</td></tr><tr><td>3639619</td><td>Tape dispenser (Black)</td><td>20</td></tr><tr><td>3639620</td><td>Tape dispenser (Black)</td><td>20</td></tr><tr><td>3639621</td><td>Tape dispenser (Black)</td><td>20</td></tr><tr><td>3639622</td><td>Tape dispenser (Black)</td><td>20</td></tr><tr><td>3639623</td><td>Tape dispenser (Black)</td><td>20</td></tr><tr><td>3639624</td><td>Tape dispenser (Black)</td><td>20</td></tr><tr><td>3639625</td><td>Tape dispenser (Black)</td><td>20</td></tr><tr><td>3639626</td><td>Tape dispenser (Black)</td><td>20</td></tr><tr><td>3639627</td><td>Tape dispenser (Black)</td><td>20</td></tr><tr><td>3639628</td><td>Tape dispenser (Black)</td><td>20</td></tr><tr><td>3639840</td><td>Tape dispenser (Black)</td><td>20</td></tr><tr><td>3639841</td><td>Tape dispenser (Black)</td><td>20</td></tr><tr><td>3639842</td><td>Tape dispenser (Black)</td><td>20</td></tr><tr><td>3639843</td><td>Tape dispenser (Black)</td><td>20</td></tr><tr><td>3639844</td><td>Tape dispenser (Black)</td><td>20</td></tr><tr><td>3639845</td><td>Tape dispenser (Black)</td><td>20</td></tr><tr><td>3639846</td><td>Tape dispenser (Black)</td><td>20</td></tr><tr><td>3639847</td><td>Tape dispenser (Black)</td><td>20</td></tr><tr><td>3639848</td><td>Tape dispenser (Black)</td><td>20</td></tr><tr><td>3639849</td><td>Tape dispenser (Black)</td><td>20</td></tr><tr><td>3639850</td><td>Tape dispenser (Black)</td><td>20</td></tr><tr><td>3639851</td><td>Tape dispenser (Black)</td><td>20</td></tr><tr><td>3639852</td><td>Tape dispenser (Black)</td><td>20</td></tr><tr><td>3639853</td><td>Tape dispenser (Black)</td><td>20</td></tr><tr><td>3639854</td><td>Tape dispenser (Black)</td><td>20</td></tr><tr><td>3639855</td><td>Tape dispenser (Black)</td><td>20</td></tr><tr><td>3639856</td><td>Tape dispenser (Black)</td><td>20</td></tr><tr><td>3639857</td><td>Tape dispenser (Black)</td><td>20</td></tr><tr><td>3639858</td><td>Tape dispenser (Black)</td><td>20</td></tr><tr><td>3639859</td><td>Tape dispenser (Black)</td><td>20</td></tr><tr><td>3639860</td><td>Tape dispenser (Black)</td><td>20</td></tr><tr><td>3639861</td><td>Tape dispenser (Black)</td><td>20</td></tr><tr><td>3639862</td><td>Tape dispenser (Black)</td><td>20</td></tr><tr><td>3639863</td><td>Tape dispenser (Black)</td><td>20</td></tr><tr><td>3639864</td><td>Tape dispenser (Black)</td><td>20</td></tr><tr><td>3639865</td><td>Tape dispenser (Black)</td><td>20</td></tr><tr><td>3639866</td><td>Tape dispenser (Black)</td><td>20</td></tr><tr><td>3639867</td><td>Tape dispenser (Black)</td><td>20</td></tr><tr><td>3639868</td><td>Tape dispenser (Black)</td><td>20</td></tr><tr><td>3639869</td><td>Tape dispenser (Black)</td><td>20</td></tr><tr><td>3639870</td><td>Tape dispenser (Black)</td><td>20</td></tr><tr><td>3639871</td><td>Tape dispenser (Black)</td><td>20</td></tr><tr><td>3639872</td><td>Tape dispenser (Black)</td><td>20</td></tr><tr><td>3639873</td><td>Tape dispenser (Black)</td><td>20</td></tr><tr><td>3639874</td><td>Tape dispenser (Black)</td><td>20</td></tr><tr><td>3639875</td><td>Tape dispenser (Black)</td><td>20</td></tr><tr><td>3640060</td><td>Tape dispenser (Black)</td><td>20</td></tr><tr><td>3640061</td><td>Tape dispenser (Black)</td><td>20</td></tr><tr><td>3640062</td><td>Tape dispenser (Black)</td><td>20</td></tr><tr><td>3640063</td><td>Tape dispenser (Black)</td><td>20</td></tr><tr><td>3640064</td><td>Tape dispenser (Black)</td><td>20</td></tr><tr><td>3640065</td><td>Tape dispenser (Black)</td><td>20</td></tr><tr><td>3640066</td><td>Tape dispenser (Black)</td><td>20</td></tr><tr><td>3640067</td><td>Tape dispenser (Black)</td><td>20</td></tr><tr><td>3640068</td><td>Tape dispenser (Black)</td><td>20</td></tr><tr><td>3640069</td><td>Tape dispenser (Black)</td><td>20</td></tr><tr><td>3640070</td><td>Tape dispenser (Black)</td><td>20</td></tr><tr><td>3640071</td><td>Tape dispenser (Black)</td><td>20</td></tr><tr><td>3640072</td><td>Tape dispenser (Black)</td><td>20</td></tr><tr><td>3640073</td><td>Tape dispenser (Black)</td><td>20</td></tr><tr><td>3640074</td><td>Tape dispenser (Black)</td><td>20</td></tr><tr><td>3640075</td><td>Tape dispenser (Black)</td><td>20</td></tr><tr><td>3640076</td><td>Tape dispenser (Black)</td><td>20</td></tr><tr><td>3640077</td><td>Tape dispenser (Black)</td><td>20</td></tr><tr><td>3640078</td><td>Tape dispenser (Black)</td><td>20</td></tr><tr><td>3640079</td><td>Tape dispenser (Black)</td><td>20</td></tr><tr><td>3640080</td><td>Tape dispenser (Black)</td><td>20</td></tr><tr><td>3640081</td><td>Tape dispenser (Black)</td><td>20</td></tr><tr><td>3640082</td><td>Tape dispenser (Black)</td><td>20</td></tr><tr><td>3640083</td><td>Tape dispenser (Black)</td><td>20</td></tr><tr><td>3640084</td><td>Tape dispenser (Black)</td><td>20</td></tr><tr><td>3640085</td><td>Tape dispenser (Black)</td><td>20</td></tr><tr><td>3640086</td><td>Tape dispenser (Black)</td><td>20</td></tr><tr><td>3640087</td><td>Tape dispenser (Black)</td><td>20</td></tr><tr><td>3640088</td><td>Tape dispenser (Black)</td><td>20</td></tr><tr><td>3640089</td><td>Tape dispenser (Black)</td><td>20</td></tr><tr><td>3640090</td><td>Tape dispenser (Black)</td><td>20</td></tr><tr><td>3629003</td><td>Tape dispenser (Black)</td><td>20</td></tr><tr><td>3614394</td><td>Tape dispenser (Black)</td><td>20</td></tr><tr><td>3614813</td><td>Tape dispenser (Black)</td><td>20</td></tr><tr><td>3614814</td><td>Tape dispenser (Black)</td><td>20</td></tr><tr><td>3614815</td><td>Tape dispenser (Black)</td><td>20</td></tr><tr><td>3614816</td><td>Tape dispenser (Black)</td><td>20</td></tr><tr><td>3615212</td><td>Tape dispenser (Black)</td><td>20</td></tr><tr><td>3615213</td><td>Tape dispenser (Black)</td><td>20</td></tr><tr><td>3615214</td><td>Tape dispenser (Black)</td><td>20</td></tr><tr><td>3615215</td><td>Tape dispenser (Black)</td><td>20</td></tr><tr><td>3615216</td><td>Tape dispenser (Black)</td><td>20</td></tr><tr><td>3615217</td><td>Tape dispenser (Black)</td><td>20</td></tr><tr><td>3615218</td><td>Tape dispenser (Black)</td><td>20</td></tr><tr><td>3615219</td><td>Tape dispenser (Black)</td><td>20</td></tr><tr><td>3615220</td><td>Tape dispenser (Black)</td><td>20</td></tr><tr><td>3615221</td><td>Tape dispenser (Black)</td><td>20</td></tr><tr><td>3615222</td><td>Tape dispenser (Black)</td><td>20</td></tr><tr><td>3615223</td><td>Tape dispenser (Black)</td><td>20</td></tr><tr><td>3615224</td><td>Tape dispenser (Black)</td><td>20</td></tr><tr><td>3615225</td><td>Tape dispenser (Black)</td><td>20</td></tr><tr><td>3615226</td><td>Tape dispenser (Black)</td><td>20</td></tr><tr><td>3615227</td><td>Tape dispenser (Black)</td><td>20</td></tr><tr><td>3615228</td><td>Tape dispenser (Black)</td><td>20</td></tr><tr><td>3615229</td><td>Tape dispenser (Black)</td><td>20</td></tr><tr><td>3615230</td><td>Tape dispenser (Black)</td><td>20</td></tr><tr><td>3615231</td><td>Tape dispenser (Black)</td><td>20</td></tr><tr><td>3615263</td><td>Tape dispenser (Black)</td><td>20</td></tr><tr><td>3615264</td><td>Tape dispenser (Black)</td><td>20</td></tr><tr><td>3615265</td><td>Tape dispenser (Black)</td><td>20</td></tr><tr><td>3615266</td><td>Tape dispenser (Black)</td><td>20</td></tr><tr><td>3615267</td><td>Tape dispenser (Black)</td><td>20</td></tr><tr><td>3615268</td><td>Tape dispenser (Black)</td><td>20</td></tr><tr><td>3615269</td><td>Tape dispenser (Black)</td><td>20</td></tr><tr><td>3615270</td><td>Tape dispenser (Black)</td><td>20</td></tr><tr><td>3615271</td><td>Tape dispenser (Black)</td><td>20</td></tr><tr><td>3615272</td><td>Tape dispenser (Black)</td><td>20</td></tr><tr><td>3615273</td><td>Tape dispenser (Black)</td><td>20</td></tr><tr><td>3615274</td><td>Tape dispenser (Black)</td><td>20</td></tr><tr><td>3617683</td><td>Tape dispenser (Black)</td><td>20</td></tr><tr><td>3618332</td><td>Tape dispenser (Black)</td><td>20</td></tr><tr><td>3618344</td><td>Tape dispenser (Black)</td><td>20</td></tr><tr><td>3619498</td><td>Tape dispenser (Black)</td><td>20</td></tr><tr><td>3609832</td><td>Tape dispenser (Black)</td><td>20</td></tr><tr><td>3609833</td><td>Tape dispenser (Black)</td><td>20</td></tr><tr><td>3609834</td><td>Tape dispenser (Black)</td><td>20</td></tr><tr><td>3609835</td><td>Tape dispenser (Black)</td><td>20</td></tr><tr><td>3609836</td><td>Tape dispenser (Black)</td><td>20</td></tr><tr><td>3609837</td><td>Tape dispenser (Black)</td><td>20</td></tr><tr><td>3609838</td><td>Tape dispenser (Black)</td><td>20</td></tr><tr><td>3609839</td><td>Tape dispenser (Black)</td><td>20</td></tr><tr><td>3609840</td><td>Tape dispenser (Black)</td><td>20</td></tr><tr><td>3609841</td><td>Tape dispenser (Black)</td><td>20</td></tr><tr><td>3609842</td><td>Tape dispenser (Black)</td><td>20</td></tr><tr><td>3609843</td><td>Tape dispenser (Black)</td><td>20</td></tr><tr><td>3609844</td><td>Tape dispenser (Black)</td><td>20</td></tr><tr><td>3609845</td><td>Tape dispenser (Black)</td><td>20</td></tr><tr><td>3609878</td><td>Tape dispenser (Black)</td><td>20</td></tr><tr><td>3609879</td><td>Tape dispenser (Black)</td><td>20</td></tr><tr><td>3609880</td><td>Tape dispenser (Black)</td><td>20</td></tr><tr><td>3609881</td><td>Tape dispenser (Black)</td><td>20</td></tr><tr><td>3609882</td><td>Tape dispenser (Black)</td><td>20</td></tr><tr><td>3609883</td><td>Tape dispenser (Black)</td><td>20</td></tr><tr><td>3609884</td><td>Tape dispenser (Black)</td><td>20</td></tr><tr><td>3609885</td><td>Tape dispenser (Black)</td><td>20</td></tr><tr><td>3609889</td><td>Tape dispenser (Black)</td><td>20</td></tr><tr><td>3609890</td><td>Tape dispenser (Black)</td><td>20</td></tr><tr><td>3611250</td><td>Tape dispenser (Black)</td><td>20</td></tr><tr><td>3611251</td><td>Tape dispenser (Black)</td><td>20</td></tr><tr><td>3611252</td><td>Tape dispenser (Black)</td><td>20</td></tr><tr><td>3611253</td><td>Tape dispenser (Black)</td><td>20</td></tr><tr><td>3611254</td><td>Tape dispenser (Black)</td><td>20</td></tr><tr><td>3611255</td><td>Tape dispenser (Black)</td><td>20</td></tr><tr><td>3611256</td><td>Tape dispenser (Black)</td><td>20</td></tr><tr><td>3611288</td><td>Tape dispenser (Black)</td><td>20</td></tr><tr><td>3611289</td><td>Tape dispenser (Black)</td><td>20</td></tr><tr><td>3611290</td><td>Tape dispenser (Black)</td><td>20</td></tr><tr><td>3611291</td><td>Tape dispenser (Black)</td><td>20</td></tr><tr><td>3611292</td><td>Tape dispenser (Black)</td><td>20</td></tr><tr><td>3611293</td><td>Tape dispenser (Black)</td><td>20</td></tr><tr><td>3611294</td><td>Tape dispenser (Black)</td><td>20</td></tr><tr><td>3611295</td><td>Tape dispenser (Black)</td><td>20</td></tr><tr><td>3611296</td><td>Tape dispenser (Black)</td><td>20</td></tr><tr><td>3611661</td><td>Tape dispenser (Black)</td><td>20</td></tr><tr><td>3611662</td><td>Tape dispenser (Black)</td><td>20</td></tr><tr><td>3611663</td><td>Tape dispenser (Black)</td><td>20</td></tr><tr><td>3611664</td><td>Tape dispenser (Black)</td><td>20</td></tr><tr><td>3611665</td><td>Tape dispenser (Black)</td><td>20</td></tr><tr><td>3611666</td><td>Tape dispenser (Black)</td><td>20</td></tr><tr><td>3611667</td><td>Tape dispenser (Black)</td><td>20</td></tr><tr><td>3611668</td><td>Tape dispenser (Black)</td><td>20</td></tr><tr><td>3611669</td><td>Tape dispenser (Black)</td><td>20</td></tr><tr><td>3611670</td><td>Tape dispenser (Black)</td><td>20</td></tr><tr><td>3611671</td><td>Tape dispenser (Black)</td><td>20</td></tr><tr><td>3611672</td><td>Tape dispenser (Black)</td><td>20</td></tr><tr><td>3612451</td><td>Tape dispenser (Black)</td><td>20</td></tr><tr><td>3604228</td><td>Tape dispenser (Black)</td><td>20</td></tr><tr><td>3604229</td><td>Tape dispenser (Black)</td><td>20</td></tr><tr><td>3604230</td><td>Tape dispenser (Black)</td><td>20</td></tr><tr><td>3604231</td><td>Tape dispenser (Black)</td><td>20</td></tr><tr><td>3604232</td><td>Tape dispenser (Black)</td><td>20</td></tr><tr><td>3604233</td><td>Tape dispenser (Black)</td><td>20</td></tr><tr><td>3604234</td><td>Tape dispenser (Black)</td><td>20</td></tr><tr><td>3604235</td><td>Tape dispenser (Black)</td><td>20</td></tr><tr><td>3604236</td><td>Tape dispenser (Black)</td><td>20</td></tr><tr><td>3604237</td><td>Tape dispenser (Black)</td><td>20</td></tr><tr><td>3604238</td><td>Tape dispenser (Black)</td><td>20</td></tr><tr><td>3604239</td><td>Tape dispenser (Black)</td><td>20</td></tr><tr><td>3604240</td><td>Tape dispenser (Black)</td><td>20</td></tr><tr><td>3604618</td><td>Tape dispenser (Black)</td><td>20</td></tr><tr><td>3605331</td><td>Tape dispenser (Black)</td><td>20</td></tr><tr><td>3605730</td><td>Tape dispenser (Black)</td><td>20</td></tr><tr><td>3605731</td><td>Tape dispenser (Black)</td><td>20</td></tr><tr><td>3605732</td><td>Tape dispenser (Black)</td><td>20</td></tr><tr><td>3605733</td><td>Tape dispenser (Black)</td><td>20</td></tr><tr><td>3605734</td><td>Tape dispenser (Black)</td><td>20</td></tr><tr><td>3605735</td><td>Tape dispenser (Black)</td><td>20</td></tr><tr><td>3605736</td><td>Tape dispenser (Black)</td><td>20</td></tr><tr><td>3605737</td><td>Tape dispenser (Black)</td><td>20</td></tr><tr><td>3606545</td><td>Tape dispenser (Black)</td><td>20</td></tr><tr><td>3606546</td><td>Tape dispenser (Black)</td><td>20</td></tr><tr><td>3606547</td><td>Tape dispenser (Black)</td><td>20</td></tr><tr><td>3606548</td><td>Tape dispenser (Black)</td><td>20</td></tr><tr><td>3606549</td><td>Tape dispenser (Black)</td><td>20</td></tr><tr><td>3606550</td><td>Tape dispenser (Black)</td><td>20</td></tr><tr><td>3606551</td><td>Tape dispenser (Black)</td><td>20</td></tr><tr><td>3606552</td><td>Tape dispenser (Black)</td><td>20</td></tr><tr><td>3606553</td><td>Tape dispenser (Black)</td><td>20</td></tr><tr><td>3606554</td><td>Tape dispenser (Black)</td><td>20</td></tr><tr><td>3606555</td><td>Tape dispenser (Black)</td><td>20</td></tr></table>"
                    },
                    "metadata": {}
                }
            ],
            "execution_count": 9
        },
        {
            "cell_type": "markdown",
            "source": [
                "Observe the query execution plan (or actual plan).\r\n",
                "\r\n",
                "![MGF_Plan](./media/MGF_plan.PNG)\r\n",
                "\r\n",
                "Notice the yellow triangle on the *Hash Match* operator, signaling a warning. \r\n",
                "\r\n",
                "Hovering over the operator brings up additional information. We see the warning detail:\r\n",
                "\r\n",
                "*\\\"Operator used tempdb to spill data during execution with spill level 1 and 1 spilled thread(s), Hash wrote 52000 pages to and read 52000 pages from tempdb with granted memory 1024KB and used memory 968KB\"*\r\n",
                "\r\n",
                "![MGF_Plan_properties](./media/MGF_plan_properties.PNG)\r\n",
                "\r\n",
                "This is a sizable spill that translates into I/O, which in most systems means slow performance.\r\n",
                "\r\n",
                "Now click on the *SELECT* node, and look at properties of the entire plan. Specifically in the *MemoryGrantInfo* properties, note the *GrantedMemory* is 1056 KB (about 1 MB) and *IsMemoryGrantFeedbackAdjusted* has the \"NoFirstExecution\" state. \r\n",
                "\r\n",
                "![MGF_Plan_properties](./media/MGF_plan_properties_grant.PNG)\r\n",
                "\r\n",
                "Because this was the first execution, the MGF feature didn't have a chance to learn before it executed. However, note what happens when the query is executed a few more times."
            ],
            "metadata": {
                "azdata_cell_guid": "7898e074-2d93-472b-84a5-2e52e3e43144"
            }
        },
        {
            "cell_type": "markdown",
            "source": [
                "## Step 5: Execute the query again\r\n",
                "\r\n",
                "Run the same query from Step 3 and then observe the query plan's *MemoryGrantInfo* properties. "
            ],
            "metadata": {
                "azdata_cell_guid": "6140b74a-e79d-4108-9cba-415f66ed85a3"
            }
        },
        {
            "cell_type": "code",
            "source": [
                "USE [WideWorldImportersDW]\r\n",
                "GO\r\n",
                "\r\n",
                "SELECT   \r\n",
                "\tfo.[Order Key], fo.Description,\r\n",
                "\tsi.[Lead Time Days]\r\n",
                "FROM Fact.OrderHistory AS fo\r\n",
                "INNER HASH JOIN Dimension.[Stock Item] AS si \r\n",
                "\tON fo.[Stock Item Key] = si.[Stock Item Key]\r\n",
                "WHERE fo.[Lineage Key] = 9\r\n",
                "\tAND si.[Lead Time Days] > 19;\r\n",
                "GO"
            ],
            "metadata": {
                "azdata_cell_guid": "d37ad2f6-5a09-4418-8ba2-47f954af18e8"
            },
            "outputs": [
                {
                    "output_type": "display_data",
                    "data": {
                        "text/html": "Commands completed successfully."
                    },
                    "metadata": {}
                },
                {
                    "output_type": "display_data",
                    "data": {
                        "text/html": "(66416 rows affected)"
                    },
                    "metadata": {}
                },
                {
                    "output_type": "display_data",
                    "data": {
                        "text/html": "Displaying Top 500 rows."
                    },
                    "metadata": {}
                },
                {
                    "output_type": "display_data",
                    "data": {
                        "text/html": "Total execution time: 00:00:05.131"
                    },
                    "metadata": {}
                },
                {
                    "output_type": "execute_result",
                    "execution_count": 10,
                    "data": {
                        "application/vnd.dataresource+json": {
                            "schema": {
                                "fields": [
                                    {
                                        "name": "Order Key"
                                    },
                                    {
                                        "name": "Description"
                                    },
                                    {
                                        "name": "Lead Time Days"
                                    }
                                ]
                            },
                            "data": [
                                {
                                    "0": "231599",
                                    "1": "Air cushion machine (Blue)",
                                    "2": "20"
                                },
                                {
                                    "0": "232215",
                                    "1": "Air cushion machine (Blue)",
                                    "2": "20"
                                },
                                {
                                    "0": "232290",
                                    "1": "Air cushion machine (Blue)",
                                    "2": "20"
                                },
                                {
                                    "0": "231769",
                                    "1": "Air cushion machine (Blue)",
                                    "2": "20"
                                },
                                {
                                    "0": "232997",
                                    "1": "Air cushion machine (Blue)",
                                    "2": "20"
                                },
                                {
                                    "0": "234019",
                                    "1": "Air cushion machine (Blue)",
                                    "2": "20"
                                },
                                {
                                    "0": "3702343",
                                    "1": "Air cushion machine (Blue)",
                                    "2": "20"
                                },
                                {
                                    "0": "3702543",
                                    "1": "Air cushion machine (Blue)",
                                    "2": "20"
                                },
                                {
                                    "0": "3700753",
                                    "1": "Air cushion machine (Blue)",
                                    "2": "20"
                                },
                                {
                                    "0": "3700850",
                                    "1": "Air cushion machine (Blue)",
                                    "2": "20"
                                },
                                {
                                    "0": "3701058",
                                    "1": "Air cushion machine (Blue)",
                                    "2": "20"
                                },
                                {
                                    "0": "3701547",
                                    "1": "Air cushion machine (Blue)",
                                    "2": "20"
                                },
                                {
                                    "0": "3701851",
                                    "1": "Air cushion machine (Blue)",
                                    "2": "20"
                                },
                                {
                                    "0": "3701910",
                                    "1": "Air cushion machine (Blue)",
                                    "2": "20"
                                },
                                {
                                    "0": "3699067",
                                    "1": "Air cushion machine (Blue)",
                                    "2": "20"
                                },
                                {
                                    "0": "3699971",
                                    "1": "Air cushion machine (Blue)",
                                    "2": "20"
                                },
                                {
                                    "0": "3700077",
                                    "1": "Air cushion machine (Blue)",
                                    "2": "20"
                                },
                                {
                                    "0": "3700420",
                                    "1": "Air cushion machine (Blue)",
                                    "2": "20"
                                },
                                {
                                    "0": "3700588",
                                    "1": "Air cushion machine (Blue)",
                                    "2": "20"
                                },
                                {
                                    "0": "3700647",
                                    "1": "Air cushion machine (Blue)",
                                    "2": "20"
                                },
                                {
                                    "0": "3697314",
                                    "1": "Air cushion machine (Blue)",
                                    "2": "20"
                                },
                                {
                                    "0": "3697324",
                                    "1": "Air cushion machine (Blue)",
                                    "2": "20"
                                },
                                {
                                    "0": "3697777",
                                    "1": "Air cushion machine (Blue)",
                                    "2": "20"
                                },
                                {
                                    "0": "3698106",
                                    "1": "Air cushion machine (Blue)",
                                    "2": "20"
                                },
                                {
                                    "0": "3698246",
                                    "1": "Air cushion machine (Blue)",
                                    "2": "20"
                                },
                                {
                                    "0": "3698908",
                                    "1": "Air cushion machine (Blue)",
                                    "2": "20"
                                },
                                {
                                    "0": "3696765",
                                    "1": "Air cushion machine (Blue)",
                                    "2": "20"
                                },
                                {
                                    "0": "3696768",
                                    "1": "Air cushion machine (Blue)",
                                    "2": "20"
                                },
                                {
                                    "0": "3696995",
                                    "1": "Air cushion machine (Blue)",
                                    "2": "20"
                                },
                                {
                                    "0": "3697022",
                                    "1": "Air cushion machine (Blue)",
                                    "2": "20"
                                },
                                {
                                    "0": "3697026",
                                    "1": "Air cushion machine (Blue)",
                                    "2": "20"
                                },
                                {
                                    "0": "3697101",
                                    "1": "Air cushion machine (Blue)",
                                    "2": "20"
                                },
                                {
                                    "0": "3696050",
                                    "1": "Air cushion machine (Blue)",
                                    "2": "20"
                                },
                                {
                                    "0": "3696120",
                                    "1": "Air cushion machine (Blue)",
                                    "2": "20"
                                },
                                {
                                    "0": "3696259",
                                    "1": "Air cushion machine (Blue)",
                                    "2": "20"
                                },
                                {
                                    "0": "3696550",
                                    "1": "Air cushion machine (Blue)",
                                    "2": "20"
                                },
                                {
                                    "0": "3696658",
                                    "1": "Air cushion machine (Blue)",
                                    "2": "20"
                                },
                                {
                                    "0": "3696679",
                                    "1": "Air cushion machine (Blue)",
                                    "2": "20"
                                },
                                {
                                    "0": "3694691",
                                    "1": "Air cushion machine (Blue)",
                                    "2": "20"
                                },
                                {
                                    "0": "3694692",
                                    "1": "Air cushion machine (Blue)",
                                    "2": "20"
                                },
                                {
                                    "0": "3695473",
                                    "1": "Air cushion machine (Blue)",
                                    "2": "20"
                                },
                                {
                                    "0": "3695710",
                                    "1": "Air cushion machine (Blue)",
                                    "2": "20"
                                },
                                {
                                    "0": "3695804",
                                    "1": "Air cushion machine (Blue)",
                                    "2": "20"
                                },
                                {
                                    "0": "3695851",
                                    "1": "Air cushion machine (Blue)",
                                    "2": "20"
                                },
                                {
                                    "0": "3692422",
                                    "1": "Air cushion machine (Blue)",
                                    "2": "20"
                                },
                                {
                                    "0": "3692780",
                                    "1": "Air cushion machine (Blue)",
                                    "2": "20"
                                },
                                {
                                    "0": "3693776",
                                    "1": "Air cushion machine (Blue)",
                                    "2": "20"
                                },
                                {
                                    "0": "3694322",
                                    "1": "Air cushion machine (Blue)",
                                    "2": "20"
                                },
                                {
                                    "0": "3694458",
                                    "1": "Air cushion machine (Blue)",
                                    "2": "20"
                                },
                                {
                                    "0": "3694562",
                                    "1": "Air cushion machine (Blue)",
                                    "2": "20"
                                },
                                {
                                    "0": "3690456",
                                    "1": "Air cushion machine (Blue)",
                                    "2": "20"
                                },
                                {
                                    "0": "3691479",
                                    "1": "Air cushion machine (Blue)",
                                    "2": "20"
                                },
                                {
                                    "0": "3691497",
                                    "1": "Air cushion machine (Blue)",
                                    "2": "20"
                                },
                                {
                                    "0": "3691545",
                                    "1": "Air cushion machine (Blue)",
                                    "2": "20"
                                },
                                {
                                    "0": "3691570",
                                    "1": "Air cushion machine (Blue)",
                                    "2": "20"
                                },
                                {
                                    "0": "3691981",
                                    "1": "Air cushion machine (Blue)",
                                    "2": "20"
                                },
                                {
                                    "0": "3688998",
                                    "1": "Air cushion machine (Blue)",
                                    "2": "20"
                                },
                                {
                                    "0": "3689106",
                                    "1": "Air cushion machine (Blue)",
                                    "2": "20"
                                },
                                {
                                    "0": "3689335",
                                    "1": "Air cushion machine (Blue)",
                                    "2": "20"
                                },
                                {
                                    "0": "3689338",
                                    "1": "Air cushion machine (Blue)",
                                    "2": "20"
                                },
                                {
                                    "0": "3689554",
                                    "1": "Air cushion machine (Blue)",
                                    "2": "20"
                                },
                                {
                                    "0": "3690236",
                                    "1": "Air cushion machine (Blue)",
                                    "2": "20"
                                },
                                {
                                    "0": "3687237",
                                    "1": "Air cushion machine (Blue)",
                                    "2": "20"
                                },
                                {
                                    "0": "3687640",
                                    "1": "Air cushion machine (Blue)",
                                    "2": "20"
                                },
                                {
                                    "0": "3687707",
                                    "1": "Air cushion machine (Blue)",
                                    "2": "20"
                                },
                                {
                                    "0": "3688114",
                                    "1": "Air cushion machine (Blue)",
                                    "2": "20"
                                },
                                {
                                    "0": "3688364",
                                    "1": "Air cushion machine (Blue)",
                                    "2": "20"
                                },
                                {
                                    "0": "3688785",
                                    "1": "Air cushion machine (Blue)",
                                    "2": "20"
                                },
                                {
                                    "0": "3684826",
                                    "1": "Air cushion machine (Blue)",
                                    "2": "20"
                                },
                                {
                                    "0": "3684915",
                                    "1": "Air cushion machine (Blue)",
                                    "2": "20"
                                },
                                {
                                    "0": "3685158",
                                    "1": "Air cushion machine (Blue)",
                                    "2": "20"
                                },
                                {
                                    "0": "3685719",
                                    "1": "Air cushion machine (Blue)",
                                    "2": "20"
                                },
                                {
                                    "0": "3686065",
                                    "1": "Air cushion machine (Blue)",
                                    "2": "20"
                                },
                                {
                                    "0": "3686257",
                                    "1": "Air cushion machine (Blue)",
                                    "2": "20"
                                },
                                {
                                    "0": "3683223",
                                    "1": "Air cushion machine (Blue)",
                                    "2": "20"
                                },
                                {
                                    "0": "3683278",
                                    "1": "Air cushion machine (Blue)",
                                    "2": "20"
                                },
                                {
                                    "0": "3683523",
                                    "1": "Air cushion machine (Blue)",
                                    "2": "20"
                                },
                                {
                                    "0": "3684268",
                                    "1": "Air cushion machine (Blue)",
                                    "2": "20"
                                },
                                {
                                    "0": "3684463",
                                    "1": "Air cushion machine (Blue)",
                                    "2": "20"
                                },
                                {
                                    "0": "3684800",
                                    "1": "Air cushion machine (Blue)",
                                    "2": "20"
                                },
                                {
                                    "0": "3681672",
                                    "1": "Air cushion machine (Blue)",
                                    "2": "20"
                                },
                                {
                                    "0": "3681962",
                                    "1": "Air cushion machine (Blue)",
                                    "2": "20"
                                },
                                {
                                    "0": "3682199",
                                    "1": "Air cushion machine (Blue)",
                                    "2": "20"
                                },
                                {
                                    "0": "3682788",
                                    "1": "Air cushion machine (Blue)",
                                    "2": "20"
                                },
                                {
                                    "0": "3683110",
                                    "1": "Air cushion machine (Blue)",
                                    "2": "20"
                                },
                                {
                                    "0": "3683211",
                                    "1": "Air cushion machine (Blue)",
                                    "2": "20"
                                },
                                {
                                    "0": "3681036",
                                    "1": "Air cushion machine (Blue)",
                                    "2": "20"
                                },
                                {
                                    "0": "3681045",
                                    "1": "Air cushion machine (Blue)",
                                    "2": "20"
                                },
                                {
                                    "0": "3681088",
                                    "1": "Air cushion machine (Blue)",
                                    "2": "20"
                                },
                                {
                                    "0": "3681155",
                                    "1": "Air cushion machine (Blue)",
                                    "2": "20"
                                },
                                {
                                    "0": "3681286",
                                    "1": "Air cushion machine (Blue)",
                                    "2": "20"
                                },
                                {
                                    "0": "3681584",
                                    "1": "Air cushion machine (Blue)",
                                    "2": "20"
                                },
                                {
                                    "0": "3680465",
                                    "1": "Air cushion machine (Blue)",
                                    "2": "20"
                                },
                                {
                                    "0": "3680480",
                                    "1": "Air cushion machine (Blue)",
                                    "2": "20"
                                },
                                {
                                    "0": "3680549",
                                    "1": "Air cushion machine (Blue)",
                                    "2": "20"
                                },
                                {
                                    "0": "3680742",
                                    "1": "Air cushion machine (Blue)",
                                    "2": "20"
                                },
                                {
                                    "0": "3680761",
                                    "1": "Air cushion machine (Blue)",
                                    "2": "20"
                                },
                                {
                                    "0": "3680966",
                                    "1": "Air cushion machine (Blue)",
                                    "2": "20"
                                },
                                {
                                    "0": "3679368",
                                    "1": "Air cushion machine (Blue)",
                                    "2": "20"
                                },
                                {
                                    "0": "3679389",
                                    "1": "Air cushion machine (Blue)",
                                    "2": "20"
                                },
                                {
                                    "0": "3679607",
                                    "1": "Air cushion machine (Blue)",
                                    "2": "20"
                                },
                                {
                                    "0": "3679651",
                                    "1": "Air cushion machine (Blue)",
                                    "2": "20"
                                },
                                {
                                    "0": "3680068",
                                    "1": "Air cushion machine (Blue)",
                                    "2": "20"
                                },
                                {
                                    "0": "3680079",
                                    "1": "Air cushion machine (Blue)",
                                    "2": "20"
                                },
                                {
                                    "0": "3678179",
                                    "1": "Air cushion machine (Blue)",
                                    "2": "20"
                                },
                                {
                                    "0": "3678512",
                                    "1": "Air cushion machine (Blue)",
                                    "2": "20"
                                },
                                {
                                    "0": "3678528",
                                    "1": "Air cushion machine (Blue)",
                                    "2": "20"
                                },
                                {
                                    "0": "3678659",
                                    "1": "Air cushion machine (Blue)",
                                    "2": "20"
                                },
                                {
                                    "0": "3678989",
                                    "1": "Air cushion machine (Blue)",
                                    "2": "20"
                                },
                                {
                                    "0": "3679366",
                                    "1": "Air cushion machine (Blue)",
                                    "2": "20"
                                },
                                {
                                    "0": "3676701",
                                    "1": "Air cushion machine (Blue)",
                                    "2": "20"
                                },
                                {
                                    "0": "3676986",
                                    "1": "Air cushion machine (Blue)",
                                    "2": "20"
                                },
                                {
                                    "0": "3677734",
                                    "1": "Air cushion machine (Blue)",
                                    "2": "20"
                                },
                                {
                                    "0": "3677894",
                                    "1": "Air cushion machine (Blue)",
                                    "2": "20"
                                },
                                {
                                    "0": "3677898",
                                    "1": "Air cushion machine (Blue)",
                                    "2": "20"
                                },
                                {
                                    "0": "3677989",
                                    "1": "Air cushion machine (Blue)",
                                    "2": "20"
                                },
                                {
                                    "0": "3674511",
                                    "1": "Air cushion machine (Blue)",
                                    "2": "20"
                                },
                                {
                                    "0": "3674822",
                                    "1": "Air cushion machine (Blue)",
                                    "2": "20"
                                },
                                {
                                    "0": "3675140",
                                    "1": "Air cushion machine (Blue)",
                                    "2": "20"
                                },
                                {
                                    "0": "3675405",
                                    "1": "Air cushion machine (Blue)",
                                    "2": "20"
                                },
                                {
                                    "0": "3675540",
                                    "1": "Air cushion machine (Blue)",
                                    "2": "20"
                                },
                                {
                                    "0": "3675937",
                                    "1": "Air cushion machine (Blue)",
                                    "2": "20"
                                },
                                {
                                    "0": "3673205",
                                    "1": "Air cushion machine (Blue)",
                                    "2": "20"
                                },
                                {
                                    "0": "3673279",
                                    "1": "Air cushion machine (Blue)",
                                    "2": "20"
                                },
                                {
                                    "0": "3673293",
                                    "1": "Air cushion machine (Blue)",
                                    "2": "20"
                                },
                                {
                                    "0": "3673435",
                                    "1": "Air cushion machine (Blue)",
                                    "2": "20"
                                },
                                {
                                    "0": "3674030",
                                    "1": "Air cushion machine (Blue)",
                                    "2": "20"
                                },
                                {
                                    "0": "3674039",
                                    "1": "Air cushion machine (Blue)",
                                    "2": "20"
                                },
                                {
                                    "0": "3670177",
                                    "1": "Air cushion machine (Blue)",
                                    "2": "20"
                                },
                                {
                                    "0": "3670414",
                                    "1": "Air cushion machine (Blue)",
                                    "2": "20"
                                },
                                {
                                    "0": "3670422",
                                    "1": "Air cushion machine (Blue)",
                                    "2": "20"
                                },
                                {
                                    "0": "3672950",
                                    "1": "Air cushion machine (Blue)",
                                    "2": "20"
                                },
                                {
                                    "0": "3673006",
                                    "1": "Air cushion machine (Blue)",
                                    "2": "20"
                                },
                                {
                                    "0": "3673178",
                                    "1": "Air cushion machine (Blue)",
                                    "2": "20"
                                },
                                {
                                    "0": "3669324",
                                    "1": "Air cushion machine (Blue)",
                                    "2": "20"
                                },
                                {
                                    "0": "3669610",
                                    "1": "Air cushion machine (Blue)",
                                    "2": "20"
                                },
                                {
                                    "0": "3669666",
                                    "1": "Air cushion machine (Blue)",
                                    "2": "20"
                                },
                                {
                                    "0": "3669670",
                                    "1": "Air cushion machine (Blue)",
                                    "2": "20"
                                },
                                {
                                    "0": "3670079",
                                    "1": "Air cushion machine (Blue)",
                                    "2": "20"
                                },
                                {
                                    "0": "3670083",
                                    "1": "Air cushion machine (Blue)",
                                    "2": "20"
                                },
                                {
                                    "0": "3667779",
                                    "1": "Air cushion machine (Blue)",
                                    "2": "20"
                                },
                                {
                                    "0": "3668920",
                                    "1": "Air cushion machine (Blue)",
                                    "2": "20"
                                },
                                {
                                    "0": "3668927",
                                    "1": "Air cushion machine (Blue)",
                                    "2": "20"
                                },
                                {
                                    "0": "3669023",
                                    "1": "Air cushion machine (Blue)",
                                    "2": "20"
                                },
                                {
                                    "0": "3669112",
                                    "1": "Air cushion machine (Blue)",
                                    "2": "20"
                                },
                                {
                                    "0": "3669130",
                                    "1": "Air cushion machine (Blue)",
                                    "2": "20"
                                },
                                {
                                    "0": "3666914",
                                    "1": "Air cushion machine (Blue)",
                                    "2": "20"
                                },
                                {
                                    "0": "3666921",
                                    "1": "Air cushion machine (Blue)",
                                    "2": "20"
                                },
                                {
                                    "0": "3666996",
                                    "1": "Air cushion machine (Blue)",
                                    "2": "20"
                                },
                                {
                                    "0": "3667090",
                                    "1": "Air cushion machine (Blue)",
                                    "2": "20"
                                },
                                {
                                    "0": "3667312",
                                    "1": "Air cushion machine (Blue)",
                                    "2": "20"
                                },
                                {
                                    "0": "3667526",
                                    "1": "Air cushion machine (Blue)",
                                    "2": "20"
                                },
                                {
                                    "0": "3666509",
                                    "1": "Air cushion machine (Blue)",
                                    "2": "20"
                                },
                                {
                                    "0": "3666527",
                                    "1": "Air cushion machine (Blue)",
                                    "2": "20"
                                },
                                {
                                    "0": "3666535",
                                    "1": "Air cushion machine (Blue)",
                                    "2": "20"
                                },
                                {
                                    "0": "3666603",
                                    "1": "Air cushion machine (Blue)",
                                    "2": "20"
                                },
                                {
                                    "0": "3666619",
                                    "1": "Air cushion machine (Blue)",
                                    "2": "20"
                                },
                                {
                                    "0": "3666812",
                                    "1": "Air cushion machine (Blue)",
                                    "2": "20"
                                },
                                {
                                    "0": "3666197",
                                    "1": "Air cushion machine (Blue)",
                                    "2": "20"
                                },
                                {
                                    "0": "3666199",
                                    "1": "Air cushion machine (Blue)",
                                    "2": "20"
                                },
                                {
                                    "0": "3666216",
                                    "1": "Air cushion machine (Blue)",
                                    "2": "20"
                                },
                                {
                                    "0": "3666396",
                                    "1": "Air cushion machine (Blue)",
                                    "2": "20"
                                },
                                {
                                    "0": "3666410",
                                    "1": "Air cushion machine (Blue)",
                                    "2": "20"
                                },
                                {
                                    "0": "3666434",
                                    "1": "Air cushion machine (Blue)",
                                    "2": "20"
                                },
                                {
                                    "0": "3665882",
                                    "1": "Air cushion machine (Blue)",
                                    "2": "20"
                                },
                                {
                                    "0": "3665935",
                                    "1": "Air cushion machine (Blue)",
                                    "2": "20"
                                },
                                {
                                    "0": "3665940",
                                    "1": "Air cushion machine (Blue)",
                                    "2": "20"
                                },
                                {
                                    "0": "3665941",
                                    "1": "Air cushion machine (Blue)",
                                    "2": "20"
                                },
                                {
                                    "0": "3666018",
                                    "1": "Air cushion machine (Blue)",
                                    "2": "20"
                                },
                                {
                                    "0": "3666116",
                                    "1": "Air cushion machine (Blue)",
                                    "2": "20"
                                },
                                {
                                    "0": "3664981",
                                    "1": "Air cushion machine (Blue)",
                                    "2": "20"
                                },
                                {
                                    "0": "3665211",
                                    "1": "Air cushion machine (Blue)",
                                    "2": "20"
                                },
                                {
                                    "0": "3665527",
                                    "1": "Air cushion machine (Blue)",
                                    "2": "20"
                                },
                                {
                                    "0": "3665613",
                                    "1": "Air cushion machine (Blue)",
                                    "2": "20"
                                },
                                {
                                    "0": "3665702",
                                    "1": "Air cushion machine (Blue)",
                                    "2": "20"
                                },
                                {
                                    "0": "3665818",
                                    "1": "Air cushion machine (Blue)",
                                    "2": "20"
                                },
                                {
                                    "0": "3663893",
                                    "1": "Air cushion machine (Blue)",
                                    "2": "20"
                                },
                                {
                                    "0": "3664164",
                                    "1": "Air cushion machine (Blue)",
                                    "2": "20"
                                },
                                {
                                    "0": "3664506",
                                    "1": "Air cushion machine (Blue)",
                                    "2": "20"
                                },
                                {
                                    "0": "3664621",
                                    "1": "Air cushion machine (Blue)",
                                    "2": "20"
                                },
                                {
                                    "0": "3664793",
                                    "1": "Air cushion machine (Blue)",
                                    "2": "20"
                                },
                                {
                                    "0": "3664880",
                                    "1": "Air cushion machine (Blue)",
                                    "2": "20"
                                },
                                {
                                    "0": "3663498",
                                    "1": "Air cushion machine (Blue)",
                                    "2": "20"
                                },
                                {
                                    "0": "3663544",
                                    "1": "Air cushion machine (Blue)",
                                    "2": "20"
                                },
                                {
                                    "0": "3663669",
                                    "1": "Air cushion machine (Blue)",
                                    "2": "20"
                                },
                                {
                                    "0": "3663699",
                                    "1": "Air cushion machine (Blue)",
                                    "2": "20"
                                },
                                {
                                    "0": "3663710",
                                    "1": "Air cushion machine (Blue)",
                                    "2": "20"
                                },
                                {
                                    "0": "3663788",
                                    "1": "Air cushion machine (Blue)",
                                    "2": "20"
                                },
                                {
                                    "0": "3663046",
                                    "1": "Air cushion machine (Blue)",
                                    "2": "20"
                                },
                                {
                                    "0": "3663112",
                                    "1": "Air cushion machine (Blue)",
                                    "2": "20"
                                },
                                {
                                    "0": "3663402",
                                    "1": "Air cushion machine (Blue)",
                                    "2": "20"
                                },
                                {
                                    "0": "3663406",
                                    "1": "Air cushion machine (Blue)",
                                    "2": "20"
                                },
                                {
                                    "0": "3663472",
                                    "1": "Air cushion machine (Blue)",
                                    "2": "20"
                                },
                                {
                                    "0": "3663496",
                                    "1": "Air cushion machine (Blue)",
                                    "2": "20"
                                },
                                {
                                    "0": "3662398",
                                    "1": "Air cushion machine (Blue)",
                                    "2": "20"
                                },
                                {
                                    "0": "3662447",
                                    "1": "Air cushion machine (Blue)",
                                    "2": "20"
                                },
                                {
                                    "0": "3662454",
                                    "1": "Air cushion machine (Blue)",
                                    "2": "20"
                                },
                                {
                                    "0": "3662731",
                                    "1": "Air cushion machine (Blue)",
                                    "2": "20"
                                },
                                {
                                    "0": "3662768",
                                    "1": "Air cushion machine (Blue)",
                                    "2": "20"
                                },
                                {
                                    "0": "3662829",
                                    "1": "Air cushion machine (Blue)",
                                    "2": "20"
                                },
                                {
                                    "0": "3660952",
                                    "1": "Air cushion machine (Blue)",
                                    "2": "20"
                                },
                                {
                                    "0": "3661009",
                                    "1": "Air cushion machine (Blue)",
                                    "2": "20"
                                },
                                {
                                    "0": "3661117",
                                    "1": "Air cushion machine (Blue)",
                                    "2": "20"
                                },
                                {
                                    "0": "3661119",
                                    "1": "Air cushion machine (Blue)",
                                    "2": "20"
                                },
                                {
                                    "0": "3661801",
                                    "1": "Air cushion machine (Blue)",
                                    "2": "20"
                                },
                                {
                                    "0": "3661812",
                                    "1": "Air cushion machine (Blue)",
                                    "2": "20"
                                },
                                {
                                    "0": "3660277",
                                    "1": "Air cushion machine (Blue)",
                                    "2": "20"
                                },
                                {
                                    "0": "3660279",
                                    "1": "Air cushion machine (Blue)",
                                    "2": "20"
                                },
                                {
                                    "0": "3660429",
                                    "1": "Air cushion machine (Blue)",
                                    "2": "20"
                                },
                                {
                                    "0": "3660563",
                                    "1": "Air cushion machine (Blue)",
                                    "2": "20"
                                },
                                {
                                    "0": "3660825",
                                    "1": "Air cushion machine (Blue)",
                                    "2": "20"
                                },
                                {
                                    "0": "3660885",
                                    "1": "Air cushion machine (Blue)",
                                    "2": "20"
                                },
                                {
                                    "0": "3658272",
                                    "1": "Air cushion machine (Blue)",
                                    "2": "20"
                                },
                                {
                                    "0": "3659012",
                                    "1": "Air cushion machine (Blue)",
                                    "2": "20"
                                },
                                {
                                    "0": "3659243",
                                    "1": "Air cushion machine (Blue)",
                                    "2": "20"
                                },
                                {
                                    "0": "3659280",
                                    "1": "Air cushion machine (Blue)",
                                    "2": "20"
                                },
                                {
                                    "0": "3659317",
                                    "1": "Air cushion machine (Blue)",
                                    "2": "20"
                                },
                                {
                                    "0": "3659779",
                                    "1": "Air cushion machine (Blue)",
                                    "2": "20"
                                },
                                {
                                    "0": "3657470",
                                    "1": "Air cushion machine (Blue)",
                                    "2": "20"
                                },
                                {
                                    "0": "3657605",
                                    "1": "Air cushion machine (Blue)",
                                    "2": "20"
                                },
                                {
                                    "0": "3657674",
                                    "1": "Air cushion machine (Blue)",
                                    "2": "20"
                                },
                                {
                                    "0": "3658056",
                                    "1": "Air cushion machine (Blue)",
                                    "2": "20"
                                },
                                {
                                    "0": "3658080",
                                    "1": "Air cushion machine (Blue)",
                                    "2": "20"
                                },
                                {
                                    "0": "3658167",
                                    "1": "Air cushion machine (Blue)",
                                    "2": "20"
                                },
                                {
                                    "0": "3651363",
                                    "1": "Air cushion machine (Blue)",
                                    "2": "20"
                                },
                                {
                                    "0": "3651368",
                                    "1": "Air cushion machine (Blue)",
                                    "2": "20"
                                },
                                {
                                    "0": "3651510",
                                    "1": "Air cushion machine (Blue)",
                                    "2": "20"
                                },
                                {
                                    "0": "3651768",
                                    "1": "Air cushion machine (Blue)",
                                    "2": "20"
                                },
                                {
                                    "0": "3651814",
                                    "1": "Air cushion machine (Blue)",
                                    "2": "20"
                                },
                                {
                                    "0": "3656538",
                                    "1": "Air cushion machine (Blue)",
                                    "2": "20"
                                },
                                {
                                    "0": "3648540",
                                    "1": "Air cushion machine (Blue)",
                                    "2": "20"
                                },
                                {
                                    "0": "3650877",
                                    "1": "Air cushion machine (Blue)",
                                    "2": "20"
                                },
                                {
                                    "0": "3650887",
                                    "1": "Air cushion machine (Blue)",
                                    "2": "20"
                                },
                                {
                                    "0": "3651263",
                                    "1": "Air cushion machine (Blue)",
                                    "2": "20"
                                },
                                {
                                    "0": "3651273",
                                    "1": "Air cushion machine (Blue)",
                                    "2": "20"
                                },
                                {
                                    "0": "3651279",
                                    "1": "Air cushion machine (Blue)",
                                    "2": "20"
                                },
                                {
                                    "0": "3647243",
                                    "1": "Air cushion machine (Blue)",
                                    "2": "20"
                                },
                                {
                                    "0": "3648002",
                                    "1": "Air cushion machine (Blue)",
                                    "2": "20"
                                },
                                {
                                    "0": "3648185",
                                    "1": "Air cushion machine (Blue)",
                                    "2": "20"
                                },
                                {
                                    "0": "3648189",
                                    "1": "Air cushion machine (Blue)",
                                    "2": "20"
                                },
                                {
                                    "0": "3648224",
                                    "1": "Air cushion machine (Blue)",
                                    "2": "20"
                                },
                                {
                                    "0": "3648530",
                                    "1": "Air cushion machine (Blue)",
                                    "2": "20"
                                },
                                {
                                    "0": "3645059",
                                    "1": "Air cushion machine (Blue)",
                                    "2": "20"
                                },
                                {
                                    "0": "3645233",
                                    "1": "Air cushion machine (Blue)",
                                    "2": "20"
                                },
                                {
                                    "0": "3645249",
                                    "1": "Air cushion machine (Blue)",
                                    "2": "20"
                                },
                                {
                                    "0": "3645450",
                                    "1": "Air cushion machine (Blue)",
                                    "2": "20"
                                },
                                {
                                    "0": "3645832",
                                    "1": "Air cushion machine (Blue)",
                                    "2": "20"
                                },
                                {
                                    "0": "3646284",
                                    "1": "Air cushion machine (Blue)",
                                    "2": "20"
                                },
                                {
                                    "0": "3644427",
                                    "1": "Air cushion machine (Blue)",
                                    "2": "20"
                                },
                                {
                                    "0": "3644508",
                                    "1": "Air cushion machine (Blue)",
                                    "2": "20"
                                },
                                {
                                    "0": "3644730",
                                    "1": "Air cushion machine (Blue)",
                                    "2": "20"
                                },
                                {
                                    "0": "3644756",
                                    "1": "Air cushion machine (Blue)",
                                    "2": "20"
                                },
                                {
                                    "0": "3644796",
                                    "1": "Air cushion machine (Blue)",
                                    "2": "20"
                                },
                                {
                                    "0": "3645043",
                                    "1": "Air cushion machine (Blue)",
                                    "2": "20"
                                },
                                {
                                    "0": "3643822",
                                    "1": "Air cushion machine (Blue)",
                                    "2": "20"
                                },
                                {
                                    "0": "3643826",
                                    "1": "Air cushion machine (Blue)",
                                    "2": "20"
                                },
                                {
                                    "0": "3644175",
                                    "1": "Air cushion machine (Blue)",
                                    "2": "20"
                                },
                                {
                                    "0": "3644190",
                                    "1": "Air cushion machine (Blue)",
                                    "2": "20"
                                },
                                {
                                    "0": "3644286",
                                    "1": "Air cushion machine (Blue)",
                                    "2": "20"
                                },
                                {
                                    "0": "3644407",
                                    "1": "Air cushion machine (Blue)",
                                    "2": "20"
                                },
                                {
                                    "0": "3643492",
                                    "1": "Air cushion machine (Blue)",
                                    "2": "20"
                                },
                                {
                                    "0": "3643544",
                                    "1": "Air cushion machine (Blue)",
                                    "2": "20"
                                },
                                {
                                    "0": "3643568",
                                    "1": "Air cushion machine (Blue)",
                                    "2": "20"
                                },
                                {
                                    "0": "3643592",
                                    "1": "Air cushion machine (Blue)",
                                    "2": "20"
                                },
                                {
                                    "0": "3643706",
                                    "1": "Air cushion machine (Blue)",
                                    "2": "20"
                                },
                                {
                                    "0": "3643766",
                                    "1": "Air cushion machine (Blue)",
                                    "2": "20"
                                },
                                {
                                    "0": "3643202",
                                    "1": "Air cushion machine (Blue)",
                                    "2": "20"
                                },
                                {
                                    "0": "3643279",
                                    "1": "Air cushion machine (Blue)",
                                    "2": "20"
                                },
                                {
                                    "0": "3643340",
                                    "1": "Air cushion machine (Blue)",
                                    "2": "20"
                                },
                                {
                                    "0": "3643368",
                                    "1": "Air cushion machine (Blue)",
                                    "2": "20"
                                },
                                {
                                    "0": "3643421",
                                    "1": "Air cushion machine (Blue)",
                                    "2": "20"
                                },
                                {
                                    "0": "3643455",
                                    "1": "Air cushion machine (Blue)",
                                    "2": "20"
                                },
                                {
                                    "0": "3641898",
                                    "1": "Air cushion machine (Blue)",
                                    "2": "20"
                                },
                                {
                                    "0": "3642378",
                                    "1": "Air cushion machine (Blue)",
                                    "2": "20"
                                },
                                {
                                    "0": "3642573",
                                    "1": "Air cushion machine (Blue)",
                                    "2": "20"
                                },
                                {
                                    "0": "3642686",
                                    "1": "Air cushion machine (Blue)",
                                    "2": "20"
                                },
                                {
                                    "0": "3642816",
                                    "1": "Air cushion machine (Blue)",
                                    "2": "20"
                                },
                                {
                                    "0": "3643052",
                                    "1": "Air cushion machine (Blue)",
                                    "2": "20"
                                },
                                {
                                    "0": "3641255",
                                    "1": "Air cushion machine (Blue)",
                                    "2": "20"
                                },
                                {
                                    "0": "3641498",
                                    "1": "Air cushion machine (Blue)",
                                    "2": "20"
                                },
                                {
                                    "0": "3641589",
                                    "1": "Air cushion machine (Blue)",
                                    "2": "20"
                                },
                                {
                                    "0": "3641596",
                                    "1": "Air cushion machine (Blue)",
                                    "2": "20"
                                },
                                {
                                    "0": "3641767",
                                    "1": "Air cushion machine (Blue)",
                                    "2": "20"
                                },
                                {
                                    "0": "3641891",
                                    "1": "Air cushion machine (Blue)",
                                    "2": "20"
                                },
                                {
                                    "0": "3640034",
                                    "1": "Air cushion machine (Blue)",
                                    "2": "20"
                                },
                                {
                                    "0": "3640201",
                                    "1": "Air cushion machine (Blue)",
                                    "2": "20"
                                },
                                {
                                    "0": "3640281",
                                    "1": "Air cushion machine (Blue)",
                                    "2": "20"
                                },
                                {
                                    "0": "3640300",
                                    "1": "Air cushion machine (Blue)",
                                    "2": "20"
                                },
                                {
                                    "0": "3640586",
                                    "1": "Air cushion machine (Blue)",
                                    "2": "20"
                                },
                                {
                                    "0": "3641036",
                                    "1": "Air cushion machine (Blue)",
                                    "2": "20"
                                },
                                {
                                    "0": "3639207",
                                    "1": "Air cushion machine (Blue)",
                                    "2": "20"
                                },
                                {
                                    "0": "3639253",
                                    "1": "Air cushion machine (Blue)",
                                    "2": "20"
                                },
                                {
                                    "0": "3639263",
                                    "1": "Air cushion machine (Blue)",
                                    "2": "20"
                                },
                                {
                                    "0": "3639531",
                                    "1": "Air cushion machine (Blue)",
                                    "2": "20"
                                },
                                {
                                    "0": "3639810",
                                    "1": "Air cushion machine (Blue)",
                                    "2": "20"
                                },
                                {
                                    "0": "3639924",
                                    "1": "Air cushion machine (Blue)",
                                    "2": "20"
                                },
                                {
                                    "0": "3638043",
                                    "1": "Air cushion machine (Blue)",
                                    "2": "20"
                                },
                                {
                                    "0": "3638084",
                                    "1": "Air cushion machine (Blue)",
                                    "2": "20"
                                },
                                {
                                    "0": "3638171",
                                    "1": "Air cushion machine (Blue)",
                                    "2": "20"
                                },
                                {
                                    "0": "3638177",
                                    "1": "Air cushion machine (Blue)",
                                    "2": "20"
                                },
                                {
                                    "0": "3638593",
                                    "1": "Air cushion machine (Blue)",
                                    "2": "20"
                                },
                                {
                                    "0": "3638949",
                                    "1": "Air cushion machine (Blue)",
                                    "2": "20"
                                },
                                {
                                    "0": "3636338",
                                    "1": "Air cushion machine (Blue)",
                                    "2": "20"
                                },
                                {
                                    "0": "3636457",
                                    "1": "Air cushion machine (Blue)",
                                    "2": "20"
                                },
                                {
                                    "0": "3636495",
                                    "1": "Air cushion machine (Blue)",
                                    "2": "20"
                                },
                                {
                                    "0": "3636942",
                                    "1": "Air cushion machine (Blue)",
                                    "2": "20"
                                },
                                {
                                    "0": "3637676",
                                    "1": "Air cushion machine (Blue)",
                                    "2": "20"
                                },
                                {
                                    "0": "3637973",
                                    "1": "Air cushion machine (Blue)",
                                    "2": "20"
                                },
                                {
                                    "0": "3635947",
                                    "1": "Air cushion machine (Blue)",
                                    "2": "20"
                                },
                                {
                                    "0": "3635955",
                                    "1": "Air cushion machine (Blue)",
                                    "2": "20"
                                },
                                {
                                    "0": "3636021",
                                    "1": "Air cushion machine (Blue)",
                                    "2": "20"
                                },
                                {
                                    "0": "3636253",
                                    "1": "Air cushion machine (Blue)",
                                    "2": "20"
                                },
                                {
                                    "0": "3636268",
                                    "1": "Air cushion machine (Blue)",
                                    "2": "20"
                                },
                                {
                                    "0": "3636285",
                                    "1": "Air cushion machine (Blue)",
                                    "2": "20"
                                },
                                {
                                    "0": "3634799",
                                    "1": "Air cushion machine (Blue)",
                                    "2": "20"
                                },
                                {
                                    "0": "3634859",
                                    "1": "Air cushion machine (Blue)",
                                    "2": "20"
                                },
                                {
                                    "0": "3635052",
                                    "1": "Air cushion machine (Blue)",
                                    "2": "20"
                                },
                                {
                                    "0": "3635089",
                                    "1": "Air cushion machine (Blue)",
                                    "2": "20"
                                },
                                {
                                    "0": "3635598",
                                    "1": "Air cushion machine (Blue)",
                                    "2": "20"
                                },
                                {
                                    "0": "3635725",
                                    "1": "Air cushion machine (Blue)",
                                    "2": "20"
                                },
                                {
                                    "0": "3633820",
                                    "1": "Air cushion machine (Blue)",
                                    "2": "20"
                                },
                                {
                                    "0": "3633868",
                                    "1": "Air cushion machine (Blue)",
                                    "2": "20"
                                },
                                {
                                    "0": "3634080",
                                    "1": "Air cushion machine (Blue)",
                                    "2": "20"
                                },
                                {
                                    "0": "3634544",
                                    "1": "Air cushion machine (Blue)",
                                    "2": "20"
                                },
                                {
                                    "0": "3634661",
                                    "1": "Air cushion machine (Blue)",
                                    "2": "20"
                                },
                                {
                                    "0": "3634679",
                                    "1": "Air cushion machine (Blue)",
                                    "2": "20"
                                },
                                {
                                    "0": "3633310",
                                    "1": "Air cushion machine (Blue)",
                                    "2": "20"
                                },
                                {
                                    "0": "3633328",
                                    "1": "Air cushion machine (Blue)",
                                    "2": "20"
                                },
                                {
                                    "0": "3633356",
                                    "1": "Air cushion machine (Blue)",
                                    "2": "20"
                                },
                                {
                                    "0": "3633568",
                                    "1": "Air cushion machine (Blue)",
                                    "2": "20"
                                },
                                {
                                    "0": "3633723",
                                    "1": "Air cushion machine (Blue)",
                                    "2": "20"
                                },
                                {
                                    "0": "3633784",
                                    "1": "Air cushion machine (Blue)",
                                    "2": "20"
                                },
                                {
                                    "0": "3632480",
                                    "1": "Air cushion machine (Blue)",
                                    "2": "20"
                                },
                                {
                                    "0": "3632734",
                                    "1": "Air cushion machine (Blue)",
                                    "2": "20"
                                },
                                {
                                    "0": "3632947",
                                    "1": "Air cushion machine (Blue)",
                                    "2": "20"
                                },
                                {
                                    "0": "3633024",
                                    "1": "Air cushion machine (Blue)",
                                    "2": "20"
                                },
                                {
                                    "0": "3633111",
                                    "1": "Air cushion machine (Blue)",
                                    "2": "20"
                                },
                                {
                                    "0": "3633301",
                                    "1": "Air cushion machine (Blue)",
                                    "2": "20"
                                },
                                {
                                    "0": "3626533",
                                    "1": "Air cushion machine (Blue)",
                                    "2": "20"
                                },
                                {
                                    "0": "3628167",
                                    "1": "Air cushion machine (Blue)",
                                    "2": "20"
                                },
                                {
                                    "0": "3628495",
                                    "1": "Air cushion machine (Blue)",
                                    "2": "20"
                                },
                                {
                                    "0": "3628504",
                                    "1": "Air cushion machine (Blue)",
                                    "2": "20"
                                },
                                {
                                    "0": "3629551",
                                    "1": "Air cushion machine (Blue)",
                                    "2": "20"
                                },
                                {
                                    "0": "3632326",
                                    "1": "Air cushion machine (Blue)",
                                    "2": "20"
                                },
                                {
                                    "0": "3626126",
                                    "1": "Air cushion machine (Blue)",
                                    "2": "20"
                                },
                                {
                                    "0": "3626362",
                                    "1": "Air cushion machine (Blue)",
                                    "2": "20"
                                },
                                {
                                    "0": "3626403",
                                    "1": "Air cushion machine (Blue)",
                                    "2": "20"
                                },
                                {
                                    "0": "3626420",
                                    "1": "Air cushion machine (Blue)",
                                    "2": "20"
                                },
                                {
                                    "0": "3626445",
                                    "1": "Air cushion machine (Blue)",
                                    "2": "20"
                                },
                                {
                                    "0": "3626525",
                                    "1": "Air cushion machine (Blue)",
                                    "2": "20"
                                },
                                {
                                    "0": "3625826",
                                    "1": "Air cushion machine (Blue)",
                                    "2": "20"
                                },
                                {
                                    "0": "3625907",
                                    "1": "Air cushion machine (Blue)",
                                    "2": "20"
                                },
                                {
                                    "0": "3625949",
                                    "1": "Air cushion machine (Blue)",
                                    "2": "20"
                                },
                                {
                                    "0": "3625960",
                                    "1": "Air cushion machine (Blue)",
                                    "2": "20"
                                },
                                {
                                    "0": "3626070",
                                    "1": "Air cushion machine (Blue)",
                                    "2": "20"
                                },
                                {
                                    "0": "3626077",
                                    "1": "Air cushion machine (Blue)",
                                    "2": "20"
                                },
                                {
                                    "0": "3625647",
                                    "1": "Air cushion machine (Blue)",
                                    "2": "20"
                                },
                                {
                                    "0": "3625650",
                                    "1": "Air cushion machine (Blue)",
                                    "2": "20"
                                },
                                {
                                    "0": "3625751",
                                    "1": "Air cushion machine (Blue)",
                                    "2": "20"
                                },
                                {
                                    "0": "3625752",
                                    "1": "Air cushion machine (Blue)",
                                    "2": "20"
                                },
                                {
                                    "0": "3625780",
                                    "1": "Air cushion machine (Blue)",
                                    "2": "20"
                                },
                                {
                                    "0": "3625807",
                                    "1": "Air cushion machine (Blue)",
                                    "2": "20"
                                },
                                {
                                    "0": "3625416",
                                    "1": "Air cushion machine (Blue)",
                                    "2": "20"
                                },
                                {
                                    "0": "3625455",
                                    "1": "Air cushion machine (Blue)",
                                    "2": "20"
                                },
                                {
                                    "0": "3625543",
                                    "1": "Air cushion machine (Blue)",
                                    "2": "20"
                                },
                                {
                                    "0": "3625548",
                                    "1": "Air cushion machine (Blue)",
                                    "2": "20"
                                },
                                {
                                    "0": "3625590",
                                    "1": "Air cushion machine (Blue)",
                                    "2": "20"
                                },
                                {
                                    "0": "3625635",
                                    "1": "Air cushion machine (Blue)",
                                    "2": "20"
                                },
                                {
                                    "0": "3625171",
                                    "1": "Air cushion machine (Blue)",
                                    "2": "20"
                                },
                                {
                                    "0": "3625255",
                                    "1": "Air cushion machine (Blue)",
                                    "2": "20"
                                },
                                {
                                    "0": "3625274",
                                    "1": "Air cushion machine (Blue)",
                                    "2": "20"
                                },
                                {
                                    "0": "3625301",
                                    "1": "Air cushion machine (Blue)",
                                    "2": "20"
                                },
                                {
                                    "0": "3625319",
                                    "1": "Air cushion machine (Blue)",
                                    "2": "20"
                                },
                                {
                                    "0": "3625331",
                                    "1": "Air cushion machine (Blue)",
                                    "2": "20"
                                },
                                {
                                    "0": "3624781",
                                    "1": "Air cushion machine (Blue)",
                                    "2": "20"
                                },
                                {
                                    "0": "3624853",
                                    "1": "Air cushion machine (Blue)",
                                    "2": "20"
                                },
                                {
                                    "0": "3624914",
                                    "1": "Air cushion machine (Blue)",
                                    "2": "20"
                                },
                                {
                                    "0": "3624969",
                                    "1": "Air cushion machine (Blue)",
                                    "2": "20"
                                },
                                {
                                    "0": "3624971",
                                    "1": "Air cushion machine (Blue)",
                                    "2": "20"
                                },
                                {
                                    "0": "3624999",
                                    "1": "Air cushion machine (Blue)",
                                    "2": "20"
                                },
                                {
                                    "0": "3624625",
                                    "1": "Air cushion machine (Blue)",
                                    "2": "20"
                                },
                                {
                                    "0": "3624713",
                                    "1": "Air cushion machine (Blue)",
                                    "2": "20"
                                },
                                {
                                    "0": "3624715",
                                    "1": "Air cushion machine (Blue)",
                                    "2": "20"
                                },
                                {
                                    "0": "3624724",
                                    "1": "Air cushion machine (Blue)",
                                    "2": "20"
                                },
                                {
                                    "0": "3624764",
                                    "1": "Air cushion machine (Blue)",
                                    "2": "20"
                                },
                                {
                                    "0": "3624778",
                                    "1": "Air cushion machine (Blue)",
                                    "2": "20"
                                },
                                {
                                    "0": "3624334",
                                    "1": "Air cushion machine (Blue)",
                                    "2": "20"
                                },
                                {
                                    "0": "3624392",
                                    "1": "Air cushion machine (Blue)",
                                    "2": "20"
                                },
                                {
                                    "0": "3624420",
                                    "1": "Air cushion machine (Blue)",
                                    "2": "20"
                                },
                                {
                                    "0": "3624458",
                                    "1": "Air cushion machine (Blue)",
                                    "2": "20"
                                },
                                {
                                    "0": "3624519",
                                    "1": "Air cushion machine (Blue)",
                                    "2": "20"
                                },
                                {
                                    "0": "3624621",
                                    "1": "Air cushion machine (Blue)",
                                    "2": "20"
                                },
                                {
                                    "0": "3624076",
                                    "1": "Air cushion machine (Blue)",
                                    "2": "20"
                                },
                                {
                                    "0": "3624116",
                                    "1": "Air cushion machine (Blue)",
                                    "2": "20"
                                },
                                {
                                    "0": "3624144",
                                    "1": "Air cushion machine (Blue)",
                                    "2": "20"
                                },
                                {
                                    "0": "3624202",
                                    "1": "Air cushion machine (Blue)",
                                    "2": "20"
                                },
                                {
                                    "0": "3624213",
                                    "1": "Air cushion machine (Blue)",
                                    "2": "20"
                                },
                                {
                                    "0": "3624299",
                                    "1": "Air cushion machine (Blue)",
                                    "2": "20"
                                },
                                {
                                    "0": "3623767",
                                    "1": "Air cushion machine (Blue)",
                                    "2": "20"
                                },
                                {
                                    "0": "3623854",
                                    "1": "Air cushion machine (Blue)",
                                    "2": "20"
                                },
                                {
                                    "0": "3623871",
                                    "1": "Air cushion machine (Blue)",
                                    "2": "20"
                                },
                                {
                                    "0": "3623883",
                                    "1": "Air cushion machine (Blue)",
                                    "2": "20"
                                },
                                {
                                    "0": "3623903",
                                    "1": "Air cushion machine (Blue)",
                                    "2": "20"
                                },
                                {
                                    "0": "3623994",
                                    "1": "Air cushion machine (Blue)",
                                    "2": "20"
                                },
                                {
                                    "0": "3623567",
                                    "1": "Air cushion machine (Blue)",
                                    "2": "20"
                                },
                                {
                                    "0": "3623593",
                                    "1": "Air cushion machine (Blue)",
                                    "2": "20"
                                },
                                {
                                    "0": "3623594",
                                    "1": "Air cushion machine (Blue)",
                                    "2": "20"
                                },
                                {
                                    "0": "3623645",
                                    "1": "Air cushion machine (Blue)",
                                    "2": "20"
                                },
                                {
                                    "0": "3623682",
                                    "1": "Air cushion machine (Blue)",
                                    "2": "20"
                                },
                                {
                                    "0": "3623731",
                                    "1": "Air cushion machine (Blue)",
                                    "2": "20"
                                },
                                {
                                    "0": "3623013",
                                    "1": "Air cushion machine (Blue)",
                                    "2": "20"
                                },
                                {
                                    "0": "3623029",
                                    "1": "Air cushion machine (Blue)",
                                    "2": "20"
                                },
                                {
                                    "0": "3623089",
                                    "1": "Air cushion machine (Blue)",
                                    "2": "20"
                                },
                                {
                                    "0": "3623283",
                                    "1": "Air cushion machine (Blue)",
                                    "2": "20"
                                },
                                {
                                    "0": "3623340",
                                    "1": "Air cushion machine (Blue)",
                                    "2": "20"
                                },
                                {
                                    "0": "3623352",
                                    "1": "Air cushion machine (Blue)",
                                    "2": "20"
                                },
                                {
                                    "0": "3622793",
                                    "1": "Air cushion machine (Blue)",
                                    "2": "20"
                                },
                                {
                                    "0": "3622823",
                                    "1": "Air cushion machine (Blue)",
                                    "2": "20"
                                },
                                {
                                    "0": "3622837",
                                    "1": "Air cushion machine (Blue)",
                                    "2": "20"
                                },
                                {
                                    "0": "3622861",
                                    "1": "Air cushion machine (Blue)",
                                    "2": "20"
                                },
                                {
                                    "0": "3622881",
                                    "1": "Air cushion machine (Blue)",
                                    "2": "20"
                                },
                                {
                                    "0": "3622887",
                                    "1": "Air cushion machine (Blue)",
                                    "2": "20"
                                },
                                {
                                    "0": "3621323",
                                    "1": "Air cushion machine (Blue)",
                                    "2": "20"
                                },
                                {
                                    "0": "3621380",
                                    "1": "Air cushion machine (Blue)",
                                    "2": "20"
                                },
                                {
                                    "0": "3621488",
                                    "1": "Air cushion machine (Blue)",
                                    "2": "20"
                                },
                                {
                                    "0": "3621490",
                                    "1": "Air cushion machine (Blue)",
                                    "2": "20"
                                },
                                {
                                    "0": "3622172",
                                    "1": "Air cushion machine (Blue)",
                                    "2": "20"
                                },
                                {
                                    "0": "3622183",
                                    "1": "Air cushion machine (Blue)",
                                    "2": "20"
                                },
                                {
                                    "0": "3620648",
                                    "1": "Air cushion machine (Blue)",
                                    "2": "20"
                                },
                                {
                                    "0": "3620650",
                                    "1": "Air cushion machine (Blue)",
                                    "2": "20"
                                },
                                {
                                    "0": "3620800",
                                    "1": "Air cushion machine (Blue)",
                                    "2": "20"
                                },
                                {
                                    "0": "3620934",
                                    "1": "Air cushion machine (Blue)",
                                    "2": "20"
                                },
                                {
                                    "0": "3621196",
                                    "1": "Air cushion machine (Blue)",
                                    "2": "20"
                                },
                                {
                                    "0": "3621256",
                                    "1": "Air cushion machine (Blue)",
                                    "2": "20"
                                },
                                {
                                    "0": "3619150",
                                    "1": "Air cushion machine (Blue)",
                                    "2": "20"
                                },
                                {
                                    "0": "3619183",
                                    "1": "Air cushion machine (Blue)",
                                    "2": "20"
                                },
                                {
                                    "0": "3619709",
                                    "1": "Air cushion machine (Blue)",
                                    "2": "20"
                                },
                                {
                                    "0": "3619844",
                                    "1": "Air cushion machine (Blue)",
                                    "2": "20"
                                },
                                {
                                    "0": "3620001",
                                    "1": "Air cushion machine (Blue)",
                                    "2": "20"
                                },
                                {
                                    "0": "3620205",
                                    "1": "Air cushion machine (Blue)",
                                    "2": "20"
                                },
                                {
                                    "0": "3618265",
                                    "1": "Air cushion machine (Blue)",
                                    "2": "20"
                                },
                                {
                                    "0": "3618547",
                                    "1": "Air cushion machine (Blue)",
                                    "2": "20"
                                },
                                {
                                    "0": "3618816",
                                    "1": "Air cushion machine (Blue)",
                                    "2": "20"
                                },
                                {
                                    "0": "3618881",
                                    "1": "Air cushion machine (Blue)",
                                    "2": "20"
                                },
                                {
                                    "0": "3619102",
                                    "1": "Air cushion machine (Blue)",
                                    "2": "20"
                                },
                                {
                                    "0": "3619128",
                                    "1": "Air cushion machine (Blue)",
                                    "2": "20"
                                },
                                {
                                    "0": "3616079",
                                    "1": "Air cushion machine (Blue)",
                                    "2": "20"
                                },
                                {
                                    "0": "3616848",
                                    "1": "Air cushion machine (Blue)",
                                    "2": "20"
                                },
                                {
                                    "0": "3616852",
                                    "1": "Air cushion machine (Blue)",
                                    "2": "20"
                                },
                                {
                                    "0": "3617133",
                                    "1": "Air cushion machine (Blue)",
                                    "2": "20"
                                },
                                {
                                    "0": "3617216",
                                    "1": "Air cushion machine (Blue)",
                                    "2": "20"
                                },
                                {
                                    "0": "3617415",
                                    "1": "Air cushion machine (Blue)",
                                    "2": "20"
                                },
                                {
                                    "0": "3614992",
                                    "1": "Air cushion machine (Blue)",
                                    "2": "20"
                                },
                                {
                                    "0": "3615174",
                                    "1": "Air cushion machine (Blue)",
                                    "2": "20"
                                },
                                {
                                    "0": "3615240",
                                    "1": "Air cushion machine (Blue)",
                                    "2": "20"
                                },
                                {
                                    "0": "3615372",
                                    "1": "Air cushion machine (Blue)",
                                    "2": "20"
                                },
                                {
                                    "0": "3615648",
                                    "1": "Air cushion machine (Blue)",
                                    "2": "20"
                                },
                                {
                                    "0": "3615781",
                                    "1": "Air cushion machine (Blue)",
                                    "2": "20"
                                },
                                {
                                    "0": "3613545",
                                    "1": "Air cushion machine (Blue)",
                                    "2": "20"
                                },
                                {
                                    "0": "3613842",
                                    "1": "Air cushion machine (Blue)",
                                    "2": "20"
                                },
                                {
                                    "0": "3613848",
                                    "1": "Air cushion machine (Blue)",
                                    "2": "20"
                                },
                                {
                                    "0": "3614456",
                                    "1": "Air cushion machine (Blue)",
                                    "2": "20"
                                },
                                {
                                    "0": "3614561",
                                    "1": "Air cushion machine (Blue)",
                                    "2": "20"
                                },
                                {
                                    "0": "3614723",
                                    "1": "Air cushion machine (Blue)",
                                    "2": "20"
                                },
                                {
                                    "0": "3613148",
                                    "1": "Air cushion machine (Blue)",
                                    "2": "20"
                                },
                                {
                                    "0": "3613184",
                                    "1": "Air cushion machine (Blue)",
                                    "2": "20"
                                },
                                {
                                    "0": "3613188",
                                    "1": "Air cushion machine (Blue)",
                                    "2": "20"
                                },
                                {
                                    "0": "3613266",
                                    "1": "Air cushion machine (Blue)",
                                    "2": "20"
                                },
                                {
                                    "0": "3613405",
                                    "1": "Air cushion machine (Blue)",
                                    "2": "20"
                                },
                                {
                                    "0": "3613472",
                                    "1": "Air cushion machine (Blue)",
                                    "2": "20"
                                },
                                {
                                    "0": "3612366",
                                    "1": "Air cushion machine (Blue)",
                                    "2": "20"
                                },
                                {
                                    "0": "3612791",
                                    "1": "Air cushion machine (Blue)",
                                    "2": "20"
                                },
                                {
                                    "0": "3612859",
                                    "1": "Air cushion machine (Blue)",
                                    "2": "20"
                                },
                                {
                                    "0": "3612915",
                                    "1": "Air cushion machine (Blue)",
                                    "2": "20"
                                },
                                {
                                    "0": "3613081",
                                    "1": "Air cushion machine (Blue)",
                                    "2": "20"
                                },
                                {
                                    "0": "3613126",
                                    "1": "Air cushion machine (Blue)",
                                    "2": "20"
                                },
                                {
                                    "0": "3612062",
                                    "1": "Air cushion machine (Blue)",
                                    "2": "20"
                                },
                                {
                                    "0": "3612135",
                                    "1": "Air cushion machine (Blue)",
                                    "2": "20"
                                },
                                {
                                    "0": "3612218",
                                    "1": "Air cushion machine (Blue)",
                                    "2": "20"
                                },
                                {
                                    "0": "3612311",
                                    "1": "Air cushion machine (Blue)",
                                    "2": "20"
                                },
                                {
                                    "0": "3612318",
                                    "1": "Air cushion machine (Blue)",
                                    "2": "20"
                                },
                                {
                                    "0": "3612348",
                                    "1": "Air cushion machine (Blue)",
                                    "2": "20"
                                },
                                {
                                    "0": "3611123",
                                    "1": "Air cushion machine (Blue)",
                                    "2": "20"
                                },
                                {
                                    "0": "3611200",
                                    "1": "Air cushion machine (Blue)",
                                    "2": "20"
                                },
                                {
                                    "0": "3611257",
                                    "1": "Air cushion machine (Blue)",
                                    "2": "20"
                                },
                                {
                                    "0": "3611341",
                                    "1": "Air cushion machine (Blue)",
                                    "2": "20"
                                },
                                {
                                    "0": "3611761",
                                    "1": "Air cushion machine (Blue)",
                                    "2": "20"
                                },
                                {
                                    "0": "3612051",
                                    "1": "Air cushion machine (Blue)",
                                    "2": "20"
                                },
                                {
                                    "0": "3609206",
                                    "1": "Air cushion machine (Blue)",
                                    "2": "20"
                                },
                                {
                                    "0": "3609280",
                                    "1": "Air cushion machine (Blue)",
                                    "2": "20"
                                },
                                {
                                    "0": "3609869",
                                    "1": "Air cushion machine (Blue)",
                                    "2": "20"
                                },
                                {
                                    "0": "3609917",
                                    "1": "Air cushion machine (Blue)",
                                    "2": "20"
                                },
                                {
                                    "0": "3610528",
                                    "1": "Air cushion machine (Blue)",
                                    "2": "20"
                                },
                                {
                                    "0": "3610551",
                                    "1": "Air cushion machine (Blue)",
                                    "2": "20"
                                },
                                {
                                    "0": "3608534",
                                    "1": "Air cushion machine (Blue)",
                                    "2": "20"
                                },
                                {
                                    "0": "3608618",
                                    "1": "Air cushion machine (Blue)",
                                    "2": "20"
                                },
                                {
                                    "0": "3608637",
                                    "1": "Air cushion machine (Blue)",
                                    "2": "20"
                                },
                                {
                                    "0": "3608647",
                                    "1": "Air cushion machine (Blue)",
                                    "2": "20"
                                },
                                {
                                    "0": "3608966",
                                    "1": "Air cushion machine (Blue)",
                                    "2": "20"
                                },
                                {
                                    "0": "3609177",
                                    "1": "Air cushion machine (Blue)",
                                    "2": "20"
                                }
                            ]
                        },
                        "text/html": "<table><tr><th>Order Key</th><th>Description</th><th>Lead Time Days</th></tr><tr><td>231599</td><td>Air cushion machine (Blue)</td><td>20</td></tr><tr><td>232215</td><td>Air cushion machine (Blue)</td><td>20</td></tr><tr><td>232290</td><td>Air cushion machine (Blue)</td><td>20</td></tr><tr><td>231769</td><td>Air cushion machine (Blue)</td><td>20</td></tr><tr><td>232997</td><td>Air cushion machine (Blue)</td><td>20</td></tr><tr><td>234019</td><td>Air cushion machine (Blue)</td><td>20</td></tr><tr><td>3702343</td><td>Air cushion machine (Blue)</td><td>20</td></tr><tr><td>3702543</td><td>Air cushion machine (Blue)</td><td>20</td></tr><tr><td>3700753</td><td>Air cushion machine (Blue)</td><td>20</td></tr><tr><td>3700850</td><td>Air cushion machine (Blue)</td><td>20</td></tr><tr><td>3701058</td><td>Air cushion machine (Blue)</td><td>20</td></tr><tr><td>3701547</td><td>Air cushion machine (Blue)</td><td>20</td></tr><tr><td>3701851</td><td>Air cushion machine (Blue)</td><td>20</td></tr><tr><td>3701910</td><td>Air cushion machine (Blue)</td><td>20</td></tr><tr><td>3699067</td><td>Air cushion machine (Blue)</td><td>20</td></tr><tr><td>3699971</td><td>Air cushion machine (Blue)</td><td>20</td></tr><tr><td>3700077</td><td>Air cushion machine (Blue)</td><td>20</td></tr><tr><td>3700420</td><td>Air cushion machine (Blue)</td><td>20</td></tr><tr><td>3700588</td><td>Air cushion machine (Blue)</td><td>20</td></tr><tr><td>3700647</td><td>Air cushion machine (Blue)</td><td>20</td></tr><tr><td>3697314</td><td>Air cushion machine (Blue)</td><td>20</td></tr><tr><td>3697324</td><td>Air cushion machine (Blue)</td><td>20</td></tr><tr><td>3697777</td><td>Air cushion machine (Blue)</td><td>20</td></tr><tr><td>3698106</td><td>Air cushion machine (Blue)</td><td>20</td></tr><tr><td>3698246</td><td>Air cushion machine (Blue)</td><td>20</td></tr><tr><td>3698908</td><td>Air cushion machine (Blue)</td><td>20</td></tr><tr><td>3696765</td><td>Air cushion machine (Blue)</td><td>20</td></tr><tr><td>3696768</td><td>Air cushion machine (Blue)</td><td>20</td></tr><tr><td>3696995</td><td>Air cushion machine (Blue)</td><td>20</td></tr><tr><td>3697022</td><td>Air cushion machine (Blue)</td><td>20</td></tr><tr><td>3697026</td><td>Air cushion machine (Blue)</td><td>20</td></tr><tr><td>3697101</td><td>Air cushion machine (Blue)</td><td>20</td></tr><tr><td>3696050</td><td>Air cushion machine (Blue)</td><td>20</td></tr><tr><td>3696120</td><td>Air cushion machine (Blue)</td><td>20</td></tr><tr><td>3696259</td><td>Air cushion machine (Blue)</td><td>20</td></tr><tr><td>3696550</td><td>Air cushion machine (Blue)</td><td>20</td></tr><tr><td>3696658</td><td>Air cushion machine (Blue)</td><td>20</td></tr><tr><td>3696679</td><td>Air cushion machine (Blue)</td><td>20</td></tr><tr><td>3694691</td><td>Air cushion machine (Blue)</td><td>20</td></tr><tr><td>3694692</td><td>Air cushion machine (Blue)</td><td>20</td></tr><tr><td>3695473</td><td>Air cushion machine (Blue)</td><td>20</td></tr><tr><td>3695710</td><td>Air cushion machine (Blue)</td><td>20</td></tr><tr><td>3695804</td><td>Air cushion machine (Blue)</td><td>20</td></tr><tr><td>3695851</td><td>Air cushion machine (Blue)</td><td>20</td></tr><tr><td>3692422</td><td>Air cushion machine (Blue)</td><td>20</td></tr><tr><td>3692780</td><td>Air cushion machine (Blue)</td><td>20</td></tr><tr><td>3693776</td><td>Air cushion machine (Blue)</td><td>20</td></tr><tr><td>3694322</td><td>Air cushion machine (Blue)</td><td>20</td></tr><tr><td>3694458</td><td>Air cushion machine (Blue)</td><td>20</td></tr><tr><td>3694562</td><td>Air cushion machine (Blue)</td><td>20</td></tr><tr><td>3690456</td><td>Air cushion machine (Blue)</td><td>20</td></tr><tr><td>3691479</td><td>Air cushion machine (Blue)</td><td>20</td></tr><tr><td>3691497</td><td>Air cushion machine (Blue)</td><td>20</td></tr><tr><td>3691545</td><td>Air cushion machine (Blue)</td><td>20</td></tr><tr><td>3691570</td><td>Air cushion machine (Blue)</td><td>20</td></tr><tr><td>3691981</td><td>Air cushion machine (Blue)</td><td>20</td></tr><tr><td>3688998</td><td>Air cushion machine (Blue)</td><td>20</td></tr><tr><td>3689106</td><td>Air cushion machine (Blue)</td><td>20</td></tr><tr><td>3689335</td><td>Air cushion machine (Blue)</td><td>20</td></tr><tr><td>3689338</td><td>Air cushion machine (Blue)</td><td>20</td></tr><tr><td>3689554</td><td>Air cushion machine (Blue)</td><td>20</td></tr><tr><td>3690236</td><td>Air cushion machine (Blue)</td><td>20</td></tr><tr><td>3687237</td><td>Air cushion machine (Blue)</td><td>20</td></tr><tr><td>3687640</td><td>Air cushion machine (Blue)</td><td>20</td></tr><tr><td>3687707</td><td>Air cushion machine (Blue)</td><td>20</td></tr><tr><td>3688114</td><td>Air cushion machine (Blue)</td><td>20</td></tr><tr><td>3688364</td><td>Air cushion machine (Blue)</td><td>20</td></tr><tr><td>3688785</td><td>Air cushion machine (Blue)</td><td>20</td></tr><tr><td>3684826</td><td>Air cushion machine (Blue)</td><td>20</td></tr><tr><td>3684915</td><td>Air cushion machine (Blue)</td><td>20</td></tr><tr><td>3685158</td><td>Air cushion machine (Blue)</td><td>20</td></tr><tr><td>3685719</td><td>Air cushion machine (Blue)</td><td>20</td></tr><tr><td>3686065</td><td>Air cushion machine (Blue)</td><td>20</td></tr><tr><td>3686257</td><td>Air cushion machine (Blue)</td><td>20</td></tr><tr><td>3683223</td><td>Air cushion machine (Blue)</td><td>20</td></tr><tr><td>3683278</td><td>Air cushion machine (Blue)</td><td>20</td></tr><tr><td>3683523</td><td>Air cushion machine (Blue)</td><td>20</td></tr><tr><td>3684268</td><td>Air cushion machine (Blue)</td><td>20</td></tr><tr><td>3684463</td><td>Air cushion machine (Blue)</td><td>20</td></tr><tr><td>3684800</td><td>Air cushion machine (Blue)</td><td>20</td></tr><tr><td>3681672</td><td>Air cushion machine (Blue)</td><td>20</td></tr><tr><td>3681962</td><td>Air cushion machine (Blue)</td><td>20</td></tr><tr><td>3682199</td><td>Air cushion machine (Blue)</td><td>20</td></tr><tr><td>3682788</td><td>Air cushion machine (Blue)</td><td>20</td></tr><tr><td>3683110</td><td>Air cushion machine (Blue)</td><td>20</td></tr><tr><td>3683211</td><td>Air cushion machine (Blue)</td><td>20</td></tr><tr><td>3681036</td><td>Air cushion machine (Blue)</td><td>20</td></tr><tr><td>3681045</td><td>Air cushion machine (Blue)</td><td>20</td></tr><tr><td>3681088</td><td>Air cushion machine (Blue)</td><td>20</td></tr><tr><td>3681155</td><td>Air cushion machine (Blue)</td><td>20</td></tr><tr><td>3681286</td><td>Air cushion machine (Blue)</td><td>20</td></tr><tr><td>3681584</td><td>Air cushion machine (Blue)</td><td>20</td></tr><tr><td>3680465</td><td>Air cushion machine (Blue)</td><td>20</td></tr><tr><td>3680480</td><td>Air cushion machine (Blue)</td><td>20</td></tr><tr><td>3680549</td><td>Air cushion machine (Blue)</td><td>20</td></tr><tr><td>3680742</td><td>Air cushion machine (Blue)</td><td>20</td></tr><tr><td>3680761</td><td>Air cushion machine (Blue)</td><td>20</td></tr><tr><td>3680966</td><td>Air cushion machine (Blue)</td><td>20</td></tr><tr><td>3679368</td><td>Air cushion machine (Blue)</td><td>20</td></tr><tr><td>3679389</td><td>Air cushion machine (Blue)</td><td>20</td></tr><tr><td>3679607</td><td>Air cushion machine (Blue)</td><td>20</td></tr><tr><td>3679651</td><td>Air cushion machine (Blue)</td><td>20</td></tr><tr><td>3680068</td><td>Air cushion machine (Blue)</td><td>20</td></tr><tr><td>3680079</td><td>Air cushion machine (Blue)</td><td>20</td></tr><tr><td>3678179</td><td>Air cushion machine (Blue)</td><td>20</td></tr><tr><td>3678512</td><td>Air cushion machine (Blue)</td><td>20</td></tr><tr><td>3678528</td><td>Air cushion machine (Blue)</td><td>20</td></tr><tr><td>3678659</td><td>Air cushion machine (Blue)</td><td>20</td></tr><tr><td>3678989</td><td>Air cushion machine (Blue)</td><td>20</td></tr><tr><td>3679366</td><td>Air cushion machine (Blue)</td><td>20</td></tr><tr><td>3676701</td><td>Air cushion machine (Blue)</td><td>20</td></tr><tr><td>3676986</td><td>Air cushion machine (Blue)</td><td>20</td></tr><tr><td>3677734</td><td>Air cushion machine (Blue)</td><td>20</td></tr><tr><td>3677894</td><td>Air cushion machine (Blue)</td><td>20</td></tr><tr><td>3677898</td><td>Air cushion machine (Blue)</td><td>20</td></tr><tr><td>3677989</td><td>Air cushion machine (Blue)</td><td>20</td></tr><tr><td>3674511</td><td>Air cushion machine (Blue)</td><td>20</td></tr><tr><td>3674822</td><td>Air cushion machine (Blue)</td><td>20</td></tr><tr><td>3675140</td><td>Air cushion machine (Blue)</td><td>20</td></tr><tr><td>3675405</td><td>Air cushion machine (Blue)</td><td>20</td></tr><tr><td>3675540</td><td>Air cushion machine (Blue)</td><td>20</td></tr><tr><td>3675937</td><td>Air cushion machine (Blue)</td><td>20</td></tr><tr><td>3673205</td><td>Air cushion machine (Blue)</td><td>20</td></tr><tr><td>3673279</td><td>Air cushion machine (Blue)</td><td>20</td></tr><tr><td>3673293</td><td>Air cushion machine (Blue)</td><td>20</td></tr><tr><td>3673435</td><td>Air cushion machine (Blue)</td><td>20</td></tr><tr><td>3674030</td><td>Air cushion machine (Blue)</td><td>20</td></tr><tr><td>3674039</td><td>Air cushion machine (Blue)</td><td>20</td></tr><tr><td>3670177</td><td>Air cushion machine (Blue)</td><td>20</td></tr><tr><td>3670414</td><td>Air cushion machine (Blue)</td><td>20</td></tr><tr><td>3670422</td><td>Air cushion machine (Blue)</td><td>20</td></tr><tr><td>3672950</td><td>Air cushion machine (Blue)</td><td>20</td></tr><tr><td>3673006</td><td>Air cushion machine (Blue)</td><td>20</td></tr><tr><td>3673178</td><td>Air cushion machine (Blue)</td><td>20</td></tr><tr><td>3669324</td><td>Air cushion machine (Blue)</td><td>20</td></tr><tr><td>3669610</td><td>Air cushion machine (Blue)</td><td>20</td></tr><tr><td>3669666</td><td>Air cushion machine (Blue)</td><td>20</td></tr><tr><td>3669670</td><td>Air cushion machine (Blue)</td><td>20</td></tr><tr><td>3670079</td><td>Air cushion machine (Blue)</td><td>20</td></tr><tr><td>3670083</td><td>Air cushion machine (Blue)</td><td>20</td></tr><tr><td>3667779</td><td>Air cushion machine (Blue)</td><td>20</td></tr><tr><td>3668920</td><td>Air cushion machine (Blue)</td><td>20</td></tr><tr><td>3668927</td><td>Air cushion machine (Blue)</td><td>20</td></tr><tr><td>3669023</td><td>Air cushion machine (Blue)</td><td>20</td></tr><tr><td>3669112</td><td>Air cushion machine (Blue)</td><td>20</td></tr><tr><td>3669130</td><td>Air cushion machine (Blue)</td><td>20</td></tr><tr><td>3666914</td><td>Air cushion machine (Blue)</td><td>20</td></tr><tr><td>3666921</td><td>Air cushion machine (Blue)</td><td>20</td></tr><tr><td>3666996</td><td>Air cushion machine (Blue)</td><td>20</td></tr><tr><td>3667090</td><td>Air cushion machine (Blue)</td><td>20</td></tr><tr><td>3667312</td><td>Air cushion machine (Blue)</td><td>20</td></tr><tr><td>3667526</td><td>Air cushion machine (Blue)</td><td>20</td></tr><tr><td>3666509</td><td>Air cushion machine (Blue)</td><td>20</td></tr><tr><td>3666527</td><td>Air cushion machine (Blue)</td><td>20</td></tr><tr><td>3666535</td><td>Air cushion machine (Blue)</td><td>20</td></tr><tr><td>3666603</td><td>Air cushion machine (Blue)</td><td>20</td></tr><tr><td>3666619</td><td>Air cushion machine (Blue)</td><td>20</td></tr><tr><td>3666812</td><td>Air cushion machine (Blue)</td><td>20</td></tr><tr><td>3666197</td><td>Air cushion machine (Blue)</td><td>20</td></tr><tr><td>3666199</td><td>Air cushion machine (Blue)</td><td>20</td></tr><tr><td>3666216</td><td>Air cushion machine (Blue)</td><td>20</td></tr><tr><td>3666396</td><td>Air cushion machine (Blue)</td><td>20</td></tr><tr><td>3666410</td><td>Air cushion machine (Blue)</td><td>20</td></tr><tr><td>3666434</td><td>Air cushion machine (Blue)</td><td>20</td></tr><tr><td>3665882</td><td>Air cushion machine (Blue)</td><td>20</td></tr><tr><td>3665935</td><td>Air cushion machine (Blue)</td><td>20</td></tr><tr><td>3665940</td><td>Air cushion machine (Blue)</td><td>20</td></tr><tr><td>3665941</td><td>Air cushion machine (Blue)</td><td>20</td></tr><tr><td>3666018</td><td>Air cushion machine (Blue)</td><td>20</td></tr><tr><td>3666116</td><td>Air cushion machine (Blue)</td><td>20</td></tr><tr><td>3664981</td><td>Air cushion machine (Blue)</td><td>20</td></tr><tr><td>3665211</td><td>Air cushion machine (Blue)</td><td>20</td></tr><tr><td>3665527</td><td>Air cushion machine (Blue)</td><td>20</td></tr><tr><td>3665613</td><td>Air cushion machine (Blue)</td><td>20</td></tr><tr><td>3665702</td><td>Air cushion machine (Blue)</td><td>20</td></tr><tr><td>3665818</td><td>Air cushion machine (Blue)</td><td>20</td></tr><tr><td>3663893</td><td>Air cushion machine (Blue)</td><td>20</td></tr><tr><td>3664164</td><td>Air cushion machine (Blue)</td><td>20</td></tr><tr><td>3664506</td><td>Air cushion machine (Blue)</td><td>20</td></tr><tr><td>3664621</td><td>Air cushion machine (Blue)</td><td>20</td></tr><tr><td>3664793</td><td>Air cushion machine (Blue)</td><td>20</td></tr><tr><td>3664880</td><td>Air cushion machine (Blue)</td><td>20</td></tr><tr><td>3663498</td><td>Air cushion machine (Blue)</td><td>20</td></tr><tr><td>3663544</td><td>Air cushion machine (Blue)</td><td>20</td></tr><tr><td>3663669</td><td>Air cushion machine (Blue)</td><td>20</td></tr><tr><td>3663699</td><td>Air cushion machine (Blue)</td><td>20</td></tr><tr><td>3663710</td><td>Air cushion machine (Blue)</td><td>20</td></tr><tr><td>3663788</td><td>Air cushion machine (Blue)</td><td>20</td></tr><tr><td>3663046</td><td>Air cushion machine (Blue)</td><td>20</td></tr><tr><td>3663112</td><td>Air cushion machine (Blue)</td><td>20</td></tr><tr><td>3663402</td><td>Air cushion machine (Blue)</td><td>20</td></tr><tr><td>3663406</td><td>Air cushion machine (Blue)</td><td>20</td></tr><tr><td>3663472</td><td>Air cushion machine (Blue)</td><td>20</td></tr><tr><td>3663496</td><td>Air cushion machine (Blue)</td><td>20</td></tr><tr><td>3662398</td><td>Air cushion machine (Blue)</td><td>20</td></tr><tr><td>3662447</td><td>Air cushion machine (Blue)</td><td>20</td></tr><tr><td>3662454</td><td>Air cushion machine (Blue)</td><td>20</td></tr><tr><td>3662731</td><td>Air cushion machine (Blue)</td><td>20</td></tr><tr><td>3662768</td><td>Air cushion machine (Blue)</td><td>20</td></tr><tr><td>3662829</td><td>Air cushion machine (Blue)</td><td>20</td></tr><tr><td>3660952</td><td>Air cushion machine (Blue)</td><td>20</td></tr><tr><td>3661009</td><td>Air cushion machine (Blue)</td><td>20</td></tr><tr><td>3661117</td><td>Air cushion machine (Blue)</td><td>20</td></tr><tr><td>3661119</td><td>Air cushion machine (Blue)</td><td>20</td></tr><tr><td>3661801</td><td>Air cushion machine (Blue)</td><td>20</td></tr><tr><td>3661812</td><td>Air cushion machine (Blue)</td><td>20</td></tr><tr><td>3660277</td><td>Air cushion machine (Blue)</td><td>20</td></tr><tr><td>3660279</td><td>Air cushion machine (Blue)</td><td>20</td></tr><tr><td>3660429</td><td>Air cushion machine (Blue)</td><td>20</td></tr><tr><td>3660563</td><td>Air cushion machine (Blue)</td><td>20</td></tr><tr><td>3660825</td><td>Air cushion machine (Blue)</td><td>20</td></tr><tr><td>3660885</td><td>Air cushion machine (Blue)</td><td>20</td></tr><tr><td>3658272</td><td>Air cushion machine (Blue)</td><td>20</td></tr><tr><td>3659012</td><td>Air cushion machine (Blue)</td><td>20</td></tr><tr><td>3659243</td><td>Air cushion machine (Blue)</td><td>20</td></tr><tr><td>3659280</td><td>Air cushion machine (Blue)</td><td>20</td></tr><tr><td>3659317</td><td>Air cushion machine (Blue)</td><td>20</td></tr><tr><td>3659779</td><td>Air cushion machine (Blue)</td><td>20</td></tr><tr><td>3657470</td><td>Air cushion machine (Blue)</td><td>20</td></tr><tr><td>3657605</td><td>Air cushion machine (Blue)</td><td>20</td></tr><tr><td>3657674</td><td>Air cushion machine (Blue)</td><td>20</td></tr><tr><td>3658056</td><td>Air cushion machine (Blue)</td><td>20</td></tr><tr><td>3658080</td><td>Air cushion machine (Blue)</td><td>20</td></tr><tr><td>3658167</td><td>Air cushion machine (Blue)</td><td>20</td></tr><tr><td>3651363</td><td>Air cushion machine (Blue)</td><td>20</td></tr><tr><td>3651368</td><td>Air cushion machine (Blue)</td><td>20</td></tr><tr><td>3651510</td><td>Air cushion machine (Blue)</td><td>20</td></tr><tr><td>3651768</td><td>Air cushion machine (Blue)</td><td>20</td></tr><tr><td>3651814</td><td>Air cushion machine (Blue)</td><td>20</td></tr><tr><td>3656538</td><td>Air cushion machine (Blue)</td><td>20</td></tr><tr><td>3648540</td><td>Air cushion machine (Blue)</td><td>20</td></tr><tr><td>3650877</td><td>Air cushion machine (Blue)</td><td>20</td></tr><tr><td>3650887</td><td>Air cushion machine (Blue)</td><td>20</td></tr><tr><td>3651263</td><td>Air cushion machine (Blue)</td><td>20</td></tr><tr><td>3651273</td><td>Air cushion machine (Blue)</td><td>20</td></tr><tr><td>3651279</td><td>Air cushion machine (Blue)</td><td>20</td></tr><tr><td>3647243</td><td>Air cushion machine (Blue)</td><td>20</td></tr><tr><td>3648002</td><td>Air cushion machine (Blue)</td><td>20</td></tr><tr><td>3648185</td><td>Air cushion machine (Blue)</td><td>20</td></tr><tr><td>3648189</td><td>Air cushion machine (Blue)</td><td>20</td></tr><tr><td>3648224</td><td>Air cushion machine (Blue)</td><td>20</td></tr><tr><td>3648530</td><td>Air cushion machine (Blue)</td><td>20</td></tr><tr><td>3645059</td><td>Air cushion machine (Blue)</td><td>20</td></tr><tr><td>3645233</td><td>Air cushion machine (Blue)</td><td>20</td></tr><tr><td>3645249</td><td>Air cushion machine (Blue)</td><td>20</td></tr><tr><td>3645450</td><td>Air cushion machine (Blue)</td><td>20</td></tr><tr><td>3645832</td><td>Air cushion machine (Blue)</td><td>20</td></tr><tr><td>3646284</td><td>Air cushion machine (Blue)</td><td>20</td></tr><tr><td>3644427</td><td>Air cushion machine (Blue)</td><td>20</td></tr><tr><td>3644508</td><td>Air cushion machine (Blue)</td><td>20</td></tr><tr><td>3644730</td><td>Air cushion machine (Blue)</td><td>20</td></tr><tr><td>3644756</td><td>Air cushion machine (Blue)</td><td>20</td></tr><tr><td>3644796</td><td>Air cushion machine (Blue)</td><td>20</td></tr><tr><td>3645043</td><td>Air cushion machine (Blue)</td><td>20</td></tr><tr><td>3643822</td><td>Air cushion machine (Blue)</td><td>20</td></tr><tr><td>3643826</td><td>Air cushion machine (Blue)</td><td>20</td></tr><tr><td>3644175</td><td>Air cushion machine (Blue)</td><td>20</td></tr><tr><td>3644190</td><td>Air cushion machine (Blue)</td><td>20</td></tr><tr><td>3644286</td><td>Air cushion machine (Blue)</td><td>20</td></tr><tr><td>3644407</td><td>Air cushion machine (Blue)</td><td>20</td></tr><tr><td>3643492</td><td>Air cushion machine (Blue)</td><td>20</td></tr><tr><td>3643544</td><td>Air cushion machine (Blue)</td><td>20</td></tr><tr><td>3643568</td><td>Air cushion machine (Blue)</td><td>20</td></tr><tr><td>3643592</td><td>Air cushion machine (Blue)</td><td>20</td></tr><tr><td>3643706</td><td>Air cushion machine (Blue)</td><td>20</td></tr><tr><td>3643766</td><td>Air cushion machine (Blue)</td><td>20</td></tr><tr><td>3643202</td><td>Air cushion machine (Blue)</td><td>20</td></tr><tr><td>3643279</td><td>Air cushion machine (Blue)</td><td>20</td></tr><tr><td>3643340</td><td>Air cushion machine (Blue)</td><td>20</td></tr><tr><td>3643368</td><td>Air cushion machine (Blue)</td><td>20</td></tr><tr><td>3643421</td><td>Air cushion machine (Blue)</td><td>20</td></tr><tr><td>3643455</td><td>Air cushion machine (Blue)</td><td>20</td></tr><tr><td>3641898</td><td>Air cushion machine (Blue)</td><td>20</td></tr><tr><td>3642378</td><td>Air cushion machine (Blue)</td><td>20</td></tr><tr><td>3642573</td><td>Air cushion machine (Blue)</td><td>20</td></tr><tr><td>3642686</td><td>Air cushion machine (Blue)</td><td>20</td></tr><tr><td>3642816</td><td>Air cushion machine (Blue)</td><td>20</td></tr><tr><td>3643052</td><td>Air cushion machine (Blue)</td><td>20</td></tr><tr><td>3641255</td><td>Air cushion machine (Blue)</td><td>20</td></tr><tr><td>3641498</td><td>Air cushion machine (Blue)</td><td>20</td></tr><tr><td>3641589</td><td>Air cushion machine (Blue)</td><td>20</td></tr><tr><td>3641596</td><td>Air cushion machine (Blue)</td><td>20</td></tr><tr><td>3641767</td><td>Air cushion machine (Blue)</td><td>20</td></tr><tr><td>3641891</td><td>Air cushion machine (Blue)</td><td>20</td></tr><tr><td>3640034</td><td>Air cushion machine (Blue)</td><td>20</td></tr><tr><td>3640201</td><td>Air cushion machine (Blue)</td><td>20</td></tr><tr><td>3640281</td><td>Air cushion machine (Blue)</td><td>20</td></tr><tr><td>3640300</td><td>Air cushion machine (Blue)</td><td>20</td></tr><tr><td>3640586</td><td>Air cushion machine (Blue)</td><td>20</td></tr><tr><td>3641036</td><td>Air cushion machine (Blue)</td><td>20</td></tr><tr><td>3639207</td><td>Air cushion machine (Blue)</td><td>20</td></tr><tr><td>3639253</td><td>Air cushion machine (Blue)</td><td>20</td></tr><tr><td>3639263</td><td>Air cushion machine (Blue)</td><td>20</td></tr><tr><td>3639531</td><td>Air cushion machine (Blue)</td><td>20</td></tr><tr><td>3639810</td><td>Air cushion machine (Blue)</td><td>20</td></tr><tr><td>3639924</td><td>Air cushion machine (Blue)</td><td>20</td></tr><tr><td>3638043</td><td>Air cushion machine (Blue)</td><td>20</td></tr><tr><td>3638084</td><td>Air cushion machine (Blue)</td><td>20</td></tr><tr><td>3638171</td><td>Air cushion machine (Blue)</td><td>20</td></tr><tr><td>3638177</td><td>Air cushion machine (Blue)</td><td>20</td></tr><tr><td>3638593</td><td>Air cushion machine (Blue)</td><td>20</td></tr><tr><td>3638949</td><td>Air cushion machine (Blue)</td><td>20</td></tr><tr><td>3636338</td><td>Air cushion machine (Blue)</td><td>20</td></tr><tr><td>3636457</td><td>Air cushion machine (Blue)</td><td>20</td></tr><tr><td>3636495</td><td>Air cushion machine (Blue)</td><td>20</td></tr><tr><td>3636942</td><td>Air cushion machine (Blue)</td><td>20</td></tr><tr><td>3637676</td><td>Air cushion machine (Blue)</td><td>20</td></tr><tr><td>3637973</td><td>Air cushion machine (Blue)</td><td>20</td></tr><tr><td>3635947</td><td>Air cushion machine (Blue)</td><td>20</td></tr><tr><td>3635955</td><td>Air cushion machine (Blue)</td><td>20</td></tr><tr><td>3636021</td><td>Air cushion machine (Blue)</td><td>20</td></tr><tr><td>3636253</td><td>Air cushion machine (Blue)</td><td>20</td></tr><tr><td>3636268</td><td>Air cushion machine (Blue)</td><td>20</td></tr><tr><td>3636285</td><td>Air cushion machine (Blue)</td><td>20</td></tr><tr><td>3634799</td><td>Air cushion machine (Blue)</td><td>20</td></tr><tr><td>3634859</td><td>Air cushion machine (Blue)</td><td>20</td></tr><tr><td>3635052</td><td>Air cushion machine (Blue)</td><td>20</td></tr><tr><td>3635089</td><td>Air cushion machine (Blue)</td><td>20</td></tr><tr><td>3635598</td><td>Air cushion machine (Blue)</td><td>20</td></tr><tr><td>3635725</td><td>Air cushion machine (Blue)</td><td>20</td></tr><tr><td>3633820</td><td>Air cushion machine (Blue)</td><td>20</td></tr><tr><td>3633868</td><td>Air cushion machine (Blue)</td><td>20</td></tr><tr><td>3634080</td><td>Air cushion machine (Blue)</td><td>20</td></tr><tr><td>3634544</td><td>Air cushion machine (Blue)</td><td>20</td></tr><tr><td>3634661</td><td>Air cushion machine (Blue)</td><td>20</td></tr><tr><td>3634679</td><td>Air cushion machine (Blue)</td><td>20</td></tr><tr><td>3633310</td><td>Air cushion machine (Blue)</td><td>20</td></tr><tr><td>3633328</td><td>Air cushion machine (Blue)</td><td>20</td></tr><tr><td>3633356</td><td>Air cushion machine (Blue)</td><td>20</td></tr><tr><td>3633568</td><td>Air cushion machine (Blue)</td><td>20</td></tr><tr><td>3633723</td><td>Air cushion machine (Blue)</td><td>20</td></tr><tr><td>3633784</td><td>Air cushion machine (Blue)</td><td>20</td></tr><tr><td>3632480</td><td>Air cushion machine (Blue)</td><td>20</td></tr><tr><td>3632734</td><td>Air cushion machine (Blue)</td><td>20</td></tr><tr><td>3632947</td><td>Air cushion machine (Blue)</td><td>20</td></tr><tr><td>3633024</td><td>Air cushion machine (Blue)</td><td>20</td></tr><tr><td>3633111</td><td>Air cushion machine (Blue)</td><td>20</td></tr><tr><td>3633301</td><td>Air cushion machine (Blue)</td><td>20</td></tr><tr><td>3626533</td><td>Air cushion machine (Blue)</td><td>20</td></tr><tr><td>3628167</td><td>Air cushion machine (Blue)</td><td>20</td></tr><tr><td>3628495</td><td>Air cushion machine (Blue)</td><td>20</td></tr><tr><td>3628504</td><td>Air cushion machine (Blue)</td><td>20</td></tr><tr><td>3629551</td><td>Air cushion machine (Blue)</td><td>20</td></tr><tr><td>3632326</td><td>Air cushion machine (Blue)</td><td>20</td></tr><tr><td>3626126</td><td>Air cushion machine (Blue)</td><td>20</td></tr><tr><td>3626362</td><td>Air cushion machine (Blue)</td><td>20</td></tr><tr><td>3626403</td><td>Air cushion machine (Blue)</td><td>20</td></tr><tr><td>3626420</td><td>Air cushion machine (Blue)</td><td>20</td></tr><tr><td>3626445</td><td>Air cushion machine (Blue)</td><td>20</td></tr><tr><td>3626525</td><td>Air cushion machine (Blue)</td><td>20</td></tr><tr><td>3625826</td><td>Air cushion machine (Blue)</td><td>20</td></tr><tr><td>3625907</td><td>Air cushion machine (Blue)</td><td>20</td></tr><tr><td>3625949</td><td>Air cushion machine (Blue)</td><td>20</td></tr><tr><td>3625960</td><td>Air cushion machine (Blue)</td><td>20</td></tr><tr><td>3626070</td><td>Air cushion machine (Blue)</td><td>20</td></tr><tr><td>3626077</td><td>Air cushion machine (Blue)</td><td>20</td></tr><tr><td>3625647</td><td>Air cushion machine (Blue)</td><td>20</td></tr><tr><td>3625650</td><td>Air cushion machine (Blue)</td><td>20</td></tr><tr><td>3625751</td><td>Air cushion machine (Blue)</td><td>20</td></tr><tr><td>3625752</td><td>Air cushion machine (Blue)</td><td>20</td></tr><tr><td>3625780</td><td>Air cushion machine (Blue)</td><td>20</td></tr><tr><td>3625807</td><td>Air cushion machine (Blue)</td><td>20</td></tr><tr><td>3625416</td><td>Air cushion machine (Blue)</td><td>20</td></tr><tr><td>3625455</td><td>Air cushion machine (Blue)</td><td>20</td></tr><tr><td>3625543</td><td>Air cushion machine (Blue)</td><td>20</td></tr><tr><td>3625548</td><td>Air cushion machine (Blue)</td><td>20</td></tr><tr><td>3625590</td><td>Air cushion machine (Blue)</td><td>20</td></tr><tr><td>3625635</td><td>Air cushion machine (Blue)</td><td>20</td></tr><tr><td>3625171</td><td>Air cushion machine (Blue)</td><td>20</td></tr><tr><td>3625255</td><td>Air cushion machine (Blue)</td><td>20</td></tr><tr><td>3625274</td><td>Air cushion machine (Blue)</td><td>20</td></tr><tr><td>3625301</td><td>Air cushion machine (Blue)</td><td>20</td></tr><tr><td>3625319</td><td>Air cushion machine (Blue)</td><td>20</td></tr><tr><td>3625331</td><td>Air cushion machine (Blue)</td><td>20</td></tr><tr><td>3624781</td><td>Air cushion machine (Blue)</td><td>20</td></tr><tr><td>3624853</td><td>Air cushion machine (Blue)</td><td>20</td></tr><tr><td>3624914</td><td>Air cushion machine (Blue)</td><td>20</td></tr><tr><td>3624969</td><td>Air cushion machine (Blue)</td><td>20</td></tr><tr><td>3624971</td><td>Air cushion machine (Blue)</td><td>20</td></tr><tr><td>3624999</td><td>Air cushion machine (Blue)</td><td>20</td></tr><tr><td>3624625</td><td>Air cushion machine (Blue)</td><td>20</td></tr><tr><td>3624713</td><td>Air cushion machine (Blue)</td><td>20</td></tr><tr><td>3624715</td><td>Air cushion machine (Blue)</td><td>20</td></tr><tr><td>3624724</td><td>Air cushion machine (Blue)</td><td>20</td></tr><tr><td>3624764</td><td>Air cushion machine (Blue)</td><td>20</td></tr><tr><td>3624778</td><td>Air cushion machine (Blue)</td><td>20</td></tr><tr><td>3624334</td><td>Air cushion machine (Blue)</td><td>20</td></tr><tr><td>3624392</td><td>Air cushion machine (Blue)</td><td>20</td></tr><tr><td>3624420</td><td>Air cushion machine (Blue)</td><td>20</td></tr><tr><td>3624458</td><td>Air cushion machine (Blue)</td><td>20</td></tr><tr><td>3624519</td><td>Air cushion machine (Blue)</td><td>20</td></tr><tr><td>3624621</td><td>Air cushion machine (Blue)</td><td>20</td></tr><tr><td>3624076</td><td>Air cushion machine (Blue)</td><td>20</td></tr><tr><td>3624116</td><td>Air cushion machine (Blue)</td><td>20</td></tr><tr><td>3624144</td><td>Air cushion machine (Blue)</td><td>20</td></tr><tr><td>3624202</td><td>Air cushion machine (Blue)</td><td>20</td></tr><tr><td>3624213</td><td>Air cushion machine (Blue)</td><td>20</td></tr><tr><td>3624299</td><td>Air cushion machine (Blue)</td><td>20</td></tr><tr><td>3623767</td><td>Air cushion machine (Blue)</td><td>20</td></tr><tr><td>3623854</td><td>Air cushion machine (Blue)</td><td>20</td></tr><tr><td>3623871</td><td>Air cushion machine (Blue)</td><td>20</td></tr><tr><td>3623883</td><td>Air cushion machine (Blue)</td><td>20</td></tr><tr><td>3623903</td><td>Air cushion machine (Blue)</td><td>20</td></tr><tr><td>3623994</td><td>Air cushion machine (Blue)</td><td>20</td></tr><tr><td>3623567</td><td>Air cushion machine (Blue)</td><td>20</td></tr><tr><td>3623593</td><td>Air cushion machine (Blue)</td><td>20</td></tr><tr><td>3623594</td><td>Air cushion machine (Blue)</td><td>20</td></tr><tr><td>3623645</td><td>Air cushion machine (Blue)</td><td>20</td></tr><tr><td>3623682</td><td>Air cushion machine (Blue)</td><td>20</td></tr><tr><td>3623731</td><td>Air cushion machine (Blue)</td><td>20</td></tr><tr><td>3623013</td><td>Air cushion machine (Blue)</td><td>20</td></tr><tr><td>3623029</td><td>Air cushion machine (Blue)</td><td>20</td></tr><tr><td>3623089</td><td>Air cushion machine (Blue)</td><td>20</td></tr><tr><td>3623283</td><td>Air cushion machine (Blue)</td><td>20</td></tr><tr><td>3623340</td><td>Air cushion machine (Blue)</td><td>20</td></tr><tr><td>3623352</td><td>Air cushion machine (Blue)</td><td>20</td></tr><tr><td>3622793</td><td>Air cushion machine (Blue)</td><td>20</td></tr><tr><td>3622823</td><td>Air cushion machine (Blue)</td><td>20</td></tr><tr><td>3622837</td><td>Air cushion machine (Blue)</td><td>20</td></tr><tr><td>3622861</td><td>Air cushion machine (Blue)</td><td>20</td></tr><tr><td>3622881</td><td>Air cushion machine (Blue)</td><td>20</td></tr><tr><td>3622887</td><td>Air cushion machine (Blue)</td><td>20</td></tr><tr><td>3621323</td><td>Air cushion machine (Blue)</td><td>20</td></tr><tr><td>3621380</td><td>Air cushion machine (Blue)</td><td>20</td></tr><tr><td>3621488</td><td>Air cushion machine (Blue)</td><td>20</td></tr><tr><td>3621490</td><td>Air cushion machine (Blue)</td><td>20</td></tr><tr><td>3622172</td><td>Air cushion machine (Blue)</td><td>20</td></tr><tr><td>3622183</td><td>Air cushion machine (Blue)</td><td>20</td></tr><tr><td>3620648</td><td>Air cushion machine (Blue)</td><td>20</td></tr><tr><td>3620650</td><td>Air cushion machine (Blue)</td><td>20</td></tr><tr><td>3620800</td><td>Air cushion machine (Blue)</td><td>20</td></tr><tr><td>3620934</td><td>Air cushion machine (Blue)</td><td>20</td></tr><tr><td>3621196</td><td>Air cushion machine (Blue)</td><td>20</td></tr><tr><td>3621256</td><td>Air cushion machine (Blue)</td><td>20</td></tr><tr><td>3619150</td><td>Air cushion machine (Blue)</td><td>20</td></tr><tr><td>3619183</td><td>Air cushion machine (Blue)</td><td>20</td></tr><tr><td>3619709</td><td>Air cushion machine (Blue)</td><td>20</td></tr><tr><td>3619844</td><td>Air cushion machine (Blue)</td><td>20</td></tr><tr><td>3620001</td><td>Air cushion machine (Blue)</td><td>20</td></tr><tr><td>3620205</td><td>Air cushion machine (Blue)</td><td>20</td></tr><tr><td>3618265</td><td>Air cushion machine (Blue)</td><td>20</td></tr><tr><td>3618547</td><td>Air cushion machine (Blue)</td><td>20</td></tr><tr><td>3618816</td><td>Air cushion machine (Blue)</td><td>20</td></tr><tr><td>3618881</td><td>Air cushion machine (Blue)</td><td>20</td></tr><tr><td>3619102</td><td>Air cushion machine (Blue)</td><td>20</td></tr><tr><td>3619128</td><td>Air cushion machine (Blue)</td><td>20</td></tr><tr><td>3616079</td><td>Air cushion machine (Blue)</td><td>20</td></tr><tr><td>3616848</td><td>Air cushion machine (Blue)</td><td>20</td></tr><tr><td>3616852</td><td>Air cushion machine (Blue)</td><td>20</td></tr><tr><td>3617133</td><td>Air cushion machine (Blue)</td><td>20</td></tr><tr><td>3617216</td><td>Air cushion machine (Blue)</td><td>20</td></tr><tr><td>3617415</td><td>Air cushion machine (Blue)</td><td>20</td></tr><tr><td>3614992</td><td>Air cushion machine (Blue)</td><td>20</td></tr><tr><td>3615174</td><td>Air cushion machine (Blue)</td><td>20</td></tr><tr><td>3615240</td><td>Air cushion machine (Blue)</td><td>20</td></tr><tr><td>3615372</td><td>Air cushion machine (Blue)</td><td>20</td></tr><tr><td>3615648</td><td>Air cushion machine (Blue)</td><td>20</td></tr><tr><td>3615781</td><td>Air cushion machine (Blue)</td><td>20</td></tr><tr><td>3613545</td><td>Air cushion machine (Blue)</td><td>20</td></tr><tr><td>3613842</td><td>Air cushion machine (Blue)</td><td>20</td></tr><tr><td>3613848</td><td>Air cushion machine (Blue)</td><td>20</td></tr><tr><td>3614456</td><td>Air cushion machine (Blue)</td><td>20</td></tr><tr><td>3614561</td><td>Air cushion machine (Blue)</td><td>20</td></tr><tr><td>3614723</td><td>Air cushion machine (Blue)</td><td>20</td></tr><tr><td>3613148</td><td>Air cushion machine (Blue)</td><td>20</td></tr><tr><td>3613184</td><td>Air cushion machine (Blue)</td><td>20</td></tr><tr><td>3613188</td><td>Air cushion machine (Blue)</td><td>20</td></tr><tr><td>3613266</td><td>Air cushion machine (Blue)</td><td>20</td></tr><tr><td>3613405</td><td>Air cushion machine (Blue)</td><td>20</td></tr><tr><td>3613472</td><td>Air cushion machine (Blue)</td><td>20</td></tr><tr><td>3612366</td><td>Air cushion machine (Blue)</td><td>20</td></tr><tr><td>3612791</td><td>Air cushion machine (Blue)</td><td>20</td></tr><tr><td>3612859</td><td>Air cushion machine (Blue)</td><td>20</td></tr><tr><td>3612915</td><td>Air cushion machine (Blue)</td><td>20</td></tr><tr><td>3613081</td><td>Air cushion machine (Blue)</td><td>20</td></tr><tr><td>3613126</td><td>Air cushion machine (Blue)</td><td>20</td></tr><tr><td>3612062</td><td>Air cushion machine (Blue)</td><td>20</td></tr><tr><td>3612135</td><td>Air cushion machine (Blue)</td><td>20</td></tr><tr><td>3612218</td><td>Air cushion machine (Blue)</td><td>20</td></tr><tr><td>3612311</td><td>Air cushion machine (Blue)</td><td>20</td></tr><tr><td>3612318</td><td>Air cushion machine (Blue)</td><td>20</td></tr><tr><td>3612348</td><td>Air cushion machine (Blue)</td><td>20</td></tr><tr><td>3611123</td><td>Air cushion machine (Blue)</td><td>20</td></tr><tr><td>3611200</td><td>Air cushion machine (Blue)</td><td>20</td></tr><tr><td>3611257</td><td>Air cushion machine (Blue)</td><td>20</td></tr><tr><td>3611341</td><td>Air cushion machine (Blue)</td><td>20</td></tr><tr><td>3611761</td><td>Air cushion machine (Blue)</td><td>20</td></tr><tr><td>3612051</td><td>Air cushion machine (Blue)</td><td>20</td></tr><tr><td>3609206</td><td>Air cushion machine (Blue)</td><td>20</td></tr><tr><td>3609280</td><td>Air cushion machine (Blue)</td><td>20</td></tr><tr><td>3609869</td><td>Air cushion machine (Blue)</td><td>20</td></tr><tr><td>3609917</td><td>Air cushion machine (Blue)</td><td>20</td></tr><tr><td>3610528</td><td>Air cushion machine (Blue)</td><td>20</td></tr><tr><td>3610551</td><td>Air cushion machine (Blue)</td><td>20</td></tr><tr><td>3608534</td><td>Air cushion machine (Blue)</td><td>20</td></tr><tr><td>3608618</td><td>Air cushion machine (Blue)</td><td>20</td></tr><tr><td>3608637</td><td>Air cushion machine (Blue)</td><td>20</td></tr><tr><td>3608647</td><td>Air cushion machine (Blue)</td><td>20</td></tr><tr><td>3608966</td><td>Air cushion machine (Blue)</td><td>20</td></tr><tr><td>3609177</td><td>Air cushion machine (Blue)</td><td>20</td></tr></table>"
                    },
                    "metadata": {}
                }
            ],
            "execution_count": 10
        },
        {
            "cell_type": "markdown",
            "source": [
                "Observe the query execution plan (or actual plan) of the 2nd execution.\r\n",
                "\r\n",
                "![MGF_Plan](./media/MGF_plan2.PNG)\r\n",
                "\r\n",
                "Notice the yellow triangle on the *Hash Match* operator is gone, which means the query didn't spill and didn't incur in expensive I/O. That difference is also noticeable in the execution time. From the 1st to the 2nd execution, elapsed time dropped from **~43s** to **~5s**.\r\n",
                "\r\n",
                "Now click on the *SELECT* node, and look at the *MemoryGrantInfo* properties. Note the *GrantedMemory* is now 625 MB (from 1056 KB) and *IsMemoryGrantFeedbackAdjusted* shows **YesAdjusting****. The MGF feature is already learning and adjusting.\r\n",
                "\r\n",
                "On the 3rd execution, the *GrantedMemory* is still 625 MB, and *IsMemoryGrantFeedbackAdjusted* shows **YesStable**. This means the MGF feature found the optimal memory grant that's required to execute the query entirelly in memory.\r\n",
                "\r\n",
                "### 2nd Execution\r\n",
                "![2nd_Exec_MGF_Plan_properties](./media/MGF_plan_properties_grant2.PNG)\r\n",
                "\r\n",
                "### 3rd Execution\r\n",
                "![3rd_Exec_MGF_Plan_properties](./media/MGF_plan_properties_grant3.PNG)\r\n",
                ""
            ],
            "metadata": {
                "azdata_cell_guid": "0992ad26-d475-47ef-9b3e-5b9ccd429013"
            }
        },
        {
            "cell_type": "markdown",
            "source": [
                "## Step 6: Reset the skewed statistics"
            ],
            "metadata": {
                "azdata_cell_guid": "7fc984f7-4902-495d-b4c7-81e3c51a1ee0"
            }
        },
        {
            "cell_type": "code",
            "source": [
                "USE [WideWorldImportersDW]\r\n",
                "GO\r\n",
                "\r\n",
                "UPDATE STATISTICS Fact.OrderHistory \r\n",
                "WITH ROWCOUNT = 3702672;\r\n",
                "GO"
            ],
            "metadata": {
                "azdata_cell_guid": "8f71aacc-84f5-418a-9f9c-83a39a84dc6f"
            },
            "outputs": [
                {
                    "output_type": "display_data",
                    "data": {
                        "text/html": "Commands completed successfully."
                    },
                    "metadata": {}
                },
                {
                    "output_type": "display_data",
                    "data": {
                        "text/html": "Commands completed successfully."
                    },
                    "metadata": {}
                },
                {
                    "output_type": "display_data",
                    "data": {
                        "text/html": "Total execution time: 00:00:00.001"
                    },
                    "metadata": {}
                }
            ],
            "execution_count": 1
        }
    ]
}