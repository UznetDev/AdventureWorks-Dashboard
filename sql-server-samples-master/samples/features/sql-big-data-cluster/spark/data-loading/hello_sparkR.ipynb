{
    "metadata": {
        "kernelspec": {
            "name": "sparkrkernel",
            "display_name": "Spark | R"
        },
        "language_info": {
            "name": "sparkR",
            "mimetype": "text/x-rsrc",
            "codemirror_mode": "text/x-rsrc",
            "pygments_lexer": "r"
        }
    },
    "nbformat_minor": 2,
    "nbformat": 4,
    "cells": [
        {
            "cell_type": "code",
            "source": "print(\"Hello SparkR\")\r\n\r\nhead(iris)\r\n",
            "metadata": {},
            "outputs": [
                {
                    "name": "stdout",
                    "text": "[1] \"Hello SparkR\"\n  Sepal.Length Sepal.Width Petal.Length Petal.Width Species\n1          5.1         3.5          1.4         0.2  setosa\n2          4.9         3.0          1.4         0.2  setosa\n3          4.7         3.2          1.3         0.2  setosa\n4          4.6         3.1          1.5         0.2  setosa\n5          5.0         3.6          1.4         0.2  setosa\n6          5.4         3.9          1.7         0.4  setosa",
                    "output_type": "stream"
                }
            ],
            "execution_count": 5
        }
    ]
}