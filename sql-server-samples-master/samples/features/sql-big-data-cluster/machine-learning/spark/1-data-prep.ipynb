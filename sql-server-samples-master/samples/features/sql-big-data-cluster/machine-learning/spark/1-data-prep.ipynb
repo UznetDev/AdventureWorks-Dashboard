{
    "metadata": {
        "kernelspec": {
            "name": "pyspark3kernel",
            "display_name": "PySpark3"
        },
        "language_info": {
            "name": "pyspark3",
            "mimetype": "text/x-python",
            "codemirror_mode": {
                "name": "python",
                "version": 3
            },
            "pygments_lexer": "python3"
        }
    },
    "nbformat_minor": 2,
    "nbformat": 4,
    "cells": [
        {
            "cell_type": "markdown",
            "source": "# Load data to a dataframe\n- Download AdultCensusIncome.csv from [here](https://amldockerdatasets.azureedge.net/AdultCensusIncome.csv).\n- Create a diretory named /spark_ml. Upload AdultCensusIncome.csv to /spark_ml",
            "metadata": {}
        },
        {
            "cell_type": "code",
            "source": "import os\nimport pandas as pd\n\ndatafile = \"/spark_ml/AdultCensusIncome.csv\"\n\n# Read and Load data\n# Create a Spark dataframe out of the csv file.\ndata_all = spark.read.format('csv').options(header='true', inferSchema='true', ignoreLeadingWhiteSpace='true', ignoreTrailingWhiteSpace='true').load(datafile)\nprint(\"({}, {})\".format(data_all.count(), len(data_all.columns)))\n\n#Replace \"-\" with \"_\" in column names\ncolumns_new = [col.replace(\"-\", \"_\") for col in data_all.columns]\ndata_all = data_all.toDF(*columns_new)\ndata_all.printSchema() #human-readable format\n\ndf = pd.DataFrame(data_all.take(10))\nprint(df.to_string())\n",
            "metadata": {
                "language": "python"
            },
            "outputs": [
                {
                    "name": "stdout",
                    "text": "(32561, 15)\nroot\n |-- age: integer (nullable = true)\n |-- workclass: string (nullable = true)\n |-- fnlwgt: integer (nullable = true)\n |-- education: string (nullable = true)\n |-- education_num: integer (nullable = true)\n |-- marital_status: string (nullable = true)\n |-- occupation: string (nullable = true)\n |-- relationship: string (nullable = true)\n |-- race: string (nullable = true)\n |-- sex: string (nullable = true)\n |-- capital_gain: integer (nullable = true)\n |-- capital_loss: integer (nullable = true)\n |-- hours_per_week: integer (nullable = true)\n |-- native_country: string (nullable = true)\n |-- income: string (nullable = true)\n\n   0                 1       2          3   4                      5                  6              7      8       9      10  11  12             13     14\n0  39         State-gov   77516  Bachelors  13          Never-married       Adm-clerical  Not-in-family  White    Male   2174   0  40  United-States  <=50K\n1  50  Self-emp-not-inc   83311  Bachelors  13     Married-civ-spouse    Exec-managerial        Husband  White    Male      0   0  13  United-States  <=50K\n2  38           Private  215646    HS-grad   9               Divorced  Handlers-cleaners  Not-in-family  White    Male      0   0  40  United-States  <=50K\n3  53           Private  234721       11th   7     Married-civ-spouse  Handlers-cleaners        Husband  Black    Male      0   0  40  United-States  <=50K\n4  28           Private  338409  Bachelors  13     Married-civ-spouse     Prof-specialty           Wife  Black  Female      0   0  40           Cuba  <=50K\n5  37           Private  284582    Masters  14     Married-civ-spouse    Exec-managerial           Wife  White  Female      0   0  40  United-States  <=50K\n6  49           Private  160187        9th   5  Married-spouse-absent      Other-service  Not-in-family  Black  Female      0   0  16        Jamaica  <=50K\n7  52  Self-emp-not-inc  209642    HS-grad   9     Married-civ-spouse    Exec-managerial        Husband  White    Male      0   0  45  United-States   >50K\n8  31           Private   45781    Masters  14          Never-married     Prof-specialty  Not-in-family  White  Female  14084   0  50  United-States   >50K\n9  42           Private  159449  Bachelors  13     Married-civ-spouse    Exec-managerial        Husband  White    Male   5178   0  40  United-States   >50K",
                    "output_type": "stream"
                }
            ],
            "execution_count": 1
        },
        {
            "cell_type": "markdown",
            "source": "# Data Preparation\n- Choose the feature that we want to use to build the model\n- Split the data set as training and test\n- Write traning and data set as AdultCensusIncomeTrain and AdultCensusIncomeTest to /spark_ml directory\n\n",
            "metadata": {}
        },
        {
            "cell_type": "code",
            "source": "# Choose feature columns and the label column.\nlabel = \"income\"\nxvars = [\"age\", \"hours_per_week\"] #all numeric\n\nprint(\"label = {}\".format(label))\nprint(\"features = {}\".format(xvars))\n\nselect_cols = xvars\nselect_cols.append(label)\ndata = data_all.select(select_cols)\n\n# Split data into train and test.\ntrain, test = data.randomSplit([0.75, 0.25], seed=123)\n\nprint(\"train ({}, {})\".format(train.count(), len(train.columns)))\nprint(\"test ({}, {})\".format(test.count(), len(test.columns)))\n\n\n",
            "metadata": {
                "language": "python"
            },
            "outputs": [
                {
                    "name": "stdout",
                    "text": "label = income\nfeatures = ['age', 'hours_per_week']\ntrain (24469, 3)\ntest (8092, 3)",
                    "output_type": "stream"
                }
            ],
            "execution_count": 1
        },
        {
            "cell_type": "markdown",
            "source": "# Data Persistence\n- Save the training and test set as ORC data for persistance\n- Will use the persisted data to build model\n",
            "metadata": {}
        },
        {
            "cell_type": "code",
            "source": "# Write the train and test data sets to intermediate storage\n# Write the train and test data sets to intermediate storage\ntrain_data_path = \"/spark_ml/AdultCensusIncomeTrain\"\ntest_data_path = \"/spark_ml/AdultCensusIncomeTest\"\n\ntrain.write.mode('overwrite').orc(train_data_path)\ntest.write.mode('overwrite').orc(test_data_path)\nprint(\"train and test datasets saved to {} and {}\".format(train_data_path, test_data_path))",
            "metadata": {
                "language": "python"
            },
            "outputs": [
                {
                    "name": "stdout",
                    "text": "train and test datasets saved to /spark_ml/AdultCensusIncomeTrain and /spark_ml/AdultCensusIncomeTest",
                    "output_type": "stream"
                }
            ],
            "execution_count": 1
        }
    ]
}