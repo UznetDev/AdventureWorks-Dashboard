{
    "metadata": {
        "kernelspec": {
            "name": "python3",
            "display_name": "Python 3",
            "language": "python"
        },
        "language_info": {
            "name": "python",
            "version": "3.6.8",
            "mimetype": "text/x-python",
            "codemirror_mode": {
                "name": "ipython",
                "version": 3
            },
            "pygments_lexer": "ipython3",
            "nbconvert_exporter": "python",
            "file_extension": ".py"
        }
    },
    "nbformat_minor": 2,
    "nbformat": 4,
    "cells": [
        {
            "cell_type": "markdown",
            "source": [
                "# Parameterization in Azure Data Studio"
            ],
            "metadata": {
                "azdata_cell_guid": "de96a5d8-105e-403d-a284-134eef3d8533"
            }
        },
        {
            "cell_type": "code",
            "source": [
                "x = 2.0\n",
                "y = 5.0"
            ],
            "metadata": {
                "azdata_cell_guid": "45afab06-c690-4c94-a67c-47690d93c28d",
                "tags": [
                    "parameters"
                ]
            },
            "outputs": [],
            "execution_count": 1
        },
        {
            "cell_type": "code",
            "source": [
                "addition = x + y\n",
                "multiply = x * y"
            ],
            "metadata": {
                "azdata_cell_guid": "c962b295-06ee-4c1f-93c6-4d53fa347755"
            },
            "outputs": [],
            "execution_count": 2
        },
        {
            "cell_type": "code",
            "source": [
                "print(\"Addition: \" + str(addition))\n",
                "print(\"Multiplication: \" + str(multiply))"
            ],
            "metadata": {
                "azdata_cell_guid": "d3c849f6-fd01-467d-9240-1e8831b5d19f"
            },
            "outputs": [],
            "execution_count": 3
        }
    ]
}
